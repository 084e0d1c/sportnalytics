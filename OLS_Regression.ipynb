{
 "metadata": {
  "language_info": {
   "codemirror_mode": {
    "name": "ipython",
    "version": 3
   },
   "file_extension": ".py",
   "mimetype": "text/x-python",
   "name": "python",
   "nbconvert_exporter": "python",
   "pygments_lexer": "ipython3",
   "version": "3.7.4-final"
  },
  "orig_nbformat": 2,
  "kernelspec": {
   "name": "python3",
   "display_name": "Python 3",
   "language": "python"
  }
 },
 "nbformat": 4,
 "nbformat_minor": 2,
 "cells": [
  {
   "cell_type": "code",
   "execution_count": 1,
   "metadata": {},
   "outputs": [],
   "source": [
    "import pandas as pd\n",
    "import statsmodels.api as sm\n",
    "import numpy as np"
   ]
  },
  {
   "source": [
    "Read csv file"
   ],
   "cell_type": "markdown",
   "metadata": {}
  },
  {
   "cell_type": "code",
   "execution_count": 2,
   "metadata": {},
   "outputs": [
    {
     "output_type": "execute_result",
     "data": {
      "text/plain": [
       "   SEASON_ID_x   TEAM_ID_x TEAM_ABBREVIATION_x            TEAM_NAME_x  \\\n",
       "0        22014  1610612747                 LAL     Los Angeles Lakers   \n",
       "1        22014  1610612740                 NOP   New Orleans Pelicans   \n",
       "2        22014  1610612742                 DAL       Dallas Mavericks   \n",
       "3        22014  1610612749                 MIL        Milwaukee Bucks   \n",
       "4        22014  1610612744                 GSW  Golden State Warriors   \n",
       "\n",
       "    GAME_ID GAME_DATE_x    MATCHUP_x  WL_x  MIN_x  PTS_x  ...  OFFRATE_y  \\\n",
       "0  21400003  2014-10-28  LAL vs. HOU     0    240     90  ...        0.0   \n",
       "1  21400001  2014-10-28  NOP vs. ORL     1    240    101  ...        0.0   \n",
       "2  21400002  2014-10-28    DAL @ SAS     0    239    100  ...        0.0   \n",
       "3  21400004  2014-10-29    MIL @ CHA     0    264    106  ...        0.0   \n",
       "4  21400014  2014-10-29    GSW @ SAC     1    239     95  ...        0.0   \n",
       "\n",
       "   DEFRATE_y   ELO_y  DIS_PTS_y  DIS_AST_y  DIS_OREB_y  DIS_DREB_y  \\\n",
       "0        0.0  1500.0        0.0        0.0         0.0         0.0   \n",
       "1        0.0  1500.0        0.0        0.0         0.0         0.0   \n",
       "2        0.0  1500.0        0.0        0.0         0.0         0.0   \n",
       "3        0.0  1500.0        0.0        0.0         0.0         0.0   \n",
       "4        0.0  1500.0        0.0        0.0         0.0         0.0   \n",
       "\n",
       "   DIS_OFFRATE_y  DIS_DEFRATE_y  DIS_ELO_y  \n",
       "0            0.0            0.0        0.0  \n",
       "1            0.0            0.0        0.0  \n",
       "2            0.0            0.0        0.0  \n",
       "3            0.0            0.0        0.0  \n",
       "4            0.0            0.0        0.0  \n",
       "\n",
       "[5 rows x 111 columns]"
      ],
      "text/html": "<div>\n<style scoped>\n    .dataframe tbody tr th:only-of-type {\n        vertical-align: middle;\n    }\n\n    .dataframe tbody tr th {\n        vertical-align: top;\n    }\n\n    .dataframe thead th {\n        text-align: right;\n    }\n</style>\n<table border=\"1\" class=\"dataframe\">\n  <thead>\n    <tr style=\"text-align: right;\">\n      <th></th>\n      <th>SEASON_ID_x</th>\n      <th>TEAM_ID_x</th>\n      <th>TEAM_ABBREVIATION_x</th>\n      <th>TEAM_NAME_x</th>\n      <th>GAME_ID</th>\n      <th>GAME_DATE_x</th>\n      <th>MATCHUP_x</th>\n      <th>WL_x</th>\n      <th>MIN_x</th>\n      <th>PTS_x</th>\n      <th>...</th>\n      <th>OFFRATE_y</th>\n      <th>DEFRATE_y</th>\n      <th>ELO_y</th>\n      <th>DIS_PTS_y</th>\n      <th>DIS_AST_y</th>\n      <th>DIS_OREB_y</th>\n      <th>DIS_DREB_y</th>\n      <th>DIS_OFFRATE_y</th>\n      <th>DIS_DEFRATE_y</th>\n      <th>DIS_ELO_y</th>\n    </tr>\n  </thead>\n  <tbody>\n    <tr>\n      <td>0</td>\n      <td>22014</td>\n      <td>1610612747</td>\n      <td>LAL</td>\n      <td>Los Angeles Lakers</td>\n      <td>21400003</td>\n      <td>2014-10-28</td>\n      <td>LAL vs. HOU</td>\n      <td>0</td>\n      <td>240</td>\n      <td>90</td>\n      <td>...</td>\n      <td>0.0</td>\n      <td>0.0</td>\n      <td>1500.0</td>\n      <td>0.0</td>\n      <td>0.0</td>\n      <td>0.0</td>\n      <td>0.0</td>\n      <td>0.0</td>\n      <td>0.0</td>\n      <td>0.0</td>\n    </tr>\n    <tr>\n      <td>1</td>\n      <td>22014</td>\n      <td>1610612740</td>\n      <td>NOP</td>\n      <td>New Orleans Pelicans</td>\n      <td>21400001</td>\n      <td>2014-10-28</td>\n      <td>NOP vs. ORL</td>\n      <td>1</td>\n      <td>240</td>\n      <td>101</td>\n      <td>...</td>\n      <td>0.0</td>\n      <td>0.0</td>\n      <td>1500.0</td>\n      <td>0.0</td>\n      <td>0.0</td>\n      <td>0.0</td>\n      <td>0.0</td>\n      <td>0.0</td>\n      <td>0.0</td>\n      <td>0.0</td>\n    </tr>\n    <tr>\n      <td>2</td>\n      <td>22014</td>\n      <td>1610612742</td>\n      <td>DAL</td>\n      <td>Dallas Mavericks</td>\n      <td>21400002</td>\n      <td>2014-10-28</td>\n      <td>DAL @ SAS</td>\n      <td>0</td>\n      <td>239</td>\n      <td>100</td>\n      <td>...</td>\n      <td>0.0</td>\n      <td>0.0</td>\n      <td>1500.0</td>\n      <td>0.0</td>\n      <td>0.0</td>\n      <td>0.0</td>\n      <td>0.0</td>\n      <td>0.0</td>\n      <td>0.0</td>\n      <td>0.0</td>\n    </tr>\n    <tr>\n      <td>3</td>\n      <td>22014</td>\n      <td>1610612749</td>\n      <td>MIL</td>\n      <td>Milwaukee Bucks</td>\n      <td>21400004</td>\n      <td>2014-10-29</td>\n      <td>MIL @ CHA</td>\n      <td>0</td>\n      <td>264</td>\n      <td>106</td>\n      <td>...</td>\n      <td>0.0</td>\n      <td>0.0</td>\n      <td>1500.0</td>\n      <td>0.0</td>\n      <td>0.0</td>\n      <td>0.0</td>\n      <td>0.0</td>\n      <td>0.0</td>\n      <td>0.0</td>\n      <td>0.0</td>\n    </tr>\n    <tr>\n      <td>4</td>\n      <td>22014</td>\n      <td>1610612744</td>\n      <td>GSW</td>\n      <td>Golden State Warriors</td>\n      <td>21400014</td>\n      <td>2014-10-29</td>\n      <td>GSW @ SAC</td>\n      <td>1</td>\n      <td>239</td>\n      <td>95</td>\n      <td>...</td>\n      <td>0.0</td>\n      <td>0.0</td>\n      <td>1500.0</td>\n      <td>0.0</td>\n      <td>0.0</td>\n      <td>0.0</td>\n      <td>0.0</td>\n      <td>0.0</td>\n      <td>0.0</td>\n      <td>0.0</td>\n    </tr>\n  </tbody>\n</table>\n<p>5 rows × 111 columns</p>\n</div>"
     },
     "metadata": {},
     "execution_count": 2
    }
   ],
   "source": [
    "df = pd.read_csv(\"annual_data/nba_season_2014_data.csv\")\n",
    "df.head()\n"
   ]
  },
  {
   "source": [
    "Drop rows of all the first games of every team"
   ],
   "cell_type": "markdown",
   "metadata": {}
  },
  {
   "cell_type": "code",
   "execution_count": 3,
   "metadata": {},
   "outputs": [
    {
     "output_type": "execute_result",
     "data": {
      "text/plain": [
       "    SEASON_ID_x   TEAM_ID_x TEAM_ABBREVIATION_x         TEAM_NAME_x   GAME_ID  \\\n",
       "16        22014  1610612765                 DET     Detroit Pistons  21400017   \n",
       "17        22014  1610612762                 UTA           Utah Jazz  21400019   \n",
       "18        22014  1610612764                 WAS  Washington Wizards  21400016   \n",
       "20        22014  1610612758                 SAC    Sacramento Kings  21400025   \n",
       "21        22014  1610612759                 SAS   San Antonio Spurs  21400024   \n",
       "\n",
       "   GAME_DATE_x    MATCHUP_x  WL_x  MIN_x  PTS_x  ...  OFFRATE_y  DEFRATE_y  \\\n",
       "16  2014-10-30    DET @ MIN     0    241     91  ...   1.018145   1.058468   \n",
       "17  2014-10-30    UTA @ DAL     0    241    102  ...   1.154734   1.166282   \n",
       "18  2014-10-30    WAS @ ORL     1    240    105  ...   0.889831   1.069915   \n",
       "20  2014-10-31  SAC vs. POR     1    240    103  ...   1.142241   0.959052   \n",
       "21  2014-10-31    SAS @ PHX     0    239     89  ...   1.263270   2.006369   \n",
       "\n",
       "          ELO_y  DIS_PTS_y  DIS_AST_y  DIS_OREB_y  DIS_DREB_y  DIS_OFFRATE_y  \\\n",
       "16  1490.000000       22.0        5.0        11.0        -9.0       0.216928   \n",
       "17  1490.000000        7.0        1.0        -4.0         3.0       0.095509   \n",
       "18  1490.000000      -11.0       -3.0         9.0        11.0      -0.147287   \n",
       "20  1510.000000       29.0       10.0        -2.0        -6.0       0.394669   \n",
       "21  1509.712256       18.0        0.0         0.0         2.0       0.107663   \n",
       "\n",
       "    DIS_DEFRATE_y  DIS_ELO_y  \n",
       "16       0.155831   0.000000  \n",
       "17      -1.248297  -0.287744  \n",
       "18      -0.098207   0.000000  \n",
       "20       0.036722  20.000000  \n",
       "21       0.862205  -0.287744  \n",
       "\n",
       "[5 rows x 111 columns]"
      ],
      "text/html": "<div>\n<style scoped>\n    .dataframe tbody tr th:only-of-type {\n        vertical-align: middle;\n    }\n\n    .dataframe tbody tr th {\n        vertical-align: top;\n    }\n\n    .dataframe thead th {\n        text-align: right;\n    }\n</style>\n<table border=\"1\" class=\"dataframe\">\n  <thead>\n    <tr style=\"text-align: right;\">\n      <th></th>\n      <th>SEASON_ID_x</th>\n      <th>TEAM_ID_x</th>\n      <th>TEAM_ABBREVIATION_x</th>\n      <th>TEAM_NAME_x</th>\n      <th>GAME_ID</th>\n      <th>GAME_DATE_x</th>\n      <th>MATCHUP_x</th>\n      <th>WL_x</th>\n      <th>MIN_x</th>\n      <th>PTS_x</th>\n      <th>...</th>\n      <th>OFFRATE_y</th>\n      <th>DEFRATE_y</th>\n      <th>ELO_y</th>\n      <th>DIS_PTS_y</th>\n      <th>DIS_AST_y</th>\n      <th>DIS_OREB_y</th>\n      <th>DIS_DREB_y</th>\n      <th>DIS_OFFRATE_y</th>\n      <th>DIS_DEFRATE_y</th>\n      <th>DIS_ELO_y</th>\n    </tr>\n  </thead>\n  <tbody>\n    <tr>\n      <td>16</td>\n      <td>22014</td>\n      <td>1610612765</td>\n      <td>DET</td>\n      <td>Detroit Pistons</td>\n      <td>21400017</td>\n      <td>2014-10-30</td>\n      <td>DET @ MIN</td>\n      <td>0</td>\n      <td>241</td>\n      <td>91</td>\n      <td>...</td>\n      <td>1.018145</td>\n      <td>1.058468</td>\n      <td>1490.000000</td>\n      <td>22.0</td>\n      <td>5.0</td>\n      <td>11.0</td>\n      <td>-9.0</td>\n      <td>0.216928</td>\n      <td>0.155831</td>\n      <td>0.000000</td>\n    </tr>\n    <tr>\n      <td>17</td>\n      <td>22014</td>\n      <td>1610612762</td>\n      <td>UTA</td>\n      <td>Utah Jazz</td>\n      <td>21400019</td>\n      <td>2014-10-30</td>\n      <td>UTA @ DAL</td>\n      <td>0</td>\n      <td>241</td>\n      <td>102</td>\n      <td>...</td>\n      <td>1.154734</td>\n      <td>1.166282</td>\n      <td>1490.000000</td>\n      <td>7.0</td>\n      <td>1.0</td>\n      <td>-4.0</td>\n      <td>3.0</td>\n      <td>0.095509</td>\n      <td>-1.248297</td>\n      <td>-0.287744</td>\n    </tr>\n    <tr>\n      <td>18</td>\n      <td>22014</td>\n      <td>1610612764</td>\n      <td>WAS</td>\n      <td>Washington Wizards</td>\n      <td>21400016</td>\n      <td>2014-10-30</td>\n      <td>WAS @ ORL</td>\n      <td>1</td>\n      <td>240</td>\n      <td>105</td>\n      <td>...</td>\n      <td>0.889831</td>\n      <td>1.069915</td>\n      <td>1490.000000</td>\n      <td>-11.0</td>\n      <td>-3.0</td>\n      <td>9.0</td>\n      <td>11.0</td>\n      <td>-0.147287</td>\n      <td>-0.098207</td>\n      <td>0.000000</td>\n    </tr>\n    <tr>\n      <td>20</td>\n      <td>22014</td>\n      <td>1610612758</td>\n      <td>SAC</td>\n      <td>Sacramento Kings</td>\n      <td>21400025</td>\n      <td>2014-10-31</td>\n      <td>SAC vs. POR</td>\n      <td>1</td>\n      <td>240</td>\n      <td>103</td>\n      <td>...</td>\n      <td>1.142241</td>\n      <td>0.959052</td>\n      <td>1510.000000</td>\n      <td>29.0</td>\n      <td>10.0</td>\n      <td>-2.0</td>\n      <td>-6.0</td>\n      <td>0.394669</td>\n      <td>0.036722</td>\n      <td>20.000000</td>\n    </tr>\n    <tr>\n      <td>21</td>\n      <td>22014</td>\n      <td>1610612759</td>\n      <td>SAS</td>\n      <td>San Antonio Spurs</td>\n      <td>21400024</td>\n      <td>2014-10-31</td>\n      <td>SAS @ PHX</td>\n      <td>0</td>\n      <td>239</td>\n      <td>89</td>\n      <td>...</td>\n      <td>1.263270</td>\n      <td>2.006369</td>\n      <td>1509.712256</td>\n      <td>18.0</td>\n      <td>0.0</td>\n      <td>0.0</td>\n      <td>2.0</td>\n      <td>0.107663</td>\n      <td>0.862205</td>\n      <td>-0.287744</td>\n    </tr>\n  </tbody>\n</table>\n<p>5 rows × 111 columns</p>\n</div>"
     },
     "metadata": {},
     "execution_count": 3
    }
   ],
   "source": [
    "df.drop(df[(df['GAME_PLAYED_x'] == 1) | (df['GAME_PLAYED_y'] == 1 )].index, inplace=True)\n",
    "df.head()"
   ]
  },
  {
   "source": [
    "Extract first 41 games (mid season) of every team"
   ],
   "cell_type": "markdown",
   "metadata": {}
  },
  {
   "cell_type": "code",
   "execution_count": 19,
   "metadata": {},
   "outputs": [
    {
     "output_type": "execute_result",
     "data": {
      "text/plain": [
       "     SEASON_ID_x   TEAM_ID_x TEAM_ABBREVIATION_x             TEAM_NAME_x  \\\n",
       "16         22014  1610612765                 DET         Detroit Pistons   \n",
       "17         22014  1610612762                 UTA               Utah Jazz   \n",
       "18         22014  1610612764                 WAS      Washington Wizards   \n",
       "20         22014  1610612758                 SAC        Sacramento Kings   \n",
       "21         22014  1610612759                 SAS       San Antonio Spurs   \n",
       "..           ...         ...                 ...                     ...   \n",
       "624        22014  1610612742                 DAL        Dallas Mavericks   \n",
       "625        22014  1610612745                 HOU         Houston Rockets   \n",
       "636        22014  1610612757                 POR  Portland Trail Blazers   \n",
       "648        22014  1610612738                 BOS          Boston Celtics   \n",
       "649        22014  1610612758                 SAC        Sacramento Kings   \n",
       "\n",
       "      GAME_ID GAME_DATE_x    MATCHUP_x  WL_x  MIN_x  PTS_x  ...  OFFRATE_y  \\\n",
       "16   21400017  2014-10-30    DET @ MIN     0    241     91  ...   1.018145   \n",
       "17   21400019  2014-10-30    UTA @ DAL     0    241    102  ...   1.154734   \n",
       "18   21400016  2014-10-30    WAS @ ORL     1    240    105  ...   0.889831   \n",
       "20   21400025  2014-10-31  SAC vs. POR     1    240    103  ...   1.142241   \n",
       "21   21400024  2014-10-31    SAS @ PHX     0    239     89  ...   1.263270   \n",
       "..        ...         ...          ...   ...    ...    ...  ...        ...   \n",
       "624  21400631  2015-01-21    DAL @ MIN     1    241     98  ...   1.009433   \n",
       "625  21400636  2015-01-21    HOU @ GSW     0    241    113  ...   1.113469   \n",
       "636  21400639  2015-01-22  POR vs. BOS     0    239     89  ...   1.026779   \n",
       "648  21400649  2015-01-23    BOS @ DEN     1    240    100  ...   1.033598   \n",
       "649  21400651  2015-01-23    SAC @ GSW     0    239    101  ...   1.115702   \n",
       "\n",
       "     DEFRATE_y        ELO_y  DIS_PTS_y  DIS_AST_y  DIS_OREB_y  DIS_DREB_y  \\\n",
       "16    1.058468  1490.000000  22.000000   5.000000   11.000000   -9.000000   \n",
       "17    1.166282  1490.000000   7.000000   1.000000   -4.000000    3.000000   \n",
       "18    1.069915  1490.000000 -11.000000  -3.000000    9.000000   11.000000   \n",
       "20    0.959052  1510.000000  29.000000  10.000000   -2.000000   -6.000000   \n",
       "21    2.006369  1509.712256  18.000000   0.000000    0.000000    2.000000   \n",
       "..         ...          ...        ...        ...         ...         ...   \n",
       "624   1.030965  1337.597992  -9.907143  -1.152381    1.391667   -2.947619   \n",
       "625   1.079563  1660.632939   7.688645   6.007326   -2.170330    3.558608   \n",
       "636   1.156545  1413.467893  -1.274299   2.605247   -0.186643   -2.224210   \n",
       "648   1.061435  1468.516690  -0.083333  -3.938095    1.727381    0.561905   \n",
       "649   1.114443  1668.531314   9.009524   7.408333   -1.066667    0.842857   \n",
       "\n",
       "     DIS_OFFRATE_y  DIS_DEFRATE_y   DIS_ELO_y  \n",
       "16        0.216928       0.155831    0.000000  \n",
       "17        0.095509      -1.248297   -0.287744  \n",
       "18       -0.147287      -0.098207    0.000000  \n",
       "20        0.394669       0.036722   20.000000  \n",
       "21        0.107663       0.862205   -0.287744  \n",
       "..             ...            ...         ...  \n",
       "624      -0.111724       0.003176 -258.928642  \n",
       "625       0.061993       0.083223   74.122374  \n",
       "636      -0.038587       0.022841 -180.059427  \n",
       "648       0.008925      -0.079552   40.285294  \n",
       "649       0.063421       0.123756  254.863361  \n",
       "\n",
       "[607 rows x 111 columns]"
      ],
      "text/html": "<div>\n<style scoped>\n    .dataframe tbody tr th:only-of-type {\n        vertical-align: middle;\n    }\n\n    .dataframe tbody tr th {\n        vertical-align: top;\n    }\n\n    .dataframe thead th {\n        text-align: right;\n    }\n</style>\n<table border=\"1\" class=\"dataframe\">\n  <thead>\n    <tr style=\"text-align: right;\">\n      <th></th>\n      <th>SEASON_ID_x</th>\n      <th>TEAM_ID_x</th>\n      <th>TEAM_ABBREVIATION_x</th>\n      <th>TEAM_NAME_x</th>\n      <th>GAME_ID</th>\n      <th>GAME_DATE_x</th>\n      <th>MATCHUP_x</th>\n      <th>WL_x</th>\n      <th>MIN_x</th>\n      <th>PTS_x</th>\n      <th>...</th>\n      <th>OFFRATE_y</th>\n      <th>DEFRATE_y</th>\n      <th>ELO_y</th>\n      <th>DIS_PTS_y</th>\n      <th>DIS_AST_y</th>\n      <th>DIS_OREB_y</th>\n      <th>DIS_DREB_y</th>\n      <th>DIS_OFFRATE_y</th>\n      <th>DIS_DEFRATE_y</th>\n      <th>DIS_ELO_y</th>\n    </tr>\n  </thead>\n  <tbody>\n    <tr>\n      <td>16</td>\n      <td>22014</td>\n      <td>1610612765</td>\n      <td>DET</td>\n      <td>Detroit Pistons</td>\n      <td>21400017</td>\n      <td>2014-10-30</td>\n      <td>DET @ MIN</td>\n      <td>0</td>\n      <td>241</td>\n      <td>91</td>\n      <td>...</td>\n      <td>1.018145</td>\n      <td>1.058468</td>\n      <td>1490.000000</td>\n      <td>22.000000</td>\n      <td>5.000000</td>\n      <td>11.000000</td>\n      <td>-9.000000</td>\n      <td>0.216928</td>\n      <td>0.155831</td>\n      <td>0.000000</td>\n    </tr>\n    <tr>\n      <td>17</td>\n      <td>22014</td>\n      <td>1610612762</td>\n      <td>UTA</td>\n      <td>Utah Jazz</td>\n      <td>21400019</td>\n      <td>2014-10-30</td>\n      <td>UTA @ DAL</td>\n      <td>0</td>\n      <td>241</td>\n      <td>102</td>\n      <td>...</td>\n      <td>1.154734</td>\n      <td>1.166282</td>\n      <td>1490.000000</td>\n      <td>7.000000</td>\n      <td>1.000000</td>\n      <td>-4.000000</td>\n      <td>3.000000</td>\n      <td>0.095509</td>\n      <td>-1.248297</td>\n      <td>-0.287744</td>\n    </tr>\n    <tr>\n      <td>18</td>\n      <td>22014</td>\n      <td>1610612764</td>\n      <td>WAS</td>\n      <td>Washington Wizards</td>\n      <td>21400016</td>\n      <td>2014-10-30</td>\n      <td>WAS @ ORL</td>\n      <td>1</td>\n      <td>240</td>\n      <td>105</td>\n      <td>...</td>\n      <td>0.889831</td>\n      <td>1.069915</td>\n      <td>1490.000000</td>\n      <td>-11.000000</td>\n      <td>-3.000000</td>\n      <td>9.000000</td>\n      <td>11.000000</td>\n      <td>-0.147287</td>\n      <td>-0.098207</td>\n      <td>0.000000</td>\n    </tr>\n    <tr>\n      <td>20</td>\n      <td>22014</td>\n      <td>1610612758</td>\n      <td>SAC</td>\n      <td>Sacramento Kings</td>\n      <td>21400025</td>\n      <td>2014-10-31</td>\n      <td>SAC vs. POR</td>\n      <td>1</td>\n      <td>240</td>\n      <td>103</td>\n      <td>...</td>\n      <td>1.142241</td>\n      <td>0.959052</td>\n      <td>1510.000000</td>\n      <td>29.000000</td>\n      <td>10.000000</td>\n      <td>-2.000000</td>\n      <td>-6.000000</td>\n      <td>0.394669</td>\n      <td>0.036722</td>\n      <td>20.000000</td>\n    </tr>\n    <tr>\n      <td>21</td>\n      <td>22014</td>\n      <td>1610612759</td>\n      <td>SAS</td>\n      <td>San Antonio Spurs</td>\n      <td>21400024</td>\n      <td>2014-10-31</td>\n      <td>SAS @ PHX</td>\n      <td>0</td>\n      <td>239</td>\n      <td>89</td>\n      <td>...</td>\n      <td>1.263270</td>\n      <td>2.006369</td>\n      <td>1509.712256</td>\n      <td>18.000000</td>\n      <td>0.000000</td>\n      <td>0.000000</td>\n      <td>2.000000</td>\n      <td>0.107663</td>\n      <td>0.862205</td>\n      <td>-0.287744</td>\n    </tr>\n    <tr>\n      <td>...</td>\n      <td>...</td>\n      <td>...</td>\n      <td>...</td>\n      <td>...</td>\n      <td>...</td>\n      <td>...</td>\n      <td>...</td>\n      <td>...</td>\n      <td>...</td>\n      <td>...</td>\n      <td>...</td>\n      <td>...</td>\n      <td>...</td>\n      <td>...</td>\n      <td>...</td>\n      <td>...</td>\n      <td>...</td>\n      <td>...</td>\n      <td>...</td>\n      <td>...</td>\n      <td>...</td>\n    </tr>\n    <tr>\n      <td>624</td>\n      <td>22014</td>\n      <td>1610612742</td>\n      <td>DAL</td>\n      <td>Dallas Mavericks</td>\n      <td>21400631</td>\n      <td>2015-01-21</td>\n      <td>DAL @ MIN</td>\n      <td>1</td>\n      <td>241</td>\n      <td>98</td>\n      <td>...</td>\n      <td>1.009433</td>\n      <td>1.030965</td>\n      <td>1337.597992</td>\n      <td>-9.907143</td>\n      <td>-1.152381</td>\n      <td>1.391667</td>\n      <td>-2.947619</td>\n      <td>-0.111724</td>\n      <td>0.003176</td>\n      <td>-258.928642</td>\n    </tr>\n    <tr>\n      <td>625</td>\n      <td>22014</td>\n      <td>1610612745</td>\n      <td>HOU</td>\n      <td>Houston Rockets</td>\n      <td>21400636</td>\n      <td>2015-01-21</td>\n      <td>HOU @ GSW</td>\n      <td>0</td>\n      <td>241</td>\n      <td>113</td>\n      <td>...</td>\n      <td>1.113469</td>\n      <td>1.079563</td>\n      <td>1660.632939</td>\n      <td>7.688645</td>\n      <td>6.007326</td>\n      <td>-2.170330</td>\n      <td>3.558608</td>\n      <td>0.061993</td>\n      <td>0.083223</td>\n      <td>74.122374</td>\n    </tr>\n    <tr>\n      <td>636</td>\n      <td>22014</td>\n      <td>1610612757</td>\n      <td>POR</td>\n      <td>Portland Trail Blazers</td>\n      <td>21400639</td>\n      <td>2015-01-22</td>\n      <td>POR vs. BOS</td>\n      <td>0</td>\n      <td>239</td>\n      <td>89</td>\n      <td>...</td>\n      <td>1.026779</td>\n      <td>1.156545</td>\n      <td>1413.467893</td>\n      <td>-1.274299</td>\n      <td>2.605247</td>\n      <td>-0.186643</td>\n      <td>-2.224210</td>\n      <td>-0.038587</td>\n      <td>0.022841</td>\n      <td>-180.059427</td>\n    </tr>\n    <tr>\n      <td>648</td>\n      <td>22014</td>\n      <td>1610612738</td>\n      <td>BOS</td>\n      <td>Boston Celtics</td>\n      <td>21400649</td>\n      <td>2015-01-23</td>\n      <td>BOS @ DEN</td>\n      <td>1</td>\n      <td>240</td>\n      <td>100</td>\n      <td>...</td>\n      <td>1.033598</td>\n      <td>1.061435</td>\n      <td>1468.516690</td>\n      <td>-0.083333</td>\n      <td>-3.938095</td>\n      <td>1.727381</td>\n      <td>0.561905</td>\n      <td>0.008925</td>\n      <td>-0.079552</td>\n      <td>40.285294</td>\n    </tr>\n    <tr>\n      <td>649</td>\n      <td>22014</td>\n      <td>1610612758</td>\n      <td>SAC</td>\n      <td>Sacramento Kings</td>\n      <td>21400651</td>\n      <td>2015-01-23</td>\n      <td>SAC @ GSW</td>\n      <td>0</td>\n      <td>239</td>\n      <td>101</td>\n      <td>...</td>\n      <td>1.115702</td>\n      <td>1.114443</td>\n      <td>1668.531314</td>\n      <td>9.009524</td>\n      <td>7.408333</td>\n      <td>-1.066667</td>\n      <td>0.842857</td>\n      <td>0.063421</td>\n      <td>0.123756</td>\n      <td>254.863361</td>\n    </tr>\n  </tbody>\n</table>\n<p>607 rows × 111 columns</p>\n</div>"
     },
     "metadata": {},
     "execution_count": 19
    }
   ],
   "source": [
    "first_half = df[(df['GAME_PLAYED_x'] <= 41) | (df['GAME_PLAYED_y'] <= 41 )]\n",
    "first_half"
   ]
  },
  {
   "source": [
    "Define the DataFrame to be processed"
   ],
   "cell_type": "markdown",
   "metadata": {}
  },
  {
   "cell_type": "code",
   "execution_count": 23,
   "metadata": {},
   "outputs": [],
   "source": [
    "clean_df = first_half"
   ]
  },
  {
   "cell_type": "code",
   "execution_count": 34,
   "metadata": {},
   "outputs": [
    {
     "output_type": "execute_result",
     "data": {
      "text/plain": [
       "x1     0.045579\n",
       "x2     2.306057\n",
       "x3    24.317873\n",
       "x4     2.148333\n",
       "x5    -0.072916\n",
       "x6    -0.030697\n",
       "x7    -0.291896\n",
       "x8     0.284938\n",
       "dtype: float64"
      ]
     },
     "metadata": {},
     "execution_count": 34
    }
   ],
   "source": [
    "y = clean_df['PLUS_MINUS_x']\n",
    "x1 = clean_df['DIS_ELO_x']\n",
    "x2 = clean_df['HOME_COURT_x']\n",
    "x3 = clean_df['DIS_OFFRATE_x']\n",
    "x4 = clean_df['DIS_DEFRATE_x']\n",
    "x5 = clean_df['DIS_PTS_x']\n",
    "x6 = clean_df['DIS_AST_x']\n",
    "x7 = clean_df['DIS_OREB_x']\n",
    "x8 = clean_df['DIS_DREB_x']\n",
    "\n",
    "x = np.column_stack((x1, x2, x3, x4, x5, x6, x7, x8))\n",
    "# x = sm.add_constant(x)\n",
    "model = sm.OLS(y,x)\n",
    "results = model.fit()\n",
    "results.params  "
   ]
  },
  {
   "cell_type": "code",
   "execution_count": 35,
   "metadata": {},
   "outputs": [
    {
     "output_type": "execute_result",
     "data": {
      "text/plain": [
       "<class 'statsmodels.iolib.summary.Summary'>\n",
       "\"\"\"\n",
       "                                 OLS Regression Results                                \n",
       "=======================================================================================\n",
       "Dep. Variable:           PLUS_MINUS_x   R-squared (uncentered):                   0.185\n",
       "Model:                            OLS   Adj. R-squared (uncentered):              0.174\n",
       "Method:                 Least Squares   F-statistic:                              16.98\n",
       "Date:                Thu, 28 Jan 2021   Prob (F-statistic):                    7.72e-23\n",
       "Time:                        14:49:38   Log-Likelihood:                         -2386.1\n",
       "No. Observations:                 607   AIC:                                      4788.\n",
       "Df Residuals:                     599   BIC:                                      4824.\n",
       "Df Model:                           8                                                  \n",
       "Covariance Type:            nonrobust                                                  \n",
       "==============================================================================\n",
       "                 coef    std err          t      P>|t|      [0.025      0.975]\n",
       "------------------------------------------------------------------------------\n",
       "x1             0.0456      0.008      6.040      0.000       0.031       0.060\n",
       "x2             2.3061      0.713      3.236      0.001       0.906       3.706\n",
       "x3            24.3179     11.517      2.111      0.035       1.698      46.937\n",
       "x4             2.1483      2.620      0.820      0.413      -2.998       7.295\n",
       "x5            -0.0729      0.081     -0.900      0.368      -0.232       0.086\n",
       "x6            -0.0307      0.218     -0.141      0.888      -0.458       0.397\n",
       "x7            -0.2919      0.257     -1.136      0.256      -0.797       0.213\n",
       "x8             0.2849      0.177      1.614      0.107      -0.062       0.632\n",
       "==============================================================================\n",
       "Omnibus:                        5.925   Durbin-Watson:                   2.022\n",
       "Prob(Omnibus):                  0.052   Jarque-Bera (JB):                7.033\n",
       "Skew:                          -0.117   Prob(JB):                       0.0297\n",
       "Kurtosis:                       3.473   Cond. No.                     2.17e+03\n",
       "==============================================================================\n",
       "\n",
       "Warnings:\n",
       "[1] Standard Errors assume that the covariance matrix of the errors is correctly specified.\n",
       "[2] The condition number is large, 2.17e+03. This might indicate that there are\n",
       "strong multicollinearity or other numerical problems.\n",
       "\"\"\""
      ],
      "text/html": "<table class=\"simpletable\">\n<caption>OLS Regression Results</caption>\n<tr>\n  <th>Dep. Variable:</th>      <td>PLUS_MINUS_x</td>   <th>  R-squared (uncentered):</th>      <td>   0.185</td>\n</tr>\n<tr>\n  <th>Model:</th>                   <td>OLS</td>       <th>  Adj. R-squared (uncentered):</th> <td>   0.174</td>\n</tr>\n<tr>\n  <th>Method:</th>             <td>Least Squares</td>  <th>  F-statistic:       </th>          <td>   16.98</td>\n</tr>\n<tr>\n  <th>Date:</th>             <td>Thu, 28 Jan 2021</td> <th>  Prob (F-statistic):</th>          <td>7.72e-23</td>\n</tr>\n<tr>\n  <th>Time:</th>                 <td>14:49:38</td>     <th>  Log-Likelihood:    </th>          <td> -2386.1</td>\n</tr>\n<tr>\n  <th>No. Observations:</th>      <td>   607</td>      <th>  AIC:               </th>          <td>   4788.</td>\n</tr>\n<tr>\n  <th>Df Residuals:</th>          <td>   599</td>      <th>  BIC:               </th>          <td>   4824.</td>\n</tr>\n<tr>\n  <th>Df Model:</th>              <td>     8</td>      <th>                     </th>              <td> </td>   \n</tr>\n<tr>\n  <th>Covariance Type:</th>      <td>nonrobust</td>    <th>                     </th>              <td> </td>   \n</tr>\n</table>\n<table class=\"simpletable\">\n<tr>\n   <td></td>     <th>coef</th>     <th>std err</th>      <th>t</th>      <th>P>|t|</th>  <th>[0.025</th>    <th>0.975]</th>  \n</tr>\n<tr>\n  <th>x1</th> <td>    0.0456</td> <td>    0.008</td> <td>    6.040</td> <td> 0.000</td> <td>    0.031</td> <td>    0.060</td>\n</tr>\n<tr>\n  <th>x2</th> <td>    2.3061</td> <td>    0.713</td> <td>    3.236</td> <td> 0.001</td> <td>    0.906</td> <td>    3.706</td>\n</tr>\n<tr>\n  <th>x3</th> <td>   24.3179</td> <td>   11.517</td> <td>    2.111</td> <td> 0.035</td> <td>    1.698</td> <td>   46.937</td>\n</tr>\n<tr>\n  <th>x4</th> <td>    2.1483</td> <td>    2.620</td> <td>    0.820</td> <td> 0.413</td> <td>   -2.998</td> <td>    7.295</td>\n</tr>\n<tr>\n  <th>x5</th> <td>   -0.0729</td> <td>    0.081</td> <td>   -0.900</td> <td> 0.368</td> <td>   -0.232</td> <td>    0.086</td>\n</tr>\n<tr>\n  <th>x6</th> <td>   -0.0307</td> <td>    0.218</td> <td>   -0.141</td> <td> 0.888</td> <td>   -0.458</td> <td>    0.397</td>\n</tr>\n<tr>\n  <th>x7</th> <td>   -0.2919</td> <td>    0.257</td> <td>   -1.136</td> <td> 0.256</td> <td>   -0.797</td> <td>    0.213</td>\n</tr>\n<tr>\n  <th>x8</th> <td>    0.2849</td> <td>    0.177</td> <td>    1.614</td> <td> 0.107</td> <td>   -0.062</td> <td>    0.632</td>\n</tr>\n</table>\n<table class=\"simpletable\">\n<tr>\n  <th>Omnibus:</th>       <td> 5.925</td> <th>  Durbin-Watson:     </th> <td>   2.022</td>\n</tr>\n<tr>\n  <th>Prob(Omnibus):</th> <td> 0.052</td> <th>  Jarque-Bera (JB):  </th> <td>   7.033</td>\n</tr>\n<tr>\n  <th>Skew:</th>          <td>-0.117</td> <th>  Prob(JB):          </th> <td>  0.0297</td>\n</tr>\n<tr>\n  <th>Kurtosis:</th>      <td> 3.473</td> <th>  Cond. No.          </th> <td>2.17e+03</td>\n</tr>\n</table><br/><br/>Warnings:<br/>[1] Standard Errors assume that the covariance matrix of the errors is correctly specified.<br/>[2] The condition number is large, 2.17e+03. This might indicate that there are<br/>strong multicollinearity or other numerical problems."
     },
     "metadata": {},
     "execution_count": 35
    }
   ],
   "source": [
    "results.summary()"
   ]
  },
  {
   "source": [
    "Results: x1(DIS_ELO), x2(HOME_COURT) and x3(DIS_OFFRATE) are significant variables\n",
    "Chosen model is to be fitted the 3 significant x variables\n",
    "Resulting equation would be used to predict outcome of a game:\n",
    "    - postiive --> team 1 wins\n",
    "    - negative --> team 2 wins"
   ],
   "cell_type": "markdown",
   "metadata": {}
  },
  {
   "cell_type": "code",
   "execution_count": 33,
   "metadata": {},
   "outputs": [
    {
     "output_type": "execute_result",
     "data": {
      "text/plain": [
       "<class 'statsmodels.iolib.summary.Summary'>\n",
       "\"\"\"\n",
       "                                 OLS Regression Results                                \n",
       "=======================================================================================\n",
       "Dep. Variable:           PLUS_MINUS_x   R-squared (uncentered):                   0.177\n",
       "Model:                            OLS   Adj. R-squared (uncentered):              0.173\n",
       "Method:                 Least Squares   F-statistic:                              43.39\n",
       "Date:                Thu, 28 Jan 2021   Prob (F-statistic):                    2.09e-25\n",
       "Time:                        14:48:06   Log-Likelihood:                         -2388.9\n",
       "No. Observations:                 607   AIC:                                      4784.\n",
       "Df Residuals:                     604   BIC:                                      4797.\n",
       "Df Model:                           3                                                  \n",
       "Covariance Type:            nonrobust                                                  \n",
       "==============================================================================\n",
       "                 coef    std err          t      P>|t|      [0.025      0.975]\n",
       "------------------------------------------------------------------------------\n",
       "x1             0.0506      0.007      7.678      0.000       0.038       0.063\n",
       "x2             2.2014      0.708      3.110      0.002       0.811       3.591\n",
       "x3            16.1085      8.472      1.901      0.058      -0.530      32.747\n",
       "==============================================================================\n",
       "Omnibus:                        4.856   Durbin-Watson:                   2.021\n",
       "Prob(Omnibus):                  0.088   Jarque-Bera (JB):                5.662\n",
       "Skew:                          -0.091   Prob(JB):                       0.0590\n",
       "Kurtosis:                       3.436   Cond. No.                     1.59e+03\n",
       "==============================================================================\n",
       "\n",
       "Warnings:\n",
       "[1] Standard Errors assume that the covariance matrix of the errors is correctly specified.\n",
       "[2] The condition number is large, 1.59e+03. This might indicate that there are\n",
       "strong multicollinearity or other numerical problems.\n",
       "\"\"\""
      ],
      "text/html": "<table class=\"simpletable\">\n<caption>OLS Regression Results</caption>\n<tr>\n  <th>Dep. Variable:</th>      <td>PLUS_MINUS_x</td>   <th>  R-squared (uncentered):</th>      <td>   0.177</td>\n</tr>\n<tr>\n  <th>Model:</th>                   <td>OLS</td>       <th>  Adj. R-squared (uncentered):</th> <td>   0.173</td>\n</tr>\n<tr>\n  <th>Method:</th>             <td>Least Squares</td>  <th>  F-statistic:       </th>          <td>   43.39</td>\n</tr>\n<tr>\n  <th>Date:</th>             <td>Thu, 28 Jan 2021</td> <th>  Prob (F-statistic):</th>          <td>2.09e-25</td>\n</tr>\n<tr>\n  <th>Time:</th>                 <td>14:48:06</td>     <th>  Log-Likelihood:    </th>          <td> -2388.9</td>\n</tr>\n<tr>\n  <th>No. Observations:</th>      <td>   607</td>      <th>  AIC:               </th>          <td>   4784.</td>\n</tr>\n<tr>\n  <th>Df Residuals:</th>          <td>   604</td>      <th>  BIC:               </th>          <td>   4797.</td>\n</tr>\n<tr>\n  <th>Df Model:</th>              <td>     3</td>      <th>                     </th>              <td> </td>   \n</tr>\n<tr>\n  <th>Covariance Type:</th>      <td>nonrobust</td>    <th>                     </th>              <td> </td>   \n</tr>\n</table>\n<table class=\"simpletable\">\n<tr>\n   <td></td>     <th>coef</th>     <th>std err</th>      <th>t</th>      <th>P>|t|</th>  <th>[0.025</th>    <th>0.975]</th>  \n</tr>\n<tr>\n  <th>x1</th> <td>    0.0506</td> <td>    0.007</td> <td>    7.678</td> <td> 0.000</td> <td>    0.038</td> <td>    0.063</td>\n</tr>\n<tr>\n  <th>x2</th> <td>    2.2014</td> <td>    0.708</td> <td>    3.110</td> <td> 0.002</td> <td>    0.811</td> <td>    3.591</td>\n</tr>\n<tr>\n  <th>x3</th> <td>   16.1085</td> <td>    8.472</td> <td>    1.901</td> <td> 0.058</td> <td>   -0.530</td> <td>   32.747</td>\n</tr>\n</table>\n<table class=\"simpletable\">\n<tr>\n  <th>Omnibus:</th>       <td> 4.856</td> <th>  Durbin-Watson:     </th> <td>   2.021</td>\n</tr>\n<tr>\n  <th>Prob(Omnibus):</th> <td> 0.088</td> <th>  Jarque-Bera (JB):  </th> <td>   5.662</td>\n</tr>\n<tr>\n  <th>Skew:</th>          <td>-0.091</td> <th>  Prob(JB):          </th> <td>  0.0590</td>\n</tr>\n<tr>\n  <th>Kurtosis:</th>      <td> 3.436</td> <th>  Cond. No.          </th> <td>1.59e+03</td>\n</tr>\n</table><br/><br/>Warnings:<br/>[1] Standard Errors assume that the covariance matrix of the errors is correctly specified.<br/>[2] The condition number is large, 1.59e+03. This might indicate that there are<br/>strong multicollinearity or other numerical problems."
     },
     "metadata": {},
     "execution_count": 33
    }
   ],
   "source": [
    "# significant_x = np.column_stack((x1, x2, x3))\n",
    "# chosen_model = sm.OLS(y, significant_x)\n",
    "# results = chosen_model.fit()\n",
    "# results.summary()"
   ]
  },
  {
   "source": [
    "Extract 2nd half of season from DataFrame to predict outcomes of all games"
   ],
   "cell_type": "markdown",
   "metadata": {}
  },
  {
   "cell_type": "code",
   "execution_count": 6,
   "metadata": {},
   "outputs": [
    {
     "output_type": "execute_result",
     "data": {
      "text/plain": [
       "      SEASON_ID_x   TEAM_ID_x TEAM_ABBREVIATION_x            TEAM_NAME_x  \\\n",
       "610         22014  1610612754                 IND         Indiana Pacers   \n",
       "611         22014  1610612741                 CHI          Chicago Bulls   \n",
       "613         22014  1610612747                 LAL     Los Angeles Lakers   \n",
       "618         22014  1610612737                 ATL          Atlanta Hawks   \n",
       "622         22014  1610612759                 SAS      San Antonio Spurs   \n",
       "...           ...         ...                 ...                    ...   \n",
       "1225        22014  1610612755                 PHI     Philadelphia 76ers   \n",
       "1226        22014  1610612740                 NOP   New Orleans Pelicans   \n",
       "1227        22014  1610612749                 MIL        Milwaukee Bucks   \n",
       "1228        22014  1610612753                 ORL          Orlando Magic   \n",
       "1229        22014  1610612744                 GSW  Golden State Warriors   \n",
       "\n",
       "       GAME_ID GAME_DATE_x    MATCHUP_x  WL_x  MIN_x  PTS_x  ...  OFFRATE_y  \\\n",
       "610   21400617  2015-01-19    IND @ HOU     0    240     98  ...   1.049528   \n",
       "611   21400620  2015-01-19    CHI @ CLE     0    242     94  ...   1.074796   \n",
       "613   21400622  2015-01-19    LAL @ PHX     0    240    100  ...   1.084334   \n",
       "618   21400613  2015-01-19  ATL vs. DET     1    240     93  ...   1.029925   \n",
       "622   21400624  2015-01-20    SAS @ DEN     1    241    109  ...   1.033295   \n",
       "...        ...         ...          ...   ...    ...    ...  ...        ...   \n",
       "1225  21401227  2015-04-15  PHI vs. MIA     0    238    101  ...   1.035420   \n",
       "1226  21401223  2015-04-15  NOP vs. SAS     1    240    108  ...   1.077284   \n",
       "1227  21401221  2015-04-15  MIL vs. BOS     0    240    100  ...   1.030823   \n",
       "1228  21401224  2015-04-15    ORL @ BKN     0    241     88  ...   1.032308   \n",
       "1229  21401229  2015-04-15  GSW vs. DEN     1    239    133  ...   1.028622   \n",
       "\n",
       "      DEFRATE_y        ELO_y  DIS_PTS_y  DIS_AST_y  DIS_OREB_y  DIS_DREB_y  \\\n",
       "610    1.044530  1580.810254   7.534262   0.261324    1.172474   -3.160859   \n",
       "611    1.110475  1491.954552  -1.650987  -0.221835   -0.904762   -3.305459   \n",
       "613    0.903411  1533.204714   6.633566   0.128920   -0.772938    0.178862   \n",
       "618    0.928036  1483.404867  -5.439024  -4.707317    4.195122    0.268293   \n",
       "622    1.065748  1476.098464  -0.077816  -3.425087    2.653891   -0.610918   \n",
       "...         ...          ...        ...        ...         ...         ...   \n",
       "1225   1.048939  1452.968706   2.691358  -0.654321   -2.839506   -0.901235   \n",
       "1226   1.069293  1671.322063   3.938272   2.271605   -1.641975    1.814815   \n",
       "1227   1.059460  1539.492386   3.506173   0.925926    0.518519    1.395062   \n",
       "1228   1.063132  1497.129613   2.197531   0.209877    0.333333    0.234568   \n",
       "1229   1.084484  1412.036128  -8.506173  -5.654321    2.024691   -2.037037   \n",
       "\n",
       "      DIS_OFFRATE_y  DIS_DEFRATE_y   DIS_ELO_y  \n",
       "610        0.054917       0.067137  159.771236  \n",
       "611       -0.003931       0.047061  -75.604759  \n",
       "613        0.043416      -0.069226  126.475792  \n",
       "618       -0.061377      -0.178982 -199.041129  \n",
       "622       -0.028010       0.094043  -85.715502  \n",
       "...             ...            ...         ...  \n",
       "1225       0.089955       0.042230  148.113346  \n",
       "1226       0.006417       0.016542  133.168914  \n",
       "1227       0.008790       0.099604   48.089674  \n",
       "1228       0.021995       0.065841  137.786544  \n",
       "1229      -0.078846       0.091216 -305.509038  \n",
       "\n",
       "[606 rows x 111 columns]"
      ],
      "text/html": "<div>\n<style scoped>\n    .dataframe tbody tr th:only-of-type {\n        vertical-align: middle;\n    }\n\n    .dataframe tbody tr th {\n        vertical-align: top;\n    }\n\n    .dataframe thead th {\n        text-align: right;\n    }\n</style>\n<table border=\"1\" class=\"dataframe\">\n  <thead>\n    <tr style=\"text-align: right;\">\n      <th></th>\n      <th>SEASON_ID_x</th>\n      <th>TEAM_ID_x</th>\n      <th>TEAM_ABBREVIATION_x</th>\n      <th>TEAM_NAME_x</th>\n      <th>GAME_ID</th>\n      <th>GAME_DATE_x</th>\n      <th>MATCHUP_x</th>\n      <th>WL_x</th>\n      <th>MIN_x</th>\n      <th>PTS_x</th>\n      <th>...</th>\n      <th>OFFRATE_y</th>\n      <th>DEFRATE_y</th>\n      <th>ELO_y</th>\n      <th>DIS_PTS_y</th>\n      <th>DIS_AST_y</th>\n      <th>DIS_OREB_y</th>\n      <th>DIS_DREB_y</th>\n      <th>DIS_OFFRATE_y</th>\n      <th>DIS_DEFRATE_y</th>\n      <th>DIS_ELO_y</th>\n    </tr>\n  </thead>\n  <tbody>\n    <tr>\n      <td>610</td>\n      <td>22014</td>\n      <td>1610612754</td>\n      <td>IND</td>\n      <td>Indiana Pacers</td>\n      <td>21400617</td>\n      <td>2015-01-19</td>\n      <td>IND @ HOU</td>\n      <td>0</td>\n      <td>240</td>\n      <td>98</td>\n      <td>...</td>\n      <td>1.049528</td>\n      <td>1.044530</td>\n      <td>1580.810254</td>\n      <td>7.534262</td>\n      <td>0.261324</td>\n      <td>1.172474</td>\n      <td>-3.160859</td>\n      <td>0.054917</td>\n      <td>0.067137</td>\n      <td>159.771236</td>\n    </tr>\n    <tr>\n      <td>611</td>\n      <td>22014</td>\n      <td>1610612741</td>\n      <td>CHI</td>\n      <td>Chicago Bulls</td>\n      <td>21400620</td>\n      <td>2015-01-19</td>\n      <td>CHI @ CLE</td>\n      <td>0</td>\n      <td>242</td>\n      <td>94</td>\n      <td>...</td>\n      <td>1.074796</td>\n      <td>1.110475</td>\n      <td>1491.954552</td>\n      <td>-1.650987</td>\n      <td>-0.221835</td>\n      <td>-0.904762</td>\n      <td>-3.305459</td>\n      <td>-0.003931</td>\n      <td>0.047061</td>\n      <td>-75.604759</td>\n    </tr>\n    <tr>\n      <td>613</td>\n      <td>22014</td>\n      <td>1610612747</td>\n      <td>LAL</td>\n      <td>Los Angeles Lakers</td>\n      <td>21400622</td>\n      <td>2015-01-19</td>\n      <td>LAL @ PHX</td>\n      <td>0</td>\n      <td>240</td>\n      <td>100</td>\n      <td>...</td>\n      <td>1.084334</td>\n      <td>0.903411</td>\n      <td>1533.204714</td>\n      <td>6.633566</td>\n      <td>0.128920</td>\n      <td>-0.772938</td>\n      <td>0.178862</td>\n      <td>0.043416</td>\n      <td>-0.069226</td>\n      <td>126.475792</td>\n    </tr>\n    <tr>\n      <td>618</td>\n      <td>22014</td>\n      <td>1610612737</td>\n      <td>ATL</td>\n      <td>Atlanta Hawks</td>\n      <td>21400613</td>\n      <td>2015-01-19</td>\n      <td>ATL vs. DET</td>\n      <td>1</td>\n      <td>240</td>\n      <td>93</td>\n      <td>...</td>\n      <td>1.029925</td>\n      <td>0.928036</td>\n      <td>1483.404867</td>\n      <td>-5.439024</td>\n      <td>-4.707317</td>\n      <td>4.195122</td>\n      <td>0.268293</td>\n      <td>-0.061377</td>\n      <td>-0.178982</td>\n      <td>-199.041129</td>\n    </tr>\n    <tr>\n      <td>622</td>\n      <td>22014</td>\n      <td>1610612759</td>\n      <td>SAS</td>\n      <td>San Antonio Spurs</td>\n      <td>21400624</td>\n      <td>2015-01-20</td>\n      <td>SAS @ DEN</td>\n      <td>1</td>\n      <td>241</td>\n      <td>109</td>\n      <td>...</td>\n      <td>1.033295</td>\n      <td>1.065748</td>\n      <td>1476.098464</td>\n      <td>-0.077816</td>\n      <td>-3.425087</td>\n      <td>2.653891</td>\n      <td>-0.610918</td>\n      <td>-0.028010</td>\n      <td>0.094043</td>\n      <td>-85.715502</td>\n    </tr>\n    <tr>\n      <td>...</td>\n      <td>...</td>\n      <td>...</td>\n      <td>...</td>\n      <td>...</td>\n      <td>...</td>\n      <td>...</td>\n      <td>...</td>\n      <td>...</td>\n      <td>...</td>\n      <td>...</td>\n      <td>...</td>\n      <td>...</td>\n      <td>...</td>\n      <td>...</td>\n      <td>...</td>\n      <td>...</td>\n      <td>...</td>\n      <td>...</td>\n      <td>...</td>\n      <td>...</td>\n      <td>...</td>\n    </tr>\n    <tr>\n      <td>1225</td>\n      <td>22014</td>\n      <td>1610612755</td>\n      <td>PHI</td>\n      <td>Philadelphia 76ers</td>\n      <td>21401227</td>\n      <td>2015-04-15</td>\n      <td>PHI vs. MIA</td>\n      <td>0</td>\n      <td>238</td>\n      <td>101</td>\n      <td>...</td>\n      <td>1.035420</td>\n      <td>1.048939</td>\n      <td>1452.968706</td>\n      <td>2.691358</td>\n      <td>-0.654321</td>\n      <td>-2.839506</td>\n      <td>-0.901235</td>\n      <td>0.089955</td>\n      <td>0.042230</td>\n      <td>148.113346</td>\n    </tr>\n    <tr>\n      <td>1226</td>\n      <td>22014</td>\n      <td>1610612740</td>\n      <td>NOP</td>\n      <td>New Orleans Pelicans</td>\n      <td>21401223</td>\n      <td>2015-04-15</td>\n      <td>NOP vs. SAS</td>\n      <td>1</td>\n      <td>240</td>\n      <td>108</td>\n      <td>...</td>\n      <td>1.077284</td>\n      <td>1.069293</td>\n      <td>1671.322063</td>\n      <td>3.938272</td>\n      <td>2.271605</td>\n      <td>-1.641975</td>\n      <td>1.814815</td>\n      <td>0.006417</td>\n      <td>0.016542</td>\n      <td>133.168914</td>\n    </tr>\n    <tr>\n      <td>1227</td>\n      <td>22014</td>\n      <td>1610612749</td>\n      <td>MIL</td>\n      <td>Milwaukee Bucks</td>\n      <td>21401221</td>\n      <td>2015-04-15</td>\n      <td>MIL vs. BOS</td>\n      <td>0</td>\n      <td>240</td>\n      <td>100</td>\n      <td>...</td>\n      <td>1.030823</td>\n      <td>1.059460</td>\n      <td>1539.492386</td>\n      <td>3.506173</td>\n      <td>0.925926</td>\n      <td>0.518519</td>\n      <td>1.395062</td>\n      <td>0.008790</td>\n      <td>0.099604</td>\n      <td>48.089674</td>\n    </tr>\n    <tr>\n      <td>1228</td>\n      <td>22014</td>\n      <td>1610612753</td>\n      <td>ORL</td>\n      <td>Orlando Magic</td>\n      <td>21401224</td>\n      <td>2015-04-15</td>\n      <td>ORL @ BKN</td>\n      <td>0</td>\n      <td>241</td>\n      <td>88</td>\n      <td>...</td>\n      <td>1.032308</td>\n      <td>1.063132</td>\n      <td>1497.129613</td>\n      <td>2.197531</td>\n      <td>0.209877</td>\n      <td>0.333333</td>\n      <td>0.234568</td>\n      <td>0.021995</td>\n      <td>0.065841</td>\n      <td>137.786544</td>\n    </tr>\n    <tr>\n      <td>1229</td>\n      <td>22014</td>\n      <td>1610612744</td>\n      <td>GSW</td>\n      <td>Golden State Warriors</td>\n      <td>21401229</td>\n      <td>2015-04-15</td>\n      <td>GSW vs. DEN</td>\n      <td>1</td>\n      <td>239</td>\n      <td>133</td>\n      <td>...</td>\n      <td>1.028622</td>\n      <td>1.084484</td>\n      <td>1412.036128</td>\n      <td>-8.506173</td>\n      <td>-5.654321</td>\n      <td>2.024691</td>\n      <td>-2.037037</td>\n      <td>-0.078846</td>\n      <td>0.091216</td>\n      <td>-305.509038</td>\n    </tr>\n  </tbody>\n</table>\n<p>606 rows × 111 columns</p>\n</div>"
     },
     "metadata": {},
     "execution_count": 6
    }
   ],
   "source": [
    "second_half = df[(df['GAME_PLAYED_x'] > 41) & (df['GAME_PLAYED_y'] > 41 )]\n",
    "second_half"
   ]
  },
  {
   "cell_type": "code",
   "execution_count": null,
   "metadata": {},
   "outputs": [],
   "source": []
  }
 ]
}