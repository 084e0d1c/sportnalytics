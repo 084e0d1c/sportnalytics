{
 "metadata": {
  "language_info": {
   "codemirror_mode": {
    "name": "ipython",
    "version": 3
   },
   "file_extension": ".py",
   "mimetype": "text/x-python",
   "name": "python",
   "nbconvert_exporter": "python",
   "pygments_lexer": "ipython3",
   "version": "3.8.3"
  },
  "orig_nbformat": 2,
  "kernelspec": {
   "name": "python3",
   "display_name": "Python 3.8.3 64-bit",
   "metadata": {
    "interpreter": {
     "hash": "aee8b7b246df8f9039afb4144a1f6fd8d2ca17a180786b69acc140d282b71a49"
    }
   }
  }
 },
 "nbformat": 4,
 "nbformat_minor": 2,
 "cells": [
  {
   "cell_type": "code",
   "execution_count": 1,
   "metadata": {},
   "outputs": [],
   "source": [
    "import pandas as pd\n",
    "import numpy as np"
   ]
  },
  {
   "source": [
    "## Creating a dict to store all the WL record for every team throughout a season"
   ],
   "cell_type": "markdown",
   "metadata": {}
  },
  {
   "cell_type": "code",
   "execution_count": 2,
   "metadata": {},
   "outputs": [],
   "source": [
    "s2014 = pd.read_csv('annual_data/nba_season_2014_data.csv')\n",
    "s2015 = pd.read_csv('annual_data/nba_season_2015_data.csv')\n",
    "s2016 = pd.read_csv('annual_data/nba_season_2016_data.csv')\n",
    "s2017 = pd.read_csv('annual_data/nba_season_2017_data.csv')\n",
    "s2018 = pd.read_csv('annual_data/nba_season_2018_data.csv')\n",
    "s2019 = pd.read_csv('annual_data/nba_season_2019_data.csv')\n",
    "s2020 = pd.read_csv('nba_2020_clean.csv')"
   ]
  },
  {
   "source": [
    "## Calculating the actual higher record team winning"
   ],
   "cell_type": "markdown",
   "metadata": {}
  },
  {
   "cell_type": "code",
   "execution_count": 5,
   "metadata": {},
   "outputs": [
    {
     "output_type": "stream",
     "name": "stdout",
     "text": [
      "Actual winning % of higher record team in season 2014 is 0.6463\n",
      "Actual winning % of higher record team in season 2015 is 0.6374\n",
      "Actual winning % of higher record team in season 2016 is 0.5878\n",
      "Actual winning % of higher record team in season 2017 is 0.6114\n",
      "Actual winning % of higher record team in season 2018 is 0.6089\n",
      "Actual winning % of higher record team in season 2019 is 0.6148\n",
      "Actual winning % of higher record team in season 2020 is 0.5738\n"
     ]
    }
   ],
   "source": [
    "season = 2014\n",
    "for df in (s2014, s2015, s2016, s2017, s2018, s2019, s2020):\n",
    "    winlose_record = {\n",
    "    'ATL': {'W': 0, 'L': 0, 'WL%': 0},\n",
    "    'BKN': {'W': 0, 'L': 0, 'WL%': 0},\n",
    "    'BOS': {'W': 0, 'L': 0, 'WL%': 0},\n",
    "    'CHA': {'W': 0, 'L': 0, 'WL%': 0},\n",
    "    'CHI': {'W': 0, 'L': 0, 'WL%': 0},\n",
    "    'CLE': {'W': 0, 'L': 0, 'WL%': 0},\n",
    "    'DAL': {'W': 0, 'L': 0, 'WL%': 0},\n",
    "    'DEN': {'W': 0, 'L': 0, 'WL%': 0},\n",
    "    'DET': {'W': 0, 'L': 0, 'WL%': 0},\n",
    "    'GSW': {'W': 0, 'L': 0, 'WL%': 0},\n",
    "    'HOU': {'W': 0, 'L': 0, 'WL%': 0},\n",
    "    'IND': {'W': 0, 'L': 0, 'WL%': 0},\n",
    "    'LAC': {'W': 0, 'L': 0, 'WL%': 0},\n",
    "    'LAL': {'W': 0, 'L': 0, 'WL%': 0},\n",
    "    'MEM': {'W': 0, 'L': 0, 'WL%': 0},\n",
    "    'MIA': {'W': 0, 'L': 0, 'WL%': 0},\n",
    "    'MIL': {'W': 0, 'L': 0, 'WL%': 0},\n",
    "    'MIN': {'W': 0, 'L': 0, 'WL%': 0},\n",
    "    'NOP': {'W': 0, 'L': 0, 'WL%': 0},\n",
    "    'NYK': {'W': 0, 'L': 0, 'WL%': 0},\n",
    "    'OKC': {'W': 0, 'L': 0, 'WL%': 0},\n",
    "    'ORL': {'W': 0, 'L': 0, 'WL%': 0},\n",
    "    'PHI': {'W': 0, 'L': 0, 'WL%': 0},\n",
    "    'PHX': {'W': 0, 'L': 0, 'WL%': 0},\n",
    "    'POR': {'W': 0, 'L': 0, 'WL%': 0},\n",
    "    'SAC': {'W': 0, 'L': 0, 'WL%': 0},\n",
    "    'SAS': {'W': 0, 'L': 0, 'WL%': 0},\n",
    "    'TOR': {'W': 0, 'L': 0, 'WL%': 0},\n",
    "    'UTA': {'W': 0, 'L': 0, 'WL%': 0},\n",
    "    'WAS': {'W': 0, 'L': 0, 'WL%': 0}    \n",
    "    }\n",
    "    win_counts = 0\n",
    "    total_games = 0\n",
    "\n",
    "    for i, row in df.iterrows():\n",
    "        team_x = row['TEAM_ABBREVIATION_x']\n",
    "        team_y = row['TEAM_ABBREVIATION_y']\n",
    "\n",
    "        x_record = winlose_record[team_x]['WL%']\n",
    "        y_record = winlose_record[team_y]['WL%']\n",
    "\n",
    "        # higher record team winning counts +1 if they actually wins\n",
    "        if ((x_record > y_record) and (row['WL_x'] == 1)) or ((y_record > x_record) and (row['WL_y'] == 1)):\n",
    "            win_counts += 1\n",
    "        total_games += 1\n",
    "\n",
    "        # updating the WL dict after every game\n",
    "        if row['WL_x'] == 1:\n",
    "            winlose_record[team_x]['W'] += 1\n",
    "            winlose_record[team_y]['L'] += 1\n",
    "        else:\n",
    "            winlose_record[team_y]['W'] += 1\n",
    "            winlose_record[team_x]['L'] += 1\n",
    "        winlose_record[team_x]['WL%'] = winlose_record[team_x]['W'] / (winlose_record[team_x]['W'] + winlose_record[team_x]['L'])\n",
    "        winlose_record[team_y]['WL%'] = winlose_record[team_y]['W'] / (winlose_record[team_y]['W'] + winlose_record[team_y]['L'])\n",
    "    \n",
    "    higher_record_winning_percentage = round(win_counts / total_games, 4)\n",
    "\n",
    "    print(f'Actual winning % of higher record team in season {season} is {higher_record_winning_percentage}')\n",
    "    season +=1"
   ]
  },
  {
   "cell_type": "code",
   "execution_count": null,
   "metadata": {},
   "outputs": [],
   "source": []
  }
 ]
}