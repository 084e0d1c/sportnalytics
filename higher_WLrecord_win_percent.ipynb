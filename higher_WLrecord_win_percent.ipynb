{
 "metadata": {
  "language_info": {
   "codemirror_mode": {
    "name": "ipython",
    "version": 3
   },
   "file_extension": ".py",
   "mimetype": "text/x-python",
   "name": "python",
   "nbconvert_exporter": "python",
   "pygments_lexer": "ipython3",
   "version": "3.9.0-final"
  },
  "orig_nbformat": 2,
  "kernelspec": {
   "name": "python3",
   "display_name": "Python 3.9.0 64-bit",
   "metadata": {
    "interpreter": {
     "hash": "7812ea015bdcee6f23a998adcdd2ef97c151c0c241b7b7070987d9313e41299d"
    }
   }
  }
 },
 "nbformat": 4,
 "nbformat_minor": 2,
 "cells": [
  {
   "cell_type": "code",
   "execution_count": 2,
   "metadata": {},
   "outputs": [],
   "source": [
    "import pandas as pd\n",
    "import numpy as np"
   ]
  },
  {
   "source": [
    "## Creating a dict to store all the WL record for every team throughout a season"
   ],
   "cell_type": "markdown",
   "metadata": {}
  },
  {
   "cell_type": "code",
   "execution_count": 5,
   "metadata": {},
   "outputs": [],
   "source": [
    "WL_record = {\n",
    "    'ATL': {'W': 0, 'L': 0, 'WL%': 0},\n",
    "    'BKN': {'W': 0, 'L': 0, 'WL%': 0},\n",
    "    'BOS': {'W': 0, 'L': 0, 'WL%': 0},\n",
    "    'CHA': {'W': 0, 'L': 0, 'WL%': 0},\n",
    "    'CHI': {'W': 0, 'L': 0, 'WL%': 0},\n",
    "    'CLE': {'W': 0, 'L': 0, 'WL%': 0},\n",
    "    'DAL': {'W': 0, 'L': 0, 'WL%': 0},\n",
    "    'DEN': {'W': 0, 'L': 0, 'WL%': 0},\n",
    "    'DET': {'W': 0, 'L': 0, 'WL%': 0},\n",
    "    'GSW': {'W': 0, 'L': 0, 'WL%': 0},\n",
    "    'HOU': {'W': 0, 'L': 0, 'WL%': 0},\n",
    "    'IND': {'W': 0, 'L': 0, 'WL%': 0},\n",
    "    'LAC': {'W': 0, 'L': 0, 'WL%': 0},\n",
    "    'LAL': {'W': 0, 'L': 0, 'WL%': 0},\n",
    "    'MEM': {'W': 0, 'L': 0, 'WL%': 0},\n",
    "    'MIA': {'W': 0, 'L': 0, 'WL%': 0},\n",
    "    'MIL': {'W': 0, 'L': 0, 'WL%': 0},\n",
    "    'MIN': {'W': 0, 'L': 0, 'WL%': 0},\n",
    "    'NOP': {'W': 0, 'L': 0, 'WL%': 0},\n",
    "    'NYK': {'W': 0, 'L': 0, 'WL%': 0},\n",
    "    'OKC': {'W': 0, 'L': 0, 'WL%': 0},\n",
    "    'ORL': {'W': 0, 'L': 0, 'WL%': 0},\n",
    "    'PHI': {'W': 0, 'L': 0, 'WL%': 0},\n",
    "    'PHX': {'W': 0, 'L': 0, 'WL%': 0},\n",
    "    'POR': {'W': 0, 'L': 0, 'WL%': 0},\n",
    "    'SAC': {'W': 0, 'L': 0, 'WL%': 0},\n",
    "    'SAS': {'W': 0, 'L': 0, 'WL%': 0},\n",
    "    'TOR': {'W': 0, 'L': 0, 'WL%': 0},\n",
    "    'UTA': {'W': 0, 'L': 0, 'WL%': 0},\n",
    "    'WAS': {'W': 0, 'L': 0, 'WL%': 0}    \n",
    "}\n",
    "\n",
    "win_counts = 0\n",
    "total_games = 0"
   ]
  },
  {
   "cell_type": "code",
   "execution_count": 4,
   "metadata": {},
   "outputs": [],
   "source": [
    "df = pd.read_csv('annual_data/nba_season_2014_data.csv')"
   ]
  },
  {
   "source": [
    "## Calculating the actual higher record team winning"
   ],
   "cell_type": "markdown",
   "metadata": {}
  },
  {
   "cell_type": "code",
   "execution_count": 8,
   "metadata": {},
   "outputs": [],
   "source": [
    "for i, row in df.iterrows():\n",
    "    team_x = row['TEAM_ABBREVIATION_x']\n",
    "    team_y = row['TEAM_ABBREVIATION_y']\n",
    "\n",
    "    x_record = WL_record[team_x]['WL%']\n",
    "    y_record = WL_record[team_y]['WL%']\n",
    "\n",
    "    # higher record team winning counts +1 if they actually wins\n",
    "    if ((x_record > y_record) and (row['WL_x'] == 1)) or ((y_record > x_record) and (row['WL_y'] == 1)):\n",
    "        win_counts += 1\n",
    "    total_games += 1\n",
    "\n",
    "    # updating the WL dict after every game\n",
    "    if row['WL_x'] == 1:\n",
    "        WL_record[team_x]['W'] += 1\n",
    "        WL_record[team_y]['L'] += 1\n",
    "    else:\n",
    "        WL_record[team_y]['W'] += 1\n",
    "        WL_record[team_x]['L'] += 1\n",
    "    WL_record[team_x]['WL%'] = WL_record[team_x]['W'] / (WL_record[team_x]['W'] + WL_record[team_x]['L'])\n",
    "    WL_record[team_y]['WL%'] = WL_record[team_y]['W'] / (WL_record[team_y]['W'] + WL_record[team_y]['L'])"
   ]
  },
  {
   "cell_type": "code",
   "execution_count": 10,
   "metadata": {},
   "outputs": [
    {
     "output_type": "execute_result",
     "data": {
      "text/plain": [
       "0.6482534524776604"
      ]
     },
     "metadata": {},
     "execution_count": 10
    }
   ],
   "source": [
    "higher_record_winning_percentage = win_counts / total_games\n",
    "higher_record_winning_percentage"
   ]
  }
 ]
}