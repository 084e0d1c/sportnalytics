{
 "metadata": {
  "language_info": {
   "codemirror_mode": {
    "name": "ipython",
    "version": 3
   },
   "file_extension": ".py",
   "mimetype": "text/x-python",
   "name": "python",
   "nbconvert_exporter": "python",
   "pygments_lexer": "ipython3",
   "version": "3.8.3-final"
  },
  "orig_nbformat": 2,
  "kernelspec": {
   "name": "python37464bitbasecondab51e9487b9504375abefc6705c21a662",
   "display_name": "Python 3.7.4 64-bit ('base': conda)",
   "language": "python"
  }
 },
 "nbformat": 4,
 "nbformat_minor": 2,
 "cells": [
  {
   "source": [
    "# Detecting outliers in our data"
   ],
   "cell_type": "markdown",
   "metadata": {}
  },
  {
   "cell_type": "code",
   "execution_count": 38,
   "metadata": {},
   "outputs": [],
   "source": [
    "import pandas as pd \n",
    "import numpy as np \n",
    "from sklearn.neighbors import LocalOutlierFactor\n",
    "import statsmodels.api as sm "
   ]
  },
  {
   "cell_type": "code",
   "execution_count": 39,
   "metadata": {},
   "outputs": [],
   "source": [
    "df = pd.read_csv('2014_nba_data.csv')"
   ]
  },
  {
   "cell_type": "code",
   "execution_count": null,
   "metadata": {},
   "outputs": [],
   "source": [
    "df.info(verbose=True)"
   ]
  },
  {
   "cell_type": "code",
   "execution_count": 40,
   "metadata": {},
   "outputs": [
    {
     "output_type": "execute_result",
     "data": {
      "text/plain": [
       "   SEASON_ID_x   TEAM_ID_x  ... DIS_DEFRATE_y DIS_ELO_y\n",
       "0        22014  1610612745  ...           0.0       0.0\n",
       "1        22014  1610612759  ...           0.0       0.0\n",
       "2        22014  1610612740  ...           0.0       0.0\n",
       "3        22014  1610612752  ...           0.0       0.0\n",
       "4        22014  1610612760  ...           0.0       0.0\n",
       "\n",
       "[5 rows x 111 columns]"
      ],
      "text/html": "<div>\n<style scoped>\n    .dataframe tbody tr th:only-of-type {\n        vertical-align: middle;\n    }\n\n    .dataframe tbody tr th {\n        vertical-align: top;\n    }\n\n    .dataframe thead th {\n        text-align: right;\n    }\n</style>\n<table border=\"1\" class=\"dataframe\">\n  <thead>\n    <tr style=\"text-align: right;\">\n      <th></th>\n      <th>SEASON_ID_x</th>\n      <th>TEAM_ID_x</th>\n      <th>TEAM_ABBREVIATION_x</th>\n      <th>TEAM_NAME_x</th>\n      <th>GAME_ID</th>\n      <th>GAME_DATE_x</th>\n      <th>MATCHUP_x</th>\n      <th>WL_x</th>\n      <th>MIN_x</th>\n      <th>PTS_x</th>\n      <th>FGM_x</th>\n      <th>FGA_x</th>\n      <th>FG_PCT_x</th>\n      <th>FG3M_x</th>\n      <th>FG3A_x</th>\n      <th>FG3_PCT_x</th>\n      <th>FTM_x</th>\n      <th>FTA_x</th>\n      <th>FT_PCT_x</th>\n      <th>OREB_x</th>\n      <th>DREB_x</th>\n      <th>REB_x</th>\n      <th>AST_x</th>\n      <th>STL_x</th>\n      <th>BLK_x</th>\n      <th>TOV_x</th>\n      <th>PF_x</th>\n      <th>PLUS_MINUS_x</th>\n      <th>EFG_x</th>\n      <th>HOME_COURT_x</th>\n      <th>BEF_AVG_PTS_x</th>\n      <th>BEF_AVG_AST_x</th>\n      <th>BEF_AVG_OREB_x</th>\n      <th>BEF_AVG_DREB_x</th>\n      <th>AFT_AVG_PTS_x</th>\n      <th>AFT_AVG_AST_x</th>\n      <th>AFT_AVG_OREB_x</th>\n      <th>AFT_AVG_DREB_x</th>\n      <th>GAME_PLAYED_x</th>\n      <th>cPTS_x</th>\n      <th>...</th>\n      <th>FTM_y</th>\n      <th>FTA_y</th>\n      <th>FT_PCT_y</th>\n      <th>OREB_y</th>\n      <th>DREB_y</th>\n      <th>REB_y</th>\n      <th>AST_y</th>\n      <th>STL_y</th>\n      <th>BLK_y</th>\n      <th>TOV_y</th>\n      <th>PF_y</th>\n      <th>PLUS_MINUS_y</th>\n      <th>EFG_y</th>\n      <th>HOME_COURT_y</th>\n      <th>BEF_AVG_PTS_y</th>\n      <th>BEF_AVG_AST_y</th>\n      <th>BEF_AVG_OREB_y</th>\n      <th>BEF_AVG_DREB_y</th>\n      <th>AFT_AVG_PTS_y</th>\n      <th>AFT_AVG_AST_y</th>\n      <th>AFT_AVG_OREB_y</th>\n      <th>AFT_AVG_DREB_y</th>\n      <th>GAME_PLAYED_y</th>\n      <th>cPTS_y</th>\n      <th>cAST_y</th>\n      <th>cOREB_y</th>\n      <th>cDREB_y</th>\n      <th>cFGA_y</th>\n      <th>cTO_y</th>\n      <th>cFTA_y</th>\n      <th>OFFRATE_y</th>\n      <th>DEFRATE_y</th>\n      <th>ELO_y</th>\n      <th>DIS_PTS_y</th>\n      <th>DIS_AST_y</th>\n      <th>DIS_OREB_y</th>\n      <th>DIS_DREB_y</th>\n      <th>DIS_OFFRATE_y</th>\n      <th>DIS_DEFRATE_y</th>\n      <th>DIS_ELO_y</th>\n    </tr>\n  </thead>\n  <tbody>\n    <tr>\n      <th>0</th>\n      <td>22014</td>\n      <td>1610612745</td>\n      <td>HOU</td>\n      <td>Houston Rockets</td>\n      <td>21400003</td>\n      <td>2014-10-28</td>\n      <td>HOU @ LAL</td>\n      <td>1.0</td>\n      <td>241</td>\n      <td>108</td>\n      <td>31</td>\n      <td>73</td>\n      <td>0.425</td>\n      <td>12</td>\n      <td>29.0</td>\n      <td>0.414</td>\n      <td>34</td>\n      <td>50</td>\n      <td>0.680</td>\n      <td>14.0</td>\n      <td>33.0</td>\n      <td>47.0</td>\n      <td>22</td>\n      <td>7.0</td>\n      <td>3</td>\n      <td>13</td>\n      <td>30</td>\n      <td>18.0</td>\n      <td>0.506849</td>\n      <td>0</td>\n      <td>0.0</td>\n      <td>0.0</td>\n      <td>0.0</td>\n      <td>0.0</td>\n      <td>108.0</td>\n      <td>22.0</td>\n      <td>14.0</td>\n      <td>33.0</td>\n      <td>1</td>\n      <td>108</td>\n      <td>...</td>\n      <td>31</td>\n      <td>39</td>\n      <td>0.795</td>\n      <td>11.0</td>\n      <td>25.0</td>\n      <td>36.0</td>\n      <td>16</td>\n      <td>7.0</td>\n      <td>3</td>\n      <td>11</td>\n      <td>32</td>\n      <td>-18.0</td>\n      <td>0.373418</td>\n      <td>1</td>\n      <td>0.0</td>\n      <td>0.0</td>\n      <td>0.0</td>\n      <td>0.0</td>\n      <td>90.0</td>\n      <td>16.0</td>\n      <td>11.0</td>\n      <td>25.0</td>\n      <td>1</td>\n      <td>90</td>\n      <td>16</td>\n      <td>11.0</td>\n      <td>25.0</td>\n      <td>79</td>\n      <td>11</td>\n      <td>39</td>\n      <td>0.0</td>\n      <td>0.0</td>\n      <td>1500.0</td>\n      <td>0.0</td>\n      <td>0.0</td>\n      <td>0.0</td>\n      <td>0.0</td>\n      <td>0.0</td>\n      <td>0.0</td>\n      <td>0.0</td>\n    </tr>\n    <tr>\n      <th>1</th>\n      <td>22014</td>\n      <td>1610612759</td>\n      <td>SAS</td>\n      <td>San Antonio Spurs</td>\n      <td>21400002</td>\n      <td>2014-10-28</td>\n      <td>SAS vs. DAL</td>\n      <td>1.0</td>\n      <td>241</td>\n      <td>101</td>\n      <td>37</td>\n      <td>70</td>\n      <td>0.529</td>\n      <td>14</td>\n      <td>28.0</td>\n      <td>0.500</td>\n      <td>13</td>\n      <td>16</td>\n      <td>0.813</td>\n      <td>9.0</td>\n      <td>29.0</td>\n      <td>38.0</td>\n      <td>23</td>\n      <td>5.0</td>\n      <td>3</td>\n      <td>20</td>\n      <td>20</td>\n      <td>1.0</td>\n      <td>0.628571</td>\n      <td>1</td>\n      <td>0.0</td>\n      <td>0.0</td>\n      <td>0.0</td>\n      <td>0.0</td>\n      <td>101.0</td>\n      <td>23.0</td>\n      <td>9.0</td>\n      <td>29.0</td>\n      <td>1</td>\n      <td>101</td>\n      <td>...</td>\n      <td>16</td>\n      <td>19</td>\n      <td>0.842</td>\n      <td>9.0</td>\n      <td>24.0</td>\n      <td>33.0</td>\n      <td>17</td>\n      <td>9.0</td>\n      <td>3</td>\n      <td>10</td>\n      <td>20</td>\n      <td>-1.0</td>\n      <td>0.538462</td>\n      <td>0</td>\n      <td>0.0</td>\n      <td>0.0</td>\n      <td>0.0</td>\n      <td>0.0</td>\n      <td>100.0</td>\n      <td>17.0</td>\n      <td>9.0</td>\n      <td>24.0</td>\n      <td>1</td>\n      <td>100</td>\n      <td>17</td>\n      <td>9.0</td>\n      <td>24.0</td>\n      <td>78</td>\n      <td>10</td>\n      <td>19</td>\n      <td>0.0</td>\n      <td>0.0</td>\n      <td>1500.0</td>\n      <td>0.0</td>\n      <td>0.0</td>\n      <td>0.0</td>\n      <td>0.0</td>\n      <td>0.0</td>\n      <td>0.0</td>\n      <td>0.0</td>\n    </tr>\n    <tr>\n      <th>2</th>\n      <td>22014</td>\n      <td>1610612740</td>\n      <td>NOP</td>\n      <td>New Orleans Pelicans</td>\n      <td>21400001</td>\n      <td>2014-10-28</td>\n      <td>NOP vs. ORL</td>\n      <td>1.0</td>\n      <td>240</td>\n      <td>101</td>\n      <td>41</td>\n      <td>101</td>\n      <td>0.406</td>\n      <td>4</td>\n      <td>17.0</td>\n      <td>0.235</td>\n      <td>15</td>\n      <td>31</td>\n      <td>0.484</td>\n      <td>26.0</td>\n      <td>36.0</td>\n      <td>62.0</td>\n      <td>20</td>\n      <td>10.0</td>\n      <td>17</td>\n      <td>9</td>\n      <td>17</td>\n      <td>17.0</td>\n      <td>0.425743</td>\n      <td>1</td>\n      <td>0.0</td>\n      <td>0.0</td>\n      <td>0.0</td>\n      <td>0.0</td>\n      <td>101.0</td>\n      <td>20.0</td>\n      <td>26.0</td>\n      <td>36.0</td>\n      <td>1</td>\n      <td>101</td>\n      <td>...</td>\n      <td>16</td>\n      <td>21</td>\n      <td>0.762</td>\n      <td>16.0</td>\n      <td>40.0</td>\n      <td>56.0</td>\n      <td>17</td>\n      <td>5.0</td>\n      <td>9</td>\n      <td>18</td>\n      <td>25</td>\n      <td>-17.0</td>\n      <td>0.404762</td>\n      <td>0</td>\n      <td>0.0</td>\n      <td>0.0</td>\n      <td>0.0</td>\n      <td>0.0</td>\n      <td>84.0</td>\n      <td>17.0</td>\n      <td>16.0</td>\n      <td>40.0</td>\n      <td>1</td>\n      <td>84</td>\n      <td>17</td>\n      <td>16.0</td>\n      <td>40.0</td>\n      <td>84</td>\n      <td>18</td>\n      <td>21</td>\n      <td>0.0</td>\n      <td>0.0</td>\n      <td>1500.0</td>\n      <td>0.0</td>\n      <td>0.0</td>\n      <td>0.0</td>\n      <td>0.0</td>\n      <td>0.0</td>\n      <td>0.0</td>\n      <td>0.0</td>\n    </tr>\n    <tr>\n      <th>3</th>\n      <td>22014</td>\n      <td>1610612752</td>\n      <td>NYK</td>\n      <td>New York Knicks</td>\n      <td>21400010</td>\n      <td>2014-10-29</td>\n      <td>NYK vs. CHI</td>\n      <td>0.0</td>\n      <td>241</td>\n      <td>80</td>\n      <td>31</td>\n      <td>85</td>\n      <td>0.365</td>\n      <td>3</td>\n      <td>17.0</td>\n      <td>0.176</td>\n      <td>15</td>\n      <td>17</td>\n      <td>0.882</td>\n      <td>14.0</td>\n      <td>24.0</td>\n      <td>38.0</td>\n      <td>19</td>\n      <td>9.0</td>\n      <td>5</td>\n      <td>11</td>\n      <td>22</td>\n      <td>-24.0</td>\n      <td>0.382353</td>\n      <td>1</td>\n      <td>0.0</td>\n      <td>0.0</td>\n      <td>0.0</td>\n      <td>0.0</td>\n      <td>80.0</td>\n      <td>19.0</td>\n      <td>14.0</td>\n      <td>24.0</td>\n      <td>1</td>\n      <td>80</td>\n      <td>...</td>\n      <td>25</td>\n      <td>30</td>\n      <td>0.833</td>\n      <td>10.0</td>\n      <td>37.0</td>\n      <td>47.0</td>\n      <td>21</td>\n      <td>9.0</td>\n      <td>4</td>\n      <td>15</td>\n      <td>18</td>\n      <td>24.0</td>\n      <td>0.556338</td>\n      <td>0</td>\n      <td>0.0</td>\n      <td>0.0</td>\n      <td>0.0</td>\n      <td>0.0</td>\n      <td>104.0</td>\n      <td>21.0</td>\n      <td>10.0</td>\n      <td>37.0</td>\n      <td>1</td>\n      <td>104</td>\n      <td>21</td>\n      <td>10.0</td>\n      <td>37.0</td>\n      <td>71</td>\n      <td>15</td>\n      <td>30</td>\n      <td>0.0</td>\n      <td>0.0</td>\n      <td>1500.0</td>\n      <td>0.0</td>\n      <td>0.0</td>\n      <td>0.0</td>\n      <td>0.0</td>\n      <td>0.0</td>\n      <td>0.0</td>\n      <td>0.0</td>\n    </tr>\n    <tr>\n      <th>4</th>\n      <td>22014</td>\n      <td>1610612760</td>\n      <td>OKC</td>\n      <td>Oklahoma City Thunder</td>\n      <td>21400015</td>\n      <td>2014-10-29</td>\n      <td>OKC @ POR</td>\n      <td>0.0</td>\n      <td>241</td>\n      <td>89</td>\n      <td>33</td>\n      <td>81</td>\n      <td>0.407</td>\n      <td>2</td>\n      <td>16.0</td>\n      <td>0.125</td>\n      <td>21</td>\n      <td>26</td>\n      <td>0.808</td>\n      <td>14.0</td>\n      <td>29.0</td>\n      <td>43.0</td>\n      <td>19</td>\n      <td>9.0</td>\n      <td>5</td>\n      <td>13</td>\n      <td>28</td>\n      <td>-17.0</td>\n      <td>0.419753</td>\n      <td>0</td>\n      <td>0.0</td>\n      <td>0.0</td>\n      <td>0.0</td>\n      <td>0.0</td>\n      <td>89.0</td>\n      <td>19.0</td>\n      <td>14.0</td>\n      <td>29.0</td>\n      <td>1</td>\n      <td>89</td>\n      <td>...</td>\n      <td>17</td>\n      <td>22</td>\n      <td>0.773</td>\n      <td>13.0</td>\n      <td>29.0</td>\n      <td>42.0</td>\n      <td>23</td>\n      <td>4.0</td>\n      <td>9</td>\n      <td>10</td>\n      <td>19</td>\n      <td>17.0</td>\n      <td>0.511494</td>\n      <td>1</td>\n      <td>0.0</td>\n      <td>0.0</td>\n      <td>0.0</td>\n      <td>0.0</td>\n      <td>106.0</td>\n      <td>23.0</td>\n      <td>13.0</td>\n      <td>29.0</td>\n      <td>1</td>\n      <td>106</td>\n      <td>23</td>\n      <td>13.0</td>\n      <td>29.0</td>\n      <td>87</td>\n      <td>10</td>\n      <td>22</td>\n      <td>0.0</td>\n      <td>0.0</td>\n      <td>1500.0</td>\n      <td>0.0</td>\n      <td>0.0</td>\n      <td>0.0</td>\n      <td>0.0</td>\n      <td>0.0</td>\n      <td>0.0</td>\n      <td>0.0</td>\n    </tr>\n  </tbody>\n</table>\n<p>5 rows × 111 columns</p>\n</div>"
     },
     "metadata": {},
     "execution_count": 40
    }
   ],
   "source": [
    "df.head()"
   ]
  },
  {
   "cell_type": "code",
   "execution_count": null,
   "metadata": {},
   "outputs": [],
   "source": [
    "list(df.columns)"
   ]
  },
  {
   "cell_type": "code",
   "execution_count": null,
   "metadata": {},
   "outputs": [],
   "source": [
    "unwanted_columns = [\n",
    "    'MIN_y',\n",
    "    'MIN_x',\n",
    "    'BEF_AVG_PTS_x',\n",
    "    'BEF_AVG_AST_x',\n",
    "    'BEF_AVG_OREB_x',\n",
    "    'BEF_AVG_DREB_x',\n",
    "    'AFT_AVG_PTS_x',\n",
    "    'AFT_AVG_AST_x',\n",
    "    'AFT_AVG_OREB_x',\n",
    "    'AFT_AVG_DREB_x',\n",
    "    'GAME_PLAYED_x',\n",
    "    'cPTS_x',\n",
    "    'cAST_x',\n",
    "    'cOREB_x',\n",
    "    'cDREB_x',\n",
    "    'cFGA_x',\n",
    "    'cTO_x',\n",
    "    'cFTA_x',\n",
    "    'OFFRATE_x',\n",
    "    'DEFRATE_x',\n",
    "    'ELO_x',\n",
    "    'DIS_PTS_x',\n",
    "    'DIS_AST_x',\n",
    "    'DIS_OREB_x',\n",
    "    'DIS_DREB_x',\n",
    "    'DIS_OFFRATE_x',\n",
    "    'DIS_DEFRATE_x',\n",
    "    'DIS_ELO_x',\n",
    "    'SEASON_ID_y',\n",
    "    'TEAM_ID_y',\n",
    "    'TEAM_ABBREVIATION_y',\n",
    "    'TEAM_NAME_y',\n",
    "    'GAME_DATE_y',\n",
    "    'MATCHUP_y',\n",
    "    'SEASON_ID_x',\n",
    "    'TEAM_ID_x',\n",
    "    'TEAM_ABBREVIATION_x',\n",
    "    'TEAM_NAME_x',\n",
    "    'GAME_ID',\n",
    "    'GAME_DATE_x',\n",
    "    'MATCHUP_x',\n",
    "    'BEF_AVG_PTS_y',\n",
    "    'BEF_AVG_AST_y',\n",
    "    'BEF_AVG_OREB_y',\n",
    "    'BEF_AVG_DREB_y',\n",
    "    'AFT_AVG_PTS_y',\n",
    "    'AFT_AVG_AST_y',\n",
    "    'AFT_AVG_OREB_y',\n",
    "    'AFT_AVG_DREB_y',\n",
    "    'GAME_PLAYED_y',\n",
    "    'cPTS_y',\n",
    "    'cAST_y',\n",
    "    'cOREB_y',\n",
    "    'cDREB_y',\n",
    "    'cFGA_y',\n",
    "    'cTO_y',\n",
    "    'cFTA_y',\n",
    "    'OFFRATE_y',\n",
    "    'DEFRATE_y',\n",
    "    'ELO_y',\n",
    "    'DIS_PTS_y',\n",
    "    'DIS_AST_y',\n",
    "    'DIS_OREB_y',\n",
    "    'DIS_DREB_y',\n",
    "    'DIS_OFFRATE_y',\n",
    "    'DIS_DEFRATE_y',\n",
    "    'DIS_ELO_y'\n",
    "]"
   ]
  },
  {
   "cell_type": "code",
   "execution_count": null,
   "metadata": {},
   "outputs": [],
   "source": [
    "cols_of_interest = [x for x in list(df.columns) if x not in unwanted_columns]\n",
    "clean_df = df[cols_of_interest]"
   ]
  },
  {
   "cell_type": "code",
   "execution_count": null,
   "metadata": {},
   "outputs": [],
   "source": [
    "# check if all columns are indeed numeric\n",
    "len(clean_df._get_numeric_data().columns) == len(clean_df.columns),len(clean_df.columns)"
   ]
  },
  {
   "source": [
    "Ok now the data is cleaned. Assuming that input variables have a gaussian distribution, let's detect outliers. "
   ],
   "cell_type": "markdown",
   "metadata": {}
  },
  {
   "cell_type": "code",
   "execution_count": null,
   "metadata": {},
   "outputs": [],
   "source": [
    "lof = LocalOutlierFactor()\n",
    "yhat = lof.fit_predict(clean_df)\n",
    "mask = yhat == -1"
   ]
  },
  {
   "cell_type": "code",
   "execution_count": null,
   "metadata": {},
   "outputs": [],
   "source": [
    "clean_df[mask]"
   ]
  }
 ]
}