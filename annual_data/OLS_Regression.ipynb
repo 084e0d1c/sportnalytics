{
 "metadata": {
  "language_info": {
   "codemirror_mode": {
    "name": "ipython",
    "version": 3
   },
   "file_extension": ".py",
   "mimetype": "text/x-python",
   "name": "python",
   "nbconvert_exporter": "python",
   "pygments_lexer": "ipython3",
   "version": "3.7.4-final"
  },
  "orig_nbformat": 2,
  "kernelspec": {
   "name": "python3",
   "display_name": "Python 3",
   "language": "python"
  }
 },
 "nbformat": 4,
 "nbformat_minor": 2,
 "cells": [
  {
   "cell_type": "code",
   "execution_count": 1,
   "metadata": {},
   "outputs": [],
   "source": [
    "import pandas as pd\n",
    "import statsmodels.api as sm\n",
    "import numpy as np"
   ]
  },
  {
   "source": [
    "Read csv file"
   ],
   "cell_type": "markdown",
   "metadata": {}
  },
  {
   "cell_type": "code",
   "execution_count": 22,
   "metadata": {},
   "outputs": [
    {
     "output_type": "execute_result",
     "data": {
      "text/plain": [
       "   SEASON_ID_x   TEAM_ID_x TEAM_ABBREVIATION_x             TEAM_NAME_x  \\\n",
       "0        22016  1610612759                 SAS       San Antonio Spurs   \n",
       "1        22016  1610612757                 POR  Portland Trail Blazers   \n",
       "2        22016  1610612739                 CLE     Cleveland Cavaliers   \n",
       "3        22016  1610612758                 SAC        Sacramento Kings   \n",
       "4        22016  1610612738                 BOS          Boston Celtics   \n",
       "\n",
       "    GAME_ID GAME_DATE_x    MATCHUP_x  WL_x  MIN_x  PTS_x  ...  OFFRATE_y  \\\n",
       "0  21600003  2016-10-25    SAS @ GSW     1    240    129  ...        0.0   \n",
       "1  21600002  2016-10-25  POR vs. UTA     1    239    113  ...        0.0   \n",
       "2  21600001  2016-10-25  CLE vs. NYK     1    241    117  ...        0.0   \n",
       "3  21600012  2016-10-26    SAC @ PHX     1    241    113  ...        0.0   \n",
       "4  21600006  2016-10-26  BOS vs. BKN     1    240    122  ...        0.0   \n",
       "\n",
       "   DEFRATE_y   ELO_y  DIS_PTS_y  DIS_AST_y  DIS_OREB_y  DIS_DREB_y  \\\n",
       "0        0.0  1500.0        0.0        0.0         0.0         0.0   \n",
       "1        0.0  1500.0        0.0        0.0         0.0         0.0   \n",
       "2        0.0  1500.0        0.0        0.0         0.0         0.0   \n",
       "3        0.0  1500.0        0.0        0.0         0.0         0.0   \n",
       "4        0.0  1500.0        0.0        0.0         0.0         0.0   \n",
       "\n",
       "   DIS_OFFRATE_y  DIS_DEFRATE_y  DIS_ELO_y  \n",
       "0            0.0            0.0        0.0  \n",
       "1            0.0            0.0        0.0  \n",
       "2            0.0            0.0        0.0  \n",
       "3            0.0            0.0        0.0  \n",
       "4            0.0            0.0        0.0  \n",
       "\n",
       "[5 rows x 111 columns]"
      ],
      "text/html": "<div>\n<style scoped>\n    .dataframe tbody tr th:only-of-type {\n        vertical-align: middle;\n    }\n\n    .dataframe tbody tr th {\n        vertical-align: top;\n    }\n\n    .dataframe thead th {\n        text-align: right;\n    }\n</style>\n<table border=\"1\" class=\"dataframe\">\n  <thead>\n    <tr style=\"text-align: right;\">\n      <th></th>\n      <th>SEASON_ID_x</th>\n      <th>TEAM_ID_x</th>\n      <th>TEAM_ABBREVIATION_x</th>\n      <th>TEAM_NAME_x</th>\n      <th>GAME_ID</th>\n      <th>GAME_DATE_x</th>\n      <th>MATCHUP_x</th>\n      <th>WL_x</th>\n      <th>MIN_x</th>\n      <th>PTS_x</th>\n      <th>...</th>\n      <th>OFFRATE_y</th>\n      <th>DEFRATE_y</th>\n      <th>ELO_y</th>\n      <th>DIS_PTS_y</th>\n      <th>DIS_AST_y</th>\n      <th>DIS_OREB_y</th>\n      <th>DIS_DREB_y</th>\n      <th>DIS_OFFRATE_y</th>\n      <th>DIS_DEFRATE_y</th>\n      <th>DIS_ELO_y</th>\n    </tr>\n  </thead>\n  <tbody>\n    <tr>\n      <td>0</td>\n      <td>22016</td>\n      <td>1610612759</td>\n      <td>SAS</td>\n      <td>San Antonio Spurs</td>\n      <td>21600003</td>\n      <td>2016-10-25</td>\n      <td>SAS @ GSW</td>\n      <td>1</td>\n      <td>240</td>\n      <td>129</td>\n      <td>...</td>\n      <td>0.0</td>\n      <td>0.0</td>\n      <td>1500.0</td>\n      <td>0.0</td>\n      <td>0.0</td>\n      <td>0.0</td>\n      <td>0.0</td>\n      <td>0.0</td>\n      <td>0.0</td>\n      <td>0.0</td>\n    </tr>\n    <tr>\n      <td>1</td>\n      <td>22016</td>\n      <td>1610612757</td>\n      <td>POR</td>\n      <td>Portland Trail Blazers</td>\n      <td>21600002</td>\n      <td>2016-10-25</td>\n      <td>POR vs. UTA</td>\n      <td>1</td>\n      <td>239</td>\n      <td>113</td>\n      <td>...</td>\n      <td>0.0</td>\n      <td>0.0</td>\n      <td>1500.0</td>\n      <td>0.0</td>\n      <td>0.0</td>\n      <td>0.0</td>\n      <td>0.0</td>\n      <td>0.0</td>\n      <td>0.0</td>\n      <td>0.0</td>\n    </tr>\n    <tr>\n      <td>2</td>\n      <td>22016</td>\n      <td>1610612739</td>\n      <td>CLE</td>\n      <td>Cleveland Cavaliers</td>\n      <td>21600001</td>\n      <td>2016-10-25</td>\n      <td>CLE vs. NYK</td>\n      <td>1</td>\n      <td>241</td>\n      <td>117</td>\n      <td>...</td>\n      <td>0.0</td>\n      <td>0.0</td>\n      <td>1500.0</td>\n      <td>0.0</td>\n      <td>0.0</td>\n      <td>0.0</td>\n      <td>0.0</td>\n      <td>0.0</td>\n      <td>0.0</td>\n      <td>0.0</td>\n    </tr>\n    <tr>\n      <td>3</td>\n      <td>22016</td>\n      <td>1610612758</td>\n      <td>SAC</td>\n      <td>Sacramento Kings</td>\n      <td>21600012</td>\n      <td>2016-10-26</td>\n      <td>SAC @ PHX</td>\n      <td>1</td>\n      <td>241</td>\n      <td>113</td>\n      <td>...</td>\n      <td>0.0</td>\n      <td>0.0</td>\n      <td>1500.0</td>\n      <td>0.0</td>\n      <td>0.0</td>\n      <td>0.0</td>\n      <td>0.0</td>\n      <td>0.0</td>\n      <td>0.0</td>\n      <td>0.0</td>\n    </tr>\n    <tr>\n      <td>4</td>\n      <td>22016</td>\n      <td>1610612738</td>\n      <td>BOS</td>\n      <td>Boston Celtics</td>\n      <td>21600006</td>\n      <td>2016-10-26</td>\n      <td>BOS vs. BKN</td>\n      <td>1</td>\n      <td>240</td>\n      <td>122</td>\n      <td>...</td>\n      <td>0.0</td>\n      <td>0.0</td>\n      <td>1500.0</td>\n      <td>0.0</td>\n      <td>0.0</td>\n      <td>0.0</td>\n      <td>0.0</td>\n      <td>0.0</td>\n      <td>0.0</td>\n      <td>0.0</td>\n    </tr>\n  </tbody>\n</table>\n<p>5 rows × 111 columns</p>\n</div>"
     },
     "metadata": {},
     "execution_count": 22
    }
   ],
   "source": [
    "df = pd.read_csv(\"nba_season_2016_data.csv\")\n",
    "df.head()\n"
   ]
  },
  {
   "cell_type": "code",
   "execution_count": 17,
   "metadata": {},
   "outputs": [],
   "source": [
    "df.drop(df[(df['GAME_PLAYED_x'] == 1) | (df['GAME_PLAYED_y'] == 1 )].index, inplace=True)"
   ]
  },
  {
   "cell_type": "code",
   "execution_count": 23,
   "metadata": {},
   "outputs": [
    {
     "output_type": "execute_result",
     "data": {
      "text/plain": [
       "   SEASON_ID_x   TEAM_ID_x TEAM_ABBREVIATION_x             TEAM_NAME_x  \\\n",
       "0        22016  1610612759                 SAS       San Antonio Spurs   \n",
       "1        22016  1610612757                 POR  Portland Trail Blazers   \n",
       "2        22016  1610612739                 CLE     Cleveland Cavaliers   \n",
       "3        22016  1610612758                 SAC        Sacramento Kings   \n",
       "4        22016  1610612738                 BOS          Boston Celtics   \n",
       "\n",
       "    GAME_ID GAME_DATE_x    MATCHUP_x  WL_x  MIN_x  PTS_x  ...  OFFRATE_y  \\\n",
       "0  21600003  2016-10-25    SAS @ GSW     1    240    129  ...        0.0   \n",
       "1  21600002  2016-10-25  POR vs. UTA     1    239    113  ...        0.0   \n",
       "2  21600001  2016-10-25  CLE vs. NYK     1    241    117  ...        0.0   \n",
       "3  21600012  2016-10-26    SAC @ PHX     1    241    113  ...        0.0   \n",
       "4  21600006  2016-10-26  BOS vs. BKN     1    240    122  ...        0.0   \n",
       "\n",
       "   DEFRATE_y   ELO_y  DIS_PTS_y  DIS_AST_y  DIS_OREB_y  DIS_DREB_y  \\\n",
       "0        0.0  1500.0        0.0        0.0         0.0         0.0   \n",
       "1        0.0  1500.0        0.0        0.0         0.0         0.0   \n",
       "2        0.0  1500.0        0.0        0.0         0.0         0.0   \n",
       "3        0.0  1500.0        0.0        0.0         0.0         0.0   \n",
       "4        0.0  1500.0        0.0        0.0         0.0         0.0   \n",
       "\n",
       "   DIS_OFFRATE_y  DIS_DEFRATE_y  DIS_ELO_y  \n",
       "0            0.0            0.0        0.0  \n",
       "1            0.0            0.0        0.0  \n",
       "2            0.0            0.0        0.0  \n",
       "3            0.0            0.0        0.0  \n",
       "4            0.0            0.0        0.0  \n",
       "\n",
       "[5 rows x 111 columns]"
      ],
      "text/html": "<div>\n<style scoped>\n    .dataframe tbody tr th:only-of-type {\n        vertical-align: middle;\n    }\n\n    .dataframe tbody tr th {\n        vertical-align: top;\n    }\n\n    .dataframe thead th {\n        text-align: right;\n    }\n</style>\n<table border=\"1\" class=\"dataframe\">\n  <thead>\n    <tr style=\"text-align: right;\">\n      <th></th>\n      <th>SEASON_ID_x</th>\n      <th>TEAM_ID_x</th>\n      <th>TEAM_ABBREVIATION_x</th>\n      <th>TEAM_NAME_x</th>\n      <th>GAME_ID</th>\n      <th>GAME_DATE_x</th>\n      <th>MATCHUP_x</th>\n      <th>WL_x</th>\n      <th>MIN_x</th>\n      <th>PTS_x</th>\n      <th>...</th>\n      <th>OFFRATE_y</th>\n      <th>DEFRATE_y</th>\n      <th>ELO_y</th>\n      <th>DIS_PTS_y</th>\n      <th>DIS_AST_y</th>\n      <th>DIS_OREB_y</th>\n      <th>DIS_DREB_y</th>\n      <th>DIS_OFFRATE_y</th>\n      <th>DIS_DEFRATE_y</th>\n      <th>DIS_ELO_y</th>\n    </tr>\n  </thead>\n  <tbody>\n    <tr>\n      <td>0</td>\n      <td>22016</td>\n      <td>1610612759</td>\n      <td>SAS</td>\n      <td>San Antonio Spurs</td>\n      <td>21600003</td>\n      <td>2016-10-25</td>\n      <td>SAS @ GSW</td>\n      <td>1</td>\n      <td>240</td>\n      <td>129</td>\n      <td>...</td>\n      <td>0.0</td>\n      <td>0.0</td>\n      <td>1500.0</td>\n      <td>0.0</td>\n      <td>0.0</td>\n      <td>0.0</td>\n      <td>0.0</td>\n      <td>0.0</td>\n      <td>0.0</td>\n      <td>0.0</td>\n    </tr>\n    <tr>\n      <td>1</td>\n      <td>22016</td>\n      <td>1610612757</td>\n      <td>POR</td>\n      <td>Portland Trail Blazers</td>\n      <td>21600002</td>\n      <td>2016-10-25</td>\n      <td>POR vs. UTA</td>\n      <td>1</td>\n      <td>239</td>\n      <td>113</td>\n      <td>...</td>\n      <td>0.0</td>\n      <td>0.0</td>\n      <td>1500.0</td>\n      <td>0.0</td>\n      <td>0.0</td>\n      <td>0.0</td>\n      <td>0.0</td>\n      <td>0.0</td>\n      <td>0.0</td>\n      <td>0.0</td>\n    </tr>\n    <tr>\n      <td>2</td>\n      <td>22016</td>\n      <td>1610612739</td>\n      <td>CLE</td>\n      <td>Cleveland Cavaliers</td>\n      <td>21600001</td>\n      <td>2016-10-25</td>\n      <td>CLE vs. NYK</td>\n      <td>1</td>\n      <td>241</td>\n      <td>117</td>\n      <td>...</td>\n      <td>0.0</td>\n      <td>0.0</td>\n      <td>1500.0</td>\n      <td>0.0</td>\n      <td>0.0</td>\n      <td>0.0</td>\n      <td>0.0</td>\n      <td>0.0</td>\n      <td>0.0</td>\n      <td>0.0</td>\n    </tr>\n    <tr>\n      <td>3</td>\n      <td>22016</td>\n      <td>1610612758</td>\n      <td>SAC</td>\n      <td>Sacramento Kings</td>\n      <td>21600012</td>\n      <td>2016-10-26</td>\n      <td>SAC @ PHX</td>\n      <td>1</td>\n      <td>241</td>\n      <td>113</td>\n      <td>...</td>\n      <td>0.0</td>\n      <td>0.0</td>\n      <td>1500.0</td>\n      <td>0.0</td>\n      <td>0.0</td>\n      <td>0.0</td>\n      <td>0.0</td>\n      <td>0.0</td>\n      <td>0.0</td>\n      <td>0.0</td>\n    </tr>\n    <tr>\n      <td>4</td>\n      <td>22016</td>\n      <td>1610612738</td>\n      <td>BOS</td>\n      <td>Boston Celtics</td>\n      <td>21600006</td>\n      <td>2016-10-26</td>\n      <td>BOS vs. BKN</td>\n      <td>1</td>\n      <td>240</td>\n      <td>122</td>\n      <td>...</td>\n      <td>0.0</td>\n      <td>0.0</td>\n      <td>1500.0</td>\n      <td>0.0</td>\n      <td>0.0</td>\n      <td>0.0</td>\n      <td>0.0</td>\n      <td>0.0</td>\n      <td>0.0</td>\n      <td>0.0</td>\n    </tr>\n  </tbody>\n</table>\n<p>5 rows × 111 columns</p>\n</div>"
     },
     "metadata": {},
     "execution_count": 23
    }
   ],
   "source": [
    "df.head()"
   ]
  },
  {
   "cell_type": "code",
   "execution_count": 24,
   "metadata": {},
   "outputs": [
    {
     "output_type": "execute_result",
     "data": {
      "text/plain": [
       "x1     0.037088\n",
       "x2     3.412770\n",
       "x3    10.336257\n",
       "x4     5.442647\n",
       "x5    -0.004555\n",
       "x6     0.211357\n",
       "x7     0.008499\n",
       "x8    -0.254960\n",
       "dtype: float64"
      ]
     },
     "metadata": {},
     "execution_count": 24
    }
   ],
   "source": [
    "y = df['PLUS_MINUS_x']\n",
    "x1 = df['DIS_ELO_x']\n",
    "x2 = df['HOME_COURT_x']\n",
    "x3 = df['DIS_OFFRATE_x']\n",
    "x4 = df['DIS_DEFRATE_x']\n",
    "x5 = df['DIS_PTS_x']\n",
    "x6 = df['DIS_AST_x']\n",
    "x7 = df['DIS_OREB_x']\n",
    "x8 = df['DIS_DREB_x']\n",
    "\n",
    "x = np.column_stack((x1, x2, x3, x4, x5, x6, x7, x8))\n",
    "# x = sm.add_constant(x)\n",
    "model = sm.OLS(y,x)\n",
    "results = model.fit()\n",
    "results.params  "
   ]
  },
  {
   "cell_type": "code",
   "execution_count": 25,
   "metadata": {},
   "outputs": [
    {
     "output_type": "execute_result",
     "data": {
      "text/plain": [
       "<class 'statsmodels.iolib.summary.Summary'>\n",
       "\"\"\"\n",
       "                                 OLS Regression Results                                \n",
       "=======================================================================================\n",
       "Dep. Variable:           PLUS_MINUS_x   R-squared (uncentered):                   0.135\n",
       "Model:                            OLS   Adj. R-squared (uncentered):              0.129\n",
       "Method:                 Least Squares   F-statistic:                              23.83\n",
       "Date:                Wed, 27 Jan 2021   Prob (F-statistic):                    3.35e-34\n",
       "Time:                        21:25:55   Log-Likelihood:                         -4905.5\n",
       "No. Observations:                1230   AIC:                                      9827.\n",
       "Df Residuals:                    1222   BIC:                                      9868.\n",
       "Df Model:                           8                                                  \n",
       "Covariance Type:            nonrobust                                                  \n",
       "==============================================================================\n",
       "                 coef    std err          t      P>|t|      [0.025      0.975]\n",
       "------------------------------------------------------------------------------\n",
       "x1             0.0371      0.005      8.190      0.000       0.028       0.046\n",
       "x2             3.4128      0.522      6.540      0.000       2.389       4.437\n",
       "x3            10.3363      6.836      1.512      0.131      -3.075      23.747\n",
       "x4             5.4426      2.691      2.023      0.043       0.163      10.722\n",
       "x5            -0.0046      0.067     -0.068      0.946      -0.137       0.128\n",
       "x6             0.2114      0.139      1.521      0.128      -0.061       0.484\n",
       "x7             0.0085      0.190      0.045      0.964      -0.363       0.380\n",
       "x8            -0.2550      0.154     -1.657      0.098      -0.557       0.047\n",
       "==============================================================================\n",
       "Omnibus:                        0.953   Durbin-Watson:                   2.013\n",
       "Prob(Omnibus):                  0.621   Jarque-Bera (JB):                0.843\n",
       "Skew:                          -0.014   Prob(JB):                        0.656\n",
       "Kurtosis:                       3.125   Cond. No.                     1.86e+03\n",
       "==============================================================================\n",
       "\n",
       "Warnings:\n",
       "[1] Standard Errors assume that the covariance matrix of the errors is correctly specified.\n",
       "[2] The condition number is large, 1.86e+03. This might indicate that there are\n",
       "strong multicollinearity or other numerical problems.\n",
       "\"\"\""
      ],
      "text/html": "<table class=\"simpletable\">\n<caption>OLS Regression Results</caption>\n<tr>\n  <th>Dep. Variable:</th>      <td>PLUS_MINUS_x</td>   <th>  R-squared (uncentered):</th>      <td>   0.135</td>\n</tr>\n<tr>\n  <th>Model:</th>                   <td>OLS</td>       <th>  Adj. R-squared (uncentered):</th> <td>   0.129</td>\n</tr>\n<tr>\n  <th>Method:</th>             <td>Least Squares</td>  <th>  F-statistic:       </th>          <td>   23.83</td>\n</tr>\n<tr>\n  <th>Date:</th>             <td>Wed, 27 Jan 2021</td> <th>  Prob (F-statistic):</th>          <td>3.35e-34</td>\n</tr>\n<tr>\n  <th>Time:</th>                 <td>21:25:55</td>     <th>  Log-Likelihood:    </th>          <td> -4905.5</td>\n</tr>\n<tr>\n  <th>No. Observations:</th>      <td>  1230</td>      <th>  AIC:               </th>          <td>   9827.</td>\n</tr>\n<tr>\n  <th>Df Residuals:</th>          <td>  1222</td>      <th>  BIC:               </th>          <td>   9868.</td>\n</tr>\n<tr>\n  <th>Df Model:</th>              <td>     8</td>      <th>                     </th>              <td> </td>   \n</tr>\n<tr>\n  <th>Covariance Type:</th>      <td>nonrobust</td>    <th>                     </th>              <td> </td>   \n</tr>\n</table>\n<table class=\"simpletable\">\n<tr>\n   <td></td>     <th>coef</th>     <th>std err</th>      <th>t</th>      <th>P>|t|</th>  <th>[0.025</th>    <th>0.975]</th>  \n</tr>\n<tr>\n  <th>x1</th> <td>    0.0371</td> <td>    0.005</td> <td>    8.190</td> <td> 0.000</td> <td>    0.028</td> <td>    0.046</td>\n</tr>\n<tr>\n  <th>x2</th> <td>    3.4128</td> <td>    0.522</td> <td>    6.540</td> <td> 0.000</td> <td>    2.389</td> <td>    4.437</td>\n</tr>\n<tr>\n  <th>x3</th> <td>   10.3363</td> <td>    6.836</td> <td>    1.512</td> <td> 0.131</td> <td>   -3.075</td> <td>   23.747</td>\n</tr>\n<tr>\n  <th>x4</th> <td>    5.4426</td> <td>    2.691</td> <td>    2.023</td> <td> 0.043</td> <td>    0.163</td> <td>   10.722</td>\n</tr>\n<tr>\n  <th>x5</th> <td>   -0.0046</td> <td>    0.067</td> <td>   -0.068</td> <td> 0.946</td> <td>   -0.137</td> <td>    0.128</td>\n</tr>\n<tr>\n  <th>x6</th> <td>    0.2114</td> <td>    0.139</td> <td>    1.521</td> <td> 0.128</td> <td>   -0.061</td> <td>    0.484</td>\n</tr>\n<tr>\n  <th>x7</th> <td>    0.0085</td> <td>    0.190</td> <td>    0.045</td> <td> 0.964</td> <td>   -0.363</td> <td>    0.380</td>\n</tr>\n<tr>\n  <th>x8</th> <td>   -0.2550</td> <td>    0.154</td> <td>   -1.657</td> <td> 0.098</td> <td>   -0.557</td> <td>    0.047</td>\n</tr>\n</table>\n<table class=\"simpletable\">\n<tr>\n  <th>Omnibus:</th>       <td> 0.953</td> <th>  Durbin-Watson:     </th> <td>   2.013</td>\n</tr>\n<tr>\n  <th>Prob(Omnibus):</th> <td> 0.621</td> <th>  Jarque-Bera (JB):  </th> <td>   0.843</td>\n</tr>\n<tr>\n  <th>Skew:</th>          <td>-0.014</td> <th>  Prob(JB):          </th> <td>   0.656</td>\n</tr>\n<tr>\n  <th>Kurtosis:</th>      <td> 3.125</td> <th>  Cond. No.          </th> <td>1.86e+03</td>\n</tr>\n</table><br/><br/>Warnings:<br/>[1] Standard Errors assume that the covariance matrix of the errors is correctly specified.<br/>[2] The condition number is large, 1.86e+03. This might indicate that there are<br/>strong multicollinearity or other numerical problems."
     },
     "metadata": {},
     "execution_count": 25
    }
   ],
   "source": [
    "results.summary()"
   ]
  },
  {
   "cell_type": "code",
   "execution_count": null,
   "metadata": {},
   "outputs": [],
   "source": []
  }
 ]
}