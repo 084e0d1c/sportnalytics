{
 "cells": [
  {
   "cell_type": "code",
   "execution_count": 4,
   "metadata": {},
   "outputs": [],
   "source": [
    "import pandas as pd\n",
    "import numpy as np\n",
    "import matplotlib.pyplot as plt\n",
    "from matplotlib import style\n",
    "\n",
    "%matplotlib inline\n",
    "style.use('seaborn')"
   ]
  },
  {
   "source": [
    "Read \"annual_nba_data.csv\" file"
   ],
   "cell_type": "markdown",
   "metadata": {}
  },
  {
   "cell_type": "code",
   "execution_count": 5,
   "metadata": {},
   "outputs": [
    {
     "output_type": "execute_result",
     "data": {
      "text/plain": [
       "   SEASON_ID     TEAM_ID TEAM_ABBREVIATION          TEAM_NAME   GAME_ID  \\\n",
       "0      22020  1610612766               CHA  Charlotte Hornets  22000175   \n",
       "1      22020  1610612761               TOR    Toronto Raptors  22000175   \n",
       "2      22020  1610612745               HOU    Houston Rockets  22000176   \n",
       "3      22020  1610612743               DEN     Denver Nuggets  22000177   \n",
       "4      22020  1610612754               IND     Indiana Pacers  22000178   \n",
       "\n",
       "    GAME_DATE      MATCHUP WL  MIN  PTS  ...  OREB  DREB   REB  AST   STL  \\\n",
       "0  2021-01-14    CHA @ TOR  L  240  108  ...  14.0  30.0  44.0   32  11.0   \n",
       "1  2021-01-14  TOR vs. CHA  W  242  111  ...  13.0  27.0  40.0   33  13.0   \n",
       "2  2021-01-14    HOU @ SAS  W  240  109  ...  10.0  39.0  49.0   25   6.0   \n",
       "3  2021-01-14  DEN vs. GSW  W  240  114  ...  10.0  40.0  50.0   29  11.0   \n",
       "4  2021-01-14    IND @ POR  W  238  111  ...  13.0  37.0  50.0   29  11.0   \n",
       "\n",
       "   BLK  TOV  PF  PLUS_MINUS       EFG  \n",
       "0    5   18  15        -9.6  0.568966  \n",
       "1    6   17  16         9.6  0.568182  \n",
       "2    6   18  16         2.6  0.563953  \n",
       "3    5   13  23        14.8  0.516667  \n",
       "4    5   12  13        16.8  0.527174  \n",
       "\n",
       "[5 rows x 29 columns]"
      ],
      "text/html": "<div>\n<style scoped>\n    .dataframe tbody tr th:only-of-type {\n        vertical-align: middle;\n    }\n\n    .dataframe tbody tr th {\n        vertical-align: top;\n    }\n\n    .dataframe thead th {\n        text-align: right;\n    }\n</style>\n<table border=\"1\" class=\"dataframe\">\n  <thead>\n    <tr style=\"text-align: right;\">\n      <th></th>\n      <th>SEASON_ID</th>\n      <th>TEAM_ID</th>\n      <th>TEAM_ABBREVIATION</th>\n      <th>TEAM_NAME</th>\n      <th>GAME_ID</th>\n      <th>GAME_DATE</th>\n      <th>MATCHUP</th>\n      <th>WL</th>\n      <th>MIN</th>\n      <th>PTS</th>\n      <th>...</th>\n      <th>OREB</th>\n      <th>DREB</th>\n      <th>REB</th>\n      <th>AST</th>\n      <th>STL</th>\n      <th>BLK</th>\n      <th>TOV</th>\n      <th>PF</th>\n      <th>PLUS_MINUS</th>\n      <th>EFG</th>\n    </tr>\n  </thead>\n  <tbody>\n    <tr>\n      <td>0</td>\n      <td>22020</td>\n      <td>1610612766</td>\n      <td>CHA</td>\n      <td>Charlotte Hornets</td>\n      <td>22000175</td>\n      <td>2021-01-14</td>\n      <td>CHA @ TOR</td>\n      <td>L</td>\n      <td>240</td>\n      <td>108</td>\n      <td>...</td>\n      <td>14.0</td>\n      <td>30.0</td>\n      <td>44.0</td>\n      <td>32</td>\n      <td>11.0</td>\n      <td>5</td>\n      <td>18</td>\n      <td>15</td>\n      <td>-9.6</td>\n      <td>0.568966</td>\n    </tr>\n    <tr>\n      <td>1</td>\n      <td>22020</td>\n      <td>1610612761</td>\n      <td>TOR</td>\n      <td>Toronto Raptors</td>\n      <td>22000175</td>\n      <td>2021-01-14</td>\n      <td>TOR vs. CHA</td>\n      <td>W</td>\n      <td>242</td>\n      <td>111</td>\n      <td>...</td>\n      <td>13.0</td>\n      <td>27.0</td>\n      <td>40.0</td>\n      <td>33</td>\n      <td>13.0</td>\n      <td>6</td>\n      <td>17</td>\n      <td>16</td>\n      <td>9.6</td>\n      <td>0.568182</td>\n    </tr>\n    <tr>\n      <td>2</td>\n      <td>22020</td>\n      <td>1610612745</td>\n      <td>HOU</td>\n      <td>Houston Rockets</td>\n      <td>22000176</td>\n      <td>2021-01-14</td>\n      <td>HOU @ SAS</td>\n      <td>W</td>\n      <td>240</td>\n      <td>109</td>\n      <td>...</td>\n      <td>10.0</td>\n      <td>39.0</td>\n      <td>49.0</td>\n      <td>25</td>\n      <td>6.0</td>\n      <td>6</td>\n      <td>18</td>\n      <td>16</td>\n      <td>2.6</td>\n      <td>0.563953</td>\n    </tr>\n    <tr>\n      <td>3</td>\n      <td>22020</td>\n      <td>1610612743</td>\n      <td>DEN</td>\n      <td>Denver Nuggets</td>\n      <td>22000177</td>\n      <td>2021-01-14</td>\n      <td>DEN vs. GSW</td>\n      <td>W</td>\n      <td>240</td>\n      <td>114</td>\n      <td>...</td>\n      <td>10.0</td>\n      <td>40.0</td>\n      <td>50.0</td>\n      <td>29</td>\n      <td>11.0</td>\n      <td>5</td>\n      <td>13</td>\n      <td>23</td>\n      <td>14.8</td>\n      <td>0.516667</td>\n    </tr>\n    <tr>\n      <td>4</td>\n      <td>22020</td>\n      <td>1610612754</td>\n      <td>IND</td>\n      <td>Indiana Pacers</td>\n      <td>22000178</td>\n      <td>2021-01-14</td>\n      <td>IND @ POR</td>\n      <td>W</td>\n      <td>238</td>\n      <td>111</td>\n      <td>...</td>\n      <td>13.0</td>\n      <td>37.0</td>\n      <td>50.0</td>\n      <td>29</td>\n      <td>11.0</td>\n      <td>5</td>\n      <td>12</td>\n      <td>13</td>\n      <td>16.8</td>\n      <td>0.527174</td>\n    </tr>\n  </tbody>\n</table>\n<p>5 rows × 29 columns</p>\n</div>"
     },
     "metadata": {},
     "execution_count": 5
    }
   ],
   "source": [
    "master_data = pd.read_csv(\"annual_nba_data.csv\")\n",
    "master_data.head()"
   ]
  },
  {
   "cell_type": "markdown",
   "metadata": {},
   "source": [
    "Create a team dictionary to store all the different statistics for all teams"
   ]
  },
  {
   "cell_type": "code",
   "execution_count": 44,
   "metadata": {},
   "outputs": [],
   "source": [
    "nba_teams = {\n",
    "    'ATL': {'GAME_PLAYED': 0, 'BEF_AVG_PTS':0,'AFT_AVG_PTS':0,'cPTS':0,'cAST':0,'cOREB':0,'cDREB':0,\n",
    "            'BEF_AVG_AST':0,'BEF_AVG_OREB':0, 'BEF_AVG_DREB':0,'AFT_AVG_AST':0,'AFT_AVG_OREB':0, 'AFT_AVG_DREB':0,\n",
    "           'DIS_PTS' : 0,'DIS_AST' : 0, 'DIS_OREB' : 0,'DIS_DB' : 0, 'OFFRATE':0, 'DEFRATE':0, \"cFGA\":0, \"cTO\": 0,\n",
    "           \"cFTA\":0, \"ELO\": 1500 },\n",
    "    'BKN': {'GAME_PLAYED': 0, 'BEF_AVG_PTS':0,'AFT_AVG_PTS':0,'cPTS':0,'cAST':0,'cOREB':0,'cDREB':0,\n",
    "            'BEF_AVG_AST':0,'BEF_AVG_OREB':0, 'BEF_AVG_DREB':0,'AFT_AVG_AST':0,'AFT_AVG_OREB':0, 'AFT_AVG_DREB':0,\n",
    "           'DIS_PTS' : 0,'DIS_AST' : 0, 'DIS_OREB' : 0,'DIS_DB' : 0, 'OFFRATE':0, 'DEFRATE':0, \"cFGA\":0, \"cTO\": 0,\n",
    "           \"cFTA\":0, \"ELO\": 1500 },\n",
    "    'BOS': {'GAME_PLAYED': 0, 'BEF_AVG_PTS':0,'AFT_AVG_PTS':0,'cPTS':0,'cAST':0,'cOREB':0,'cDREB':0,\n",
    "            'BEF_AVG_AST':0,'BEF_AVG_OREB':0, 'BEF_AVG_DREB':0,'AFT_AVG_AST':0,'AFT_AVG_OREB':0, 'AFT_AVG_DREB':0,\n",
    "           'DIS_PTS' : 0,'DIS_AST' : 0, 'DIS_OREB' : 0,'DIS_DB' : 0, 'OFFRATE':0, 'DEFRATE':0, \"cFGA\":0, \"cTO\": 0,\n",
    "           \"cFTA\":0, \"ELO\": 1500 },\n",
    "    'CHA': {'GAME_PLAYED': 0, 'BEF_AVG_PTS':0,'AFT_AVG_PTS':0,'cPTS':0,'cAST':0,'cOREB':0,'cDREB':0,\n",
    "            'BEF_AVG_AST':0,'BEF_AVG_OREB':0, 'BEF_AVG_DREB':0,'AFT_AVG_AST':0,'AFT_AVG_OREB':0, 'AFT_AVG_DREB':0,\n",
    "           'DIS_PTS' : 0,'DIS_AST' : 0, 'DIS_OREB' : 0,'DIS_DB' : 0, 'OFFRATE':0, 'DEFRATE':0, \"cFGA\":0, \"cTO\": 0,\n",
    "           \"cFTA\":0, \"ELO\": 1500 },\n",
    "    'CHI': {'GAME_PLAYED': 0, 'BEF_AVG_PTS':0,'AFT_AVG_PTS':0,'cPTS':0,'cAST':0,'cOREB':0,'cDREB':0,\n",
    "            'BEF_AVG_AST':0,'BEF_AVG_OREB':0, 'BEF_AVG_DREB':0,'AFT_AVG_AST':0,'AFT_AVG_OREB':0, 'AFT_AVG_DREB':0,\n",
    "           'DIS_PTS' : 0,'DIS_AST' : 0, 'DIS_OREB' : 0,'DIS_DB' : 0, 'OFFRATE':0, 'DEFRATE':0, \"cFGA\":0, \"cTO\": 0,\n",
    "           \"cFTA\":0, \"ELO\": 1500 },\n",
    "    'CLE': {'GAME_PLAYED': 0, 'BEF_AVG_PTS':0,'AFT_AVG_PTS':0,'cPTS':0,'cAST':0,'cOREB':0,'cDREB':0,\n",
    "            'BEF_AVG_AST':0,'BEF_AVG_OREB':0, 'BEF_AVG_DREB':0,'AFT_AVG_AST':0,'AFT_AVG_OREB':0, 'AFT_AVG_DREB':0,\n",
    "           'DIS_PTS' : 0,'DIS_AST' : 0, 'DIS_OREB' : 0,'DIS_DB' : 0, 'OFFRATE':0, 'DEFRATE':0, \"cFGA\":0, \"cTO\": 0,\n",
    "           \"cFTA\":0, \"ELO\": 1500 },\n",
    "    'DAL': {'GAME_PLAYED': 0, 'BEF_AVG_PTS':0,'AFT_AVG_PTS':0,'cPTS':0,'cAST':0,'cOREB':0,'cDREB':0,\n",
    "            'BEF_AVG_AST':0,'BEF_AVG_OREB':0, 'BEF_AVG_DREB':0,'AFT_AVG_AST':0,'AFT_AVG_OREB':0, 'AFT_AVG_DREB':0,\n",
    "           'DIS_PTS' : 0,'DIS_AST' : 0, 'DIS_OREB' : 0,'DIS_DB' : 0, 'OFFRATE':0, 'DEFRATE':0, \"cFGA\":0, \"cTO\": 0,\n",
    "           \"cFTA\":0, \"ELO\": 1500 },\n",
    "    'DEN': {'GAME_PLAYED': 0, 'BEF_AVG_PTS':0,'AFT_AVG_PTS':0,'cPTS':0,'cAST':0,'cOREB':0,'cDREB':0,\n",
    "            'BEF_AVG_AST':0,'BEF_AVG_OREB':0, 'BEF_AVG_DREB':0,'AFT_AVG_AST':0,'AFT_AVG_OREB':0, 'AFT_AVG_DREB':0,\n",
    "           'DIS_PTS' : 0,'DIS_AST' : 0, 'DIS_OREB' : 0,'DIS_DB' : 0, 'OFFRATE':0, 'DEFRATE':0, \"cFGA\":0, \"cTO\": 0,\n",
    "           \"cFTA\":0, \"ELO\": 1500 },\n",
    "    'DET': {'GAME_PLAYED': 0, 'BEF_AVG_PTS':0,'AFT_AVG_PTS':0,'cPTS':0,'cAST':0,'cOREB':0,'cDREB':0,\n",
    "            'BEF_AVG_AST':0,'BEF_AVG_OREB':0, 'BEF_AVG_DREB':0,'AFT_AVG_AST':0,'AFT_AVG_OREB':0, 'AFT_AVG_DREB':0,\n",
    "           'DIS_PTS' : 0,'DIS_AST' : 0, 'DIS_OREB' : 0,'DIS_DB' : 0, 'OFFRATE':0, 'DEFRATE':0, \"cFGA\":0, \"cTO\": 0,\n",
    "           \"cFTA\":0, \"ELO\": 1500 },\n",
    "    'GSW': {'GAME_PLAYED': 0, 'BEF_AVG_PTS':0,'AFT_AVG_PTS':0,'cPTS':0,'cAST':0,'cOREB':0,'cDREB':0,\n",
    "            'BEF_AVG_AST':0,'BEF_AVG_OREB':0, 'BEF_AVG_DREB':0,'AFT_AVG_AST':0,'AFT_AVG_OREB':0, 'AFT_AVG_DREB':0,\n",
    "           'DIS_PTS' : 0,'DIS_AST' : 0, 'DIS_OREB' : 0,'DIS_DB' : 0, 'OFFRATE':0, 'DEFRATE':0, \"cFGA\":0, \"cTO\": 0,\n",
    "           \"cFTA\":0, \"ELO\": 1500 },\n",
    "    'HOU': {'GAME_PLAYED': 0, 'BEF_AVG_PTS':0,'AFT_AVG_PTS':0,'cPTS':0,'cAST':0,'cOREB':0,'cDREB':0,\n",
    "            'BEF_AVG_AST':0,'BEF_AVG_OREB':0, 'BEF_AVG_DREB':0,'AFT_AVG_AST':0,'AFT_AVG_OREB':0, 'AFT_AVG_DREB':0,\n",
    "           'DIS_PTS' : 0,'DIS_AST' : 0, 'DIS_OREB' : 0,'DIS_DB' : 0, 'OFFRATE':0, 'DEFRATE':0, \"cFGA\":0, \"cTO\": 0,\n",
    "           \"cFTA\":0, \"ELO\": 1500 },\n",
    "    'IND': {'GAME_PLAYED': 0, 'BEF_AVG_PTS':0,'AFT_AVG_PTS':0,'cPTS':0,'cAST':0,'cOREB':0,'cDREB':0,\n",
    "            'BEF_AVG_AST':0,'BEF_AVG_OREB':0, 'BEF_AVG_DREB':0,'AFT_AVG_AST':0,'AFT_AVG_OREB':0, 'AFT_AVG_DREB':0,\n",
    "           'DIS_PTS' : 0,'DIS_AST' : 0, 'DIS_OREB' : 0,'DIS_DB' : 0, 'OFFRATE':0, 'DEFRATE':0, \"cFGA\":0, \"cTO\": 0,\n",
    "           \"cFTA\":0, \"ELO\": 1500 },\n",
    "    'LAC': {'GAME_PLAYED': 0, 'BEF_AVG_PTS':0,'AFT_AVG_PTS':0,'cPTS':0,'cAST':0,'cOREB':0,'cDREB':0,\n",
    "            'BEF_AVG_AST':0,'BEF_AVG_OREB':0, 'BEF_AVG_DREB':0,'AFT_AVG_AST':0,'AFT_AVG_OREB':0, 'AFT_AVG_DREB':0,\n",
    "           'DIS_PTS' : 0,'DIS_AST' : 0, 'DIS_OREB' : 0,'DIS_DB' : 0, 'OFFRATE':0, 'DEFRATE':0, \"cFGA\":0, \"cTO\": 0,\n",
    "           \"cFTA\":0, \"ELO\": 1500 },\n",
    "    'LAL': {'GAME_PLAYED': 0, 'BEF_AVG_PTS':0,'AFT_AVG_PTS':0,'cPTS':0,'cAST':0,'cOREB':0,'cDREB':0,\n",
    "            'BEF_AVG_AST':0,'BEF_AVG_OREB':0, 'BEF_AVG_DREB':0,'AFT_AVG_AST':0,'AFT_AVG_OREB':0, 'AFT_AVG_DREB':0,\n",
    "           'DIS_PTS' : 0,'DIS_AST' : 0, 'DIS_OREB' : 0,'DIS_DB' : 0, 'OFFRATE':0, 'DEFRATE':0, \"cFGA\":0, \"cTO\": 0,\n",
    "           \"cFTA\":0, \"ELO\": 1500 },\n",
    "    'MEM': {'GAME_PLAYED': 0, 'BEF_AVG_PTS':0,'AFT_AVG_PTS':0,'cPTS':0,'cAST':0,'cOREB':0,'cDREB':0,\n",
    "            'BEF_AVG_AST':0,'BEF_AVG_OREB':0, 'BEF_AVG_DREB':0,'AFT_AVG_AST':0,'AFT_AVG_OREB':0, 'AFT_AVG_DREB':0,\n",
    "           'DIS_PTS' : 0,'DIS_AST' : 0, 'DIS_OREB' : 0,'DIS_DB' : 0, 'OFFRATE':0, 'DEFRATE':0, \"cFGA\":0, \"cTO\": 0,\n",
    "           \"cFTA\":0, \"ELO\": 1500 },\n",
    "    'MIA': {'GAME_PLAYED': 0, 'BEF_AVG_PTS':0,'AFT_AVG_PTS':0,'cPTS':0,'cAST':0,'cOREB':0,'cDREB':0,\n",
    "            'BEF_AVG_AST':0,'BEF_AVG_OREB':0, 'BEF_AVG_DREB':0,'AFT_AVG_AST':0,'AFT_AVG_OREB':0, 'AFT_AVG_DREB':0,\n",
    "           'DIS_PTS' : 0,'DIS_AST' : 0, 'DIS_OREB' : 0,'DIS_DB' : 0, 'OFFRATE':0, 'DEFRATE':0, \"cFGA\":0, \"cTO\": 0,\n",
    "           \"cFTA\":0, \"ELO\": 1500 },\n",
    "    'MIL': {'GAME_PLAYED': 0, 'BEF_AVG_PTS':0,'AFT_AVG_PTS':0,'cPTS':0,'cAST':0,'cOREB':0,'cDREB':0,\n",
    "            'BEF_AVG_AST':0,'BEF_AVG_OREB':0, 'BEF_AVG_DREB':0,'AFT_AVG_AST':0,'AFT_AVG_OREB':0, 'AFT_AVG_DREB':0,\n",
    "           'DIS_PTS' : 0,'DIS_AST' : 0, 'DIS_OREB' : 0,'DIS_DB' : 0, 'OFFRATE':0, 'DEFRATE':0, \"cFGA\":0, \"cTO\": 0,\n",
    "           \"cFTA\":0, \"ELO\": 1500 },\n",
    "    'MIN': {'GAME_PLAYED': 0, 'BEF_AVG_PTS':0,'AFT_AVG_PTS':0,'cPTS':0,'cAST':0,'cOREB':0,'cDREB':0,\n",
    "            'BEF_AVG_AST':0,'BEF_AVG_OREB':0, 'BEF_AVG_DREB':0,'AFT_AVG_AST':0,'AFT_AVG_OREB':0, 'AFT_AVG_DREB':0,\n",
    "           'DIS_PTS' : 0,'DIS_AST' : 0, 'DIS_OREB' : 0,'DIS_DB' : 0, 'OFFRATE':0, 'DEFRATE':0, \"cFGA\":0, \"cTO\": 0,\n",
    "           \"cFTA\":0, \"ELO\": 1500 },\n",
    "    'NOP': {'GAME_PLAYED': 0, 'BEF_AVG_PTS':0,'AFT_AVG_PTS':0,'cPTS':0,'cAST':0,'cOREB':0,'cDREB':0,\n",
    "            'BEF_AVG_AST':0,'BEF_AVG_OREB':0, 'BEF_AVG_DREB':0,'AFT_AVG_AST':0,'AFT_AVG_OREB':0, 'AFT_AVG_DREB':0,\n",
    "           'DIS_PTS' : 0,'DIS_AST' : 0, 'DIS_OREB' : 0,'DIS_DB' : 0, 'OFFRATE':0, 'DEFRATE':0, \"cFGA\":0, \"cTO\": 0,\n",
    "           \"cFTA\":0, \"ELO\": 1500 },\n",
    "    'NYK': {'GAME_PLAYED': 0, 'BEF_AVG_PTS':0,'AFT_AVG_PTS':0,'cPTS':0,'cAST':0,'cOREB':0,'cDREB':0,\n",
    "            'BEF_AVG_AST':0,'BEF_AVG_OREB':0, 'BEF_AVG_DREB':0,'AFT_AVG_AST':0,'AFT_AVG_OREB':0, 'AFT_AVG_DREB':0,\n",
    "           'DIS_PTS' : 0,'DIS_AST' : 0, 'DIS_OREB' : 0,'DIS_DB' : 0, 'OFFRATE':0, 'DEFRATE':0, \"cFGA\":0, \"cTO\": 0,\n",
    "           \"cFTA\":0, \"ELO\": 1500 },\n",
    "    'OKC': {'GAME_PLAYED': 0, 'BEF_AVG_PTS':0,'AFT_AVG_PTS':0,'cPTS':0,'cAST':0,'cOREB':0,'cDREB':0,\n",
    "            'BEF_AVG_AST':0,'BEF_AVG_OREB':0, 'BEF_AVG_DREB':0,'AFT_AVG_AST':0,'AFT_AVG_OREB':0, 'AFT_AVG_DREB':0,\n",
    "           'DIS_PTS' : 0,'DIS_AST' : 0, 'DIS_OREB' : 0,'DIS_DB' : 0, 'OFFRATE':0, 'DEFRATE':0, \"cFGA\":0, \"cTO\": 0,\n",
    "           \"cFTA\":0, \"ELO\": 1500 },\n",
    "    'ORL': {'GAME_PLAYED': 0, 'BEF_AVG_PTS':0,'AFT_AVG_PTS':0,'cPTS':0,'cAST':0,'cOREB':0,'cDREB':0,\n",
    "            'BEF_AVG_AST':0,'BEF_AVG_OREB':0, 'BEF_AVG_DREB':0,'AFT_AVG_AST':0,'AFT_AVG_OREB':0, 'AFT_AVG_DREB':0,\n",
    "           'DIS_PTS' : 0,'DIS_AST' : 0, 'DIS_OREB' : 0,'DIS_DB' : 0, 'OFFRATE':0, 'DEFRATE':0, \"cFGA\":0, \"cTO\": 0,\n",
    "           \"cFTA\":0, \"ELO\": 1500 },\n",
    "    'PHI': {'GAME_PLAYED': 0, 'BEF_AVG_PTS':0,'AFT_AVG_PTS':0,'cPTS':0,'cAST':0,'cOREB':0,'cDREB':0,\n",
    "            'BEF_AVG_AST':0,'BEF_AVG_OREB':0, 'BEF_AVG_DREB':0,'AFT_AVG_AST':0,'AFT_AVG_OREB':0, 'AFT_AVG_DREB':0,\n",
    "           'DIS_PTS' : 0,'DIS_AST' : 0, 'DIS_OREB' : 0,'DIS_DB' : 0, 'OFFRATE':0, 'DEFRATE':0, \"cFGA\":0, \"cTO\": 0,\n",
    "           \"cFTA\":0, \"ELO\": 1500 },\n",
    "    'PHX': {'GAME_PLAYED': 0, 'BEF_AVG_PTS':0,'AFT_AVG_PTS':0,'cPTS':0,'cAST':0,'cOREB':0,'cDREB':0,\n",
    "            'BEF_AVG_AST':0,'BEF_AVG_OREB':0, 'BEF_AVG_DREB':0,'AFT_AVG_AST':0,'AFT_AVG_OREB':0, 'AFT_AVG_DREB':0,\n",
    "           'DIS_PTS' : 0,'DIS_AST' : 0, 'DIS_OREB' : 0,'DIS_DB' : 0, 'OFFRATE':0, 'DEFRATE':0, \"cFGA\":0, \"cTO\": 0,\n",
    "           \"cFTA\":0, \"ELO\": 1500 },\n",
    "    'POR': {'GAME_PLAYED': 0, 'BEF_AVG_PTS':0,'AFT_AVG_PTS':0,'cPTS':0,'cAST':0,'cOREB':0,'cDREB':0,\n",
    "            'BEF_AVG_AST':0,'BEF_AVG_OREB':0, 'BEF_AVG_DREB':0,'AFT_AVG_AST':0,'AFT_AVG_OREB':0, 'AFT_AVG_DREB':0,\n",
    "           'DIS_PTS' : 0,'DIS_AST' : 0, 'DIS_OREB' : 0,'DIS_DB' : 0, 'OFFRATE':0, 'DEFRATE':0, \"cFGA\":0, \"cTO\": 0,\n",
    "           \"cFTA\":0, \"ELO\": 1500 },\n",
    "    'SAC': {'GAME_PLAYED': 0, 'BEF_AVG_PTS':0,'AFT_AVG_PTS':0,'cPTS':0,'cAST':0,'cOREB':0,'cDREB':0,\n",
    "            'BEF_AVG_AST':0,'BEF_AVG_OREB':0, 'BEF_AVG_DREB':0,'AFT_AVG_AST':0,'AFT_AVG_OREB':0, 'AFT_AVG_DREB':0,\n",
    "           'DIS_PTS' : 0,'DIS_AST' : 0, 'DIS_OREB' : 0,'DIS_DB' : 0, 'OFFRATE':0, 'DEFRATE':0, \"cFGA\":0, \"cTO\": 0,\n",
    "           \"cFTA\":0, \"ELO\": 1500 },\n",
    "    'SAS': {'GAME_PLAYED': 0, 'BEF_AVG_PTS':0,'AFT_AVG_PTS':0,'cPTS':0,'cAST':0,'cOREB':0,'cDREB':0,\n",
    "            'BEF_AVG_AST':0,'BEF_AVG_OREB':0, 'BEF_AVG_DREB':0,'AFT_AVG_AST':0,'AFT_AVG_OREB':0, 'AFT_AVG_DREB':0,\n",
    "           'DIS_PTS' : 0,'DIS_AST' : 0, 'DIS_OREB' : 0,'DIS_DB' : 0, 'OFFRATE':0, 'DEFRATE':0, \"cFGA\":0, \"cTO\": 0,\n",
    "           \"cFTA\":0, \"ELO\": 1500 },\n",
    "    'TOR': {'GAME_PLAYED': 0, 'BEF_AVG_PTS':0,'AFT_AVG_PTS':0,'cPTS':0,'cAST':0,'cOREB':0,'cDREB':0,\n",
    "            'BEF_AVG_AST':0,'BEF_AVG_OREB':0, 'BEF_AVG_DREB':0,'AFT_AVG_AST':0,'AFT_AVG_OREB':0, 'AFT_AVG_DREB':0,\n",
    "           'DIS_PTS' : 0,'DIS_AST' : 0, 'DIS_OREB' : 0,'DIS_DB' : 0, 'OFFRATE':0, 'DEFRATE':0, \"cFGA\":0, \"cTO\": 0,\n",
    "           \"cFTA\":0, \"ELO\": 1500 },\n",
    "    'UTA': {'GAME_PLAYED': 0, 'BEF_AVG_PTS':0,'AFT_AVG_PTS':0,'cPTS':0,'cAST':0,'cOREB':0,'cDREB':0,\n",
    "            'BEF_AVG_AST':0,'BEF_AVG_OREB':0, 'BEF_AVG_DREB':0,'AFT_AVG_AST':0,'AFT_AVG_OREB':0, 'AFT_AVG_DREB':0,\n",
    "           'DIS_PTS' : 0,'DIS_AST' : 0, 'DIS_OREB': 0,'DIS_DB' : 0, 'OFFRATE':0, 'DEFRATE':0, \"cFGA\":0, \"cTO\": 0,\n",
    "           \"cFTA\":0, \"ELO\": 1500 },\n",
    "    'WAS': {'GAME_PLAYED': 0, 'BEF_AVG_PTS':0,'AFT_AVG_PTS':0,'cPTS':0,'cAST':0,'cOREB':0,'cDREB':0,\n",
    "            'BEF_AVG_AST':0,'BEF_AVG_OREB':0, 'BEF_AVG_DREB':0,'AFT_AVG_AST':0,'AFT_AVG_OREB':0, 'AFT_AVG_DREB':0,\n",
    "           'DIS_PTS' : 0,'DIS_AST' : 0, 'DIS_OREB' : 0,'DIS_DREB' : 0, 'OFFRATE':0, 'DEFRATE':0, \"cFGA\":0, \"cTO\": 0,\n",
    "           \"cFTA\":0, \"ELO\": 1500 }\n",
    "    \n",
    "}"
   ]
  },
  {
   "cell_type": "markdown",
   "metadata": {},
   "source": [
    "Determining the columns "
   ]
  },
  {
   "cell_type": "code",
   "execution_count": 7,
   "metadata": {
    "scrolled": true
   },
   "outputs": [
    {
     "output_type": "execute_result",
     "data": {
      "text/plain": [
       "Index(['SEASON_ID', 'TEAM_ID', 'TEAM_ABBREVIATION', 'TEAM_NAME', 'GAME_ID',\n",
       "       'GAME_DATE', 'MATCHUP', 'WL', 'MIN', 'PTS', 'FGM', 'FGA', 'FG_PCT',\n",
       "       'FG3M', 'FG3A', 'FG3_PCT', 'FTM', 'FTA', 'FT_PCT', 'OREB', 'DREB',\n",
       "       'REB', 'AST', 'STL', 'BLK', 'TOV', 'PF', 'PLUS_MINUS', 'EFG'],\n",
       "      dtype='object')"
      ]
     },
     "metadata": {},
     "execution_count": 7
    }
   ],
   "source": [
    "master_data= master_data.sort_values(by = \"GAME_DATE\", ascending = True)\n",
    "master_data.index = range(len(master_data))\n",
    "master_data.head()\n",
    "master_data.columns"
   ]
  },
  {
   "source": [
    "Change GAME_DATE to datetime type"
   ],
   "cell_type": "markdown",
   "metadata": {}
  },
  {
   "cell_type": "code",
   "execution_count": 8,
   "metadata": {},
   "outputs": [
    {
     "output_type": "execute_result",
     "data": {
      "text/plain": [
       "   SEASON_ID     TEAM_ID TEAM_ABBREVIATION             TEAM_NAME   GAME_ID  \\\n",
       "0      22014  1610612747               LAL    Los Angeles Lakers  21400003   \n",
       "1      22014  1610612740               NOP  New Orleans Pelicans  21400001   \n",
       "2      22014  1610612753               ORL         Orlando Magic  21400001   \n",
       "3      22014  1610612745               HOU       Houston Rockets  21400003   \n",
       "4      22014  1610612742               DAL      Dallas Mavericks  21400002   \n",
       "\n",
       "   GAME_DATE      MATCHUP WL  MIN  PTS  ...  OREB  DREB   REB  AST   STL  BLK  \\\n",
       "0 2014-10-28  LAL vs. HOU  L  240   90  ...  11.0  25.0  36.0   16   7.0    3   \n",
       "1 2014-10-28  NOP vs. ORL  W  240  101  ...  26.0  36.0  62.0   20  10.0   17   \n",
       "2 2014-10-28    ORL @ NOP  L  239   84  ...  16.0  40.0  56.0   17   5.0    9   \n",
       "3 2014-10-28    HOU @ LAL  W  241  108  ...  14.0  33.0  47.0   22   7.0    3   \n",
       "4 2014-10-28    DAL @ SAS  L  239  100  ...   9.0  24.0  33.0   17   9.0    3   \n",
       "\n",
       "   TOV  PF  PLUS_MINUS       EFG  \n",
       "0   11  32       -18.0  0.373418  \n",
       "1    9  17        17.0  0.425743  \n",
       "2   18  25       -17.0  0.404762  \n",
       "3   13  30        18.0  0.506849  \n",
       "4   10  20        -1.0  0.538462  \n",
       "\n",
       "[5 rows x 29 columns]"
      ],
      "text/html": "<div>\n<style scoped>\n    .dataframe tbody tr th:only-of-type {\n        vertical-align: middle;\n    }\n\n    .dataframe tbody tr th {\n        vertical-align: top;\n    }\n\n    .dataframe thead th {\n        text-align: right;\n    }\n</style>\n<table border=\"1\" class=\"dataframe\">\n  <thead>\n    <tr style=\"text-align: right;\">\n      <th></th>\n      <th>SEASON_ID</th>\n      <th>TEAM_ID</th>\n      <th>TEAM_ABBREVIATION</th>\n      <th>TEAM_NAME</th>\n      <th>GAME_ID</th>\n      <th>GAME_DATE</th>\n      <th>MATCHUP</th>\n      <th>WL</th>\n      <th>MIN</th>\n      <th>PTS</th>\n      <th>...</th>\n      <th>OREB</th>\n      <th>DREB</th>\n      <th>REB</th>\n      <th>AST</th>\n      <th>STL</th>\n      <th>BLK</th>\n      <th>TOV</th>\n      <th>PF</th>\n      <th>PLUS_MINUS</th>\n      <th>EFG</th>\n    </tr>\n  </thead>\n  <tbody>\n    <tr>\n      <td>0</td>\n      <td>22014</td>\n      <td>1610612747</td>\n      <td>LAL</td>\n      <td>Los Angeles Lakers</td>\n      <td>21400003</td>\n      <td>2014-10-28</td>\n      <td>LAL vs. HOU</td>\n      <td>L</td>\n      <td>240</td>\n      <td>90</td>\n      <td>...</td>\n      <td>11.0</td>\n      <td>25.0</td>\n      <td>36.0</td>\n      <td>16</td>\n      <td>7.0</td>\n      <td>3</td>\n      <td>11</td>\n      <td>32</td>\n      <td>-18.0</td>\n      <td>0.373418</td>\n    </tr>\n    <tr>\n      <td>1</td>\n      <td>22014</td>\n      <td>1610612740</td>\n      <td>NOP</td>\n      <td>New Orleans Pelicans</td>\n      <td>21400001</td>\n      <td>2014-10-28</td>\n      <td>NOP vs. ORL</td>\n      <td>W</td>\n      <td>240</td>\n      <td>101</td>\n      <td>...</td>\n      <td>26.0</td>\n      <td>36.0</td>\n      <td>62.0</td>\n      <td>20</td>\n      <td>10.0</td>\n      <td>17</td>\n      <td>9</td>\n      <td>17</td>\n      <td>17.0</td>\n      <td>0.425743</td>\n    </tr>\n    <tr>\n      <td>2</td>\n      <td>22014</td>\n      <td>1610612753</td>\n      <td>ORL</td>\n      <td>Orlando Magic</td>\n      <td>21400001</td>\n      <td>2014-10-28</td>\n      <td>ORL @ NOP</td>\n      <td>L</td>\n      <td>239</td>\n      <td>84</td>\n      <td>...</td>\n      <td>16.0</td>\n      <td>40.0</td>\n      <td>56.0</td>\n      <td>17</td>\n      <td>5.0</td>\n      <td>9</td>\n      <td>18</td>\n      <td>25</td>\n      <td>-17.0</td>\n      <td>0.404762</td>\n    </tr>\n    <tr>\n      <td>3</td>\n      <td>22014</td>\n      <td>1610612745</td>\n      <td>HOU</td>\n      <td>Houston Rockets</td>\n      <td>21400003</td>\n      <td>2014-10-28</td>\n      <td>HOU @ LAL</td>\n      <td>W</td>\n      <td>241</td>\n      <td>108</td>\n      <td>...</td>\n      <td>14.0</td>\n      <td>33.0</td>\n      <td>47.0</td>\n      <td>22</td>\n      <td>7.0</td>\n      <td>3</td>\n      <td>13</td>\n      <td>30</td>\n      <td>18.0</td>\n      <td>0.506849</td>\n    </tr>\n    <tr>\n      <td>4</td>\n      <td>22014</td>\n      <td>1610612742</td>\n      <td>DAL</td>\n      <td>Dallas Mavericks</td>\n      <td>21400002</td>\n      <td>2014-10-28</td>\n      <td>DAL @ SAS</td>\n      <td>L</td>\n      <td>239</td>\n      <td>100</td>\n      <td>...</td>\n      <td>9.0</td>\n      <td>24.0</td>\n      <td>33.0</td>\n      <td>17</td>\n      <td>9.0</td>\n      <td>3</td>\n      <td>10</td>\n      <td>20</td>\n      <td>-1.0</td>\n      <td>0.538462</td>\n    </tr>\n  </tbody>\n</table>\n<p>5 rows × 29 columns</p>\n</div>"
     },
     "metadata": {},
     "execution_count": 8
    }
   ],
   "source": [
    "master_data['GAME_DATE'] = pd.to_datetime(master_data['GAME_DATE'])\n",
    "master_data = master_data.sort_values(by = \"GAME_DATE\", ascending = True)\n",
    "master_data.head()"
   ]
  },
  {
   "source": [
    "Change SEASON_ID to str type"
   ],
   "cell_type": "markdown",
   "metadata": {}
  },
  {
   "cell_type": "code",
   "execution_count": 9,
   "metadata": {},
   "outputs": [],
   "source": [
    "master_data['SEASON_ID'] = master_data['SEASON_ID'].astype(str)"
   ]
  },
  {
   "cell_type": "markdown",
   "metadata": {},
   "source": [
    "Combine the opponent team and home team data for each game into 1 row"
   ]
  },
  {
   "cell_type": "code",
   "execution_count": 10,
   "metadata": {},
   "outputs": [
    {
     "output_type": "execute_result",
     "data": {
      "text/plain": [
       "      SEASON_ID_x   TEAM_ID_x TEAM_ABBREVIATION_x             TEAM_NAME_x  \\\n",
       "29141       22020  1610612759                 SAS       San Antonio Spurs   \n",
       "29145       22020  1610612755                 PHI      Philadelphia 76ers   \n",
       "29149       22020  1610612757                 POR  Portland Trail Blazers   \n",
       "29153       22020  1610612743                 DEN          Denver Nuggets   \n",
       "29157       22020  1610612761                 TOR         Toronto Raptors   \n",
       "\n",
       "        GAME_ID GAME_DATE_x    MATCHUP_x WL_x  MIN_x  PTS_x  ...  OFFRATE_y  \\\n",
       "29141  22000176  2021-01-14  SAS vs. HOU    L    238    105  ...          0   \n",
       "29145  22000174  2021-01-14  PHI vs. MIA    W    239    125  ...          0   \n",
       "29149  22000178  2021-01-14  POR vs. IND    L    240     87  ...          0   \n",
       "29153  22000177  2021-01-14  DEN vs. GSW    W    240    114  ...          0   \n",
       "29157  22000175  2021-01-14  TOR vs. CHA    W    242    111  ...          0   \n",
       "\n",
       "       DEFRATE_y  ELO_y  DIS_PTS_y  DIS_AST_y  DIS_OREB_y  DIS_DREB_y  \\\n",
       "29141          0      0          0          0           0           0   \n",
       "29145          0      0          0          0           0           0   \n",
       "29149          0      0          0          0           0           0   \n",
       "29153          0      0          0          0           0           0   \n",
       "29157          0      0          0          0           0           0   \n",
       "\n",
       "       DIS_OFFRATE_y  DIS_DEFRATE_y  DIS_ELO_y  \n",
       "29141              0              0          0  \n",
       "29145              0              0          0  \n",
       "29149              0              0          0  \n",
       "29153              0              0          0  \n",
       "29157              0              0          0  \n",
       "\n",
       "[5 rows x 111 columns]"
      ],
      "text/html": "<div>\n<style scoped>\n    .dataframe tbody tr th:only-of-type {\n        vertical-align: middle;\n    }\n\n    .dataframe tbody tr th {\n        vertical-align: top;\n    }\n\n    .dataframe thead th {\n        text-align: right;\n    }\n</style>\n<table border=\"1\" class=\"dataframe\">\n  <thead>\n    <tr style=\"text-align: right;\">\n      <th></th>\n      <th>SEASON_ID_x</th>\n      <th>TEAM_ID_x</th>\n      <th>TEAM_ABBREVIATION_x</th>\n      <th>TEAM_NAME_x</th>\n      <th>GAME_ID</th>\n      <th>GAME_DATE_x</th>\n      <th>MATCHUP_x</th>\n      <th>WL_x</th>\n      <th>MIN_x</th>\n      <th>PTS_x</th>\n      <th>...</th>\n      <th>OFFRATE_y</th>\n      <th>DEFRATE_y</th>\n      <th>ELO_y</th>\n      <th>DIS_PTS_y</th>\n      <th>DIS_AST_y</th>\n      <th>DIS_OREB_y</th>\n      <th>DIS_DREB_y</th>\n      <th>DIS_OFFRATE_y</th>\n      <th>DIS_DEFRATE_y</th>\n      <th>DIS_ELO_y</th>\n    </tr>\n  </thead>\n  <tbody>\n    <tr>\n      <td>29141</td>\n      <td>22020</td>\n      <td>1610612759</td>\n      <td>SAS</td>\n      <td>San Antonio Spurs</td>\n      <td>22000176</td>\n      <td>2021-01-14</td>\n      <td>SAS vs. HOU</td>\n      <td>L</td>\n      <td>238</td>\n      <td>105</td>\n      <td>...</td>\n      <td>0</td>\n      <td>0</td>\n      <td>0</td>\n      <td>0</td>\n      <td>0</td>\n      <td>0</td>\n      <td>0</td>\n      <td>0</td>\n      <td>0</td>\n      <td>0</td>\n    </tr>\n    <tr>\n      <td>29145</td>\n      <td>22020</td>\n      <td>1610612755</td>\n      <td>PHI</td>\n      <td>Philadelphia 76ers</td>\n      <td>22000174</td>\n      <td>2021-01-14</td>\n      <td>PHI vs. MIA</td>\n      <td>W</td>\n      <td>239</td>\n      <td>125</td>\n      <td>...</td>\n      <td>0</td>\n      <td>0</td>\n      <td>0</td>\n      <td>0</td>\n      <td>0</td>\n      <td>0</td>\n      <td>0</td>\n      <td>0</td>\n      <td>0</td>\n      <td>0</td>\n    </tr>\n    <tr>\n      <td>29149</td>\n      <td>22020</td>\n      <td>1610612757</td>\n      <td>POR</td>\n      <td>Portland Trail Blazers</td>\n      <td>22000178</td>\n      <td>2021-01-14</td>\n      <td>POR vs. IND</td>\n      <td>L</td>\n      <td>240</td>\n      <td>87</td>\n      <td>...</td>\n      <td>0</td>\n      <td>0</td>\n      <td>0</td>\n      <td>0</td>\n      <td>0</td>\n      <td>0</td>\n      <td>0</td>\n      <td>0</td>\n      <td>0</td>\n      <td>0</td>\n    </tr>\n    <tr>\n      <td>29153</td>\n      <td>22020</td>\n      <td>1610612743</td>\n      <td>DEN</td>\n      <td>Denver Nuggets</td>\n      <td>22000177</td>\n      <td>2021-01-14</td>\n      <td>DEN vs. GSW</td>\n      <td>W</td>\n      <td>240</td>\n      <td>114</td>\n      <td>...</td>\n      <td>0</td>\n      <td>0</td>\n      <td>0</td>\n      <td>0</td>\n      <td>0</td>\n      <td>0</td>\n      <td>0</td>\n      <td>0</td>\n      <td>0</td>\n      <td>0</td>\n    </tr>\n    <tr>\n      <td>29157</td>\n      <td>22020</td>\n      <td>1610612761</td>\n      <td>TOR</td>\n      <td>Toronto Raptors</td>\n      <td>22000175</td>\n      <td>2021-01-14</td>\n      <td>TOR vs. CHA</td>\n      <td>W</td>\n      <td>242</td>\n      <td>111</td>\n      <td>...</td>\n      <td>0</td>\n      <td>0</td>\n      <td>0</td>\n      <td>0</td>\n      <td>0</td>\n      <td>0</td>\n      <td>0</td>\n      <td>0</td>\n      <td>0</td>\n      <td>0</td>\n    </tr>\n  </tbody>\n</table>\n<p>5 rows × 111 columns</p>\n</div>"
     },
     "metadata": {},
     "execution_count": 10
    }
   ],
   "source": [
    "master_data['HOME_COURT'] = np.where(master_data['MATCHUP'].str.contains('vs.'), 1, 0)      # home team = 1, away team = 0\n",
    "master_data['BEF_AVG_PTS'] = 0\n",
    "master_data['BEF_AVG_AST'] = 0\n",
    "master_data['BEF_AVG_OREB'] = 0\n",
    "master_data['BEF_AVG_DREB'] = 0\n",
    "master_data['AFT_AVG_PTS'] = 0\n",
    "master_data['AFT_AVG_AST'] = 0\n",
    "master_data['AFT_AVG_OREB'] = 0\n",
    "master_data['AFT_AVG_DREB'] = 0\n",
    "master_data['GAME_PLAYED'] = 0\n",
    "master_data['cPTS'] = 0\n",
    "master_data['cAST'] = 0\n",
    "master_data['cOREB'] = 0\n",
    "master_data['cDREB'] = 0\n",
    "master_data['cFGA'] = 0\n",
    "master_data['cTO'] = 0\n",
    "master_data['cFTA'] = 0\n",
    "master_data[\"OFFRATE\"] = 0\n",
    "master_data['DEFRATE'] = 0\n",
    "master_data['ELO'] = 0\n",
    "\n",
    "master_data['DIS_PTS'] = 0\n",
    "master_data['DIS_AST'] = 0\n",
    "master_data['DIS_OREB'] = 0\n",
    "master_data['DIS_DREB'] = 0\n",
    "master_data['DIS_OFFRATE'] = 0\n",
    "master_data['DIS_DEFRATE'] = 0\n",
    "master_data['DIS_ELO'] = 0\n",
    "\n",
    "master_data.head()\n",
    "master_data_combined = master_data.merge(master_data, on='GAME_ID')\n",
    "master_data_combined = master_data_combined.drop(master_data_combined[master_data_combined['TEAM_ID_x'] == master_data_combined['TEAM_ID_y']].index)\n",
    "master_data_combined = master_data_combined.iloc[::2]\n",
    "\n",
    "master_data_combined.tail()\n",
    "# master_data_combined['GAME_PLAYED_x']"
   ]
  },
  {
   "source": [
    "Change WL from W/L to 1/0"
   ],
   "cell_type": "markdown",
   "metadata": {}
  },
  {
   "cell_type": "code",
   "execution_count": 11,
   "metadata": {},
   "outputs": [],
   "source": [
    "master_data_combined = master_data_combined.replace(['W','L'], [1, 0])\n"
   ]
  },
  {
   "cell_type": "code",
   "execution_count": 12,
   "metadata": {},
   "outputs": [
    {
     "output_type": "execute_result",
     "data": {
      "text/plain": [
       "      SEASON_ID_x   TEAM_ID_x TEAM_ABBREVIATION_x             TEAM_NAME_x  \\\n",
       "1           22014  1610612747                 LAL      Los Angeles Lakers   \n",
       "5           22014  1610612740                 NOP    New Orleans Pelicans   \n",
       "9           22014  1610612742                 DAL        Dallas Mavericks   \n",
       "13          22014  1610612749                 MIL         Milwaukee Bucks   \n",
       "17          22014  1610612744                 GSW   Golden State Warriors   \n",
       "...           ...         ...                 ...                     ...   \n",
       "29141       22020  1610612759                 SAS       San Antonio Spurs   \n",
       "29145       22020  1610612755                 PHI      Philadelphia 76ers   \n",
       "29149       22020  1610612757                 POR  Portland Trail Blazers   \n",
       "29153       22020  1610612743                 DEN          Denver Nuggets   \n",
       "29157       22020  1610612761                 TOR         Toronto Raptors   \n",
       "\n",
       "        GAME_ID GAME_DATE_x    MATCHUP_x  WL_x  MIN_x  PTS_x  ...  OFFRATE_y  \\\n",
       "1      21400003  2014-10-28  LAL vs. HOU     0    240     90  ...          0   \n",
       "5      21400001  2014-10-28  NOP vs. ORL     1    240    101  ...          0   \n",
       "9      21400002  2014-10-28    DAL @ SAS     0    239    100  ...          0   \n",
       "13     21400004  2014-10-29    MIL @ CHA     0    264    106  ...          0   \n",
       "17     21400014  2014-10-29    GSW @ SAC     1    239     95  ...          0   \n",
       "...         ...         ...          ...   ...    ...    ...  ...        ...   \n",
       "29141  22000176  2021-01-14  SAS vs. HOU     0    238    105  ...          0   \n",
       "29145  22000174  2021-01-14  PHI vs. MIA     1    239    125  ...          0   \n",
       "29149  22000178  2021-01-14  POR vs. IND     0    240     87  ...          0   \n",
       "29153  22000177  2021-01-14  DEN vs. GSW     1    240    114  ...          0   \n",
       "29157  22000175  2021-01-14  TOR vs. CHA     1    242    111  ...          0   \n",
       "\n",
       "       DEFRATE_y  ELO_y  DIS_PTS_y  DIS_AST_y  DIS_OREB_y  DIS_DREB_y  \\\n",
       "1              0      0          0          0           0           0   \n",
       "5              0      0          0          0           0           0   \n",
       "9              0      0          0          0           0           0   \n",
       "13             0      0          0          0           0           0   \n",
       "17             0      0          0          0           0           0   \n",
       "...          ...    ...        ...        ...         ...         ...   \n",
       "29141          0      0          0          0           0           0   \n",
       "29145          0      0          0          0           0           0   \n",
       "29149          0      0          0          0           0           0   \n",
       "29153          0      0          0          0           0           0   \n",
       "29157          0      0          0          0           0           0   \n",
       "\n",
       "       DIS_OFFRATE_y  DIS_DEFRATE_y  DIS_ELO_y  \n",
       "1                  0              0          0  \n",
       "5                  0              0          0  \n",
       "9                  0              0          0  \n",
       "13                 0              0          0  \n",
       "17                 0              0          0  \n",
       "...              ...            ...        ...  \n",
       "29141              0              0          0  \n",
       "29145              0              0          0  \n",
       "29149              0              0          0  \n",
       "29153              0              0          0  \n",
       "29157              0              0          0  \n",
       "\n",
       "[7290 rows x 111 columns]"
      ],
      "text/html": "<div>\n<style scoped>\n    .dataframe tbody tr th:only-of-type {\n        vertical-align: middle;\n    }\n\n    .dataframe tbody tr th {\n        vertical-align: top;\n    }\n\n    .dataframe thead th {\n        text-align: right;\n    }\n</style>\n<table border=\"1\" class=\"dataframe\">\n  <thead>\n    <tr style=\"text-align: right;\">\n      <th></th>\n      <th>SEASON_ID_x</th>\n      <th>TEAM_ID_x</th>\n      <th>TEAM_ABBREVIATION_x</th>\n      <th>TEAM_NAME_x</th>\n      <th>GAME_ID</th>\n      <th>GAME_DATE_x</th>\n      <th>MATCHUP_x</th>\n      <th>WL_x</th>\n      <th>MIN_x</th>\n      <th>PTS_x</th>\n      <th>...</th>\n      <th>OFFRATE_y</th>\n      <th>DEFRATE_y</th>\n      <th>ELO_y</th>\n      <th>DIS_PTS_y</th>\n      <th>DIS_AST_y</th>\n      <th>DIS_OREB_y</th>\n      <th>DIS_DREB_y</th>\n      <th>DIS_OFFRATE_y</th>\n      <th>DIS_DEFRATE_y</th>\n      <th>DIS_ELO_y</th>\n    </tr>\n  </thead>\n  <tbody>\n    <tr>\n      <td>1</td>\n      <td>22014</td>\n      <td>1610612747</td>\n      <td>LAL</td>\n      <td>Los Angeles Lakers</td>\n      <td>21400003</td>\n      <td>2014-10-28</td>\n      <td>LAL vs. HOU</td>\n      <td>0</td>\n      <td>240</td>\n      <td>90</td>\n      <td>...</td>\n      <td>0</td>\n      <td>0</td>\n      <td>0</td>\n      <td>0</td>\n      <td>0</td>\n      <td>0</td>\n      <td>0</td>\n      <td>0</td>\n      <td>0</td>\n      <td>0</td>\n    </tr>\n    <tr>\n      <td>5</td>\n      <td>22014</td>\n      <td>1610612740</td>\n      <td>NOP</td>\n      <td>New Orleans Pelicans</td>\n      <td>21400001</td>\n      <td>2014-10-28</td>\n      <td>NOP vs. ORL</td>\n      <td>1</td>\n      <td>240</td>\n      <td>101</td>\n      <td>...</td>\n      <td>0</td>\n      <td>0</td>\n      <td>0</td>\n      <td>0</td>\n      <td>0</td>\n      <td>0</td>\n      <td>0</td>\n      <td>0</td>\n      <td>0</td>\n      <td>0</td>\n    </tr>\n    <tr>\n      <td>9</td>\n      <td>22014</td>\n      <td>1610612742</td>\n      <td>DAL</td>\n      <td>Dallas Mavericks</td>\n      <td>21400002</td>\n      <td>2014-10-28</td>\n      <td>DAL @ SAS</td>\n      <td>0</td>\n      <td>239</td>\n      <td>100</td>\n      <td>...</td>\n      <td>0</td>\n      <td>0</td>\n      <td>0</td>\n      <td>0</td>\n      <td>0</td>\n      <td>0</td>\n      <td>0</td>\n      <td>0</td>\n      <td>0</td>\n      <td>0</td>\n    </tr>\n    <tr>\n      <td>13</td>\n      <td>22014</td>\n      <td>1610612749</td>\n      <td>MIL</td>\n      <td>Milwaukee Bucks</td>\n      <td>21400004</td>\n      <td>2014-10-29</td>\n      <td>MIL @ CHA</td>\n      <td>0</td>\n      <td>264</td>\n      <td>106</td>\n      <td>...</td>\n      <td>0</td>\n      <td>0</td>\n      <td>0</td>\n      <td>0</td>\n      <td>0</td>\n      <td>0</td>\n      <td>0</td>\n      <td>0</td>\n      <td>0</td>\n      <td>0</td>\n    </tr>\n    <tr>\n      <td>17</td>\n      <td>22014</td>\n      <td>1610612744</td>\n      <td>GSW</td>\n      <td>Golden State Warriors</td>\n      <td>21400014</td>\n      <td>2014-10-29</td>\n      <td>GSW @ SAC</td>\n      <td>1</td>\n      <td>239</td>\n      <td>95</td>\n      <td>...</td>\n      <td>0</td>\n      <td>0</td>\n      <td>0</td>\n      <td>0</td>\n      <td>0</td>\n      <td>0</td>\n      <td>0</td>\n      <td>0</td>\n      <td>0</td>\n      <td>0</td>\n    </tr>\n    <tr>\n      <td>...</td>\n      <td>...</td>\n      <td>...</td>\n      <td>...</td>\n      <td>...</td>\n      <td>...</td>\n      <td>...</td>\n      <td>...</td>\n      <td>...</td>\n      <td>...</td>\n      <td>...</td>\n      <td>...</td>\n      <td>...</td>\n      <td>...</td>\n      <td>...</td>\n      <td>...</td>\n      <td>...</td>\n      <td>...</td>\n      <td>...</td>\n      <td>...</td>\n      <td>...</td>\n      <td>...</td>\n    </tr>\n    <tr>\n      <td>29141</td>\n      <td>22020</td>\n      <td>1610612759</td>\n      <td>SAS</td>\n      <td>San Antonio Spurs</td>\n      <td>22000176</td>\n      <td>2021-01-14</td>\n      <td>SAS vs. HOU</td>\n      <td>0</td>\n      <td>238</td>\n      <td>105</td>\n      <td>...</td>\n      <td>0</td>\n      <td>0</td>\n      <td>0</td>\n      <td>0</td>\n      <td>0</td>\n      <td>0</td>\n      <td>0</td>\n      <td>0</td>\n      <td>0</td>\n      <td>0</td>\n    </tr>\n    <tr>\n      <td>29145</td>\n      <td>22020</td>\n      <td>1610612755</td>\n      <td>PHI</td>\n      <td>Philadelphia 76ers</td>\n      <td>22000174</td>\n      <td>2021-01-14</td>\n      <td>PHI vs. MIA</td>\n      <td>1</td>\n      <td>239</td>\n      <td>125</td>\n      <td>...</td>\n      <td>0</td>\n      <td>0</td>\n      <td>0</td>\n      <td>0</td>\n      <td>0</td>\n      <td>0</td>\n      <td>0</td>\n      <td>0</td>\n      <td>0</td>\n      <td>0</td>\n    </tr>\n    <tr>\n      <td>29149</td>\n      <td>22020</td>\n      <td>1610612757</td>\n      <td>POR</td>\n      <td>Portland Trail Blazers</td>\n      <td>22000178</td>\n      <td>2021-01-14</td>\n      <td>POR vs. IND</td>\n      <td>0</td>\n      <td>240</td>\n      <td>87</td>\n      <td>...</td>\n      <td>0</td>\n      <td>0</td>\n      <td>0</td>\n      <td>0</td>\n      <td>0</td>\n      <td>0</td>\n      <td>0</td>\n      <td>0</td>\n      <td>0</td>\n      <td>0</td>\n    </tr>\n    <tr>\n      <td>29153</td>\n      <td>22020</td>\n      <td>1610612743</td>\n      <td>DEN</td>\n      <td>Denver Nuggets</td>\n      <td>22000177</td>\n      <td>2021-01-14</td>\n      <td>DEN vs. GSW</td>\n      <td>1</td>\n      <td>240</td>\n      <td>114</td>\n      <td>...</td>\n      <td>0</td>\n      <td>0</td>\n      <td>0</td>\n      <td>0</td>\n      <td>0</td>\n      <td>0</td>\n      <td>0</td>\n      <td>0</td>\n      <td>0</td>\n      <td>0</td>\n    </tr>\n    <tr>\n      <td>29157</td>\n      <td>22020</td>\n      <td>1610612761</td>\n      <td>TOR</td>\n      <td>Toronto Raptors</td>\n      <td>22000175</td>\n      <td>2021-01-14</td>\n      <td>TOR vs. CHA</td>\n      <td>1</td>\n      <td>242</td>\n      <td>111</td>\n      <td>...</td>\n      <td>0</td>\n      <td>0</td>\n      <td>0</td>\n      <td>0</td>\n      <td>0</td>\n      <td>0</td>\n      <td>0</td>\n      <td>0</td>\n      <td>0</td>\n      <td>0</td>\n    </tr>\n  </tbody>\n</table>\n<p>7290 rows × 111 columns</p>\n</div>"
     },
     "metadata": {},
     "execution_count": 12
    }
   ],
   "source": [
    "master_data_combined"
   ]
  },
  {
   "cell_type": "markdown",
   "metadata": {},
   "source": [
    "Separate into different seasons "
   ]
  },
  {
   "cell_type": "code",
   "execution_count": 13,
   "metadata": {},
   "outputs": [
    {
     "output_type": "execute_result",
     "data": {
      "text/plain": [
       "  SEASON_ID_x   TEAM_ID_x TEAM_ABBREVIATION_x            TEAM_NAME_x  \\\n",
       "0       22014  1610612747                 LAL     Los Angeles Lakers   \n",
       "1       22014  1610612740                 NOP   New Orleans Pelicans   \n",
       "2       22014  1610612742                 DAL       Dallas Mavericks   \n",
       "3       22014  1610612749                 MIL        Milwaukee Bucks   \n",
       "4       22014  1610612744                 GSW  Golden State Warriors   \n",
       "\n",
       "    GAME_ID GAME_DATE_x    MATCHUP_x  WL_x  MIN_x  PTS_x  ...  OFFRATE_y  \\\n",
       "0  21400003  2014-10-28  LAL vs. HOU     0    240     90  ...          0   \n",
       "1  21400001  2014-10-28  NOP vs. ORL     1    240    101  ...          0   \n",
       "2  21400002  2014-10-28    DAL @ SAS     0    239    100  ...          0   \n",
       "3  21400004  2014-10-29    MIL @ CHA     0    264    106  ...          0   \n",
       "4  21400014  2014-10-29    GSW @ SAC     1    239     95  ...          0   \n",
       "\n",
       "   DEFRATE_y  ELO_y  DIS_PTS_y  DIS_AST_y  DIS_OREB_y  DIS_DREB_y  \\\n",
       "0          0      0          0          0           0           0   \n",
       "1          0      0          0          0           0           0   \n",
       "2          0      0          0          0           0           0   \n",
       "3          0      0          0          0           0           0   \n",
       "4          0      0          0          0           0           0   \n",
       "\n",
       "   DIS_OFFRATE_y  DIS_DEFRATE_y  DIS_ELO_y  \n",
       "0              0              0          0  \n",
       "1              0              0          0  \n",
       "2              0              0          0  \n",
       "3              0              0          0  \n",
       "4              0              0          0  \n",
       "\n",
       "[5 rows x 111 columns]"
      ],
      "text/html": "<div>\n<style scoped>\n    .dataframe tbody tr th:only-of-type {\n        vertical-align: middle;\n    }\n\n    .dataframe tbody tr th {\n        vertical-align: top;\n    }\n\n    .dataframe thead th {\n        text-align: right;\n    }\n</style>\n<table border=\"1\" class=\"dataframe\">\n  <thead>\n    <tr style=\"text-align: right;\">\n      <th></th>\n      <th>SEASON_ID_x</th>\n      <th>TEAM_ID_x</th>\n      <th>TEAM_ABBREVIATION_x</th>\n      <th>TEAM_NAME_x</th>\n      <th>GAME_ID</th>\n      <th>GAME_DATE_x</th>\n      <th>MATCHUP_x</th>\n      <th>WL_x</th>\n      <th>MIN_x</th>\n      <th>PTS_x</th>\n      <th>...</th>\n      <th>OFFRATE_y</th>\n      <th>DEFRATE_y</th>\n      <th>ELO_y</th>\n      <th>DIS_PTS_y</th>\n      <th>DIS_AST_y</th>\n      <th>DIS_OREB_y</th>\n      <th>DIS_DREB_y</th>\n      <th>DIS_OFFRATE_y</th>\n      <th>DIS_DEFRATE_y</th>\n      <th>DIS_ELO_y</th>\n    </tr>\n  </thead>\n  <tbody>\n    <tr>\n      <td>0</td>\n      <td>22014</td>\n      <td>1610612747</td>\n      <td>LAL</td>\n      <td>Los Angeles Lakers</td>\n      <td>21400003</td>\n      <td>2014-10-28</td>\n      <td>LAL vs. HOU</td>\n      <td>0</td>\n      <td>240</td>\n      <td>90</td>\n      <td>...</td>\n      <td>0</td>\n      <td>0</td>\n      <td>0</td>\n      <td>0</td>\n      <td>0</td>\n      <td>0</td>\n      <td>0</td>\n      <td>0</td>\n      <td>0</td>\n      <td>0</td>\n    </tr>\n    <tr>\n      <td>1</td>\n      <td>22014</td>\n      <td>1610612740</td>\n      <td>NOP</td>\n      <td>New Orleans Pelicans</td>\n      <td>21400001</td>\n      <td>2014-10-28</td>\n      <td>NOP vs. ORL</td>\n      <td>1</td>\n      <td>240</td>\n      <td>101</td>\n      <td>...</td>\n      <td>0</td>\n      <td>0</td>\n      <td>0</td>\n      <td>0</td>\n      <td>0</td>\n      <td>0</td>\n      <td>0</td>\n      <td>0</td>\n      <td>0</td>\n      <td>0</td>\n    </tr>\n    <tr>\n      <td>2</td>\n      <td>22014</td>\n      <td>1610612742</td>\n      <td>DAL</td>\n      <td>Dallas Mavericks</td>\n      <td>21400002</td>\n      <td>2014-10-28</td>\n      <td>DAL @ SAS</td>\n      <td>0</td>\n      <td>239</td>\n      <td>100</td>\n      <td>...</td>\n      <td>0</td>\n      <td>0</td>\n      <td>0</td>\n      <td>0</td>\n      <td>0</td>\n      <td>0</td>\n      <td>0</td>\n      <td>0</td>\n      <td>0</td>\n      <td>0</td>\n    </tr>\n    <tr>\n      <td>3</td>\n      <td>22014</td>\n      <td>1610612749</td>\n      <td>MIL</td>\n      <td>Milwaukee Bucks</td>\n      <td>21400004</td>\n      <td>2014-10-29</td>\n      <td>MIL @ CHA</td>\n      <td>0</td>\n      <td>264</td>\n      <td>106</td>\n      <td>...</td>\n      <td>0</td>\n      <td>0</td>\n      <td>0</td>\n      <td>0</td>\n      <td>0</td>\n      <td>0</td>\n      <td>0</td>\n      <td>0</td>\n      <td>0</td>\n      <td>0</td>\n    </tr>\n    <tr>\n      <td>4</td>\n      <td>22014</td>\n      <td>1610612744</td>\n      <td>GSW</td>\n      <td>Golden State Warriors</td>\n      <td>21400014</td>\n      <td>2014-10-29</td>\n      <td>GSW @ SAC</td>\n      <td>1</td>\n      <td>239</td>\n      <td>95</td>\n      <td>...</td>\n      <td>0</td>\n      <td>0</td>\n      <td>0</td>\n      <td>0</td>\n      <td>0</td>\n      <td>0</td>\n      <td>0</td>\n      <td>0</td>\n      <td>0</td>\n      <td>0</td>\n    </tr>\n  </tbody>\n</table>\n<p>5 rows × 111 columns</p>\n</div>"
     },
     "metadata": {},
     "execution_count": 13
    }
   ],
   "source": [
    "season_2014 = master_data_combined[master_data_combined['SEASON_ID_x'] == '22014']\n",
    "season_2014.index = range(len(season_2014))\n",
    "\n",
    "season_2015 = master_data_combined[master_data_combined['SEASON_ID_x'] == '22015']\n",
    "season_2015.index = range(len(season_2015))\n",
    "\n",
    "season_2016 = master_data_combined[master_data_combined['SEASON_ID_x'] == '22016']\n",
    "season_2016.index = range(len(season_2016))\n",
    "\n",
    "season_2017 = master_data_combined[master_data_combined['SEASON_ID_x'] == '22017']\n",
    "season_2017.index = range(len(season_2017))\n",
    "\n",
    "\n",
    "season_2018 = master_data_combined[master_data_combined['SEASON_ID_x'] == '22018']\n",
    "season_2018.index = range(len(season_2018))\n",
    "\n",
    "season_2019 = master_data_combined[master_data_combined['SEASON_ID_x'] == '22019']\n",
    "season_2019.index = range(len(season_2019))\n",
    "\n",
    "season_2020 = master_data_combined[master_data_combined['SEASON_ID_x'] == '22020']\n",
    "season_2020.index = range(len(season_2020))\n",
    "\n",
    "season_2014.head()"
   ]
  },
  {
   "source": [
    "Only for creating a small sample dataset to test code to save time"
   ],
   "cell_type": "markdown",
   "metadata": {}
  },
  {
   "cell_type": "code",
   "execution_count": 43,
   "metadata": {},
   "outputs": [
    {
     "output_type": "execute_result",
     "data": {
      "text/plain": [
       "    SEASON_ID_x   TEAM_ID_x TEAM_ABBREVIATION_x            TEAM_NAME_x  \\\n",
       "0         22014  1610612747                 LAL     Los Angeles Lakers   \n",
       "1         22014  1610612740                 NOP   New Orleans Pelicans   \n",
       "2         22014  1610612742                 DAL       Dallas Mavericks   \n",
       "3         22014  1610612761                 TOR        Toronto Raptors   \n",
       "4         22014  1610612760                 OKC  Oklahoma City Thunder   \n",
       "..          ...         ...                 ...                    ...   \n",
       "96        22014  1610612766                 CHA      Charlotte Hornets   \n",
       "97        22014  1610612765                 DET        Detroit Pistons   \n",
       "98        22014  1610612762                 UTA              Utah Jazz   \n",
       "99        22014  1610612746                 LAC   Los Angeles Clippers   \n",
       "100       22014  1610612739                 CLE    Cleveland Cavaliers   \n",
       "\n",
       "      GAME_ID GAME_DATE_x    MATCHUP_x  WL_x  MIN_x  PTS_x  ...  OFFRATE_y  \\\n",
       "0    21400003  2014-10-28  LAL vs. HOU     0    240     90  ...          0   \n",
       "1    21400001  2014-10-28  NOP vs. ORL     1    240    101  ...          0   \n",
       "2    21400002  2014-10-28    DAL @ SAS     0    239    100  ...          0   \n",
       "3    21400008  2014-10-29  TOR vs. ATL     1    239    109  ...          0   \n",
       "4    21400015  2014-10-29    OKC @ POR     0    241     89  ...          0   \n",
       "..        ...         ...          ...   ...    ...    ...  ...        ...   \n",
       "96   21400097  2014-11-09    CHA @ LAL     0    241     92  ...          0   \n",
       "97   21400101  2014-11-10    DET @ CHI     0    241     91  ...          0   \n",
       "98   21400099  2014-11-10    UTA @ IND     0    240     86  ...          0   \n",
       "99   21400102  2014-11-10  LAC vs. SAS     0    240     85  ...          0   \n",
       "100  21400098  2014-11-10  CLE vs. NOP     1    241    118  ...          0   \n",
       "\n",
       "     DEFRATE_y  ELO_y  DIS_PTS_y  DIS_AST_y  DIS_OREB_y  DIS_DREB_y  \\\n",
       "0            0      0          0          0           0           0   \n",
       "1            0      0          0          0           0           0   \n",
       "2            0      0          0          0           0           0   \n",
       "3            0      0          0          0           0           0   \n",
       "4            0      0          0          0           0           0   \n",
       "..         ...    ...        ...        ...         ...         ...   \n",
       "96           0      0          0          0           0           0   \n",
       "97           0      0          0          0           0           0   \n",
       "98           0      0          0          0           0           0   \n",
       "99           0      0          0          0           0           0   \n",
       "100          0      0          0          0           0           0   \n",
       "\n",
       "     DIS_OFFRATE_y  DIS_DEFRATE_y  DIS_ELO_y  \n",
       "0                0              0          0  \n",
       "1                0              0          0  \n",
       "2                0              0          0  \n",
       "3                0              0          0  \n",
       "4                0              0          0  \n",
       "..             ...            ...        ...  \n",
       "96               0              0          0  \n",
       "97               0              0          0  \n",
       "98               0              0          0  \n",
       "99               0              0          0  \n",
       "100              0              0          0  \n",
       "\n",
       "[101 rows x 111 columns]"
      ],
      "text/html": "<div>\n<style scoped>\n    .dataframe tbody tr th:only-of-type {\n        vertical-align: middle;\n    }\n\n    .dataframe tbody tr th {\n        vertical-align: top;\n    }\n\n    .dataframe thead th {\n        text-align: right;\n    }\n</style>\n<table border=\"1\" class=\"dataframe\">\n  <thead>\n    <tr style=\"text-align: right;\">\n      <th></th>\n      <th>SEASON_ID_x</th>\n      <th>TEAM_ID_x</th>\n      <th>TEAM_ABBREVIATION_x</th>\n      <th>TEAM_NAME_x</th>\n      <th>GAME_ID</th>\n      <th>GAME_DATE_x</th>\n      <th>MATCHUP_x</th>\n      <th>WL_x</th>\n      <th>MIN_x</th>\n      <th>PTS_x</th>\n      <th>...</th>\n      <th>OFFRATE_y</th>\n      <th>DEFRATE_y</th>\n      <th>ELO_y</th>\n      <th>DIS_PTS_y</th>\n      <th>DIS_AST_y</th>\n      <th>DIS_OREB_y</th>\n      <th>DIS_DREB_y</th>\n      <th>DIS_OFFRATE_y</th>\n      <th>DIS_DEFRATE_y</th>\n      <th>DIS_ELO_y</th>\n    </tr>\n  </thead>\n  <tbody>\n    <tr>\n      <td>0</td>\n      <td>22014</td>\n      <td>1610612747</td>\n      <td>LAL</td>\n      <td>Los Angeles Lakers</td>\n      <td>21400003</td>\n      <td>2014-10-28</td>\n      <td>LAL vs. HOU</td>\n      <td>0</td>\n      <td>240</td>\n      <td>90</td>\n      <td>...</td>\n      <td>0</td>\n      <td>0</td>\n      <td>0</td>\n      <td>0</td>\n      <td>0</td>\n      <td>0</td>\n      <td>0</td>\n      <td>0</td>\n      <td>0</td>\n      <td>0</td>\n    </tr>\n    <tr>\n      <td>1</td>\n      <td>22014</td>\n      <td>1610612740</td>\n      <td>NOP</td>\n      <td>New Orleans Pelicans</td>\n      <td>21400001</td>\n      <td>2014-10-28</td>\n      <td>NOP vs. ORL</td>\n      <td>1</td>\n      <td>240</td>\n      <td>101</td>\n      <td>...</td>\n      <td>0</td>\n      <td>0</td>\n      <td>0</td>\n      <td>0</td>\n      <td>0</td>\n      <td>0</td>\n      <td>0</td>\n      <td>0</td>\n      <td>0</td>\n      <td>0</td>\n    </tr>\n    <tr>\n      <td>2</td>\n      <td>22014</td>\n      <td>1610612742</td>\n      <td>DAL</td>\n      <td>Dallas Mavericks</td>\n      <td>21400002</td>\n      <td>2014-10-28</td>\n      <td>DAL @ SAS</td>\n      <td>0</td>\n      <td>239</td>\n      <td>100</td>\n      <td>...</td>\n      <td>0</td>\n      <td>0</td>\n      <td>0</td>\n      <td>0</td>\n      <td>0</td>\n      <td>0</td>\n      <td>0</td>\n      <td>0</td>\n      <td>0</td>\n      <td>0</td>\n    </tr>\n    <tr>\n      <td>3</td>\n      <td>22014</td>\n      <td>1610612761</td>\n      <td>TOR</td>\n      <td>Toronto Raptors</td>\n      <td>21400008</td>\n      <td>2014-10-29</td>\n      <td>TOR vs. ATL</td>\n      <td>1</td>\n      <td>239</td>\n      <td>109</td>\n      <td>...</td>\n      <td>0</td>\n      <td>0</td>\n      <td>0</td>\n      <td>0</td>\n      <td>0</td>\n      <td>0</td>\n      <td>0</td>\n      <td>0</td>\n      <td>0</td>\n      <td>0</td>\n    </tr>\n    <tr>\n      <td>4</td>\n      <td>22014</td>\n      <td>1610612760</td>\n      <td>OKC</td>\n      <td>Oklahoma City Thunder</td>\n      <td>21400015</td>\n      <td>2014-10-29</td>\n      <td>OKC @ POR</td>\n      <td>0</td>\n      <td>241</td>\n      <td>89</td>\n      <td>...</td>\n      <td>0</td>\n      <td>0</td>\n      <td>0</td>\n      <td>0</td>\n      <td>0</td>\n      <td>0</td>\n      <td>0</td>\n      <td>0</td>\n      <td>0</td>\n      <td>0</td>\n    </tr>\n    <tr>\n      <td>...</td>\n      <td>...</td>\n      <td>...</td>\n      <td>...</td>\n      <td>...</td>\n      <td>...</td>\n      <td>...</td>\n      <td>...</td>\n      <td>...</td>\n      <td>...</td>\n      <td>...</td>\n      <td>...</td>\n      <td>...</td>\n      <td>...</td>\n      <td>...</td>\n      <td>...</td>\n      <td>...</td>\n      <td>...</td>\n      <td>...</td>\n      <td>...</td>\n      <td>...</td>\n      <td>...</td>\n    </tr>\n    <tr>\n      <td>96</td>\n      <td>22014</td>\n      <td>1610612766</td>\n      <td>CHA</td>\n      <td>Charlotte Hornets</td>\n      <td>21400097</td>\n      <td>2014-11-09</td>\n      <td>CHA @ LAL</td>\n      <td>0</td>\n      <td>241</td>\n      <td>92</td>\n      <td>...</td>\n      <td>0</td>\n      <td>0</td>\n      <td>0</td>\n      <td>0</td>\n      <td>0</td>\n      <td>0</td>\n      <td>0</td>\n      <td>0</td>\n      <td>0</td>\n      <td>0</td>\n    </tr>\n    <tr>\n      <td>97</td>\n      <td>22014</td>\n      <td>1610612765</td>\n      <td>DET</td>\n      <td>Detroit Pistons</td>\n      <td>21400101</td>\n      <td>2014-11-10</td>\n      <td>DET @ CHI</td>\n      <td>0</td>\n      <td>241</td>\n      <td>91</td>\n      <td>...</td>\n      <td>0</td>\n      <td>0</td>\n      <td>0</td>\n      <td>0</td>\n      <td>0</td>\n      <td>0</td>\n      <td>0</td>\n      <td>0</td>\n      <td>0</td>\n      <td>0</td>\n    </tr>\n    <tr>\n      <td>98</td>\n      <td>22014</td>\n      <td>1610612762</td>\n      <td>UTA</td>\n      <td>Utah Jazz</td>\n      <td>21400099</td>\n      <td>2014-11-10</td>\n      <td>UTA @ IND</td>\n      <td>0</td>\n      <td>240</td>\n      <td>86</td>\n      <td>...</td>\n      <td>0</td>\n      <td>0</td>\n      <td>0</td>\n      <td>0</td>\n      <td>0</td>\n      <td>0</td>\n      <td>0</td>\n      <td>0</td>\n      <td>0</td>\n      <td>0</td>\n    </tr>\n    <tr>\n      <td>99</td>\n      <td>22014</td>\n      <td>1610612746</td>\n      <td>LAC</td>\n      <td>Los Angeles Clippers</td>\n      <td>21400102</td>\n      <td>2014-11-10</td>\n      <td>LAC vs. SAS</td>\n      <td>0</td>\n      <td>240</td>\n      <td>85</td>\n      <td>...</td>\n      <td>0</td>\n      <td>0</td>\n      <td>0</td>\n      <td>0</td>\n      <td>0</td>\n      <td>0</td>\n      <td>0</td>\n      <td>0</td>\n      <td>0</td>\n      <td>0</td>\n    </tr>\n    <tr>\n      <td>100</td>\n      <td>22014</td>\n      <td>1610612739</td>\n      <td>CLE</td>\n      <td>Cleveland Cavaliers</td>\n      <td>21400098</td>\n      <td>2014-11-10</td>\n      <td>CLE vs. NOP</td>\n      <td>1</td>\n      <td>241</td>\n      <td>118</td>\n      <td>...</td>\n      <td>0</td>\n      <td>0</td>\n      <td>0</td>\n      <td>0</td>\n      <td>0</td>\n      <td>0</td>\n      <td>0</td>\n      <td>0</td>\n      <td>0</td>\n      <td>0</td>\n    </tr>\n  </tbody>\n</table>\n<p>101 rows × 111 columns</p>\n</div>"
     },
     "metadata": {},
     "execution_count": 43
    }
   ],
   "source": [
    "season_2014_test = season_2014.loc[:100]\n",
    "\n",
    "season_2014_test= season_2014_test.sort_values(by = \"GAME_DATE_x\", ascending = True)\n",
    "season_2014_test.index = range(len(season_2014_test))\n",
    "season_2014_test"
   ]
  },
  {
   "source": [
    "Define which nba season to process"
   ],
   "cell_type": "markdown",
   "metadata": {}
  },
  {
   "cell_type": "code",
   "execution_count": 45,
   "metadata": {},
   "outputs": [
    {
     "output_type": "execute_result",
     "data": {
      "text/plain": [
       "  SEASON_ID_x   TEAM_ID_x TEAM_ABBREVIATION_x          TEAM_NAME_x   GAME_ID  \\\n",
       "0       22020  1610612739                 CLE  Cleveland Cavaliers  22000010   \n",
       "1       22020  1610612758                 SAC     Sacramento Kings  22000019   \n",
       "2       22020  1610612742                 DAL     Dallas Mavericks  22000004   \n",
       "3       22020  1610612748                 MIA           Miami Heat  22000012   \n",
       "4       22020  1610612759                 SAS    San Antonio Spurs  22000017   \n",
       "\n",
       "  GAME_DATE_x    MATCHUP_x  WL_x  MIN_x  PTS_x  ...  OFFRATE_y  DEFRATE_y  \\\n",
       "0  2020-12-23  CLE vs. CHA     1    241    121  ...          0          0   \n",
       "1  2020-12-23    SAC @ DEN     1    265    124  ...          0          0   \n",
       "2  2020-12-23    DAL @ PHX     0    241    102  ...          0          0   \n",
       "3  2020-12-23    MIA @ ORL     0    241    107  ...          0          0   \n",
       "4  2020-12-23    SAS @ MEM     1    240    131  ...          0          0   \n",
       "\n",
       "   ELO_y  DIS_PTS_y  DIS_AST_y  DIS_OREB_y  DIS_DREB_y  DIS_OFFRATE_y  \\\n",
       "0      0          0          0           0           0              0   \n",
       "1      0          0          0           0           0              0   \n",
       "2      0          0          0           0           0              0   \n",
       "3      0          0          0           0           0              0   \n",
       "4      0          0          0           0           0              0   \n",
       "\n",
       "   DIS_DEFRATE_y  DIS_ELO_y  \n",
       "0              0          0  \n",
       "1              0          0  \n",
       "2              0          0  \n",
       "3              0          0  \n",
       "4              0          0  \n",
       "\n",
       "[5 rows x 111 columns]"
      ],
      "text/html": "<div>\n<style scoped>\n    .dataframe tbody tr th:only-of-type {\n        vertical-align: middle;\n    }\n\n    .dataframe tbody tr th {\n        vertical-align: top;\n    }\n\n    .dataframe thead th {\n        text-align: right;\n    }\n</style>\n<table border=\"1\" class=\"dataframe\">\n  <thead>\n    <tr style=\"text-align: right;\">\n      <th></th>\n      <th>SEASON_ID_x</th>\n      <th>TEAM_ID_x</th>\n      <th>TEAM_ABBREVIATION_x</th>\n      <th>TEAM_NAME_x</th>\n      <th>GAME_ID</th>\n      <th>GAME_DATE_x</th>\n      <th>MATCHUP_x</th>\n      <th>WL_x</th>\n      <th>MIN_x</th>\n      <th>PTS_x</th>\n      <th>...</th>\n      <th>OFFRATE_y</th>\n      <th>DEFRATE_y</th>\n      <th>ELO_y</th>\n      <th>DIS_PTS_y</th>\n      <th>DIS_AST_y</th>\n      <th>DIS_OREB_y</th>\n      <th>DIS_DREB_y</th>\n      <th>DIS_OFFRATE_y</th>\n      <th>DIS_DEFRATE_y</th>\n      <th>DIS_ELO_y</th>\n    </tr>\n  </thead>\n  <tbody>\n    <tr>\n      <td>0</td>\n      <td>22020</td>\n      <td>1610612739</td>\n      <td>CLE</td>\n      <td>Cleveland Cavaliers</td>\n      <td>22000010</td>\n      <td>2020-12-23</td>\n      <td>CLE vs. CHA</td>\n      <td>1</td>\n      <td>241</td>\n      <td>121</td>\n      <td>...</td>\n      <td>0</td>\n      <td>0</td>\n      <td>0</td>\n      <td>0</td>\n      <td>0</td>\n      <td>0</td>\n      <td>0</td>\n      <td>0</td>\n      <td>0</td>\n      <td>0</td>\n    </tr>\n    <tr>\n      <td>1</td>\n      <td>22020</td>\n      <td>1610612758</td>\n      <td>SAC</td>\n      <td>Sacramento Kings</td>\n      <td>22000019</td>\n      <td>2020-12-23</td>\n      <td>SAC @ DEN</td>\n      <td>1</td>\n      <td>265</td>\n      <td>124</td>\n      <td>...</td>\n      <td>0</td>\n      <td>0</td>\n      <td>0</td>\n      <td>0</td>\n      <td>0</td>\n      <td>0</td>\n      <td>0</td>\n      <td>0</td>\n      <td>0</td>\n      <td>0</td>\n    </tr>\n    <tr>\n      <td>2</td>\n      <td>22020</td>\n      <td>1610612742</td>\n      <td>DAL</td>\n      <td>Dallas Mavericks</td>\n      <td>22000004</td>\n      <td>2020-12-23</td>\n      <td>DAL @ PHX</td>\n      <td>0</td>\n      <td>241</td>\n      <td>102</td>\n      <td>...</td>\n      <td>0</td>\n      <td>0</td>\n      <td>0</td>\n      <td>0</td>\n      <td>0</td>\n      <td>0</td>\n      <td>0</td>\n      <td>0</td>\n      <td>0</td>\n      <td>0</td>\n    </tr>\n    <tr>\n      <td>3</td>\n      <td>22020</td>\n      <td>1610612748</td>\n      <td>MIA</td>\n      <td>Miami Heat</td>\n      <td>22000012</td>\n      <td>2020-12-23</td>\n      <td>MIA @ ORL</td>\n      <td>0</td>\n      <td>241</td>\n      <td>107</td>\n      <td>...</td>\n      <td>0</td>\n      <td>0</td>\n      <td>0</td>\n      <td>0</td>\n      <td>0</td>\n      <td>0</td>\n      <td>0</td>\n      <td>0</td>\n      <td>0</td>\n      <td>0</td>\n    </tr>\n    <tr>\n      <td>4</td>\n      <td>22020</td>\n      <td>1610612759</td>\n      <td>SAS</td>\n      <td>San Antonio Spurs</td>\n      <td>22000017</td>\n      <td>2020-12-23</td>\n      <td>SAS @ MEM</td>\n      <td>1</td>\n      <td>240</td>\n      <td>131</td>\n      <td>...</td>\n      <td>0</td>\n      <td>0</td>\n      <td>0</td>\n      <td>0</td>\n      <td>0</td>\n      <td>0</td>\n      <td>0</td>\n      <td>0</td>\n      <td>0</td>\n      <td>0</td>\n    </tr>\n  </tbody>\n</table>\n<p>5 rows × 111 columns</p>\n</div>"
     },
     "metadata": {},
     "execution_count": 45
    }
   ],
   "source": [
    "df = season_2020\n",
    "df.head()"
   ]
  },
  {
   "cell_type": "markdown",
   "metadata": {},
   "source": [
    "Function used to update stats in dataset"
   ]
  },
  {
   "cell_type": "code",
   "execution_count": 46,
   "metadata": {},
   "outputs": [],
   "source": [
    "for i, row in df.iterrows():\n",
    "#         get the name of both teams\n",
    "    team_1 = row['TEAM_ABBREVIATION_x']\n",
    "    team_2 = row['TEAM_ABBREVIATION_y']\n",
    "\n",
    "#   Team 1\n",
    "#       increase count of games played \n",
    "    nba_teams[team_1]['GAME_PLAYED'] += 1\n",
    "    df.loc[i,'GAME_PLAYED_x'] = nba_teams[team_1]['GAME_PLAYED']\n",
    "#       print(\"Team\"+ team_1+ \"Game Played is \" +str(nba_teams[team_1]['GAME_PLAYED']))\n",
    "\n",
    "#       add a before avg ratings based on previous games\n",
    "    nba_teams[team_1]['BEF_AVG_PTS'] = nba_teams[team_1]['AFT_AVG_PTS']\n",
    "    nba_teams[team_1]['BEF_AVG_AST'] = nba_teams[team_1]['AFT_AVG_AST']\n",
    "    nba_teams[team_1]['BEF_AVG_OREB'] = nba_teams[team_1]['AFT_AVG_OREB']\n",
    "    nba_teams[team_1]['BEF_AVG_DREB'] = nba_teams[team_1]['AFT_AVG_DREB']\n",
    "#       print('-----')\n",
    "    \n",
    "    nba_teams[team_1]['cPTS'] += row['PTS_x']\n",
    "    nba_teams[team_1]['cAST'] += row['AST_x']\n",
    "    nba_teams[team_1]['cOREB'] += row['OREB_x']\n",
    "    nba_teams[team_1]['cDREB'] += row['DREB_x']\n",
    "    nba_teams[team_1]['cFGA'] += row['FGA_x']\n",
    "    nba_teams[team_1]['cTO'] += row['TOV_x']\n",
    "    nba_teams[team_1]['cFTA'] += row['FTA_x']\n",
    "    \n",
    "    nba_teams[team_1]['AFT_AVG_PTS'] = nba_teams[team_1]['cPTS'] /nba_teams[team_1][\"GAME_PLAYED\"]\n",
    "    nba_teams[team_1]['AFT_AVG_AST'] = nba_teams[team_1]['cAST']/nba_teams[team_1][\"GAME_PLAYED\"]\n",
    "    nba_teams[team_1]['AFT_AVG_OREB'] = nba_teams[team_1]['cOREB']/nba_teams[team_1][\"GAME_PLAYED\"]\n",
    "    nba_teams[team_1]['AFT_AVG_DREB'] = nba_teams[team_1]['cDREB']/nba_teams[team_1][\"GAME_PLAYED\"]\n",
    "        \n",
    "#       calculating disparity between both teams for team 1\n",
    "    nba_teams[team_1]['DIS_PTS'] = nba_teams[team_1]['BEF_AVG_PTS'] - nba_teams[team_2]['BEF_AVG_PTS']\n",
    "    nba_teams[team_1]['DIS_AST'] = nba_teams[team_1]['BEF_AVG_AST'] - nba_teams[team_2]['BEF_AVG_AST']\n",
    "    nba_teams[team_1]['DIS_OREB'] = nba_teams[team_1]['BEF_AVG_OREB'] - nba_teams[team_2]['BEF_AVG_OREB']\n",
    "    nba_teams[team_1]['DIS_DREB'] = nba_teams[team_1]['BEF_AVG_DREB'] - nba_teams[team_2]['BEF_AVG_DREB']\n",
    "\n",
    "\n",
    "#   Team 2\n",
    "#       increase count of games played \n",
    "    nba_teams[team_2]['GAME_PLAYED'] += 1\n",
    "    df.loc[i,'GAME_PLAYED_y'] = nba_teams[team_2]['GAME_PLAYED']   \n",
    "#       print(\"Team\"+ team_2+ \"Game Played is \"+ str(nba_teams[team_2]['GAME_PLAYED']))\n",
    "#       print(\"------\")\n",
    "\n",
    "#       add a before avg ratings for the previous gams \n",
    "    nba_teams[team_2]['BEF_AVG_PTS'] = nba_teams[team_2]['AFT_AVG_PTS']\n",
    "    nba_teams[team_2]['BEF_AVG_AST'] = nba_teams[team_2]['AFT_AVG_AST']\n",
    "    nba_teams[team_2]['BEF_AVG_OREB'] = nba_teams[team_2]['AFT_AVG_OREB']\n",
    "    nba_teams[team_2]['BEF_AVG_DREB'] = nba_teams[team_2]['AFT_AVG_DREB']\n",
    "    \n",
    "    nba_teams[team_2]['cPTS'] += row['PTS_y']\n",
    "    nba_teams[team_2]['cAST'] += row['AST_y']\n",
    "    nba_teams[team_2]['cOREB'] += row['OREB_y']\n",
    "    nba_teams[team_2]['cDREB'] += row['DREB_y']\n",
    "    nba_teams[team_2]['cFGA'] += row['FGA_y']\n",
    "    nba_teams[team_2]['cTO'] += row['TOV_y']\n",
    "    nba_teams[team_2]['cFTA'] += row['FTA_y']\n",
    "\n",
    "    nba_teams[team_2]['AFT_AVG_PTS'] = nba_teams[team_2]['cPTS'] /nba_teams[team_2][\"GAME_PLAYED\"]\n",
    "    nba_teams[team_2]['AFT_AVG_AST'] = nba_teams[team_2]['cAST']/nba_teams[team_2][\"GAME_PLAYED\"]\n",
    "    nba_teams[team_2]['AFT_AVG_OREB'] = nba_teams[team_2]['cOREB']/nba_teams[team_2][\"GAME_PLAYED\"]\n",
    "    nba_teams[team_2]['AFT_AVG_DREB'] = nba_teams[team_2]['cDREB']/nba_teams[team_2][\"GAME_PLAYED\"]\n",
    "\n",
    "#       calculating disparity between both teams for team 2\n",
    "    nba_teams[team_2]['DIS_PTS'] = nba_teams[team_2]['BEF_AVG_PTS'] - nba_teams[team_1]['BEF_AVG_PTS']\n",
    "    nba_teams[team_2]['DIS_AST'] = nba_teams[team_2]['BEF_AVG_AST'] - nba_teams[team_1]['BEF_AVG_AST']\n",
    "    nba_teams[team_2]['DIS_OREB'] = nba_teams[team_2]['BEF_AVG_OREB'] - nba_teams[team_1]['BEF_AVG_OREB']\n",
    "    nba_teams[team_2]['DIS_DREB'] = nba_teams[team_2]['BEF_AVG_DREB'] - nba_teams[team_1]['BEF_AVG_DREB']\n",
    "    \n",
    "#   Both Teams    \n",
    "#       calculating off def ratings\n",
    "    df.loc[i,\"OFFRATE_x\"] = nba_teams[team_1]['OFFRATE']\n",
    "    df.loc[i,'DEFRATE_x'] = nba_teams[team_1]['DEFRATE']\n",
    "    df.loc[i,\"OFFRATE_y\"] = nba_teams[team_2]['OFFRATE']\n",
    "    df.loc[i,'DEFRATE_y'] = nba_teams[team_2]['DEFRATE']       \n",
    "    df.loc[i,'DIS_OFFRATE_x'] = nba_teams[team_1]['OFFRATE'] - nba_teams[team_2]['OFFRATE']\n",
    "    df.loc[i,'DIS_DEFRATE_x'] = nba_teams[team_1]['DEFRATE'] - nba_teams[team_2]['DEFRATE']    \n",
    "    df.loc[i,'DIS_OFFRATE_y'] = nba_teams[team_2]['OFFRATE'] - nba_teams[team_1]['OFFRATE']\n",
    "    df.loc[i,'DIS_DEFRATE_y'] = nba_teams[team_2]['DEFRATE'] - nba_teams[team_1]['DEFRATE']\n",
    "\n",
    "    tot_pos_1 = nba_teams[team_1]['cFGA'] - nba_teams[team_1]['cOREB'] + nba_teams[team_1]['cTO'] +(0.4* nba_teams[team_1]['cFTA'])\n",
    "    off_ratings_1 = nba_teams[team_1]['cPTS']/tot_pos_1\n",
    "    nba_teams[team_1]['OFFRATE'] = off_ratings_1\n",
    "    def_ratings_1 = nba_teams[team_2]['cPTS']/tot_pos_1\n",
    "    nba_teams[team_1]['DEFRATE'] = def_ratings_1\n",
    "\n",
    "    tot_pos_2 = nba_teams[team_2]['cFGA'] - nba_teams[team_2]['cOREB'] + nba_teams[team_2]['cTO'] +(0.4* nba_teams[team_2]['cFTA'])\n",
    "    off_ratings_2 = nba_teams[team_2]['cPTS']/tot_pos_2\n",
    "    nba_teams[team_2]['OFFRATE'] = off_ratings_2\n",
    "    def_ratings_2 = nba_teams[team_1]['cPTS']/tot_pos_2\n",
    "    nba_teams[team_2]['DEFRATE'] = def_ratings_2\n",
    "\n",
    "#       calculating elo for both teams\n",
    "    df.loc[i, 'ELO_x'] = nba_teams[team_1]['ELO']\n",
    "    df.loc[i, 'ELO_y'] = nba_teams[team_2]['ELO']\n",
    "    df.loc[i,'DIS_ELO_x'] = nba_teams[team_1]['ELO'] - nba_teams[team_2]['ELO']\n",
    "    df.loc[i,'DIS_ELO_y'] = nba_teams[team_2]['ELO'] - nba_teams[team_1]['ELO']                                        \n",
    "    \n",
    "    K_FACTOR = 20       # constant value for multiplier\n",
    "\n",
    "    P_team = 1/(1 + 10 ** ((nba_teams[team_2]['ELO'] - nba_teams[team_1]['ELO'])/400))      # probability of team winning\n",
    "\n",
    "    if row['WL_x'] == 1:\n",
    "        elo_change = K_FACTOR * (1 - P_team)        # formula for change in elo if team 1 wins\n",
    "    else:\n",
    "        elo_change = K_FACTOR * (0 - P_team)        # formula for change in elo if team 1 loses\n",
    "    \n",
    "#       updating elo of teams after the game in the dictionary\n",
    "    nba_teams[team_1]['ELO'] += elo_change\n",
    "    nba_teams[team_2]['ELO'] -= elo_change\n",
    "\n",
    "    \n",
    "#       update the values for each row\n",
    "    df.loc[i,'BEF_AVG_PTS_x'] = nba_teams[team_1]['BEF_AVG_PTS']\n",
    "    df.loc[i,'BEF_AVG_PTS_y'] = nba_teams[team_2]['BEF_AVG_PTS']\n",
    "    df.loc[i,'BEF_AVG_AST_x'] = nba_teams[team_1]['BEF_AVG_AST']\n",
    "    df.loc[i,'BEF_AVG_AST_y'] = nba_teams[team_2]['BEF_AVG_AST']\n",
    "    df.loc[i,'BEF_AVG_OREB_x'] = nba_teams[team_1]['BEF_AVG_OREB']\n",
    "    df.loc[i,'BEF_AVG_OREB_y'] = nba_teams[team_2]['BEF_AVG_OREB']\n",
    "    df.loc[i,'BEF_AVG_DREB_x'] = nba_teams[team_1]['BEF_AVG_DREB']\n",
    "    df.loc[i,'BEF_AVG_DREB_y'] = nba_teams[team_2]['BEF_AVG_DREB']\n",
    "    \n",
    "    df.loc[i,'AFT_AVG_PTS_x'] = nba_teams[team_1]['AFT_AVG_PTS']\n",
    "    df.loc[i,'AFT_AVG_PTS_y'] = nba_teams[team_2]['AFT_AVG_PTS']\n",
    "    df.loc[i,'AFT_AVG_AST_x'] = nba_teams[team_1]['AFT_AVG_AST']\n",
    "    df.loc[i,'AFT_AVG_AST_y'] = nba_teams[team_2]['AFT_AVG_AST']\n",
    "    df.loc[i,'AFT_AVG_OREB_x'] = nba_teams[team_1]['AFT_AVG_OREB']\n",
    "    df.loc[i,'AFT_AVG_OREB_y'] = nba_teams[team_2]['AFT_AVG_OREB']\n",
    "    df.loc[i,'AFT_AVG_DREB_x'] = nba_teams[team_1]['AFT_AVG_DREB']\n",
    "    df.loc[i,'AFT_AVG_DREB_y'] = nba_teams[team_2]['AFT_AVG_DREB']\n",
    "                        \n",
    "    df.loc[i,'cPTS_x'] = nba_teams[team_1]['cPTS']\n",
    "    df.loc[i,'cAST_x'] = nba_teams[team_1]['cAST']\n",
    "    df.loc[i,'cOREB_x'] = nba_teams[team_1]['cOREB']\n",
    "    df.loc[i,'cDREB_x'] = nba_teams[team_1]['cDREB']\n",
    "    df.loc[i,'cFGA_x'] = nba_teams[team_1]['cFGA']\n",
    "    df.loc[i,'cTO_x'] = nba_teams[team_1]['cTO']\n",
    "    df.loc[i,'cFTA_x'] = nba_teams[team_1]['cFTA']\n",
    "    df.loc[i,'cPTS_y'] = nba_teams[team_2]['cPTS']\n",
    "    df.loc[i,'cAST_y'] = nba_teams[team_2]['cAST']\n",
    "    df.loc[i,'cOREB_y'] = nba_teams[team_2]['cOREB']\n",
    "    df.loc[i,'cDREB_y'] = nba_teams[team_2]['cDREB']\n",
    "    df.loc[i,'cFGA_y'] = nba_teams[team_2]['cFGA']\n",
    "    df.loc[i,'cTO_y'] = nba_teams[team_2]['cTO']\n",
    "    df.loc[i,'cFTA_y'] = nba_teams[team_2]['cFTA']\n",
    "\n",
    "    df.loc[i,'DIS_PTS_x'] = nba_teams[team_1]['DIS_PTS']\n",
    "    df.loc[i,'DIS_AST_x'] = nba_teams[team_1]['DIS_AST']\n",
    "    df.loc[i,'DIS_OREB_x'] = nba_teams[team_1]['DIS_OREB']\n",
    "    df.loc[i,'DIS_DREB_x'] = nba_teams[team_1]['DIS_DREB']\n",
    "\n",
    "    df.loc[i,'DIS_PTS_y'] = nba_teams[team_2]['DIS_PTS']\n",
    "    df.loc[i,'DIS_AST_y'] = nba_teams[team_2]['DIS_AST']\n",
    "    df.loc[i,'DIS_OREB_y'] = nba_teams[team_2]['DIS_OREB']\n",
    "    df.loc[i,'DIS_DREB_y'] = nba_teams[team_2]['DIS_DREB']    \n",
    "        "
   ]
  },
  {
   "cell_type": "code",
   "execution_count": 47,
   "metadata": {},
   "outputs": [
    {
     "output_type": "execute_result",
     "data": {
      "text/plain": [
       "    SEASON_ID_x   TEAM_ID_x TEAM_ABBREVIATION_x             TEAM_NAME_x  \\\n",
       "0         22020  1610612739                 CLE     Cleveland Cavaliers   \n",
       "1         22020  1610612758                 SAC        Sacramento Kings   \n",
       "2         22020  1610612742                 DAL        Dallas Mavericks   \n",
       "3         22020  1610612748                 MIA              Miami Heat   \n",
       "4         22020  1610612759                 SAS       San Antonio Spurs   \n",
       "..          ...         ...                 ...                     ...   \n",
       "164       22020  1610612759                 SAS       San Antonio Spurs   \n",
       "165       22020  1610612755                 PHI      Philadelphia 76ers   \n",
       "166       22020  1610612757                 POR  Portland Trail Blazers   \n",
       "167       22020  1610612743                 DEN          Denver Nuggets   \n",
       "168       22020  1610612761                 TOR         Toronto Raptors   \n",
       "\n",
       "      GAME_ID GAME_DATE_x    MATCHUP_x  WL_x  MIN_x  PTS_x  ...  OFFRATE_y  \\\n",
       "0    22000010  2020-12-23  CLE vs. CHA     1    241    121  ...   0.000000   \n",
       "1    22000019  2020-12-23    SAC @ DEN     1    265    124  ...   0.000000   \n",
       "2    22000004  2020-12-23    DAL @ PHX     0    241    102  ...   0.000000   \n",
       "3    22000012  2020-12-23    MIA @ ORL     0    241    107  ...   0.000000   \n",
       "4    22000017  2020-12-23    SAS @ MEM     1    240    131  ...   0.000000   \n",
       "..        ...         ...          ...   ...    ...    ...  ...        ...   \n",
       "164  22000176  2021-01-14  SAS vs. HOU     0    238    105  ...   1.087948   \n",
       "165  22000174  2021-01-14  PHI vs. MIA     1    239    125  ...   1.079509   \n",
       "166  22000178  2021-01-14  POR vs. IND     0    240     87  ...   1.116127   \n",
       "167  22000177  2021-01-14  DEN vs. GSW     1    240    114  ...   1.074953   \n",
       "168  22000175  2021-01-14  TOR vs. CHA     1    242    111  ...   1.068816   \n",
       "\n",
       "     DEFRATE_y        ELO_y  DIS_PTS_y  DIS_AST_y  DIS_OREB_y  DIS_DREB_y  \\\n",
       "0     0.000000  1500.000000   0.000000   0.000000    0.000000    0.000000   \n",
       "1     0.000000  1500.000000   0.000000   0.000000    0.000000    0.000000   \n",
       "2     0.000000  1500.000000   0.000000   0.000000    0.000000    0.000000   \n",
       "3     0.000000  1500.000000   0.000000   0.000000    0.000000    0.000000   \n",
       "4     0.000000  1500.000000   0.000000   0.000000    0.000000    0.000000   \n",
       "..         ...          ...        ...        ...         ...         ...   \n",
       "164   1.375679  1476.427355   0.151515  -2.434343   -0.979798   -2.141414   \n",
       "165   1.466279  1490.196640  -2.083333   0.944444   -2.750000   -0.888889   \n",
       "166   1.002832  1524.393682  -4.000000   3.636364   -0.363636   -1.000000   \n",
       "167   1.196395  1516.631270  -3.154545  -2.381818   -2.000000    4.172727   \n",
       "168   0.909242  1504.479926  -3.933333   5.066667    1.066667    0.016667   \n",
       "\n",
       "     DIS_OFFRATE_y  DIS_DEFRATE_y  DIS_ELO_y  \n",
       "0         0.000000       0.000000   0.000000  \n",
       "1         0.000000       0.000000   0.000000  \n",
       "2         0.000000       0.000000   0.000000  \n",
       "3         0.000000       0.000000   0.000000  \n",
       "4         0.000000       0.000000   0.000000  \n",
       "..             ...            ...        ...  \n",
       "164       0.007941       0.451977 -33.707151  \n",
       "165      -0.010163       0.664037 -38.782458  \n",
       "166      -0.024807      -0.201049  -2.669028  \n",
       "167      -0.078894       0.024534  22.314357  \n",
       "168      -0.022539      -0.243017  54.433301  \n",
       "\n",
       "[169 rows x 111 columns]"
      ],
      "text/html": "<div>\n<style scoped>\n    .dataframe tbody tr th:only-of-type {\n        vertical-align: middle;\n    }\n\n    .dataframe tbody tr th {\n        vertical-align: top;\n    }\n\n    .dataframe thead th {\n        text-align: right;\n    }\n</style>\n<table border=\"1\" class=\"dataframe\">\n  <thead>\n    <tr style=\"text-align: right;\">\n      <th></th>\n      <th>SEASON_ID_x</th>\n      <th>TEAM_ID_x</th>\n      <th>TEAM_ABBREVIATION_x</th>\n      <th>TEAM_NAME_x</th>\n      <th>GAME_ID</th>\n      <th>GAME_DATE_x</th>\n      <th>MATCHUP_x</th>\n      <th>WL_x</th>\n      <th>MIN_x</th>\n      <th>PTS_x</th>\n      <th>...</th>\n      <th>OFFRATE_y</th>\n      <th>DEFRATE_y</th>\n      <th>ELO_y</th>\n      <th>DIS_PTS_y</th>\n      <th>DIS_AST_y</th>\n      <th>DIS_OREB_y</th>\n      <th>DIS_DREB_y</th>\n      <th>DIS_OFFRATE_y</th>\n      <th>DIS_DEFRATE_y</th>\n      <th>DIS_ELO_y</th>\n    </tr>\n  </thead>\n  <tbody>\n    <tr>\n      <td>0</td>\n      <td>22020</td>\n      <td>1610612739</td>\n      <td>CLE</td>\n      <td>Cleveland Cavaliers</td>\n      <td>22000010</td>\n      <td>2020-12-23</td>\n      <td>CLE vs. CHA</td>\n      <td>1</td>\n      <td>241</td>\n      <td>121</td>\n      <td>...</td>\n      <td>0.000000</td>\n      <td>0.000000</td>\n      <td>1500.000000</td>\n      <td>0.000000</td>\n      <td>0.000000</td>\n      <td>0.000000</td>\n      <td>0.000000</td>\n      <td>0.000000</td>\n      <td>0.000000</td>\n      <td>0.000000</td>\n    </tr>\n    <tr>\n      <td>1</td>\n      <td>22020</td>\n      <td>1610612758</td>\n      <td>SAC</td>\n      <td>Sacramento Kings</td>\n      <td>22000019</td>\n      <td>2020-12-23</td>\n      <td>SAC @ DEN</td>\n      <td>1</td>\n      <td>265</td>\n      <td>124</td>\n      <td>...</td>\n      <td>0.000000</td>\n      <td>0.000000</td>\n      <td>1500.000000</td>\n      <td>0.000000</td>\n      <td>0.000000</td>\n      <td>0.000000</td>\n      <td>0.000000</td>\n      <td>0.000000</td>\n      <td>0.000000</td>\n      <td>0.000000</td>\n    </tr>\n    <tr>\n      <td>2</td>\n      <td>22020</td>\n      <td>1610612742</td>\n      <td>DAL</td>\n      <td>Dallas Mavericks</td>\n      <td>22000004</td>\n      <td>2020-12-23</td>\n      <td>DAL @ PHX</td>\n      <td>0</td>\n      <td>241</td>\n      <td>102</td>\n      <td>...</td>\n      <td>0.000000</td>\n      <td>0.000000</td>\n      <td>1500.000000</td>\n      <td>0.000000</td>\n      <td>0.000000</td>\n      <td>0.000000</td>\n      <td>0.000000</td>\n      <td>0.000000</td>\n      <td>0.000000</td>\n      <td>0.000000</td>\n    </tr>\n    <tr>\n      <td>3</td>\n      <td>22020</td>\n      <td>1610612748</td>\n      <td>MIA</td>\n      <td>Miami Heat</td>\n      <td>22000012</td>\n      <td>2020-12-23</td>\n      <td>MIA @ ORL</td>\n      <td>0</td>\n      <td>241</td>\n      <td>107</td>\n      <td>...</td>\n      <td>0.000000</td>\n      <td>0.000000</td>\n      <td>1500.000000</td>\n      <td>0.000000</td>\n      <td>0.000000</td>\n      <td>0.000000</td>\n      <td>0.000000</td>\n      <td>0.000000</td>\n      <td>0.000000</td>\n      <td>0.000000</td>\n    </tr>\n    <tr>\n      <td>4</td>\n      <td>22020</td>\n      <td>1610612759</td>\n      <td>SAS</td>\n      <td>San Antonio Spurs</td>\n      <td>22000017</td>\n      <td>2020-12-23</td>\n      <td>SAS @ MEM</td>\n      <td>1</td>\n      <td>240</td>\n      <td>131</td>\n      <td>...</td>\n      <td>0.000000</td>\n      <td>0.000000</td>\n      <td>1500.000000</td>\n      <td>0.000000</td>\n      <td>0.000000</td>\n      <td>0.000000</td>\n      <td>0.000000</td>\n      <td>0.000000</td>\n      <td>0.000000</td>\n      <td>0.000000</td>\n    </tr>\n    <tr>\n      <td>...</td>\n      <td>...</td>\n      <td>...</td>\n      <td>...</td>\n      <td>...</td>\n      <td>...</td>\n      <td>...</td>\n      <td>...</td>\n      <td>...</td>\n      <td>...</td>\n      <td>...</td>\n      <td>...</td>\n      <td>...</td>\n      <td>...</td>\n      <td>...</td>\n      <td>...</td>\n      <td>...</td>\n      <td>...</td>\n      <td>...</td>\n      <td>...</td>\n      <td>...</td>\n      <td>...</td>\n    </tr>\n    <tr>\n      <td>164</td>\n      <td>22020</td>\n      <td>1610612759</td>\n      <td>SAS</td>\n      <td>San Antonio Spurs</td>\n      <td>22000176</td>\n      <td>2021-01-14</td>\n      <td>SAS vs. HOU</td>\n      <td>0</td>\n      <td>238</td>\n      <td>105</td>\n      <td>...</td>\n      <td>1.087948</td>\n      <td>1.375679</td>\n      <td>1476.427355</td>\n      <td>0.151515</td>\n      <td>-2.434343</td>\n      <td>-0.979798</td>\n      <td>-2.141414</td>\n      <td>0.007941</td>\n      <td>0.451977</td>\n      <td>-33.707151</td>\n    </tr>\n    <tr>\n      <td>165</td>\n      <td>22020</td>\n      <td>1610612755</td>\n      <td>PHI</td>\n      <td>Philadelphia 76ers</td>\n      <td>22000174</td>\n      <td>2021-01-14</td>\n      <td>PHI vs. MIA</td>\n      <td>1</td>\n      <td>239</td>\n      <td>125</td>\n      <td>...</td>\n      <td>1.079509</td>\n      <td>1.466279</td>\n      <td>1490.196640</td>\n      <td>-2.083333</td>\n      <td>0.944444</td>\n      <td>-2.750000</td>\n      <td>-0.888889</td>\n      <td>-0.010163</td>\n      <td>0.664037</td>\n      <td>-38.782458</td>\n    </tr>\n    <tr>\n      <td>166</td>\n      <td>22020</td>\n      <td>1610612757</td>\n      <td>POR</td>\n      <td>Portland Trail Blazers</td>\n      <td>22000178</td>\n      <td>2021-01-14</td>\n      <td>POR vs. IND</td>\n      <td>0</td>\n      <td>240</td>\n      <td>87</td>\n      <td>...</td>\n      <td>1.116127</td>\n      <td>1.002832</td>\n      <td>1524.393682</td>\n      <td>-4.000000</td>\n      <td>3.636364</td>\n      <td>-0.363636</td>\n      <td>-1.000000</td>\n      <td>-0.024807</td>\n      <td>-0.201049</td>\n      <td>-2.669028</td>\n    </tr>\n    <tr>\n      <td>167</td>\n      <td>22020</td>\n      <td>1610612743</td>\n      <td>DEN</td>\n      <td>Denver Nuggets</td>\n      <td>22000177</td>\n      <td>2021-01-14</td>\n      <td>DEN vs. GSW</td>\n      <td>1</td>\n      <td>240</td>\n      <td>114</td>\n      <td>...</td>\n      <td>1.074953</td>\n      <td>1.196395</td>\n      <td>1516.631270</td>\n      <td>-3.154545</td>\n      <td>-2.381818</td>\n      <td>-2.000000</td>\n      <td>4.172727</td>\n      <td>-0.078894</td>\n      <td>0.024534</td>\n      <td>22.314357</td>\n    </tr>\n    <tr>\n      <td>168</td>\n      <td>22020</td>\n      <td>1610612761</td>\n      <td>TOR</td>\n      <td>Toronto Raptors</td>\n      <td>22000175</td>\n      <td>2021-01-14</td>\n      <td>TOR vs. CHA</td>\n      <td>1</td>\n      <td>242</td>\n      <td>111</td>\n      <td>...</td>\n      <td>1.068816</td>\n      <td>0.909242</td>\n      <td>1504.479926</td>\n      <td>-3.933333</td>\n      <td>5.066667</td>\n      <td>1.066667</td>\n      <td>0.016667</td>\n      <td>-0.022539</td>\n      <td>-0.243017</td>\n      <td>54.433301</td>\n    </tr>\n  </tbody>\n</table>\n<p>169 rows × 111 columns</p>\n</div>"
     },
     "metadata": {},
     "execution_count": 47
    }
   ],
   "source": [
    "df"
   ]
  },
  {
   "source": [
    "Omit the first games of all teams"
   ],
   "cell_type": "markdown",
   "metadata": {}
  },
  {
   "cell_type": "code",
   "execution_count": null,
   "metadata": {},
   "outputs": [],
   "source": [
    "df.drop(df[(df['GAME_PLAYED_x'] == 1) | (df['GAME_PLAYED_y'] == 1 )].index, inplace=True)"
   ]
  },
  {
   "source": [
    "Export DataFrame to csv file"
   ],
   "cell_type": "markdown",
   "metadata": {}
  },
  {
   "cell_type": "code",
   "execution_count": 48,
   "metadata": {},
   "outputs": [],
   "source": [
    "file_name = \"nba_season_2020_data.csv\"\n",
    "df.to_csv(file_name,index=False) "
   ]
  },
  {
   "cell_type": "code",
   "execution_count": null,
   "metadata": {},
   "outputs": [],
   "source": []
  }
 ],
 "metadata": {
  "kernelspec": {
   "name": "python3",
   "display_name": "Python 3.9.0 64-bit",
   "metadata": {
    "interpreter": {
     "hash": "7812ea015bdcee6f23a998adcdd2ef97c151c0c241b7b7070987d9313e41299d"
    }
   }
  },
  "language_info": {
   "codemirror_mode": {
    "name": "ipython",
    "version": 3
   },
   "file_extension": ".py",
   "mimetype": "text/x-python",
   "name": "python",
   "nbconvert_exporter": "python",
   "pygments_lexer": "ipython3",
   "version": "3.9.0-final"
  }
 },
 "nbformat": 4,
 "nbformat_minor": 2
}