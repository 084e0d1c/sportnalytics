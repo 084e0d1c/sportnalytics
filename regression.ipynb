{
 "metadata": {
  "language_info": {
   "codemirror_mode": {
    "name": "ipython",
    "version": 3
   },
   "file_extension": ".py",
   "mimetype": "text/x-python",
   "name": "python",
   "nbconvert_exporter": "python",
   "pygments_lexer": "ipython3",
   "version": "3.7.4-final"
  },
  "orig_nbformat": 2,
  "kernelspec": {
   "name": "python3",
   "display_name": "Python 3",
   "language": "python"
  }
 },
 "nbformat": 4,
 "nbformat_minor": 2,
 "cells": [
  {
   "cell_type": "code",
   "execution_count": 50,
   "metadata": {},
   "outputs": [],
   "source": [
    "import pandas as pd\n",
    "import statsmodels.api as sm\n",
    "import numpy as np"
   ]
  },
  {
   "source": [
    "Read csv file"
   ],
   "cell_type": "markdown",
   "metadata": {}
  },
  {
   "cell_type": "code",
   "execution_count": 81,
   "metadata": {},
   "outputs": [
    {
     "output_type": "execute_result",
     "data": {
      "text/plain": [
       "   SEASON_ID_x   TEAM_ID_x TEAM_ABBREVIATION_x            TEAM_NAME_x  \\\n",
       "0        22018  1610612760                 OKC  Oklahoma City Thunder   \n",
       "1        22018  1610612755                 PHI     Philadelphia 76ers   \n",
       "2        22018  1610612740                 NOP   New Orleans Pelicans   \n",
       "3        22018  1610612748                 MIA             Miami Heat   \n",
       "4        22018  1610612742                 DAL       Dallas Mavericks   \n",
       "\n",
       "    GAME_ID GAME_DATE_x  MATCHUP_x  WL_x  MIN_x  PTS_x  ...  OFFRATE_y  \\\n",
       "0  21800002  2018-10-16  OKC @ GSW     0    240    100  ...        0.0   \n",
       "1  21800001  2018-10-16  PHI @ BOS     0    239     87  ...        0.0   \n",
       "2  21800009  2018-10-17  NOP @ HOU     1    242    131  ...        0.0   \n",
       "3  21800006  2018-10-17  MIA @ ORL     0    241    101  ...        0.0   \n",
       "4  21800013  2018-10-17  DAL @ PHX     0    240    100  ...        0.0   \n",
       "\n",
       "   DEFRATE_y   ELO_y  DIS_PTS_y  DIS_AST_y  DIS_OREB_y  DIS_DREB_y  \\\n",
       "0        0.0  1500.0        0.0        0.0         0.0         0.0   \n",
       "1        0.0  1500.0        0.0        0.0         0.0         0.0   \n",
       "2        0.0  1500.0        0.0        0.0         0.0         0.0   \n",
       "3        0.0  1500.0        0.0        0.0         0.0         0.0   \n",
       "4        0.0  1500.0        0.0        0.0         0.0         0.0   \n",
       "\n",
       "   DIS_OFFRATE_y  DIS_DEFRATE_y  DIS_ELO_y  \n",
       "0            0.0            0.0        0.0  \n",
       "1            0.0            0.0        0.0  \n",
       "2            0.0            0.0        0.0  \n",
       "3            0.0            0.0        0.0  \n",
       "4            0.0            0.0        0.0  \n",
       "\n",
       "[5 rows x 111 columns]"
      ],
      "text/html": "<div>\n<style scoped>\n    .dataframe tbody tr th:only-of-type {\n        vertical-align: middle;\n    }\n\n    .dataframe tbody tr th {\n        vertical-align: top;\n    }\n\n    .dataframe thead th {\n        text-align: right;\n    }\n</style>\n<table border=\"1\" class=\"dataframe\">\n  <thead>\n    <tr style=\"text-align: right;\">\n      <th></th>\n      <th>SEASON_ID_x</th>\n      <th>TEAM_ID_x</th>\n      <th>TEAM_ABBREVIATION_x</th>\n      <th>TEAM_NAME_x</th>\n      <th>GAME_ID</th>\n      <th>GAME_DATE_x</th>\n      <th>MATCHUP_x</th>\n      <th>WL_x</th>\n      <th>MIN_x</th>\n      <th>PTS_x</th>\n      <th>...</th>\n      <th>OFFRATE_y</th>\n      <th>DEFRATE_y</th>\n      <th>ELO_y</th>\n      <th>DIS_PTS_y</th>\n      <th>DIS_AST_y</th>\n      <th>DIS_OREB_y</th>\n      <th>DIS_DREB_y</th>\n      <th>DIS_OFFRATE_y</th>\n      <th>DIS_DEFRATE_y</th>\n      <th>DIS_ELO_y</th>\n    </tr>\n  </thead>\n  <tbody>\n    <tr>\n      <td>0</td>\n      <td>22018</td>\n      <td>1610612760</td>\n      <td>OKC</td>\n      <td>Oklahoma City Thunder</td>\n      <td>21800002</td>\n      <td>2018-10-16</td>\n      <td>OKC @ GSW</td>\n      <td>0</td>\n      <td>240</td>\n      <td>100</td>\n      <td>...</td>\n      <td>0.0</td>\n      <td>0.0</td>\n      <td>1500.0</td>\n      <td>0.0</td>\n      <td>0.0</td>\n      <td>0.0</td>\n      <td>0.0</td>\n      <td>0.0</td>\n      <td>0.0</td>\n      <td>0.0</td>\n    </tr>\n    <tr>\n      <td>1</td>\n      <td>22018</td>\n      <td>1610612755</td>\n      <td>PHI</td>\n      <td>Philadelphia 76ers</td>\n      <td>21800001</td>\n      <td>2018-10-16</td>\n      <td>PHI @ BOS</td>\n      <td>0</td>\n      <td>239</td>\n      <td>87</td>\n      <td>...</td>\n      <td>0.0</td>\n      <td>0.0</td>\n      <td>1500.0</td>\n      <td>0.0</td>\n      <td>0.0</td>\n      <td>0.0</td>\n      <td>0.0</td>\n      <td>0.0</td>\n      <td>0.0</td>\n      <td>0.0</td>\n    </tr>\n    <tr>\n      <td>2</td>\n      <td>22018</td>\n      <td>1610612740</td>\n      <td>NOP</td>\n      <td>New Orleans Pelicans</td>\n      <td>21800009</td>\n      <td>2018-10-17</td>\n      <td>NOP @ HOU</td>\n      <td>1</td>\n      <td>242</td>\n      <td>131</td>\n      <td>...</td>\n      <td>0.0</td>\n      <td>0.0</td>\n      <td>1500.0</td>\n      <td>0.0</td>\n      <td>0.0</td>\n      <td>0.0</td>\n      <td>0.0</td>\n      <td>0.0</td>\n      <td>0.0</td>\n      <td>0.0</td>\n    </tr>\n    <tr>\n      <td>3</td>\n      <td>22018</td>\n      <td>1610612748</td>\n      <td>MIA</td>\n      <td>Miami Heat</td>\n      <td>21800006</td>\n      <td>2018-10-17</td>\n      <td>MIA @ ORL</td>\n      <td>0</td>\n      <td>241</td>\n      <td>101</td>\n      <td>...</td>\n      <td>0.0</td>\n      <td>0.0</td>\n      <td>1500.0</td>\n      <td>0.0</td>\n      <td>0.0</td>\n      <td>0.0</td>\n      <td>0.0</td>\n      <td>0.0</td>\n      <td>0.0</td>\n      <td>0.0</td>\n    </tr>\n    <tr>\n      <td>4</td>\n      <td>22018</td>\n      <td>1610612742</td>\n      <td>DAL</td>\n      <td>Dallas Mavericks</td>\n      <td>21800013</td>\n      <td>2018-10-17</td>\n      <td>DAL @ PHX</td>\n      <td>0</td>\n      <td>240</td>\n      <td>100</td>\n      <td>...</td>\n      <td>0.0</td>\n      <td>0.0</td>\n      <td>1500.0</td>\n      <td>0.0</td>\n      <td>0.0</td>\n      <td>0.0</td>\n      <td>0.0</td>\n      <td>0.0</td>\n      <td>0.0</td>\n      <td>0.0</td>\n    </tr>\n  </tbody>\n</table>\n<p>5 rows × 111 columns</p>\n</div>"
     },
     "metadata": {},
     "execution_count": 81
    }
   ],
   "source": [
    "df = pd.read_csv(\"annual_data/nba_season_2018_data.csv\")\n",
    "df.head()\n"
   ]
  },
  {
   "source": [
    "Drop rows of all the first games of every team"
   ],
   "cell_type": "markdown",
   "metadata": {}
  },
  {
   "cell_type": "code",
   "execution_count": 82,
   "metadata": {},
   "outputs": [
    {
     "output_type": "execute_result",
     "data": {
      "text/plain": [
       "    SEASON_ID_x   TEAM_ID_x TEAM_ABBREVIATION_x           TEAM_NAME_x  \\\n",
       "16        22018  1610612751                 BKN         Brooklyn Nets   \n",
       "17        22018  1610612746                 LAC           LA Clippers   \n",
       "18        22018  1610612740                 NOP  New Orleans Pelicans   \n",
       "19        22018  1610612739                 CLE   Cleveland Cavaliers   \n",
       "20        22018  1610612761                 TOR       Toronto Raptors   \n",
       "\n",
       "     GAME_ID GAME_DATE_x    MATCHUP_x  WL_x  MIN_x  PTS_x  ...  OFFRATE_y  \\\n",
       "16  21800018  2018-10-19  BKN vs. NYK     1    240    107  ...   1.082474   \n",
       "17  21800025  2018-10-19  LAC vs. OKC     1    239    108  ...   0.963391   \n",
       "18  21800022  2018-10-19  NOP vs. SAC     1    240    149  ...   1.101695   \n",
       "19  21800021  2018-10-19    CLE @ MIN     0    240    123  ...   1.093117   \n",
       "20  21800019  2018-10-19  TOR vs. BOS     1    239    113  ...   1.003824   \n",
       "\n",
       "    DEFRATE_y   ELO_y  DIS_PTS_y  DIS_AST_y  DIS_OREB_y  DIS_DREB_y  \\\n",
       "16   0.919244  1510.0       26.0       -7.0         5.0         2.0   \n",
       "17   1.040462  1490.0        2.0        0.0         7.0        -9.0   \n",
       "18   1.158192  1490.0      -14.0      -19.0        -9.0        -8.0   \n",
       "19   1.133603  1490.0        4.0        3.0         0.0        -3.0   \n",
       "20   0.831740  1510.0      -11.0        0.0         4.0         8.0   \n",
       "\n",
       "    DIS_OFFRATE_y  DIS_DEFRATE_y  DIS_ELO_y  \n",
       "16       0.109712      -0.082702       20.0  \n",
       "17      -0.010764      -0.023156        0.0  \n",
       "18      -0.148305       0.089490      -20.0  \n",
       "19       0.079472       0.002999        0.0  \n",
       "20      -0.144691      -0.197963        0.0  \n",
       "\n",
       "[5 rows x 111 columns]"
      ],
      "text/html": "<div>\n<style scoped>\n    .dataframe tbody tr th:only-of-type {\n        vertical-align: middle;\n    }\n\n    .dataframe tbody tr th {\n        vertical-align: top;\n    }\n\n    .dataframe thead th {\n        text-align: right;\n    }\n</style>\n<table border=\"1\" class=\"dataframe\">\n  <thead>\n    <tr style=\"text-align: right;\">\n      <th></th>\n      <th>SEASON_ID_x</th>\n      <th>TEAM_ID_x</th>\n      <th>TEAM_ABBREVIATION_x</th>\n      <th>TEAM_NAME_x</th>\n      <th>GAME_ID</th>\n      <th>GAME_DATE_x</th>\n      <th>MATCHUP_x</th>\n      <th>WL_x</th>\n      <th>MIN_x</th>\n      <th>PTS_x</th>\n      <th>...</th>\n      <th>OFFRATE_y</th>\n      <th>DEFRATE_y</th>\n      <th>ELO_y</th>\n      <th>DIS_PTS_y</th>\n      <th>DIS_AST_y</th>\n      <th>DIS_OREB_y</th>\n      <th>DIS_DREB_y</th>\n      <th>DIS_OFFRATE_y</th>\n      <th>DIS_DEFRATE_y</th>\n      <th>DIS_ELO_y</th>\n    </tr>\n  </thead>\n  <tbody>\n    <tr>\n      <td>16</td>\n      <td>22018</td>\n      <td>1610612751</td>\n      <td>BKN</td>\n      <td>Brooklyn Nets</td>\n      <td>21800018</td>\n      <td>2018-10-19</td>\n      <td>BKN vs. NYK</td>\n      <td>1</td>\n      <td>240</td>\n      <td>107</td>\n      <td>...</td>\n      <td>1.082474</td>\n      <td>0.919244</td>\n      <td>1510.0</td>\n      <td>26.0</td>\n      <td>-7.0</td>\n      <td>5.0</td>\n      <td>2.0</td>\n      <td>0.109712</td>\n      <td>-0.082702</td>\n      <td>20.0</td>\n    </tr>\n    <tr>\n      <td>17</td>\n      <td>22018</td>\n      <td>1610612746</td>\n      <td>LAC</td>\n      <td>LA Clippers</td>\n      <td>21800025</td>\n      <td>2018-10-19</td>\n      <td>LAC vs. OKC</td>\n      <td>1</td>\n      <td>239</td>\n      <td>108</td>\n      <td>...</td>\n      <td>0.963391</td>\n      <td>1.040462</td>\n      <td>1490.0</td>\n      <td>2.0</td>\n      <td>0.0</td>\n      <td>7.0</td>\n      <td>-9.0</td>\n      <td>-0.010764</td>\n      <td>-0.023156</td>\n      <td>0.0</td>\n    </tr>\n    <tr>\n      <td>18</td>\n      <td>22018</td>\n      <td>1610612740</td>\n      <td>NOP</td>\n      <td>New Orleans Pelicans</td>\n      <td>21800022</td>\n      <td>2018-10-19</td>\n      <td>NOP vs. SAC</td>\n      <td>1</td>\n      <td>240</td>\n      <td>149</td>\n      <td>...</td>\n      <td>1.101695</td>\n      <td>1.158192</td>\n      <td>1490.0</td>\n      <td>-14.0</td>\n      <td>-19.0</td>\n      <td>-9.0</td>\n      <td>-8.0</td>\n      <td>-0.148305</td>\n      <td>0.089490</td>\n      <td>-20.0</td>\n    </tr>\n    <tr>\n      <td>19</td>\n      <td>22018</td>\n      <td>1610612739</td>\n      <td>CLE</td>\n      <td>Cleveland Cavaliers</td>\n      <td>21800021</td>\n      <td>2018-10-19</td>\n      <td>CLE @ MIN</td>\n      <td>0</td>\n      <td>240</td>\n      <td>123</td>\n      <td>...</td>\n      <td>1.093117</td>\n      <td>1.133603</td>\n      <td>1490.0</td>\n      <td>4.0</td>\n      <td>3.0</td>\n      <td>0.0</td>\n      <td>-3.0</td>\n      <td>0.079472</td>\n      <td>0.002999</td>\n      <td>0.0</td>\n    </tr>\n    <tr>\n      <td>20</td>\n      <td>22018</td>\n      <td>1610612761</td>\n      <td>TOR</td>\n      <td>Toronto Raptors</td>\n      <td>21800019</td>\n      <td>2018-10-19</td>\n      <td>TOR vs. BOS</td>\n      <td>1</td>\n      <td>239</td>\n      <td>113</td>\n      <td>...</td>\n      <td>1.003824</td>\n      <td>0.831740</td>\n      <td>1510.0</td>\n      <td>-11.0</td>\n      <td>0.0</td>\n      <td>4.0</td>\n      <td>8.0</td>\n      <td>-0.144691</td>\n      <td>-0.197963</td>\n      <td>0.0</td>\n    </tr>\n  </tbody>\n</table>\n<p>5 rows × 111 columns</p>\n</div>"
     },
     "metadata": {},
     "execution_count": 82
    }
   ],
   "source": [
    "df.drop(df[(df['GAME_PLAYED_x'] == 1) | (df['GAME_PLAYED_y'] == 1 )].index, inplace=True)\n",
    "df.head()"
   ]
  },
  {
   "source": [
    "Extract first 41 games (mid season) of every team"
   ],
   "cell_type": "markdown",
   "metadata": {}
  },
  {
   "cell_type": "code",
   "execution_count": 83,
   "metadata": {},
   "outputs": [
    {
     "output_type": "execute_result",
     "data": {
      "text/plain": [
       "     SEASON_ID_x   TEAM_ID_x TEAM_ABBREVIATION_x             TEAM_NAME_x  \\\n",
       "16         22018  1610612751                 BKN           Brooklyn Nets   \n",
       "17         22018  1610612746                 LAC             LA Clippers   \n",
       "18         22018  1610612740                 NOP    New Orleans Pelicans   \n",
       "19         22018  1610612739                 CLE     Cleveland Cavaliers   \n",
       "20         22018  1610612761                 TOR         Toronto Raptors   \n",
       "..           ...         ...                 ...                     ...   \n",
       "625        22018  1610612757                 POR  Portland Trail Blazers   \n",
       "628        22018  1610612739                 CLE     Cleveland Cavaliers   \n",
       "629        22018  1610612748                 MIA              Miami Heat   \n",
       "630        22018  1610612765                 DET         Detroit Pistons   \n",
       "631        22018  1610612743                 DEN          Denver Nuggets   \n",
       "\n",
       "      GAME_ID GAME_DATE_x    MATCHUP_x  WL_x  MIN_x  PTS_x  ...  OFFRATE_y  \\\n",
       "16   21800018  2018-10-19  BKN vs. NYK     1    240    107  ...   1.082474   \n",
       "17   21800025  2018-10-19  LAC vs. OKC     1    239    108  ...   0.963391   \n",
       "18   21800022  2018-10-19  NOP vs. SAC     1    240    149  ...   1.101695   \n",
       "19   21800021  2018-10-19    CLE @ MIN     0    240    123  ...   1.093117   \n",
       "20   21800019  2018-10-19  TOR vs. BOS     1    239    113  ...   1.003824   \n",
       "..        ...         ...          ...   ...    ...    ...  ...        ...   \n",
       "625  21800628  2019-01-11  POR vs. CHA     1    240    127  ...   1.099854   \n",
       "628  21800625  2019-01-11    CLE @ HOU     0    240    113  ...   1.128769   \n",
       "629  21800631  2019-01-12  MIA vs. MEM     1    242    112  ...   1.042759   \n",
       "630  21800630  2019-01-12    DET @ LAC     1    240    109  ...   1.119643   \n",
       "631  21800635  2019-01-12    DEN @ PHX     0    239     93  ...   1.039088   \n",
       "\n",
       "     DEFRATE_y        ELO_y  DIS_PTS_y  DIS_AST_y  DIS_OREB_y  DIS_DREB_y  \\\n",
       "16    0.919244  1510.000000  26.000000  -7.000000    5.000000    2.000000   \n",
       "17    1.040462  1490.000000   2.000000   0.000000    7.000000   -9.000000   \n",
       "18    1.158192  1490.000000 -14.000000 -19.000000   -9.000000   -8.000000   \n",
       "19    1.133603  1490.000000   4.000000   3.000000    0.000000   -3.000000   \n",
       "20    0.831740  1510.000000 -11.000000   0.000000    4.000000    8.000000   \n",
       "..         ...          ...        ...        ...         ...         ...   \n",
       "625   1.129810  1474.782915   1.376190   2.138095   -1.410714   -2.669048   \n",
       "628   1.199174  1563.334998   8.148810   1.034524    0.117857   -0.207143   \n",
       "629   1.178399  1464.827311  -5.646951  -0.403049   -4.590244   -2.880488   \n",
       "630   1.046402  1538.929214   8.710366   0.607317   -1.970732    1.829268   \n",
       "631   1.023389  1376.915230  -4.515698  -3.396512   -3.836047   -3.229651   \n",
       "\n",
       "     DIS_OFFRATE_y  DIS_DEFRATE_y   DIS_ELO_y  \n",
       "16        0.109712      -0.082702   20.000000  \n",
       "17       -0.010764      -0.023156    0.000000  \n",
       "18       -0.148305       0.089490  -20.000000  \n",
       "19        0.079472       0.002999    0.000000  \n",
       "20       -0.144691      -0.197963    0.000000  \n",
       "..             ...            ...         ...  \n",
       "625       0.004950       0.165107  -79.855518  \n",
       "628       0.071223      -0.010223  221.655926  \n",
       "629      -0.017930       0.033820  -45.695276  \n",
       "630       0.072003      -0.136267   98.356369  \n",
       "631      -0.075014      -0.168692 -228.841451  \n",
       "\n",
       "[608 rows x 111 columns]"
      ],
      "text/html": "<div>\n<style scoped>\n    .dataframe tbody tr th:only-of-type {\n        vertical-align: middle;\n    }\n\n    .dataframe tbody tr th {\n        vertical-align: top;\n    }\n\n    .dataframe thead th {\n        text-align: right;\n    }\n</style>\n<table border=\"1\" class=\"dataframe\">\n  <thead>\n    <tr style=\"text-align: right;\">\n      <th></th>\n      <th>SEASON_ID_x</th>\n      <th>TEAM_ID_x</th>\n      <th>TEAM_ABBREVIATION_x</th>\n      <th>TEAM_NAME_x</th>\n      <th>GAME_ID</th>\n      <th>GAME_DATE_x</th>\n      <th>MATCHUP_x</th>\n      <th>WL_x</th>\n      <th>MIN_x</th>\n      <th>PTS_x</th>\n      <th>...</th>\n      <th>OFFRATE_y</th>\n      <th>DEFRATE_y</th>\n      <th>ELO_y</th>\n      <th>DIS_PTS_y</th>\n      <th>DIS_AST_y</th>\n      <th>DIS_OREB_y</th>\n      <th>DIS_DREB_y</th>\n      <th>DIS_OFFRATE_y</th>\n      <th>DIS_DEFRATE_y</th>\n      <th>DIS_ELO_y</th>\n    </tr>\n  </thead>\n  <tbody>\n    <tr>\n      <td>16</td>\n      <td>22018</td>\n      <td>1610612751</td>\n      <td>BKN</td>\n      <td>Brooklyn Nets</td>\n      <td>21800018</td>\n      <td>2018-10-19</td>\n      <td>BKN vs. NYK</td>\n      <td>1</td>\n      <td>240</td>\n      <td>107</td>\n      <td>...</td>\n      <td>1.082474</td>\n      <td>0.919244</td>\n      <td>1510.000000</td>\n      <td>26.000000</td>\n      <td>-7.000000</td>\n      <td>5.000000</td>\n      <td>2.000000</td>\n      <td>0.109712</td>\n      <td>-0.082702</td>\n      <td>20.000000</td>\n    </tr>\n    <tr>\n      <td>17</td>\n      <td>22018</td>\n      <td>1610612746</td>\n      <td>LAC</td>\n      <td>LA Clippers</td>\n      <td>21800025</td>\n      <td>2018-10-19</td>\n      <td>LAC vs. OKC</td>\n      <td>1</td>\n      <td>239</td>\n      <td>108</td>\n      <td>...</td>\n      <td>0.963391</td>\n      <td>1.040462</td>\n      <td>1490.000000</td>\n      <td>2.000000</td>\n      <td>0.000000</td>\n      <td>7.000000</td>\n      <td>-9.000000</td>\n      <td>-0.010764</td>\n      <td>-0.023156</td>\n      <td>0.000000</td>\n    </tr>\n    <tr>\n      <td>18</td>\n      <td>22018</td>\n      <td>1610612740</td>\n      <td>NOP</td>\n      <td>New Orleans Pelicans</td>\n      <td>21800022</td>\n      <td>2018-10-19</td>\n      <td>NOP vs. SAC</td>\n      <td>1</td>\n      <td>240</td>\n      <td>149</td>\n      <td>...</td>\n      <td>1.101695</td>\n      <td>1.158192</td>\n      <td>1490.000000</td>\n      <td>-14.000000</td>\n      <td>-19.000000</td>\n      <td>-9.000000</td>\n      <td>-8.000000</td>\n      <td>-0.148305</td>\n      <td>0.089490</td>\n      <td>-20.000000</td>\n    </tr>\n    <tr>\n      <td>19</td>\n      <td>22018</td>\n      <td>1610612739</td>\n      <td>CLE</td>\n      <td>Cleveland Cavaliers</td>\n      <td>21800021</td>\n      <td>2018-10-19</td>\n      <td>CLE @ MIN</td>\n      <td>0</td>\n      <td>240</td>\n      <td>123</td>\n      <td>...</td>\n      <td>1.093117</td>\n      <td>1.133603</td>\n      <td>1490.000000</td>\n      <td>4.000000</td>\n      <td>3.000000</td>\n      <td>0.000000</td>\n      <td>-3.000000</td>\n      <td>0.079472</td>\n      <td>0.002999</td>\n      <td>0.000000</td>\n    </tr>\n    <tr>\n      <td>20</td>\n      <td>22018</td>\n      <td>1610612761</td>\n      <td>TOR</td>\n      <td>Toronto Raptors</td>\n      <td>21800019</td>\n      <td>2018-10-19</td>\n      <td>TOR vs. BOS</td>\n      <td>1</td>\n      <td>239</td>\n      <td>113</td>\n      <td>...</td>\n      <td>1.003824</td>\n      <td>0.831740</td>\n      <td>1510.000000</td>\n      <td>-11.000000</td>\n      <td>0.000000</td>\n      <td>4.000000</td>\n      <td>8.000000</td>\n      <td>-0.144691</td>\n      <td>-0.197963</td>\n      <td>0.000000</td>\n    </tr>\n    <tr>\n      <td>...</td>\n      <td>...</td>\n      <td>...</td>\n      <td>...</td>\n      <td>...</td>\n      <td>...</td>\n      <td>...</td>\n      <td>...</td>\n      <td>...</td>\n      <td>...</td>\n      <td>...</td>\n      <td>...</td>\n      <td>...</td>\n      <td>...</td>\n      <td>...</td>\n      <td>...</td>\n      <td>...</td>\n      <td>...</td>\n      <td>...</td>\n      <td>...</td>\n      <td>...</td>\n      <td>...</td>\n    </tr>\n    <tr>\n      <td>625</td>\n      <td>22018</td>\n      <td>1610612757</td>\n      <td>POR</td>\n      <td>Portland Trail Blazers</td>\n      <td>21800628</td>\n      <td>2019-01-11</td>\n      <td>POR vs. CHA</td>\n      <td>1</td>\n      <td>240</td>\n      <td>127</td>\n      <td>...</td>\n      <td>1.099854</td>\n      <td>1.129810</td>\n      <td>1474.782915</td>\n      <td>1.376190</td>\n      <td>2.138095</td>\n      <td>-1.410714</td>\n      <td>-2.669048</td>\n      <td>0.004950</td>\n      <td>0.165107</td>\n      <td>-79.855518</td>\n    </tr>\n    <tr>\n      <td>628</td>\n      <td>22018</td>\n      <td>1610612739</td>\n      <td>CLE</td>\n      <td>Cleveland Cavaliers</td>\n      <td>21800625</td>\n      <td>2019-01-11</td>\n      <td>CLE @ HOU</td>\n      <td>0</td>\n      <td>240</td>\n      <td>113</td>\n      <td>...</td>\n      <td>1.128769</td>\n      <td>1.199174</td>\n      <td>1563.334998</td>\n      <td>8.148810</td>\n      <td>1.034524</td>\n      <td>0.117857</td>\n      <td>-0.207143</td>\n      <td>0.071223</td>\n      <td>-0.010223</td>\n      <td>221.655926</td>\n    </tr>\n    <tr>\n      <td>629</td>\n      <td>22018</td>\n      <td>1610612748</td>\n      <td>MIA</td>\n      <td>Miami Heat</td>\n      <td>21800631</td>\n      <td>2019-01-12</td>\n      <td>MIA vs. MEM</td>\n      <td>1</td>\n      <td>242</td>\n      <td>112</td>\n      <td>...</td>\n      <td>1.042759</td>\n      <td>1.178399</td>\n      <td>1464.827311</td>\n      <td>-5.646951</td>\n      <td>-0.403049</td>\n      <td>-4.590244</td>\n      <td>-2.880488</td>\n      <td>-0.017930</td>\n      <td>0.033820</td>\n      <td>-45.695276</td>\n    </tr>\n    <tr>\n      <td>630</td>\n      <td>22018</td>\n      <td>1610612765</td>\n      <td>DET</td>\n      <td>Detroit Pistons</td>\n      <td>21800630</td>\n      <td>2019-01-12</td>\n      <td>DET @ LAC</td>\n      <td>1</td>\n      <td>240</td>\n      <td>109</td>\n      <td>...</td>\n      <td>1.119643</td>\n      <td>1.046402</td>\n      <td>1538.929214</td>\n      <td>8.710366</td>\n      <td>0.607317</td>\n      <td>-1.970732</td>\n      <td>1.829268</td>\n      <td>0.072003</td>\n      <td>-0.136267</td>\n      <td>98.356369</td>\n    </tr>\n    <tr>\n      <td>631</td>\n      <td>22018</td>\n      <td>1610612743</td>\n      <td>DEN</td>\n      <td>Denver Nuggets</td>\n      <td>21800635</td>\n      <td>2019-01-12</td>\n      <td>DEN @ PHX</td>\n      <td>0</td>\n      <td>239</td>\n      <td>93</td>\n      <td>...</td>\n      <td>1.039088</td>\n      <td>1.023389</td>\n      <td>1376.915230</td>\n      <td>-4.515698</td>\n      <td>-3.396512</td>\n      <td>-3.836047</td>\n      <td>-3.229651</td>\n      <td>-0.075014</td>\n      <td>-0.168692</td>\n      <td>-228.841451</td>\n    </tr>\n  </tbody>\n</table>\n<p>608 rows × 111 columns</p>\n</div>"
     },
     "metadata": {},
     "execution_count": 83
    }
   ],
   "source": [
    "first_half = df[(df['GAME_PLAYED_x'] <= 41) | (df['GAME_PLAYED_y'] <= 41 )]\n",
    "first_half"
   ]
  },
  {
   "source": [
    "Define the DataFrame to be processed"
   ],
   "cell_type": "markdown",
   "metadata": {}
  },
  {
   "cell_type": "code",
   "execution_count": 84,
   "metadata": {},
   "outputs": [],
   "source": [
    "clean_df = first_half"
   ]
  },
  {
   "cell_type": "code",
   "execution_count": 85,
   "metadata": {},
   "outputs": [
    {
     "output_type": "execute_result",
     "data": {
      "text/plain": [
       "x1     0.046220\n",
       "x2     2.284266\n",
       "x3    27.537223\n",
       "x4    -1.310136\n",
       "x5    -0.216939\n",
       "x6     0.185237\n",
       "x7     0.405457\n",
       "x8     0.390903\n",
       "dtype: float64"
      ]
     },
     "metadata": {},
     "execution_count": 85
    }
   ],
   "source": [
    "y = clean_df['PLUS_MINUS_x']\n",
    "x1 = clean_df['DIS_ELO_x']\n",
    "x2 = clean_df['HOME_COURT_x']\n",
    "x3 = clean_df['DIS_OFFRATE_x']\n",
    "x4 = clean_df['DIS_DEFRATE_x']\n",
    "x5 = clean_df['DIS_PTS_x']\n",
    "x6 = clean_df['DIS_AST_x']\n",
    "x7 = clean_df['DIS_OREB_x']\n",
    "x8 = clean_df['DIS_DREB_x']\n",
    "\n",
    "x = np.column_stack((x1, x2, x3, x4, x5, x6, x7, x8))\n",
    "# x = sm.add_constant(x)\n",
    "model = sm.OLS(y,x)\n",
    "results = model.fit()\n",
    "results.params  "
   ]
  },
  {
   "cell_type": "code",
   "execution_count": 86,
   "metadata": {},
   "outputs": [
    {
     "output_type": "execute_result",
     "data": {
      "text/plain": [
       "<class 'statsmodels.iolib.summary.Summary'>\n",
       "\"\"\"\n",
       "                                 OLS Regression Results                                \n",
       "=======================================================================================\n",
       "Dep. Variable:           PLUS_MINUS_x   R-squared (uncentered):                   0.117\n",
       "Model:                            OLS   Adj. R-squared (uncentered):              0.105\n",
       "Method:                 Least Squares   F-statistic:                              9.916\n",
       "Date:                Tue, 02 Feb 2021   Prob (F-statistic):                    5.23e-13\n",
       "Time:                        12:27:58   Log-Likelihood:                         -2468.5\n",
       "No. Observations:                 608   AIC:                                      4953.\n",
       "Df Residuals:                     600   BIC:                                      4988.\n",
       "Df Model:                           8                                                  \n",
       "Covariance Type:            nonrobust                                                  \n",
       "==============================================================================\n",
       "                 coef    std err          t      P>|t|      [0.025      0.975]\n",
       "------------------------------------------------------------------------------\n",
       "x1             0.0462      0.011      4.202      0.000       0.025       0.068\n",
       "x2             2.2843      0.826      2.764      0.006       0.661       3.907\n",
       "x3            27.5372     14.344      1.920      0.055      -0.634      55.708\n",
       "x4            -1.3101      3.461     -0.378      0.705      -8.108       5.488\n",
       "x5            -0.2169      0.089     -2.445      0.015      -0.391      -0.043\n",
       "x6             0.1852      0.206      0.899      0.369      -0.219       0.590\n",
       "x7             0.4055      0.248      1.635      0.103      -0.082       0.892\n",
       "x8             0.3909      0.204      1.912      0.056      -0.011       0.792\n",
       "==============================================================================\n",
       "Omnibus:                        3.222   Durbin-Watson:                   1.869\n",
       "Prob(Omnibus):                  0.200   Jarque-Bera (JB):                3.631\n",
       "Skew:                           0.024   Prob(JB):                        0.163\n",
       "Kurtosis:                       3.376   Cond. No.                     1.81e+03\n",
       "==============================================================================\n",
       "\n",
       "Warnings:\n",
       "[1] Standard Errors assume that the covariance matrix of the errors is correctly specified.\n",
       "[2] The condition number is large, 1.81e+03. This might indicate that there are\n",
       "strong multicollinearity or other numerical problems.\n",
       "\"\"\""
      ],
      "text/html": "<table class=\"simpletable\">\n<caption>OLS Regression Results</caption>\n<tr>\n  <th>Dep. Variable:</th>      <td>PLUS_MINUS_x</td>   <th>  R-squared (uncentered):</th>      <td>   0.117</td>\n</tr>\n<tr>\n  <th>Model:</th>                   <td>OLS</td>       <th>  Adj. R-squared (uncentered):</th> <td>   0.105</td>\n</tr>\n<tr>\n  <th>Method:</th>             <td>Least Squares</td>  <th>  F-statistic:       </th>          <td>   9.916</td>\n</tr>\n<tr>\n  <th>Date:</th>             <td>Tue, 02 Feb 2021</td> <th>  Prob (F-statistic):</th>          <td>5.23e-13</td>\n</tr>\n<tr>\n  <th>Time:</th>                 <td>12:27:58</td>     <th>  Log-Likelihood:    </th>          <td> -2468.5</td>\n</tr>\n<tr>\n  <th>No. Observations:</th>      <td>   608</td>      <th>  AIC:               </th>          <td>   4953.</td>\n</tr>\n<tr>\n  <th>Df Residuals:</th>          <td>   600</td>      <th>  BIC:               </th>          <td>   4988.</td>\n</tr>\n<tr>\n  <th>Df Model:</th>              <td>     8</td>      <th>                     </th>              <td> </td>   \n</tr>\n<tr>\n  <th>Covariance Type:</th>      <td>nonrobust</td>    <th>                     </th>              <td> </td>   \n</tr>\n</table>\n<table class=\"simpletable\">\n<tr>\n   <td></td>     <th>coef</th>     <th>std err</th>      <th>t</th>      <th>P>|t|</th>  <th>[0.025</th>    <th>0.975]</th>  \n</tr>\n<tr>\n  <th>x1</th> <td>    0.0462</td> <td>    0.011</td> <td>    4.202</td> <td> 0.000</td> <td>    0.025</td> <td>    0.068</td>\n</tr>\n<tr>\n  <th>x2</th> <td>    2.2843</td> <td>    0.826</td> <td>    2.764</td> <td> 0.006</td> <td>    0.661</td> <td>    3.907</td>\n</tr>\n<tr>\n  <th>x3</th> <td>   27.5372</td> <td>   14.344</td> <td>    1.920</td> <td> 0.055</td> <td>   -0.634</td> <td>   55.708</td>\n</tr>\n<tr>\n  <th>x4</th> <td>   -1.3101</td> <td>    3.461</td> <td>   -0.378</td> <td> 0.705</td> <td>   -8.108</td> <td>    5.488</td>\n</tr>\n<tr>\n  <th>x5</th> <td>   -0.2169</td> <td>    0.089</td> <td>   -2.445</td> <td> 0.015</td> <td>   -0.391</td> <td>   -0.043</td>\n</tr>\n<tr>\n  <th>x6</th> <td>    0.1852</td> <td>    0.206</td> <td>    0.899</td> <td> 0.369</td> <td>   -0.219</td> <td>    0.590</td>\n</tr>\n<tr>\n  <th>x7</th> <td>    0.4055</td> <td>    0.248</td> <td>    1.635</td> <td> 0.103</td> <td>   -0.082</td> <td>    0.892</td>\n</tr>\n<tr>\n  <th>x8</th> <td>    0.3909</td> <td>    0.204</td> <td>    1.912</td> <td> 0.056</td> <td>   -0.011</td> <td>    0.792</td>\n</tr>\n</table>\n<table class=\"simpletable\">\n<tr>\n  <th>Omnibus:</th>       <td> 3.222</td> <th>  Durbin-Watson:     </th> <td>   1.869</td>\n</tr>\n<tr>\n  <th>Prob(Omnibus):</th> <td> 0.200</td> <th>  Jarque-Bera (JB):  </th> <td>   3.631</td>\n</tr>\n<tr>\n  <th>Skew:</th>          <td> 0.024</td> <th>  Prob(JB):          </th> <td>   0.163</td>\n</tr>\n<tr>\n  <th>Kurtosis:</th>      <td> 3.376</td> <th>  Cond. No.          </th> <td>1.81e+03</td>\n</tr>\n</table><br/><br/>Warnings:<br/>[1] Standard Errors assume that the covariance matrix of the errors is correctly specified.<br/>[2] The condition number is large, 1.81e+03. This might indicate that there are<br/>strong multicollinearity or other numerical problems."
     },
     "metadata": {},
     "execution_count": 86
    }
   ],
   "source": [
    "results.summary()"
   ]
  },
  {
   "source": [
    "Results: x1(DIS_ELO), x2(HOME_COURT) and x3(DIS_OFFRATE) are significant variables\n",
    "Chosen model is to be fitted the 3 significant x variables\n",
    "Resulting equation would be used to predict outcome of a game:\n",
    "    - postiive --> team 1 wins\n",
    "    - negative --> team 2 wins"
   ],
   "cell_type": "markdown",
   "metadata": {}
  },
  {
   "source": [
    "Part 2: Using regression based on the 3 significant factors to predict games in the 2nd half of season"
   ],
   "cell_type": "markdown",
   "metadata": {}
  },
  {
   "cell_type": "code",
   "execution_count": 87,
   "metadata": {},
   "outputs": [],
   "source": [
    "### Graphic libraries\n",
    "import matplotlib.pyplot as plt\n",
    "import seaborn as sns \n",
    "\n",
    "\n",
    "### Importing the relevant ML libraries \n",
    "from sklearn.model_selection import train_test_split\n",
    "from sklearn.linear_model import LinearRegression\n",
    "\n",
    "\n",
    "from sklearn.metrics import accuracy_score,roc_curve,auc,recall_score,f1_score,precision_score,classification_report,confusion_matrix,auc\n",
    "\n",
    "### Some cosmetics add-ons\n",
    "plt.style.use('fivethirtyeight')\n",
    "%matplotlib inline"
   ]
  },
  {
   "cell_type": "code",
   "execution_count": 58,
   "metadata": {},
   "outputs": [],
   "source": [
    "# significant_x = np.column_stack((x1, x2, x3))\n",
    "# chosen_model = sm.OLS(y, significant_x)\n",
    "# results = chosen_model.fit()\n",
    "# results.summary()"
   ]
  },
  {
   "source": [
    "Extract 2nd half of season from DataFrame to predict outcomes of all games"
   ],
   "cell_type": "markdown",
   "metadata": {}
  },
  {
   "cell_type": "code",
   "execution_count": 88,
   "metadata": {},
   "outputs": [
    {
     "output_type": "execute_result",
     "data": {
      "text/plain": [
       "      SEASON_ID_x   TEAM_ID_x TEAM_ABBREVIATION_x            TEAM_NAME_x  \\\n",
       "606         22018  1610612739                 CLE    Cleveland Cavaliers   \n",
       "610         22018  1610612755                 PHI     Philadelphia 76ers   \n",
       "620         22018  1610612755                 PHI     Philadelphia 76ers   \n",
       "622         22018  1610612754                 IND         Indiana Pacers   \n",
       "623         22018  1610612741                 CHI          Chicago Bulls   \n",
       "...           ...         ...                 ...                    ...   \n",
       "1225        22018  1610612758                 SAC       Sacramento Kings   \n",
       "1226        22018  1610612753                 ORL          Orlando Magic   \n",
       "1227        22018  1610612751                 BKN          Brooklyn Nets   \n",
       "1228        22018  1610612765                 DET        Detroit Pistons   \n",
       "1229        22018  1610612760                 OKC  Oklahoma City Thunder   \n",
       "\n",
       "       GAME_ID GAME_DATE_x    MATCHUP_x  WL_x  MIN_x  PTS_x  ...  OFFRATE_y  \\\n",
       "606   21800612  2019-01-09    CLE @ NOP     0    240    124  ...   1.123274   \n",
       "610   21800608  2019-01-09    PHI @ WAS     0    240    106  ...   1.082100   \n",
       "620   21800621  2019-01-11  PHI vs. ATL     0    240    121  ...   1.024268   \n",
       "622   21800623  2019-01-11    IND @ NYK     1    240    121  ...   1.047547   \n",
       "623   21800629  2019-01-11    CHI @ GSW     0    240    109  ...   1.140949   \n",
       "...        ...         ...          ...   ...    ...    ...  ...        ...   \n",
       "1225  21801230  2019-04-10    SAC @ POR     0    240    131  ...   1.127415   \n",
       "1226  21801222  2019-04-10    ORL @ CHA     1    240    122  ...   1.097660   \n",
       "1227  21801221  2019-04-10  BKN vs. MIA     1    241    113  ...   1.064458   \n",
       "1228  21801223  2019-04-10    DET @ NYK     1    241    115  ...   1.038500   \n",
       "1229  21801226  2019-04-10    OKC @ MIL     1    240    127  ...   1.133054   \n",
       "\n",
       "      DEFRATE_y        ELO_y  DIS_PTS_y  DIS_AST_y  DIS_OREB_y  DIS_DREB_y  \\\n",
       "606    0.948981  1477.674753  14.682927   6.780488    0.414634    4.000000   \n",
       "610    1.102239  1445.374305  -2.097561  -1.878049   -1.341463   -5.609756   \n",
       "620    1.095509  1413.336398  -5.887921  -1.610337    0.939605   -3.023810   \n",
       "622    1.138451  1369.298250  -0.756098  -5.926829    2.390244   -0.658537   \n",
       "623    1.049845  1574.768873  16.024390   6.658537    2.243902    2.390244   \n",
       "...         ...          ...        ...        ...         ...         ...   \n",
       "1225   1.115126  1620.843285   0.419753  -2.345679    0.728395    1.753086   \n",
       "1226   1.048695  1507.580000   3.567901  -2.308642   -0.037037   -1.506173   \n",
       "1227   1.157074  1496.815438  -6.382716   0.543210    0.407407   -0.469136   \n",
       "1228   1.039724  1305.236212  -2.185185  -2.432099   -0.888889    0.925926   \n",
       "1229   1.084511  1651.822770   3.827160   2.864198   -3.345679    5.024691   \n",
       "\n",
       "      DIS_OFFRATE_y  DIS_DEFRATE_y   DIS_ELO_y  \n",
       "606        0.069262      -0.141594  129.560995  \n",
       "610       -0.026003       0.014381 -136.519596  \n",
       "620       -0.081355       0.005736 -154.818627  \n",
       "622       -0.034570       0.040223 -202.414245  \n",
       "623        0.139250      -0.087048  199.815785  \n",
       "...             ...            ...         ...  \n",
       "1225       0.032876       0.005056  160.573747  \n",
       "1226       0.020717      -0.080617  -33.882327  \n",
       "1227      -0.022280       0.114446  -24.141059  \n",
       "1228      -0.040840      -0.001616 -190.123947  \n",
       "1229       0.044462      -0.013603   96.205373  \n",
       "\n",
       "[606 rows x 111 columns]"
      ],
      "text/html": "<div>\n<style scoped>\n    .dataframe tbody tr th:only-of-type {\n        vertical-align: middle;\n    }\n\n    .dataframe tbody tr th {\n        vertical-align: top;\n    }\n\n    .dataframe thead th {\n        text-align: right;\n    }\n</style>\n<table border=\"1\" class=\"dataframe\">\n  <thead>\n    <tr style=\"text-align: right;\">\n      <th></th>\n      <th>SEASON_ID_x</th>\n      <th>TEAM_ID_x</th>\n      <th>TEAM_ABBREVIATION_x</th>\n      <th>TEAM_NAME_x</th>\n      <th>GAME_ID</th>\n      <th>GAME_DATE_x</th>\n      <th>MATCHUP_x</th>\n      <th>WL_x</th>\n      <th>MIN_x</th>\n      <th>PTS_x</th>\n      <th>...</th>\n      <th>OFFRATE_y</th>\n      <th>DEFRATE_y</th>\n      <th>ELO_y</th>\n      <th>DIS_PTS_y</th>\n      <th>DIS_AST_y</th>\n      <th>DIS_OREB_y</th>\n      <th>DIS_DREB_y</th>\n      <th>DIS_OFFRATE_y</th>\n      <th>DIS_DEFRATE_y</th>\n      <th>DIS_ELO_y</th>\n    </tr>\n  </thead>\n  <tbody>\n    <tr>\n      <td>606</td>\n      <td>22018</td>\n      <td>1610612739</td>\n      <td>CLE</td>\n      <td>Cleveland Cavaliers</td>\n      <td>21800612</td>\n      <td>2019-01-09</td>\n      <td>CLE @ NOP</td>\n      <td>0</td>\n      <td>240</td>\n      <td>124</td>\n      <td>...</td>\n      <td>1.123274</td>\n      <td>0.948981</td>\n      <td>1477.674753</td>\n      <td>14.682927</td>\n      <td>6.780488</td>\n      <td>0.414634</td>\n      <td>4.000000</td>\n      <td>0.069262</td>\n      <td>-0.141594</td>\n      <td>129.560995</td>\n    </tr>\n    <tr>\n      <td>610</td>\n      <td>22018</td>\n      <td>1610612755</td>\n      <td>PHI</td>\n      <td>Philadelphia 76ers</td>\n      <td>21800608</td>\n      <td>2019-01-09</td>\n      <td>PHI @ WAS</td>\n      <td>0</td>\n      <td>240</td>\n      <td>106</td>\n      <td>...</td>\n      <td>1.082100</td>\n      <td>1.102239</td>\n      <td>1445.374305</td>\n      <td>-2.097561</td>\n      <td>-1.878049</td>\n      <td>-1.341463</td>\n      <td>-5.609756</td>\n      <td>-0.026003</td>\n      <td>0.014381</td>\n      <td>-136.519596</td>\n    </tr>\n    <tr>\n      <td>620</td>\n      <td>22018</td>\n      <td>1610612755</td>\n      <td>PHI</td>\n      <td>Philadelphia 76ers</td>\n      <td>21800621</td>\n      <td>2019-01-11</td>\n      <td>PHI vs. ATL</td>\n      <td>0</td>\n      <td>240</td>\n      <td>121</td>\n      <td>...</td>\n      <td>1.024268</td>\n      <td>1.095509</td>\n      <td>1413.336398</td>\n      <td>-5.887921</td>\n      <td>-1.610337</td>\n      <td>0.939605</td>\n      <td>-3.023810</td>\n      <td>-0.081355</td>\n      <td>0.005736</td>\n      <td>-154.818627</td>\n    </tr>\n    <tr>\n      <td>622</td>\n      <td>22018</td>\n      <td>1610612754</td>\n      <td>IND</td>\n      <td>Indiana Pacers</td>\n      <td>21800623</td>\n      <td>2019-01-11</td>\n      <td>IND @ NYK</td>\n      <td>1</td>\n      <td>240</td>\n      <td>121</td>\n      <td>...</td>\n      <td>1.047547</td>\n      <td>1.138451</td>\n      <td>1369.298250</td>\n      <td>-0.756098</td>\n      <td>-5.926829</td>\n      <td>2.390244</td>\n      <td>-0.658537</td>\n      <td>-0.034570</td>\n      <td>0.040223</td>\n      <td>-202.414245</td>\n    </tr>\n    <tr>\n      <td>623</td>\n      <td>22018</td>\n      <td>1610612741</td>\n      <td>CHI</td>\n      <td>Chicago Bulls</td>\n      <td>21800629</td>\n      <td>2019-01-11</td>\n      <td>CHI @ GSW</td>\n      <td>0</td>\n      <td>240</td>\n      <td>109</td>\n      <td>...</td>\n      <td>1.140949</td>\n      <td>1.049845</td>\n      <td>1574.768873</td>\n      <td>16.024390</td>\n      <td>6.658537</td>\n      <td>2.243902</td>\n      <td>2.390244</td>\n      <td>0.139250</td>\n      <td>-0.087048</td>\n      <td>199.815785</td>\n    </tr>\n    <tr>\n      <td>...</td>\n      <td>...</td>\n      <td>...</td>\n      <td>...</td>\n      <td>...</td>\n      <td>...</td>\n      <td>...</td>\n      <td>...</td>\n      <td>...</td>\n      <td>...</td>\n      <td>...</td>\n      <td>...</td>\n      <td>...</td>\n      <td>...</td>\n      <td>...</td>\n      <td>...</td>\n      <td>...</td>\n      <td>...</td>\n      <td>...</td>\n      <td>...</td>\n      <td>...</td>\n      <td>...</td>\n    </tr>\n    <tr>\n      <td>1225</td>\n      <td>22018</td>\n      <td>1610612758</td>\n      <td>SAC</td>\n      <td>Sacramento Kings</td>\n      <td>21801230</td>\n      <td>2019-04-10</td>\n      <td>SAC @ POR</td>\n      <td>0</td>\n      <td>240</td>\n      <td>131</td>\n      <td>...</td>\n      <td>1.127415</td>\n      <td>1.115126</td>\n      <td>1620.843285</td>\n      <td>0.419753</td>\n      <td>-2.345679</td>\n      <td>0.728395</td>\n      <td>1.753086</td>\n      <td>0.032876</td>\n      <td>0.005056</td>\n      <td>160.573747</td>\n    </tr>\n    <tr>\n      <td>1226</td>\n      <td>22018</td>\n      <td>1610612753</td>\n      <td>ORL</td>\n      <td>Orlando Magic</td>\n      <td>21801222</td>\n      <td>2019-04-10</td>\n      <td>ORL @ CHA</td>\n      <td>1</td>\n      <td>240</td>\n      <td>122</td>\n      <td>...</td>\n      <td>1.097660</td>\n      <td>1.048695</td>\n      <td>1507.580000</td>\n      <td>3.567901</td>\n      <td>-2.308642</td>\n      <td>-0.037037</td>\n      <td>-1.506173</td>\n      <td>0.020717</td>\n      <td>-0.080617</td>\n      <td>-33.882327</td>\n    </tr>\n    <tr>\n      <td>1227</td>\n      <td>22018</td>\n      <td>1610612751</td>\n      <td>BKN</td>\n      <td>Brooklyn Nets</td>\n      <td>21801221</td>\n      <td>2019-04-10</td>\n      <td>BKN vs. MIA</td>\n      <td>1</td>\n      <td>241</td>\n      <td>113</td>\n      <td>...</td>\n      <td>1.064458</td>\n      <td>1.157074</td>\n      <td>1496.815438</td>\n      <td>-6.382716</td>\n      <td>0.543210</td>\n      <td>0.407407</td>\n      <td>-0.469136</td>\n      <td>-0.022280</td>\n      <td>0.114446</td>\n      <td>-24.141059</td>\n    </tr>\n    <tr>\n      <td>1228</td>\n      <td>22018</td>\n      <td>1610612765</td>\n      <td>DET</td>\n      <td>Detroit Pistons</td>\n      <td>21801223</td>\n      <td>2019-04-10</td>\n      <td>DET @ NYK</td>\n      <td>1</td>\n      <td>241</td>\n      <td>115</td>\n      <td>...</td>\n      <td>1.038500</td>\n      <td>1.039724</td>\n      <td>1305.236212</td>\n      <td>-2.185185</td>\n      <td>-2.432099</td>\n      <td>-0.888889</td>\n      <td>0.925926</td>\n      <td>-0.040840</td>\n      <td>-0.001616</td>\n      <td>-190.123947</td>\n    </tr>\n    <tr>\n      <td>1229</td>\n      <td>22018</td>\n      <td>1610612760</td>\n      <td>OKC</td>\n      <td>Oklahoma City Thunder</td>\n      <td>21801226</td>\n      <td>2019-04-10</td>\n      <td>OKC @ MIL</td>\n      <td>1</td>\n      <td>240</td>\n      <td>127</td>\n      <td>...</td>\n      <td>1.133054</td>\n      <td>1.084511</td>\n      <td>1651.822770</td>\n      <td>3.827160</td>\n      <td>2.864198</td>\n      <td>-3.345679</td>\n      <td>5.024691</td>\n      <td>0.044462</td>\n      <td>-0.013603</td>\n      <td>96.205373</td>\n    </tr>\n  </tbody>\n</table>\n<p>606 rows × 111 columns</p>\n</div>"
     },
     "metadata": {},
     "execution_count": 88
    }
   ],
   "source": [
    "second_half = df[(df['GAME_PLAYED_x'] > 41) & (df['GAME_PLAYED_y'] > 41 )]\n",
    "second_half"
   ]
  },
  {
   "source": [
    "Define model variables"
   ],
   "cell_type": "markdown",
   "metadata": {}
  },
  {
   "source": [
    "features_list = ['DIS_ELO_x', 'HOME_COURT_x']"
   ],
   "cell_type": "code",
   "metadata": {},
   "execution_count": 94,
   "outputs": []
  },
  {
   "cell_type": "code",
   "execution_count": 95,
   "metadata": {},
   "outputs": [
    {
     "output_type": "execute_result",
     "data": {
      "text/plain": [
       "((608, 2), (606, 2), (608,), (606,))"
      ]
     },
     "metadata": {},
     "execution_count": 95
    }
   ],
   "source": [
    "X_train = first_half[features_list]\n",
    "X_test = second_half[features_list]\n",
    "y_train = first_half['PLUS_MINUS_x']\n",
    "y_test = second_half['WL_x']\n",
    "\n",
    "X_train.shape, X_test.shape, y_train.shape, y_test.shape"
   ]
  },
  {
   "source": [
    "Modelling"
   ],
   "cell_type": "markdown",
   "metadata": {}
  },
  {
   "cell_type": "code",
   "execution_count": 96,
   "metadata": {},
   "outputs": [
    {
     "output_type": "execute_result",
     "data": {
      "text/plain": [
       "array([-12.10704098,   4.82610775,  12.15225223,   9.01958868,\n",
       "       -16.57799775, -10.02942976,  -5.57354963,   2.22995284,\n",
       "        -1.99739696,   4.0054532 ,  -5.15033597,   2.85482945,\n",
       "        11.94519364,  -5.61847641, -14.38959363,   3.48996518,\n",
       "         8.19318653,  -6.53548431,   1.99907972,  -8.39258506,\n",
       "        -7.15910327,   8.30928161,  -1.17643869,   8.55908743,\n",
       "        -8.58858625,  -0.88844113,   3.94140965,  10.19489576,\n",
       "         7.50717295,  -4.63839592,  13.99514387,   5.89035974,\n",
       "        -7.87219691,  -0.07414098,   1.03029827, -15.95299024,\n",
       "        -3.21717846,   5.4801434 ,   0.9755912 , -10.95751115,\n",
       "        -1.05906796,  -6.17541985, -17.75109564, -10.70156224,\n",
       "        17.01070602,  -4.76734911, -16.47343271,  -1.11788694,\n",
       "        -2.0517446 ,  -3.9970996 , -10.27608577,  -0.32878445,\n",
       "         6.61540004,   6.80886218,  13.38573233,  18.28176909,\n",
       "         8.57593448,   5.96575408,  -7.0201209 ,  -5.06726492,\n",
       "       -10.19042249,   5.12395129,   0.03087126,   7.99317512,\n",
       "         9.29087505,   6.00973722,  -3.05859642,  -3.53809863,\n",
       "        -5.07234544,  -4.84025848,  -1.30210967,   7.55036902,\n",
       "         2.75308652, -13.75084616,  -4.97196421,  -3.26326183,\n",
       "         5.60812881,   9.47915534,   0.54370954,  -0.617923  ,\n",
       "         4.01250234,  -0.02576053,  -0.06393172,  -3.80956459,\n",
       "         8.99207132,  -0.23811077,   4.25089797,  -5.8510149 ,\n",
       "         8.01605066,  -1.63131675, -19.01575624,  -9.89007021,\n",
       "        -8.89227475,   4.71275148,   1.73504106,  15.38857841,\n",
       "        -6.56807425,  16.79965655,  -0.20927566,   1.38237117,\n",
       "       -12.51489312,   0.14613611,   2.95319183,  -8.08484948,\n",
       "         6.27450772,  -0.42032527,  -2.44265593, -12.24061516,\n",
       "        -9.86322004,  -4.1416032 ,  -0.03792262,  10.65349181,\n",
       "        -5.32746016,   2.96010446,  -7.50272226,   0.99863682,\n",
       "        10.41437514,  -5.42635655,   6.02015683,  -4.44748985,\n",
       "       -13.50338556,  -9.05922728, -10.40542958,  -0.95224837,\n",
       "       -16.92188176, -17.26253523,   1.74277695,   5.59027161,\n",
       "         9.86291935,   6.93295251,   5.03675693,  13.17794187,\n",
       "        -7.69085027,   7.54302741,  -7.06320942,  -4.67107647,\n",
       "        -8.72112889,  -3.65031132,  -6.48988726,   2.86235253,\n",
       "         4.28436305,   0.10608549,  -7.60933574,   4.95556033,\n",
       "        -2.6598222 ,  12.64356463,   7.0090957 ,  10.76770082,\n",
       "         5.61401188,   1.84347847,   0.57396943, -10.60974296,\n",
       "        -5.64466058,   2.65281131,  -4.7915163 ,   2.00672809,\n",
       "       -12.73429697,   3.74767606, -13.22394797,  -0.50900857,\n",
       "         1.04749066,  -7.74668648,   1.44506171,   7.92309509,\n",
       "         2.40584142,   7.52980495,   2.5890184 , -12.11634133,\n",
       "        -1.42793386,  -6.68011019,  -5.04664685,   5.87269558,\n",
       "         7.22842603,  -2.41665179,   1.58555537, -14.00658044,\n",
       "         1.95093318, -10.64022361, -11.69324803,  -8.59896384,\n",
       "        14.22683181,  -0.14977296,  -3.61729274,   3.10918662,\n",
       "        16.59088081,  -3.16233773,   6.02904785,  -1.39278072,\n",
       "         2.84764955,   9.95644093,  -8.88052964, -13.93134049,\n",
       "       -14.34248795,   4.57255586,  15.11325384,  10.0449594 ,\n",
       "         1.24730371,   0.63073644,  16.40376923,   6.78426328,\n",
       "       -18.18163843,  -9.00725002,   3.23542354,  15.34325097,\n",
       "        -0.41424334,  -0.7224646 ,  -5.12555537,   1.66107958,\n",
       "       -19.86001479,  -9.80372127,  13.36688635, -16.8265677 ,\n",
       "        -0.51424467,  -3.58982233, -17.08479877,  -5.64741475,\n",
       "       -10.06301827,  -6.02746813,  -0.30793167, -11.5269743 ,\n",
       "        -8.43832377,  -4.17812414, -10.6201841 ,   3.06735357,\n",
       "         7.63394914,   0.71317951,   0.41053729,   3.53281068,\n",
       "        -5.35303952,   6.3309005 ,  -4.1534066 , -14.71549532,\n",
       "         8.58030351,  14.08959893,   7.38791196,   1.45307916,\n",
       "         3.09038031,  -0.2585426 ,  14.88457066,  -4.45363794,\n",
       "         6.3075208 , -13.08235427, -10.96646698,   6.43527136,\n",
       "       -11.73225835,  -0.85584907,  -4.72974624,  -3.34396007,\n",
       "         2.64228581,   3.21157135,  -1.68066792,   4.05726603,\n",
       "        10.15850137,  11.75527061,  -5.92350276,   8.05251197,\n",
       "        -9.77830483,  -1.70415553,  -4.99910445, -10.64370439,\n",
       "         7.66739388,  -9.01906515,  -2.62321735,  -2.04538157,\n",
       "        13.34370891,   5.29118832,  10.09813901,   8.77388474,\n",
       "         0.22884244, -14.03008156,  11.59093087,   8.25873117,\n",
       "         2.08210976,  -0.59900755,  -6.96215193,  11.68566174,\n",
       "         2.48685626,  -5.2134175 , -13.97828941, -16.1837368 ,\n",
       "        -3.09696648,  -8.68800637, -12.63494313,  -9.73090116,\n",
       "        -5.85927855,   6.25937505,   2.40196015,   2.61835131,\n",
       "        -6.55127862,   9.17530089,   7.86230936,  -4.28278037,\n",
       "        -1.96863711,  -7.45131546,   4.38336636,   1.75606021,\n",
       "         3.94172156,   5.9791199 ,  -9.26327577,   0.92144339,\n",
       "         5.6268416 ,  -3.21803446, -11.28506885,   4.83134673,\n",
       "         4.69082858,  -6.03009013,   8.54580844,  -7.4924692 ,\n",
       "         2.52603087, -10.87049049,  -0.77208243,   6.36911919,\n",
       "        -0.95732098,  -8.89717151,   7.10432357,  -6.80648259,\n",
       "        -2.56040259,  12.66480833,   2.60783787,   0.74386126,\n",
       "        -1.8295915 ,   1.52871592,  15.3654542 ,   5.18280556,\n",
       "         6.35039914,  12.09426742,   3.7921107 ,  18.40354323,\n",
       "        10.37089767,  -6.20348364,  -6.62847992,   0.62058243,\n",
       "        14.60469768,  -2.29765456,  -9.79459101,  -8.95121912,\n",
       "       -15.08072623,   2.33356317, -10.3302571 ,   4.96059986,\n",
       "        -4.49944224,   4.39526102,   1.6949723 ,  -0.98730445,\n",
       "       -12.55520267,  -6.92983615,   9.70926837,   4.85049522,\n",
       "        -6.13895604,  -4.05364767,  -5.7994137 ,   7.58921814,\n",
       "        -2.06667458,   5.53422142,   3.56050975,  -5.91248316,\n",
       "         3.67640963,   7.31632277, -11.76232898,   1.49028465,\n",
       "        -7.18724278,  14.87452596,   2.63221537,   3.23109444,\n",
       "        -5.97478419,  16.46056524, -10.66856383,  -2.11264485,\n",
       "       -21.81711121,  -2.20062981,   7.8659485 ,  -6.58154107,\n",
       "        14.23509719,  11.33258152,  -5.05765096,   2.88061547,\n",
       "        -1.48529355,  -2.19001327,  -1.86099937, -13.96074959,\n",
       "        14.14991576,  -5.34018503, -17.4452533 ,   5.09781023,\n",
       "         8.62128154,   1.05609348,  19.21845385,  -0.89477263,\n",
       "       -10.37003482,  -2.10551591,   4.63083511,   3.19416176,\n",
       "        -0.7073944 ,  -1.95761734, -10.6325546 , -15.06902006,\n",
       "         6.83015039,   9.35365563,  -2.96770407,  13.60031382,\n",
       "        -9.62721317, -14.56483284,   4.57176165,  -8.1244013 ,\n",
       "        18.66230293, -22.07431014,  -4.84688395, -10.24853817,\n",
       "         7.5259392 ,  -5.70760319,   5.77822727,  11.98013371,\n",
       "        -5.9346712 ,   6.09655156,   8.25043882,  -1.47198373,\n",
       "         1.17665351,   6.52927998, -10.63330762,   5.57452109,\n",
       "         2.3080761 ,  -8.31518336,  -6.63605127, -13.16459539,\n",
       "         3.88160839,  -7.31906456,  -0.51799391,   3.57496279,\n",
       "       -23.9697621 ,  -5.27730279,  -3.8219442 ,   8.26531923,\n",
       "        -1.96568273,  -3.0372632 ,   1.44601626,  -7.32034593,\n",
       "        -4.59932223,   9.86100639,  -7.39200733,  17.36302002,\n",
       "         7.75060078,   9.31720837,  14.7280858 ,  -2.33313052,\n",
       "        -6.50630084,   1.56595413,   5.29685235, -16.74153529,\n",
       "        13.71088415,  -3.21856185,   8.32497525,  -8.38433255,\n",
       "        -8.50151573,   6.9124791 ,   7.61502318,   7.94250672,\n",
       "         9.74465978,   2.38162527,  17.43507393,   8.20777893,\n",
       "        -7.86878886,   4.16026601,  17.13278135,   2.64971884,\n",
       "         9.03624563,   0.95849575,  -9.87297274,  -2.29727815,\n",
       "       -12.44810495,   6.4634976 , -16.07917631,  -3.71590797,\n",
       "         8.03895499,   1.67455935, -21.05535714,  -9.77984901,\n",
       "         0.69531912,  11.03029127,   7.836311  ,  -3.96320545,\n",
       "        17.63968235,  -5.80291448,  -1.83819894,  15.80871674,\n",
       "        -8.33369939,  -2.66175505,   2.52990325, -10.18126338,\n",
       "        -5.37238185,  -3.89404823,   2.04956277,  -5.32102876,\n",
       "        12.57885772,  -3.12802576, -12.4926527 ,  -3.06726604,\n",
       "        -9.82161239,  -3.61867129,  -2.42127138,  -1.97696137,\n",
       "        -9.1863418 , -17.84499809,   9.17087456, -16.82209566,\n",
       "         6.97325249,  12.59744886,   7.32499024,   0.49424923,\n",
       "         1.05453014,  -4.54379549,   7.09118506, -12.94641254,\n",
       "       -17.5690819 ,  10.66812249, -13.56915452,  -0.47470988,\n",
       "        -4.2408933 ,   2.17836322,   4.67813214,   2.63470099,\n",
       "       -10.62498325,  10.70867773,  11.70687271,  -3.72693867,\n",
       "       -11.89415176, -16.09760097,  10.9567089 , -11.49510981,\n",
       "        -2.81651213,  -5.05646226,  -7.11889526,  -6.48371312,\n",
       "        -3.65575526,  -8.80494278,   0.19741083,   8.52041901,\n",
       "         5.76750736, -10.77688609,  -4.82864287,  -8.77656286,\n",
       "        -4.58552271,  17.08100172,  -5.46523469,  -0.99304166,\n",
       "        -6.92880923,  -2.16411445,  -0.95562382, -14.94697855,\n",
       "        -3.5743455 ,  14.11627637,  -0.09893794,   7.64868308,\n",
       "         1.19937884,  -9.98589941,  10.53078051,  -0.42867014,\n",
       "         1.32711642, -13.32531094, -22.53708093,   6.4527569 ,\n",
       "        -5.00882309,  -6.00808289,  10.41764743,   0.59627521,\n",
       "        25.36403879,  -6.62029364,   1.9764316 ,  -2.84964162,\n",
       "       -14.37510341,   8.85589866,  14.90772151, -23.30521503,\n",
       "         6.8439457 ,   3.02181012,   7.06701486,   9.51105023,\n",
       "        -6.20374312,   2.64610638,  -3.50575777,   0.1890126 ,\n",
       "         7.09042635,   3.87718875, -12.28901385,   5.04496212,\n",
       "        10.89959145,  -8.23154844,   6.6546312 ,  -7.16792464,\n",
       "         7.13805389,   2.92242309,  -3.73152129,  -7.28102845,\n",
       "         6.2793103 ,   1.66290552,  -8.7900782 ,  11.07931626,\n",
       "        -0.38992122,   0.44227376,  15.59747148,  10.80819274,\n",
       "        11.45851187, -14.0806669 ,  -1.70564319,   3.83603988,\n",
       "         8.23744433,  -9.98431678])"
      ]
     },
     "metadata": {},
     "execution_count": 96
    }
   ],
   "source": [
    "m = LinearRegression()\n",
    "m.fit(X_train, y_train)\n",
    "predictions = m.predict(X_test)\n",
    "\n",
    "predictions"
   ]
  },
  {
   "source": [
    "Convert estimated point difference to binary outcome:\n",
    "\n",
    "if y > 0 --> W --> 1\n",
    "\n",
    "else --> L --> 0"
   ],
   "cell_type": "markdown",
   "metadata": {}
  },
  {
   "cell_type": "code",
   "execution_count": 97,
   "metadata": {},
   "outputs": [
    {
     "output_type": "execute_result",
     "data": {
      "text/plain": [
       "array([0., 1., 1., 1., 0., 0., 0., 1., 0., 1., 0., 1., 1., 0., 0., 1., 1.,\n",
       "       0., 1., 0., 0., 1., 0., 1., 0., 0., 1., 1., 1., 0., 1., 1., 0., 0.,\n",
       "       1., 0., 0., 1., 1., 0., 0., 0., 0., 0., 1., 0., 0., 0., 0., 0., 0.,\n",
       "       0., 1., 1., 1., 1., 1., 1., 0., 0., 0., 1., 1., 1., 1., 1., 0., 0.,\n",
       "       0., 0., 0., 1., 1., 0., 0., 0., 1., 1., 1., 0., 1., 0., 0., 0., 1.,\n",
       "       0., 1., 0., 1., 0., 0., 0., 0., 1., 1., 1., 0., 1., 0., 1., 0., 1.,\n",
       "       1., 0., 1., 0., 0., 0., 0., 0., 0., 1., 0., 1., 0., 1., 1., 0., 1.,\n",
       "       0., 0., 0., 0., 0., 0., 0., 1., 1., 1., 1., 1., 1., 0., 1., 0., 0.,\n",
       "       0., 0., 0., 1., 1., 1., 0., 1., 0., 1., 1., 1., 1., 1., 1., 0., 0.,\n",
       "       1., 0., 1., 0., 1., 0., 0., 1., 0., 1., 1., 1., 1., 1., 0., 0., 0.,\n",
       "       0., 1., 1., 0., 1., 0., 1., 0., 0., 0., 1., 0., 0., 1., 1., 0., 1.,\n",
       "       0., 1., 1., 0., 0., 0., 1., 1., 1., 1., 1., 1., 1., 0., 0., 1., 1.,\n",
       "       0., 0., 0., 1., 0., 0., 1., 0., 0., 0., 0., 0., 0., 0., 0., 0., 0.,\n",
       "       0., 0., 1., 1., 1., 1., 1., 0., 1., 0., 0., 1., 1., 1., 1., 1., 0.,\n",
       "       1., 0., 1., 0., 0., 1., 0., 0., 0., 0., 1., 1., 0., 1., 1., 1., 0.,\n",
       "       1., 0., 0., 0., 0., 1., 0., 0., 0., 1., 1., 1., 1., 1., 0., 1., 1.,\n",
       "       1., 0., 0., 1., 1., 0., 0., 0., 0., 0., 0., 0., 0., 1., 1., 1., 0.,\n",
       "       1., 1., 0., 0., 0., 1., 1., 1., 1., 0., 1., 1., 0., 0., 1., 1., 0.,\n",
       "       1., 0., 1., 0., 0., 1., 0., 0., 1., 0., 0., 1., 1., 1., 0., 1., 1.,\n",
       "       1., 1., 1., 1., 1., 1., 0., 0., 1., 1., 0., 0., 0., 0., 1., 0., 1.,\n",
       "       0., 1., 1., 0., 0., 0., 1., 1., 0., 0., 0., 1., 0., 1., 1., 0., 1.,\n",
       "       1., 0., 1., 0., 1., 1., 1., 0., 1., 0., 0., 0., 0., 1., 0., 1., 1.,\n",
       "       0., 1., 0., 0., 0., 0., 1., 0., 0., 1., 1., 1., 1., 0., 0., 0., 1.,\n",
       "       1., 0., 0., 0., 0., 1., 1., 0., 1., 0., 0., 1., 0., 1., 0., 0., 0.,\n",
       "       1., 0., 1., 1., 0., 1., 1., 0., 1., 1., 0., 1., 1., 0., 0., 0., 1.,\n",
       "       0., 0., 1., 0., 0., 0., 1., 0., 0., 1., 0., 0., 1., 0., 1., 1., 1.,\n",
       "       1., 0., 0., 1., 1., 0., 1., 0., 1., 0., 0., 1., 1., 1., 1., 1., 1.,\n",
       "       1., 0., 1., 1., 1., 1., 1., 0., 0., 0., 1., 0., 0., 1., 1., 0., 0.,\n",
       "       1., 1., 1., 0., 1., 0., 0., 1., 0., 0., 1., 0., 0., 0., 1., 0., 1.,\n",
       "       0., 0., 0., 0., 0., 0., 0., 0., 0., 1., 0., 1., 1., 1., 1., 1., 0.,\n",
       "       1., 0., 0., 1., 0., 0., 0., 1., 1., 1., 0., 1., 1., 0., 0., 0., 1.,\n",
       "       0., 0., 0., 0., 0., 0., 0., 1., 1., 1., 0., 0., 0., 0., 1., 0., 0.,\n",
       "       0., 0., 0., 0., 0., 1., 0., 1., 1., 0., 1., 0., 1., 0., 0., 1., 0.,\n",
       "       0., 1., 1., 1., 0., 1., 0., 0., 1., 1., 0., 1., 1., 1., 1., 0., 1.,\n",
       "       0., 1., 1., 1., 0., 1., 1., 0., 1., 0., 1., 1., 0., 0., 1., 1., 0.,\n",
       "       1., 0., 1., 1., 1., 1., 0., 0., 1., 1., 0.])"
      ]
     },
     "metadata": {},
     "execution_count": 97
    }
   ],
   "source": [
    "for i, v in enumerate(predictions):\n",
    "    if v > 0:\n",
    "        predictions[i] = 1\n",
    "    else:\n",
    "        predictions[i] = 0\n",
    "\n",
    "predictions"
   ]
  },
  {
   "source": [
    "Check performance of model"
   ],
   "cell_type": "markdown",
   "metadata": {}
  },
  {
   "cell_type": "code",
   "execution_count": 98,
   "metadata": {},
   "outputs": [
    {
     "output_type": "execute_result",
     "data": {
      "text/plain": [
       "(0.66996699669967, 0.6391752577319587, 0.6619217081850534, 0.6503496503496504)"
      ]
     },
     "metadata": {},
     "execution_count": 98
    }
   ],
   "source": [
    "acc = accuracy_score(y_test,predictions)\n",
    "precision = precision_score(y_test,predictions) \n",
    "recall = recall_score(y_test,predictions) \n",
    "f1 = f1_score(y_test,predictions)\n",
    "\n",
    "acc, precision, recall, f1"
   ]
  },
  {
   "source": [
    "Part 3: Using regression based on all 8 factors to predict games in the 2nd half of season"
   ],
   "cell_type": "markdown",
   "metadata": {}
  },
  {
   "source": [
    "Redefine model variables"
   ],
   "cell_type": "markdown",
   "metadata": {}
  },
  {
   "cell_type": "code",
   "execution_count": 99,
   "metadata": {},
   "outputs": [],
   "source": [
    "features_list = ['DIS_ELO_x', 'HOME_COURT_x', 'DIS_OFFRATE_x', 'DIS_DEFRATE_x', 'DIS_PTS_x', 'DIS_AST_x', 'DIS_OREB_x', 'DIS_DREB_x']"
   ]
  },
  {
   "cell_type": "code",
   "execution_count": 100,
   "metadata": {},
   "outputs": [
    {
     "output_type": "execute_result",
     "data": {
      "text/plain": [
       "((608, 8), (606, 8), (608,), (606,))"
      ]
     },
     "metadata": {},
     "execution_count": 100
    }
   ],
   "source": [
    "X_train = first_half[features_list]\n",
    "X_test = second_half[features_list]\n",
    "y_train = first_half['PLUS_MINUS_x']\n",
    "y_test = second_half['WL_x']\n",
    "\n",
    "X_train.shape, X_test.shape, y_train.shape, y_test.shape"
   ]
  },
  {
   "source": [
    "Modelling"
   ],
   "cell_type": "markdown",
   "metadata": {}
  },
  {
   "cell_type": "code",
   "execution_count": 101,
   "metadata": {},
   "outputs": [
    {
     "output_type": "execute_result",
     "data": {
      "text/plain": [
       "array([-1.18144708e+01,  5.79811612e+00,  1.17345763e+01,  7.10661590e+00,\n",
       "       -1.66725026e+01, -8.46934889e+00, -4.93614283e+00,  2.38989179e+00,\n",
       "       -1.85688304e+00,  3.51530521e+00, -4.53854606e+00,  1.41332684e+00,\n",
       "        1.15896354e+01, -6.19592097e+00, -1.24138125e+01,  1.60950701e+00,\n",
       "        7.51761056e+00, -6.48218452e+00,  2.09970645e+00, -8.33228881e+00,\n",
       "       -5.07311497e+00,  7.96759487e+00, -1.17076005e+00,  7.52112961e+00,\n",
       "       -7.92617506e+00, -1.48340905e+00,  3.02156539e+00,  1.01820675e+01,\n",
       "        6.86797137e+00, -4.91306365e+00,  1.32405002e+01,  6.15669127e+00,\n",
       "       -8.22054294e+00, -3.21641903e-01,  1.08942976e+00, -1.45428343e+01,\n",
       "       -1.59590563e+00,  3.77687885e+00,  9.44800003e-01, -9.83839803e+00,\n",
       "       -1.75340664e+00, -5.71210816e+00, -1.65701919e+01, -8.37108640e+00,\n",
       "        1.71941037e+01, -3.42428150e+00, -1.45051024e+01, -1.25822256e+00,\n",
       "       -1.74239911e+00, -4.39237306e+00, -1.04320068e+01, -5.81093347e-02,\n",
       "        5.27213517e+00,  6.21250537e+00,  1.18934365e+01,  1.71193993e+01,\n",
       "        8.67999796e+00,  6.28621166e+00, -7.31398847e+00, -4.82289194e+00,\n",
       "       -8.56261434e+00,  3.59922075e+00,  6.00576102e-01,  6.78512400e+00,\n",
       "        9.19139084e+00,  5.91657562e+00, -2.74774387e+00, -2.95732563e+00,\n",
       "       -5.39597959e+00, -2.98690433e+00,  3.24519220e-01,  6.06735615e+00,\n",
       "        4.59287824e+00, -1.28501805e+01, -4.72723277e+00, -4.28858241e+00,\n",
       "        4.66628827e+00,  8.34759860e+00, -1.93091921e-02, -1.58678767e+00,\n",
       "        3.91894358e+00,  5.03738896e-01,  1.28805897e-01, -4.67050878e+00,\n",
       "        6.27688922e+00,  6.03102347e-01,  5.15516166e+00, -5.99698514e+00,\n",
       "        7.12337736e+00, -1.79950079e+00, -1.69833371e+01, -1.00742541e+01,\n",
       "       -6.62561360e+00,  6.23533384e+00,  2.19494140e+00,  1.37259972e+01,\n",
       "       -6.24447873e+00,  1.73307923e+01,  1.14923016e-01,  8.61015137e-01,\n",
       "       -1.20931782e+01,  1.97667368e+00,  3.25149659e+00, -7.35523020e+00,\n",
       "        5.37727938e+00, -6.41999976e-02, -1.05946142e+00, -1.16594045e+01,\n",
       "       -8.32799315e+00, -4.68948290e+00, -4.88412343e-01,  7.82756626e+00,\n",
       "       -3.60964488e+00,  3.05557061e+00, -8.87373143e+00,  1.44686750e+00,\n",
       "        1.06861552e+01, -4.24052702e+00,  5.67655431e+00, -4.45857577e+00,\n",
       "       -1.22147450e+01, -9.58108310e+00, -9.17493402e+00, -1.77740227e+00,\n",
       "       -1.66376591e+01, -1.58336268e+01,  1.64996500e+00,  2.69128517e+00,\n",
       "        5.89937027e+00,  6.18360781e+00,  3.28172508e+00,  1.27752409e+01,\n",
       "       -6.82501824e+00,  7.03178257e+00, -6.37769860e+00, -4.86888989e+00,\n",
       "       -8.59064398e+00, -4.35197242e+00, -5.40444857e+00,  3.02265679e+00,\n",
       "        3.56835632e+00,  1.57609197e-01, -7.18084416e+00,  3.10252834e+00,\n",
       "       -1.66050339e+00,  1.08969287e+01,  6.74617963e+00,  9.44561615e+00,\n",
       "        7.74891353e+00, -4.15027169e-03, -9.49980334e-01, -8.49767586e+00,\n",
       "       -4.79486537e+00,  1.41411951e+00, -5.90206147e+00,  2.35981484e+00,\n",
       "       -1.21826129e+01,  4.06552658e+00, -1.22814715e+01,  2.67794843e-02,\n",
       "        1.34245156e+00, -8.43627758e+00,  6.61525596e-01,  6.68012146e+00,\n",
       "        2.94130290e+00,  7.05146070e+00,  2.62662102e-01, -9.75943682e+00,\n",
       "       -1.56643349e+00, -4.97856438e+00, -4.64818390e+00,  4.88901732e+00,\n",
       "        5.99291559e+00, -3.84772508e+00,  1.29357997e+00, -1.17705899e+01,\n",
       "        1.90585228e+00, -9.31996480e+00, -9.93970199e+00, -8.47697535e+00,\n",
       "        1.42853501e+01,  1.16248124e+00, -3.96830866e+00,  4.01478752e+00,\n",
       "        1.54859021e+01, -3.66034256e+00,  5.34946481e+00, -1.87650068e+00,\n",
       "        2.98980239e+00,  8.71063645e+00, -7.01222630e+00, -1.25257292e+01,\n",
       "       -1.29441258e+01,  2.96346028e+00,  1.36004213e+01,  7.43395666e+00,\n",
       "        2.46008371e+00,  2.47272170e-01,  1.56739193e+01,  5.56290687e+00,\n",
       "       -1.48086465e+01, -8.72923110e+00,  2.68349803e+00,  1.35956800e+01,\n",
       "       -1.36402458e-01,  6.84526975e-01, -3.35502286e+00,  4.88754076e-01,\n",
       "       -1.68141914e+01, -9.41923127e+00,  1.18997346e+01, -1.54431698e+01,\n",
       "       -3.95205812e-01, -2.97303135e+00, -1.52419926e+01, -5.58351453e+00,\n",
       "       -8.82521944e+00, -4.62910440e+00, -1.35361738e+00, -1.07055058e+01,\n",
       "       -5.91868214e+00, -5.40431128e+00, -8.98718345e+00,  2.93681199e+00,\n",
       "        7.75877257e+00,  2.05241676e+00,  8.65682394e-02,  3.52150360e+00,\n",
       "       -4.33092393e+00,  7.38468092e+00, -1.44990245e+00, -1.36810528e+01,\n",
       "        7.79895376e+00,  1.30922020e+01,  5.62567269e+00,  8.12375255e-01,\n",
       "        2.44123155e+00,  2.35396000e-01,  1.28013719e+01, -4.47027222e+00,\n",
       "        3.02002788e+00, -1.13105794e+01, -9.61802057e+00,  6.04573632e+00,\n",
       "       -1.17914401e+01, -9.91431528e-01, -5.82141486e+00, -8.42165146e-01,\n",
       "        1.81537857e+00,  4.19221169e+00, -1.44333805e+00,  3.32304974e+00,\n",
       "        7.24805466e+00,  1.09967389e+01, -5.73554747e+00,  6.58514715e+00,\n",
       "       -8.05309510e+00, -4.88287189e-01, -4.90898136e+00, -1.19605834e+01,\n",
       "        6.70164667e+00, -8.05105153e+00, -3.68006906e+00, -2.16041781e+00,\n",
       "        1.19613366e+01,  4.76694849e+00,  8.95211102e+00,  8.58990516e+00,\n",
       "        1.73160930e+00, -1.14593743e+01,  9.57932691e+00,  8.87441197e+00,\n",
       "        1.63095484e+00,  3.70361464e-01, -5.80215505e+00,  8.80491599e+00,\n",
       "        1.21662088e+00, -3.63842541e+00, -1.42417393e+01, -1.46829802e+01,\n",
       "       -2.83514845e+00, -8.02147243e+00, -1.05921911e+01, -8.30464443e+00,\n",
       "       -7.15959163e+00,  4.64738096e+00,  2.85482521e+00,  1.52483571e+00,\n",
       "       -6.63700993e+00,  7.22815460e+00,  7.99077258e+00, -1.77074009e+00,\n",
       "       -2.02986428e+00, -7.00439447e+00,  2.59198654e+00,  1.13268250e+00,\n",
       "        3.91972100e+00,  6.42121807e+00, -8.01012249e+00,  6.23644689e-01,\n",
       "        4.83332478e+00, -2.17342226e+00, -7.52166275e+00,  3.50871301e+00,\n",
       "        5.79744805e+00, -6.11947733e+00,  9.12226239e+00, -6.82117079e+00,\n",
       "        2.46399812e+00, -9.26545744e+00, -1.88059538e+00,  6.04063288e+00,\n",
       "        3.18982501e-01, -7.41223056e+00,  6.82366360e+00, -5.07578608e+00,\n",
       "       -2.15640942e+00,  1.08940649e+01,  2.13981440e+00,  2.94687970e+00,\n",
       "       -6.80054128e-01,  8.34956176e-01,  1.28587208e+01,  3.27368827e+00,\n",
       "        4.91045516e+00,  1.05259613e+01,  3.09767381e+00,  1.66894620e+01,\n",
       "        7.82833303e+00, -5.48765867e+00, -7.08046328e+00,  8.90475277e-01,\n",
       "        1.23509117e+01, -1.00336523e+00, -8.98071746e+00, -8.63479798e+00,\n",
       "       -1.37823444e+01,  7.96442548e-01, -9.09262324e+00,  5.73150085e+00,\n",
       "       -3.06374645e+00,  2.84837955e+00,  7.60230171e-01, -1.25933476e+00,\n",
       "       -1.09978324e+01, -6.62152144e+00,  8.93437505e+00,  3.94963975e+00,\n",
       "       -5.17566848e+00, -2.10358692e+00, -6.16667458e+00,  7.65504175e+00,\n",
       "       -2.20388644e+00,  2.63198268e+00,  2.94600135e+00, -5.34114124e+00,\n",
       "        9.48814989e-01,  6.00581532e+00, -1.10147546e+01,  2.55850587e+00,\n",
       "       -6.72589083e+00,  1.36111497e+01,  1.69181726e+00,  4.28825602e+00,\n",
       "       -4.81916110e+00,  1.58102708e+01, -8.36232123e+00, -2.34860959e+00,\n",
       "       -2.10398052e+01, -2.50056841e+00,  3.90908043e+00, -3.96174506e+00,\n",
       "        1.25039154e+01,  1.03242175e+01, -4.46042248e+00,  3.70237162e+00,\n",
       "       -1.44938484e+00, -2.46460355e+00, -1.43031440e+00, -1.04260077e+01,\n",
       "        1.07251266e+01, -5.47605570e+00, -1.57988226e+01,  3.58453247e+00,\n",
       "        6.39218239e+00,  2.74306070e-01,  1.61700905e+01, -3.37023728e-01,\n",
       "       -1.04339649e+01, -8.59321921e-01,  3.99830902e+00,  1.86623595e-01,\n",
       "        7.41197501e-01, -2.75173533e+00, -1.00765233e+01, -1.26258104e+01,\n",
       "        6.49013492e+00,  8.70971109e+00, -3.19691887e+00,  1.26096223e+01,\n",
       "       -8.63959389e+00, -1.30698957e+01,  2.64407627e+00, -6.51773171e+00,\n",
       "        1.54555341e+01, -1.90476916e+01, -3.69324147e+00, -9.98816979e+00,\n",
       "        6.34581824e+00, -4.97301536e+00,  5.58036035e+00,  1.04756541e+01,\n",
       "       -7.13728697e+00,  5.76232928e+00,  9.69081253e+00, -2.20313117e+00,\n",
       "        1.05555414e+00,  6.31283110e+00, -9.98397938e+00,  4.26782757e+00,\n",
       "        1.15164977e+00, -7.47938525e+00, -5.84339486e+00, -9.52066186e+00,\n",
       "        4.44081765e+00, -5.53850572e+00, -9.60223636e-01,  3.55654168e+00,\n",
       "       -2.02410051e+01, -5.66224528e+00, -3.05265358e+00,  6.07256882e+00,\n",
       "       -1.10855199e+00, -2.33124246e+00,  1.37899760e+00, -6.64797509e+00,\n",
       "       -4.19406741e+00,  5.79187790e+00, -6.61700252e+00,  1.52705496e+01,\n",
       "        6.08133757e+00,  5.78337680e+00,  1.25257005e+01, -1.56911953e+00,\n",
       "       -6.54511192e+00,  5.38358534e-01,  4.17814996e+00, -1.39395677e+01,\n",
       "        1.17183448e+01, -2.84803712e+00,  6.53343915e+00, -7.03576557e+00,\n",
       "       -8.77043150e+00,  6.51175014e+00,  7.84785295e+00,  6.88688818e+00,\n",
       "        8.73658932e+00,  1.09673631e+00,  1.51396848e+01,  6.02088975e+00,\n",
       "       -8.22824223e+00,  1.92863854e+00,  1.51784914e+01,  2.02273062e+00,\n",
       "        7.55281080e+00,  3.58620821e-01, -9.03123290e+00, -2.98314266e+00,\n",
       "       -1.21251902e+01,  6.11758214e+00, -1.26103477e+01, -4.11070423e+00,\n",
       "        3.17853343e+00,  5.01539098e-01, -1.91802228e+01, -9.76947521e+00,\n",
       "        1.01402332e+00,  9.48997762e+00,  7.35590596e+00, -3.18536107e+00,\n",
       "        1.67407650e+01, -4.62042583e+00, -7.27852231e-01,  1.42070332e+01,\n",
       "       -7.04526227e+00, -3.65152586e+00,  2.45083368e+00, -1.03393907e+01,\n",
       "       -3.37802032e+00, -3.28853785e+00,  3.23047233e+00, -7.75676551e+00,\n",
       "        1.09238356e+01, -2.98213483e+00, -1.11733735e+01, -3.01474460e+00,\n",
       "       -9.25106739e+00, -5.00247710e-01, -1.98556129e+00, -1.33225318e-01,\n",
       "       -9.13679917e+00, -1.43615674e+01,  8.04543393e+00, -1.49679192e+01,\n",
       "        7.53945004e+00,  1.18819826e+01,  6.16253768e+00,  1.38656077e+00,\n",
       "       -2.71846101e-01, -4.73500712e+00,  5.74032170e+00, -1.09779808e+01,\n",
       "       -1.48563248e+01,  8.87682601e+00, -1.00503367e+01, -6.47665135e-01,\n",
       "       -3.50295412e+00,  2.19336910e+00,  3.83649937e+00,  1.91552595e+00,\n",
       "       -9.61420591e+00,  9.34155045e+00,  9.95131947e+00, -4.56388664e+00,\n",
       "       -1.17583645e+01, -1.57996414e+01,  8.65032226e+00, -1.08649569e+01,\n",
       "       -3.06012068e+00, -4.39892024e+00, -5.64470256e+00, -6.20037716e+00,\n",
       "       -1.95370297e+00, -7.21256606e+00, -6.36692735e-01,  6.85944923e+00,\n",
       "        2.37401501e+00, -1.00065302e+01, -4.36948748e+00, -7.43119371e+00,\n",
       "       -3.47511723e+00,  1.50695959e+01, -6.10841931e+00,  9.04712297e-01,\n",
       "       -6.39764270e+00, -2.52544423e+00,  8.92105930e-01, -1.36856500e+01,\n",
       "       -3.52008316e+00,  1.28358032e+01,  7.26912187e-01,  6.57156618e+00,\n",
       "        3.58443292e-01, -8.75298690e+00,  9.17684839e+00, -5.36263190e-01,\n",
       "        2.23967902e+00, -1.09601898e+01, -2.02365726e+01,  6.46209832e+00,\n",
       "       -4.46809451e+00, -5.56075230e+00,  9.29443010e+00,  5.89031485e-01,\n",
       "        1.95365763e+01, -5.29282735e+00,  2.87333320e+00, -4.45424098e+00,\n",
       "       -1.34615994e+01,  8.44316008e+00,  1.38014755e+01, -1.94054192e+01,\n",
       "        7.33557228e+00,  2.90455376e+00,  5.42393259e+00,  7.34058959e+00,\n",
       "       -5.22462678e+00,  2.91081878e+00, -2.83646839e+00, -7.57474575e-01,\n",
       "        4.97963724e+00,  2.56663932e+00, -1.01110733e+01,  2.98373080e+00,\n",
       "        8.22601427e+00, -7.71842888e+00,  5.20537396e+00, -5.36954107e+00,\n",
       "        4.85948189e+00,  3.03264694e-01, -2.92127959e+00, -6.40771989e+00,\n",
       "        4.94759892e+00,  1.09256364e+00, -9.70953143e+00,  9.85332279e+00,\n",
       "       -2.11931436e-01,  2.50934620e-02,  1.49373927e+01,  1.03485985e+01,\n",
       "        9.60298218e+00, -1.26039211e+01, -1.03431595e+00,  2.58147212e+00,\n",
       "        6.36789368e+00, -1.00028153e+01])"
      ]
     },
     "metadata": {},
     "execution_count": 101
    }
   ],
   "source": [
    "m = LinearRegression()\n",
    "m.fit(X_train, y_train)\n",
    "predictions = m.predict(X_test)\n",
    "\n",
    "predictions"
   ]
  },
  {
   "cell_type": "code",
   "execution_count": null,
   "metadata": {},
   "outputs": [],
   "source": [
    "Convert estimated point difference to binary outcome"
   ]
  },
  {
   "cell_type": "code",
   "execution_count": 102,
   "metadata": {},
   "outputs": [
    {
     "output_type": "execute_result",
     "data": {
      "text/plain": [
       "array([0., 1., 1., 1., 0., 0., 0., 1., 0., 1., 0., 1., 1., 0., 0., 1., 1.,\n",
       "       0., 1., 0., 0., 1., 0., 1., 0., 0., 1., 1., 1., 0., 1., 1., 0., 0.,\n",
       "       1., 0., 0., 1., 1., 0., 0., 0., 0., 0., 1., 0., 0., 0., 0., 0., 0.,\n",
       "       0., 1., 1., 1., 1., 1., 1., 0., 0., 0., 1., 1., 1., 1., 1., 0., 0.,\n",
       "       0., 0., 1., 1., 1., 0., 0., 0., 1., 1., 0., 0., 1., 1., 1., 0., 1.,\n",
       "       1., 1., 0., 1., 0., 0., 0., 0., 1., 1., 1., 0., 1., 1., 1., 0., 1.,\n",
       "       1., 0., 1., 0., 0., 0., 0., 0., 0., 1., 0., 1., 0., 1., 1., 0., 1.,\n",
       "       0., 0., 0., 0., 0., 0., 0., 1., 1., 1., 1., 1., 1., 0., 1., 0., 0.,\n",
       "       0., 0., 0., 1., 1., 1., 0., 1., 0., 1., 1., 1., 1., 0., 0., 0., 0.,\n",
       "       1., 0., 1., 0., 1., 0., 1., 1., 0., 1., 1., 1., 1., 1., 0., 0., 0.,\n",
       "       0., 1., 1., 0., 1., 0., 1., 0., 0., 0., 1., 1., 0., 1., 1., 0., 1.,\n",
       "       0., 1., 1., 0., 0., 0., 1., 1., 1., 1., 1., 1., 1., 0., 0., 1., 1.,\n",
       "       0., 1., 0., 1., 0., 0., 1., 0., 0., 0., 0., 0., 0., 0., 0., 0., 0.,\n",
       "       0., 0., 1., 1., 1., 1., 1., 0., 1., 0., 0., 1., 1., 1., 1., 1., 1.,\n",
       "       1., 0., 1., 0., 0., 1., 0., 0., 0., 0., 1., 1., 0., 1., 1., 1., 0.,\n",
       "       1., 0., 0., 0., 0., 1., 0., 0., 0., 1., 1., 1., 1., 1., 0., 1., 1.,\n",
       "       1., 1., 0., 1., 1., 0., 0., 0., 0., 0., 0., 0., 0., 1., 1., 1., 0.,\n",
       "       1., 1., 0., 0., 0., 1., 1., 1., 1., 0., 1., 1., 0., 0., 1., 1., 0.,\n",
       "       1., 0., 1., 0., 0., 1., 1., 0., 1., 0., 0., 1., 1., 1., 0., 1., 1.,\n",
       "       1., 1., 1., 1., 1., 1., 0., 0., 1., 1., 0., 0., 0., 0., 1., 0., 1.,\n",
       "       0., 1., 1., 0., 0., 0., 1., 1., 0., 0., 0., 1., 0., 1., 1., 0., 1.,\n",
       "       1., 0., 1., 0., 1., 1., 1., 0., 1., 0., 0., 0., 0., 1., 0., 1., 1.,\n",
       "       0., 1., 0., 0., 0., 0., 1., 0., 0., 1., 1., 1., 1., 0., 0., 0., 1.,\n",
       "       1., 1., 0., 0., 0., 1., 1., 0., 1., 0., 0., 1., 0., 1., 0., 0., 0.,\n",
       "       1., 0., 1., 1., 0., 1., 1., 0., 1., 1., 0., 1., 1., 0., 0., 0., 1.,\n",
       "       0., 0., 1., 0., 0., 0., 1., 0., 0., 1., 0., 0., 1., 0., 1., 1., 1.,\n",
       "       1., 0., 0., 1., 1., 0., 1., 0., 1., 0., 0., 1., 1., 1., 1., 1., 1.,\n",
       "       1., 0., 1., 1., 1., 1., 1., 0., 0., 0., 1., 0., 0., 1., 1., 0., 0.,\n",
       "       1., 1., 1., 0., 1., 0., 0., 1., 0., 0., 1., 0., 0., 0., 1., 0., 1.,\n",
       "       0., 0., 0., 0., 0., 0., 0., 0., 0., 1., 0., 1., 1., 1., 1., 0., 0.,\n",
       "       1., 0., 0., 1., 0., 0., 0., 1., 1., 1., 0., 1., 1., 0., 0., 0., 1.,\n",
       "       0., 0., 0., 0., 0., 0., 0., 0., 1., 1., 0., 0., 0., 0., 1., 0., 1.,\n",
       "       0., 0., 1., 0., 0., 1., 1., 1., 1., 0., 1., 0., 1., 0., 0., 1., 0.,\n",
       "       0., 1., 1., 1., 0., 1., 0., 0., 1., 1., 0., 1., 1., 1., 1., 0., 1.,\n",
       "       0., 0., 1., 1., 0., 1., 1., 0., 1., 0., 1., 1., 0., 0., 1., 1., 0.,\n",
       "       1., 0., 1., 1., 1., 1., 0., 0., 1., 1., 0.])"
      ]
     },
     "metadata": {},
     "execution_count": 102
    }
   ],
   "source": [
    "for i, v in enumerate(predictions):\n",
    "    if v > 0:\n",
    "        predictions[i] = 1\n",
    "    else:\n",
    "        predictions[i] = 0\n",
    "\n",
    "predictions"
   ]
  },
  {
   "cell_type": "code",
   "execution_count": null,
   "metadata": {},
   "outputs": [],
   "source": [
    "Check performance of model"
   ]
  },
  {
   "cell_type": "code",
   "execution_count": 103,
   "metadata": {},
   "outputs": [
    {
     "output_type": "execute_result",
     "data": {
      "text/plain": [
       "(0.6617161716171617,\n",
       " 0.6266666666666667,\n",
       " 0.6690391459074733,\n",
       " 0.6471600688468159)"
      ]
     },
     "metadata": {},
     "execution_count": 103
    }
   ],
   "source": [
    "acc = accuracy_score(y_test,predictions)\n",
    "precision = precision_score(y_test,predictions) \n",
    "recall = recall_score(y_test,predictions) \n",
    "f1 = f1_score(y_test,predictions)\n",
    "\n",
    "acc, precision, recall, f1"
   ]
  },
  {
   "cell_type": "code",
   "execution_count": null,
   "metadata": {},
   "outputs": [],
   "source": []
  }
 ]
}