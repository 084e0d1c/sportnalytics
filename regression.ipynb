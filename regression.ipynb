{
 "metadata": {
  "language_info": {
   "codemirror_mode": {
    "name": "ipython",
    "version": 3
   },
   "file_extension": ".py",
   "mimetype": "text/x-python",
   "name": "python",
   "nbconvert_exporter": "python",
   "pygments_lexer": "ipython3",
   "version": "3.9.0-final"
  },
  "orig_nbformat": 2,
  "kernelspec": {
   "name": "python3",
   "display_name": "Python 3.9.0 64-bit",
   "metadata": {
    "interpreter": {
     "hash": "7812ea015bdcee6f23a998adcdd2ef97c151c0c241b7b7070987d9313e41299d"
    }
   }
  }
 },
 "nbformat": 4,
 "nbformat_minor": 2,
 "cells": [
  {
   "cell_type": "code",
   "execution_count": 1,
   "metadata": {},
   "outputs": [
    {
     "output_type": "execute_result",
     "data": {
      "text/plain": [
       "'/Library/Frameworks/Python.framework/Versions/3.8/bin/python3'"
      ]
     },
     "metadata": {},
     "execution_count": 1
    }
   ],
   "source": [
    "import sys\n",
    "sys.executable"
   ]
  },
  {
   "cell_type": "code",
   "execution_count": 3,
   "metadata": {},
   "outputs": [],
   "source": [
    "import pandas as pd\n",
    "import statsmodels.api as sm\n",
    "import numpy as np\n",
    "\n",
    "### Graphic libraries\n",
    "import matplotlib.pyplot as plt\n",
    "import seaborn as sns \n",
    "\n",
    "\n",
    "### Importing the relevant ML libraries \n",
    "from sklearn.model_selection import train_test_split\n",
    "from sklearn.linear_model import LinearRegression\n",
    "\n",
    "\n",
    "from sklearn.metrics import accuracy_score,roc_curve,auc,recall_score,f1_score,precision_score,classification_report,confusion_matrix,auc\n",
    "\n",
    "### Some cosmetics add-ons\n",
    "plt.style.use('fivethirtyeight')\n",
    "%matplotlib inline"
   ]
  },
  {
   "source": [
    "Read csv file"
   ],
   "cell_type": "markdown",
   "metadata": {}
  },
  {
   "cell_type": "code",
   "execution_count": 4,
   "metadata": {},
   "outputs": [],
   "source": [
    "df = pd.read_csv('annual_data/nba_season_2014-2020.csv')"
   ]
  },
  {
   "cell_type": "code",
   "execution_count": 5,
   "metadata": {},
   "outputs": [],
   "source": [
    "df.drop(df[(df.GAME_PLAYED_x == 1) | (df.GAME_PLAYED_y == 1)].index, inplace = True)"
   ]
  },
  {
   "source": [
    "Drop rows of all the first games of every team"
   ],
   "cell_type": "markdown",
   "metadata": {}
  },
  {
   "source": [
    "Extract first 41 games (mid season) of every team"
   ],
   "cell_type": "markdown",
   "metadata": {}
  },
  {
   "cell_type": "code",
   "execution_count": 6,
   "metadata": {},
   "outputs": [
    {
     "output_type": "execute_result",
     "data": {
      "text/plain": [
       "      SEASON_ID_x   TEAM_ID_x TEAM_ABBREVIATION_x             TEAM_NAME_x  \\\n",
       "16          22014  1610612765                 DET         Detroit Pistons   \n",
       "17          22014  1610612762                 UTA               Utah Jazz   \n",
       "18          22014  1610612764                 WAS      Washington Wizards   \n",
       "20          22014  1610612758                 SAC        Sacramento Kings   \n",
       "21          22014  1610612759                 SAS       San Antonio Spurs   \n",
       "...           ...         ...                 ...                     ...   \n",
       "7285        22020  1610612759                 SAS       San Antonio Spurs   \n",
       "7286        22020  1610612755                 PHI      Philadelphia 76ers   \n",
       "7287        22020  1610612757                 POR  Portland Trail Blazers   \n",
       "7288        22020  1610612743                 DEN          Denver Nuggets   \n",
       "7289        22020  1610612761                 TOR         Toronto Raptors   \n",
       "\n",
       "       GAME_ID GAME_DATE_x    MATCHUP_x  WL_x  MIN_x  PTS_x  ...  OFFRATE_y  \\\n",
       "16    21400017  2014-10-30    DET @ MIN     0    241     91  ...   1.018145   \n",
       "17    21400019  2014-10-30    UTA @ DAL     0    241    102  ...   1.154734   \n",
       "18    21400016  2014-10-30    WAS @ ORL     1    240    105  ...   0.889831   \n",
       "20    21400025  2014-10-31  SAC vs. POR     1    240    103  ...   1.142241   \n",
       "21    21400024  2014-10-31    SAS @ PHX     0    239     89  ...   1.263270   \n",
       "...        ...         ...          ...   ...    ...    ...  ...        ...   \n",
       "7285  22000176  2021-01-14  SAS vs. HOU     0    238    105  ...   1.087948   \n",
       "7286  22000174  2021-01-14  PHI vs. MIA     1    239    125  ...   1.079509   \n",
       "7287  22000178  2021-01-14  POR vs. IND     0    240     87  ...   1.116127   \n",
       "7288  22000177  2021-01-14  DEN vs. GSW     1    240    114  ...   1.074953   \n",
       "7289  22000175  2021-01-14  TOR vs. CHA     1    242    111  ...   1.068816   \n",
       "\n",
       "      DEFRATE_y        ELO_y  DIS_PTS_y  DIS_AST_y  DIS_OREB_y  DIS_DREB_y  \\\n",
       "16     1.058468  1490.000000  22.000000   5.000000   11.000000   -9.000000   \n",
       "17     1.166282  1490.000000   7.000000   1.000000   -4.000000    3.000000   \n",
       "18     1.069915  1490.000000 -11.000000  -3.000000    9.000000   11.000000   \n",
       "20     0.959052  1510.000000  29.000000  10.000000   -2.000000   -6.000000   \n",
       "21     2.006369  1509.712256  18.000000   0.000000    0.000000    2.000000   \n",
       "...         ...          ...        ...        ...         ...         ...   \n",
       "7285   1.375679  1476.427355   0.151515  -2.434343   -0.979798   -2.141414   \n",
       "7286   1.466279  1490.196640  -2.083333   0.944444   -2.750000   -0.888889   \n",
       "7287   1.002832  1524.393682  -4.000000   3.636364   -0.363636   -1.000000   \n",
       "7288   1.196395  1516.631270  -3.154545  -2.381818   -2.000000    4.172727   \n",
       "7289   0.909242  1504.479926  -3.933333   5.066667    1.066667    0.016667   \n",
       "\n",
       "      DIS_OFFRATE_y  DIS_DEFRATE_y  DIS_ELO_y  \n",
       "16         0.216928       0.155831   0.000000  \n",
       "17         0.095509      -1.248297  -0.287744  \n",
       "18        -0.147287      -0.098207   0.000000  \n",
       "20         0.394669       0.036722  20.000000  \n",
       "21         0.107663       0.862205  -0.287744  \n",
       "...             ...            ...        ...  \n",
       "7285       0.007941       0.451977 -33.707151  \n",
       "7286      -0.010163       0.664037 -38.782458  \n",
       "7287      -0.024807      -0.201049  -2.669028  \n",
       "7288      -0.078894       0.024534  22.314357  \n",
       "7289      -0.022539      -0.243017  54.433301  \n",
       "\n",
       "[3801 rows x 111 columns]"
      ],
      "text/html": "<div>\n<style scoped>\n    .dataframe tbody tr th:only-of-type {\n        vertical-align: middle;\n    }\n\n    .dataframe tbody tr th {\n        vertical-align: top;\n    }\n\n    .dataframe thead th {\n        text-align: right;\n    }\n</style>\n<table border=\"1\" class=\"dataframe\">\n  <thead>\n    <tr style=\"text-align: right;\">\n      <th></th>\n      <th>SEASON_ID_x</th>\n      <th>TEAM_ID_x</th>\n      <th>TEAM_ABBREVIATION_x</th>\n      <th>TEAM_NAME_x</th>\n      <th>GAME_ID</th>\n      <th>GAME_DATE_x</th>\n      <th>MATCHUP_x</th>\n      <th>WL_x</th>\n      <th>MIN_x</th>\n      <th>PTS_x</th>\n      <th>...</th>\n      <th>OFFRATE_y</th>\n      <th>DEFRATE_y</th>\n      <th>ELO_y</th>\n      <th>DIS_PTS_y</th>\n      <th>DIS_AST_y</th>\n      <th>DIS_OREB_y</th>\n      <th>DIS_DREB_y</th>\n      <th>DIS_OFFRATE_y</th>\n      <th>DIS_DEFRATE_y</th>\n      <th>DIS_ELO_y</th>\n    </tr>\n  </thead>\n  <tbody>\n    <tr>\n      <th>16</th>\n      <td>22014</td>\n      <td>1610612765</td>\n      <td>DET</td>\n      <td>Detroit Pistons</td>\n      <td>21400017</td>\n      <td>2014-10-30</td>\n      <td>DET @ MIN</td>\n      <td>0</td>\n      <td>241</td>\n      <td>91</td>\n      <td>...</td>\n      <td>1.018145</td>\n      <td>1.058468</td>\n      <td>1490.000000</td>\n      <td>22.000000</td>\n      <td>5.000000</td>\n      <td>11.000000</td>\n      <td>-9.000000</td>\n      <td>0.216928</td>\n      <td>0.155831</td>\n      <td>0.000000</td>\n    </tr>\n    <tr>\n      <th>17</th>\n      <td>22014</td>\n      <td>1610612762</td>\n      <td>UTA</td>\n      <td>Utah Jazz</td>\n      <td>21400019</td>\n      <td>2014-10-30</td>\n      <td>UTA @ DAL</td>\n      <td>0</td>\n      <td>241</td>\n      <td>102</td>\n      <td>...</td>\n      <td>1.154734</td>\n      <td>1.166282</td>\n      <td>1490.000000</td>\n      <td>7.000000</td>\n      <td>1.000000</td>\n      <td>-4.000000</td>\n      <td>3.000000</td>\n      <td>0.095509</td>\n      <td>-1.248297</td>\n      <td>-0.287744</td>\n    </tr>\n    <tr>\n      <th>18</th>\n      <td>22014</td>\n      <td>1610612764</td>\n      <td>WAS</td>\n      <td>Washington Wizards</td>\n      <td>21400016</td>\n      <td>2014-10-30</td>\n      <td>WAS @ ORL</td>\n      <td>1</td>\n      <td>240</td>\n      <td>105</td>\n      <td>...</td>\n      <td>0.889831</td>\n      <td>1.069915</td>\n      <td>1490.000000</td>\n      <td>-11.000000</td>\n      <td>-3.000000</td>\n      <td>9.000000</td>\n      <td>11.000000</td>\n      <td>-0.147287</td>\n      <td>-0.098207</td>\n      <td>0.000000</td>\n    </tr>\n    <tr>\n      <th>20</th>\n      <td>22014</td>\n      <td>1610612758</td>\n      <td>SAC</td>\n      <td>Sacramento Kings</td>\n      <td>21400025</td>\n      <td>2014-10-31</td>\n      <td>SAC vs. POR</td>\n      <td>1</td>\n      <td>240</td>\n      <td>103</td>\n      <td>...</td>\n      <td>1.142241</td>\n      <td>0.959052</td>\n      <td>1510.000000</td>\n      <td>29.000000</td>\n      <td>10.000000</td>\n      <td>-2.000000</td>\n      <td>-6.000000</td>\n      <td>0.394669</td>\n      <td>0.036722</td>\n      <td>20.000000</td>\n    </tr>\n    <tr>\n      <th>21</th>\n      <td>22014</td>\n      <td>1610612759</td>\n      <td>SAS</td>\n      <td>San Antonio Spurs</td>\n      <td>21400024</td>\n      <td>2014-10-31</td>\n      <td>SAS @ PHX</td>\n      <td>0</td>\n      <td>239</td>\n      <td>89</td>\n      <td>...</td>\n      <td>1.263270</td>\n      <td>2.006369</td>\n      <td>1509.712256</td>\n      <td>18.000000</td>\n      <td>0.000000</td>\n      <td>0.000000</td>\n      <td>2.000000</td>\n      <td>0.107663</td>\n      <td>0.862205</td>\n      <td>-0.287744</td>\n    </tr>\n    <tr>\n      <th>...</th>\n      <td>...</td>\n      <td>...</td>\n      <td>...</td>\n      <td>...</td>\n      <td>...</td>\n      <td>...</td>\n      <td>...</td>\n      <td>...</td>\n      <td>...</td>\n      <td>...</td>\n      <td>...</td>\n      <td>...</td>\n      <td>...</td>\n      <td>...</td>\n      <td>...</td>\n      <td>...</td>\n      <td>...</td>\n      <td>...</td>\n      <td>...</td>\n      <td>...</td>\n      <td>...</td>\n    </tr>\n    <tr>\n      <th>7285</th>\n      <td>22020</td>\n      <td>1610612759</td>\n      <td>SAS</td>\n      <td>San Antonio Spurs</td>\n      <td>22000176</td>\n      <td>2021-01-14</td>\n      <td>SAS vs. HOU</td>\n      <td>0</td>\n      <td>238</td>\n      <td>105</td>\n      <td>...</td>\n      <td>1.087948</td>\n      <td>1.375679</td>\n      <td>1476.427355</td>\n      <td>0.151515</td>\n      <td>-2.434343</td>\n      <td>-0.979798</td>\n      <td>-2.141414</td>\n      <td>0.007941</td>\n      <td>0.451977</td>\n      <td>-33.707151</td>\n    </tr>\n    <tr>\n      <th>7286</th>\n      <td>22020</td>\n      <td>1610612755</td>\n      <td>PHI</td>\n      <td>Philadelphia 76ers</td>\n      <td>22000174</td>\n      <td>2021-01-14</td>\n      <td>PHI vs. MIA</td>\n      <td>1</td>\n      <td>239</td>\n      <td>125</td>\n      <td>...</td>\n      <td>1.079509</td>\n      <td>1.466279</td>\n      <td>1490.196640</td>\n      <td>-2.083333</td>\n      <td>0.944444</td>\n      <td>-2.750000</td>\n      <td>-0.888889</td>\n      <td>-0.010163</td>\n      <td>0.664037</td>\n      <td>-38.782458</td>\n    </tr>\n    <tr>\n      <th>7287</th>\n      <td>22020</td>\n      <td>1610612757</td>\n      <td>POR</td>\n      <td>Portland Trail Blazers</td>\n      <td>22000178</td>\n      <td>2021-01-14</td>\n      <td>POR vs. IND</td>\n      <td>0</td>\n      <td>240</td>\n      <td>87</td>\n      <td>...</td>\n      <td>1.116127</td>\n      <td>1.002832</td>\n      <td>1524.393682</td>\n      <td>-4.000000</td>\n      <td>3.636364</td>\n      <td>-0.363636</td>\n      <td>-1.000000</td>\n      <td>-0.024807</td>\n      <td>-0.201049</td>\n      <td>-2.669028</td>\n    </tr>\n    <tr>\n      <th>7288</th>\n      <td>22020</td>\n      <td>1610612743</td>\n      <td>DEN</td>\n      <td>Denver Nuggets</td>\n      <td>22000177</td>\n      <td>2021-01-14</td>\n      <td>DEN vs. GSW</td>\n      <td>1</td>\n      <td>240</td>\n      <td>114</td>\n      <td>...</td>\n      <td>1.074953</td>\n      <td>1.196395</td>\n      <td>1516.631270</td>\n      <td>-3.154545</td>\n      <td>-2.381818</td>\n      <td>-2.000000</td>\n      <td>4.172727</td>\n      <td>-0.078894</td>\n      <td>0.024534</td>\n      <td>22.314357</td>\n    </tr>\n    <tr>\n      <th>7289</th>\n      <td>22020</td>\n      <td>1610612761</td>\n      <td>TOR</td>\n      <td>Toronto Raptors</td>\n      <td>22000175</td>\n      <td>2021-01-14</td>\n      <td>TOR vs. CHA</td>\n      <td>1</td>\n      <td>242</td>\n      <td>111</td>\n      <td>...</td>\n      <td>1.068816</td>\n      <td>0.909242</td>\n      <td>1504.479926</td>\n      <td>-3.933333</td>\n      <td>5.066667</td>\n      <td>1.066667</td>\n      <td>0.016667</td>\n      <td>-0.022539</td>\n      <td>-0.243017</td>\n      <td>54.433301</td>\n    </tr>\n  </tbody>\n</table>\n<p>3801 rows × 111 columns</p>\n</div>"
     },
     "metadata": {},
     "execution_count": 6
    }
   ],
   "source": [
    "first_half = df[(df['GAME_PLAYED_x'] <= 41) | (df['GAME_PLAYED_y'] <= 41 )]\n",
    "first_half"
   ]
  },
  {
   "source": [
    "Define the DataFrame to be processed"
   ],
   "cell_type": "markdown",
   "metadata": {}
  },
  {
   "cell_type": "code",
   "execution_count": 7,
   "metadata": {},
   "outputs": [],
   "source": [
    "clean_df = first_half"
   ]
  },
  {
   "cell_type": "code",
   "execution_count": 54,
   "metadata": {},
   "outputs": [
    {
     "output_type": "execute_result",
     "data": {
      "text/plain": [
       "DIS_ELO_x         0.044024\n",
       "HOME_COURT_x      2.413302\n",
       "DIS_OFFRATE_x    29.630766\n",
       "DIS_DEFRATE_x    -0.262760\n",
       "DIS_PTS_x        -0.131305\n",
       "DIS_AST_x         0.139873\n",
       "DIS_OREB_x       -0.001489\n",
       "DIS_DREB_x        0.284768\n",
       "dtype: float64"
      ]
     },
     "metadata": {},
     "execution_count": 54
    }
   ],
   "source": [
    "y = clean_df['PLUS_MINUS_x']\n",
    "x = clean_df[['DIS_ELO_x','HOME_COURT_x','DIS_OFFRATE_x','DIS_DEFRATE_x','DIS_PTS_x','DIS_AST_x','DIS_OREB_x','DIS_DREB_x']]\n",
    "\n",
    "model = sm.OLS(y,x)\n",
    "results = model.fit()\n",
    "results.params  "
   ]
  },
  {
   "cell_type": "code",
   "execution_count": 55,
   "metadata": {},
   "outputs": [
    {
     "output_type": "execute_result",
     "data": {
      "text/plain": [
       "<class 'statsmodels.iolib.summary.Summary'>\n",
       "\"\"\"\n",
       "                                 OLS Regression Results                                \n",
       "=======================================================================================\n",
       "Dep. Variable:           PLUS_MINUS_x   R-squared (uncentered):                   0.141\n",
       "Model:                            OLS   Adj. R-squared (uncentered):              0.140\n",
       "Method:                 Least Squares   F-statistic:                              78.10\n",
       "Date:                Mon, 08 Feb 2021   Prob (F-statistic):                   8.35e-120\n",
       "Time:                        15:40:44   Log-Likelihood:                         -15154.\n",
       "No. Observations:                3801   AIC:                                  3.032e+04\n",
       "Df Residuals:                    3793   BIC:                                  3.037e+04\n",
       "Df Model:                           8                                                  \n",
       "Covariance Type:            nonrobust                                                  \n",
       "=================================================================================\n",
       "                    coef    std err          t      P>|t|      [0.025      0.975]\n",
       "---------------------------------------------------------------------------------\n",
       "DIS_ELO_x         0.0440      0.003     12.764      0.000       0.037       0.051\n",
       "HOME_COURT_x      2.4133      0.303      7.972      0.000       1.820       3.007\n",
       "DIS_OFFRATE_x    29.6308      4.829      6.136      0.000      20.163      39.099\n",
       "DIS_DEFRATE_x    -0.2628      1.092     -0.241      0.810      -2.404       1.879\n",
       "DIS_PTS_x        -0.1313      0.033     -3.994      0.000      -0.196      -0.067\n",
       "DIS_AST_x         0.1399      0.074      1.890      0.059      -0.005       0.285\n",
       "DIS_OREB_x       -0.0015      0.096     -0.016      0.988      -0.189       0.186\n",
       "DIS_DREB_x        0.2848      0.073      3.908      0.000       0.142       0.428\n",
       "==============================================================================\n",
       "Omnibus:                       17.813   Durbin-Watson:                   1.982\n",
       "Prob(Omnibus):                  0.000   Jarque-Bera (JB):               24.358\n",
       "Skew:                          -0.000   Prob(JB):                     5.14e-06\n",
       "Kurtosis:                       3.392   Cond. No.                     1.88e+03\n",
       "==============================================================================\n",
       "\n",
       "Notes:\n",
       "[1] R² is computed without centering (uncentered) since the model does not contain a constant.\n",
       "[2] Standard Errors assume that the covariance matrix of the errors is correctly specified.\n",
       "[3] The condition number is large, 1.88e+03. This might indicate that there are\n",
       "strong multicollinearity or other numerical problems.\n",
       "\"\"\""
      ],
      "text/html": "<table class=\"simpletable\">\n<caption>OLS Regression Results</caption>\n<tr>\n  <th>Dep. Variable:</th>      <td>PLUS_MINUS_x</td>   <th>  R-squared (uncentered):</th>      <td>   0.141</td> \n</tr>\n<tr>\n  <th>Model:</th>                   <td>OLS</td>       <th>  Adj. R-squared (uncentered):</th> <td>   0.140</td> \n</tr>\n<tr>\n  <th>Method:</th>             <td>Least Squares</td>  <th>  F-statistic:       </th>          <td>   78.10</td> \n</tr>\n<tr>\n  <th>Date:</th>             <td>Mon, 08 Feb 2021</td> <th>  Prob (F-statistic):</th>          <td>8.35e-120</td>\n</tr>\n<tr>\n  <th>Time:</th>                 <td>15:40:44</td>     <th>  Log-Likelihood:    </th>          <td> -15154.</td> \n</tr>\n<tr>\n  <th>No. Observations:</th>      <td>  3801</td>      <th>  AIC:               </th>          <td>3.032e+04</td>\n</tr>\n<tr>\n  <th>Df Residuals:</th>          <td>  3793</td>      <th>  BIC:               </th>          <td>3.037e+04</td>\n</tr>\n<tr>\n  <th>Df Model:</th>              <td>     8</td>      <th>                     </th>              <td> </td>    \n</tr>\n<tr>\n  <th>Covariance Type:</th>      <td>nonrobust</td>    <th>                     </th>              <td> </td>    \n</tr>\n</table>\n<table class=\"simpletable\">\n<tr>\n        <td></td>           <th>coef</th>     <th>std err</th>      <th>t</th>      <th>P>|t|</th>  <th>[0.025</th>    <th>0.975]</th>  \n</tr>\n<tr>\n  <th>DIS_ELO_x</th>     <td>    0.0440</td> <td>    0.003</td> <td>   12.764</td> <td> 0.000</td> <td>    0.037</td> <td>    0.051</td>\n</tr>\n<tr>\n  <th>HOME_COURT_x</th>  <td>    2.4133</td> <td>    0.303</td> <td>    7.972</td> <td> 0.000</td> <td>    1.820</td> <td>    3.007</td>\n</tr>\n<tr>\n  <th>DIS_OFFRATE_x</th> <td>   29.6308</td> <td>    4.829</td> <td>    6.136</td> <td> 0.000</td> <td>   20.163</td> <td>   39.099</td>\n</tr>\n<tr>\n  <th>DIS_DEFRATE_x</th> <td>   -0.2628</td> <td>    1.092</td> <td>   -0.241</td> <td> 0.810</td> <td>   -2.404</td> <td>    1.879</td>\n</tr>\n<tr>\n  <th>DIS_PTS_x</th>     <td>   -0.1313</td> <td>    0.033</td> <td>   -3.994</td> <td> 0.000</td> <td>   -0.196</td> <td>   -0.067</td>\n</tr>\n<tr>\n  <th>DIS_AST_x</th>     <td>    0.1399</td> <td>    0.074</td> <td>    1.890</td> <td> 0.059</td> <td>   -0.005</td> <td>    0.285</td>\n</tr>\n<tr>\n  <th>DIS_OREB_x</th>    <td>   -0.0015</td> <td>    0.096</td> <td>   -0.016</td> <td> 0.988</td> <td>   -0.189</td> <td>    0.186</td>\n</tr>\n<tr>\n  <th>DIS_DREB_x</th>    <td>    0.2848</td> <td>    0.073</td> <td>    3.908</td> <td> 0.000</td> <td>    0.142</td> <td>    0.428</td>\n</tr>\n</table>\n<table class=\"simpletable\">\n<tr>\n  <th>Omnibus:</th>       <td>17.813</td> <th>  Durbin-Watson:     </th> <td>   1.982</td>\n</tr>\n<tr>\n  <th>Prob(Omnibus):</th> <td> 0.000</td> <th>  Jarque-Bera (JB):  </th> <td>  24.358</td>\n</tr>\n<tr>\n  <th>Skew:</th>          <td>-0.000</td> <th>  Prob(JB):          </th> <td>5.14e-06</td>\n</tr>\n<tr>\n  <th>Kurtosis:</th>      <td> 3.392</td> <th>  Cond. No.          </th> <td>1.88e+03</td>\n</tr>\n</table><br/><br/>Notes:<br/>[1] R² is computed without centering (uncentered) since the model does not contain a constant.<br/>[2] Standard Errors assume that the covariance matrix of the errors is correctly specified.<br/>[3] The condition number is large, 1.88e+03. This might indicate that there are<br/>strong multicollinearity or other numerical problems."
     },
     "metadata": {},
     "execution_count": 55
    }
   ],
   "source": [
    "results.summary()"
   ]
  },
  {
   "source": [
    "Create a list of features that are deemed significant (p-value < 0.05)"
   ],
   "cell_type": "markdown",
   "metadata": {}
  },
  {
   "cell_type": "code",
   "execution_count": 66,
   "metadata": {},
   "outputs": [
    {
     "output_type": "execute_result",
     "data": {
      "text/plain": [
       "['DIS_ELO_x', 'HOME_COURT_x', 'DIS_OFFRATE_x', 'DIS_PTS_x', 'DIS_DREB_x']"
      ]
     },
     "metadata": {},
     "execution_count": 66
    }
   ],
   "source": [
    "features_list = []\n",
    "for i in range(len(x.keys())):\n",
    "    if results.pvalues[i] <= 0.05:\n",
    "        features_list.append(model.exog_names[i])\n",
    "\n",
    "features_list"
   ]
  },
  {
   "source": [
    "Results: x1(DIS_ELO), x2(HOME_COURT) and x3(DIS_OFFRATE) are significant variables\n",
    "Chosen model is to be fitted the 3 significant x variables\n",
    "Resulting equation would be used to predict outcome of a game:\n",
    "    - postiive --> team 1 wins\n",
    "    - negative --> team 2 wins"
   ],
   "cell_type": "markdown",
   "metadata": {}
  },
  {
   "source": [
    "Part 2: Using regression based on the 3 significant factors to predict games in the 2nd half of season"
   ],
   "cell_type": "markdown",
   "metadata": {}
  },
  {
   "source": [
    "Extract 2nd half of season from DataFrame to predict outcomes of all games"
   ],
   "cell_type": "markdown",
   "metadata": {}
  },
  {
   "cell_type": "code",
   "execution_count": 68,
   "metadata": {},
   "outputs": [
    {
     "output_type": "execute_result",
     "data": {
      "text/plain": [
       "      SEASON_ID_x   TEAM_ID_x TEAM_ABBREVIATION_x             TEAM_NAME_x  \\\n",
       "610         22014  1610612754                 IND          Indiana Pacers   \n",
       "611         22014  1610612741                 CHI           Chicago Bulls   \n",
       "613         22014  1610612747                 LAL      Los Angeles Lakers   \n",
       "618         22014  1610612737                 ATL           Atlanta Hawks   \n",
       "622         22014  1610612759                 SAS       San Antonio Spurs   \n",
       "...           ...         ...                 ...                     ...   \n",
       "7116        22019  1610612757                 POR  Portland Trail Blazers   \n",
       "7117        22019  1610612737                 ATL           Atlanta Hawks   \n",
       "7118        22019  1610612742                 DAL        Dallas Mavericks   \n",
       "7119        22019  1610612765                 DET         Detroit Pistons   \n",
       "7120        22019  1610612748                 MIA              Miami Heat   \n",
       "\n",
       "       GAME_ID GAME_DATE_x    MATCHUP_x  WL_x  MIN_x  PTS_x  ...  OFFRATE_y  \\\n",
       "610   21400617  2015-01-19    IND @ HOU     0    240     98  ...   1.049528   \n",
       "611   21400620  2015-01-19    CHI @ CLE     0    242     94  ...   1.074796   \n",
       "613   21400622  2015-01-19    LAL @ PHX     0    240    100  ...   1.084334   \n",
       "618   21400613  2015-01-19  ATL vs. DET     1    240     93  ...   1.029925   \n",
       "622   21400624  2015-01-20    SAS @ DEN     1    241    109  ...   1.033295   \n",
       "...        ...         ...          ...   ...    ...    ...  ...        ...   \n",
       "7116  21900966  2020-03-10  POR vs. PHX     1    240    121  ...   1.102937   \n",
       "7117  21900969  2020-03-11  ATL vs. NYK     0    265    131  ...   1.049928   \n",
       "7118  21900973  2020-03-11  DAL vs. DEN     1    240    113  ...   1.114136   \n",
       "7119  21900971  2020-03-11    DET @ PHI     0    241    106  ...   1.097332   \n",
       "7120  21900970  2020-03-11  MIA vs. CHA     0    239     98  ...   1.053053   \n",
       "\n",
       "      DEFRATE_y        ELO_y  DIS_PTS_y  DIS_AST_y  DIS_OREB_y  DIS_DREB_y  \\\n",
       "610    1.044530  1580.810254   7.534262   0.261324    1.172474   -3.160859   \n",
       "611    1.110475  1491.954552  -1.650987  -0.221835   -0.904762   -3.305459   \n",
       "613    0.903411  1533.204714   6.633566   0.128920   -0.772938    0.178862   \n",
       "618    0.928036  1483.404867  -5.439024  -4.707317    4.195122    0.268293   \n",
       "622    1.065748  1476.098464  -0.077816  -3.425087    2.653891   -0.610918   \n",
       "...         ...          ...        ...        ...         ...         ...   \n",
       "7116   1.165035  1445.947118  -0.851202   6.987500   -0.295192   -2.088221   \n",
       "7117   1.134572  1395.926751  -6.131235  -2.016550    2.350583    1.035664   \n",
       "7118   1.213762  1590.753386  -5.799716   2.078125    0.284091   -2.879735   \n",
       "7119   1.066915  1542.411779   2.097837   1.782212    0.497115    3.031971   \n",
       "7120   1.177761  1398.356724  -9.593750  -2.000000    2.453125   -4.453125   \n",
       "\n",
       "      DIS_OFFRATE_y  DIS_DEFRATE_y   DIS_ELO_y  \n",
       "610        0.054917       0.067137  159.771236  \n",
       "611       -0.003931       0.047061  -75.604759  \n",
       "613        0.043416      -0.069226  126.475792  \n",
       "618       -0.061377      -0.178982 -199.041129  \n",
       "622       -0.028010       0.094043  -85.715502  \n",
       "...             ...            ...         ...  \n",
       "7116      -0.008225       0.131726  -14.125912  \n",
       "7117      -0.005747       0.190678  -11.700099  \n",
       "7118      -0.041028       0.141893   63.645667  \n",
       "7119       0.019476       0.026163  194.443829  \n",
       "7120      -0.071084       0.040338 -155.563638  \n",
       "\n",
       "[3373 rows x 111 columns]"
      ],
      "text/html": "<div>\n<style scoped>\n    .dataframe tbody tr th:only-of-type {\n        vertical-align: middle;\n    }\n\n    .dataframe tbody tr th {\n        vertical-align: top;\n    }\n\n    .dataframe thead th {\n        text-align: right;\n    }\n</style>\n<table border=\"1\" class=\"dataframe\">\n  <thead>\n    <tr style=\"text-align: right;\">\n      <th></th>\n      <th>SEASON_ID_x</th>\n      <th>TEAM_ID_x</th>\n      <th>TEAM_ABBREVIATION_x</th>\n      <th>TEAM_NAME_x</th>\n      <th>GAME_ID</th>\n      <th>GAME_DATE_x</th>\n      <th>MATCHUP_x</th>\n      <th>WL_x</th>\n      <th>MIN_x</th>\n      <th>PTS_x</th>\n      <th>...</th>\n      <th>OFFRATE_y</th>\n      <th>DEFRATE_y</th>\n      <th>ELO_y</th>\n      <th>DIS_PTS_y</th>\n      <th>DIS_AST_y</th>\n      <th>DIS_OREB_y</th>\n      <th>DIS_DREB_y</th>\n      <th>DIS_OFFRATE_y</th>\n      <th>DIS_DEFRATE_y</th>\n      <th>DIS_ELO_y</th>\n    </tr>\n  </thead>\n  <tbody>\n    <tr>\n      <th>610</th>\n      <td>22014</td>\n      <td>1610612754</td>\n      <td>IND</td>\n      <td>Indiana Pacers</td>\n      <td>21400617</td>\n      <td>2015-01-19</td>\n      <td>IND @ HOU</td>\n      <td>0</td>\n      <td>240</td>\n      <td>98</td>\n      <td>...</td>\n      <td>1.049528</td>\n      <td>1.044530</td>\n      <td>1580.810254</td>\n      <td>7.534262</td>\n      <td>0.261324</td>\n      <td>1.172474</td>\n      <td>-3.160859</td>\n      <td>0.054917</td>\n      <td>0.067137</td>\n      <td>159.771236</td>\n    </tr>\n    <tr>\n      <th>611</th>\n      <td>22014</td>\n      <td>1610612741</td>\n      <td>CHI</td>\n      <td>Chicago Bulls</td>\n      <td>21400620</td>\n      <td>2015-01-19</td>\n      <td>CHI @ CLE</td>\n      <td>0</td>\n      <td>242</td>\n      <td>94</td>\n      <td>...</td>\n      <td>1.074796</td>\n      <td>1.110475</td>\n      <td>1491.954552</td>\n      <td>-1.650987</td>\n      <td>-0.221835</td>\n      <td>-0.904762</td>\n      <td>-3.305459</td>\n      <td>-0.003931</td>\n      <td>0.047061</td>\n      <td>-75.604759</td>\n    </tr>\n    <tr>\n      <th>613</th>\n      <td>22014</td>\n      <td>1610612747</td>\n      <td>LAL</td>\n      <td>Los Angeles Lakers</td>\n      <td>21400622</td>\n      <td>2015-01-19</td>\n      <td>LAL @ PHX</td>\n      <td>0</td>\n      <td>240</td>\n      <td>100</td>\n      <td>...</td>\n      <td>1.084334</td>\n      <td>0.903411</td>\n      <td>1533.204714</td>\n      <td>6.633566</td>\n      <td>0.128920</td>\n      <td>-0.772938</td>\n      <td>0.178862</td>\n      <td>0.043416</td>\n      <td>-0.069226</td>\n      <td>126.475792</td>\n    </tr>\n    <tr>\n      <th>618</th>\n      <td>22014</td>\n      <td>1610612737</td>\n      <td>ATL</td>\n      <td>Atlanta Hawks</td>\n      <td>21400613</td>\n      <td>2015-01-19</td>\n      <td>ATL vs. DET</td>\n      <td>1</td>\n      <td>240</td>\n      <td>93</td>\n      <td>...</td>\n      <td>1.029925</td>\n      <td>0.928036</td>\n      <td>1483.404867</td>\n      <td>-5.439024</td>\n      <td>-4.707317</td>\n      <td>4.195122</td>\n      <td>0.268293</td>\n      <td>-0.061377</td>\n      <td>-0.178982</td>\n      <td>-199.041129</td>\n    </tr>\n    <tr>\n      <th>622</th>\n      <td>22014</td>\n      <td>1610612759</td>\n      <td>SAS</td>\n      <td>San Antonio Spurs</td>\n      <td>21400624</td>\n      <td>2015-01-20</td>\n      <td>SAS @ DEN</td>\n      <td>1</td>\n      <td>241</td>\n      <td>109</td>\n      <td>...</td>\n      <td>1.033295</td>\n      <td>1.065748</td>\n      <td>1476.098464</td>\n      <td>-0.077816</td>\n      <td>-3.425087</td>\n      <td>2.653891</td>\n      <td>-0.610918</td>\n      <td>-0.028010</td>\n      <td>0.094043</td>\n      <td>-85.715502</td>\n    </tr>\n    <tr>\n      <th>...</th>\n      <td>...</td>\n      <td>...</td>\n      <td>...</td>\n      <td>...</td>\n      <td>...</td>\n      <td>...</td>\n      <td>...</td>\n      <td>...</td>\n      <td>...</td>\n      <td>...</td>\n      <td>...</td>\n      <td>...</td>\n      <td>...</td>\n      <td>...</td>\n      <td>...</td>\n      <td>...</td>\n      <td>...</td>\n      <td>...</td>\n      <td>...</td>\n      <td>...</td>\n      <td>...</td>\n    </tr>\n    <tr>\n      <th>7116</th>\n      <td>22019</td>\n      <td>1610612757</td>\n      <td>POR</td>\n      <td>Portland Trail Blazers</td>\n      <td>21900966</td>\n      <td>2020-03-10</td>\n      <td>POR vs. PHX</td>\n      <td>1</td>\n      <td>240</td>\n      <td>121</td>\n      <td>...</td>\n      <td>1.102937</td>\n      <td>1.165035</td>\n      <td>1445.947118</td>\n      <td>-0.851202</td>\n      <td>6.987500</td>\n      <td>-0.295192</td>\n      <td>-2.088221</td>\n      <td>-0.008225</td>\n      <td>0.131726</td>\n      <td>-14.125912</td>\n    </tr>\n    <tr>\n      <th>7117</th>\n      <td>22019</td>\n      <td>1610612737</td>\n      <td>ATL</td>\n      <td>Atlanta Hawks</td>\n      <td>21900969</td>\n      <td>2020-03-11</td>\n      <td>ATL vs. NYK</td>\n      <td>0</td>\n      <td>265</td>\n      <td>131</td>\n      <td>...</td>\n      <td>1.049928</td>\n      <td>1.134572</td>\n      <td>1395.926751</td>\n      <td>-6.131235</td>\n      <td>-2.016550</td>\n      <td>2.350583</td>\n      <td>1.035664</td>\n      <td>-0.005747</td>\n      <td>0.190678</td>\n      <td>-11.700099</td>\n    </tr>\n    <tr>\n      <th>7118</th>\n      <td>22019</td>\n      <td>1610612742</td>\n      <td>DAL</td>\n      <td>Dallas Mavericks</td>\n      <td>21900973</td>\n      <td>2020-03-11</td>\n      <td>DAL vs. DEN</td>\n      <td>1</td>\n      <td>240</td>\n      <td>113</td>\n      <td>...</td>\n      <td>1.114136</td>\n      <td>1.213762</td>\n      <td>1590.753386</td>\n      <td>-5.799716</td>\n      <td>2.078125</td>\n      <td>0.284091</td>\n      <td>-2.879735</td>\n      <td>-0.041028</td>\n      <td>0.141893</td>\n      <td>63.645667</td>\n    </tr>\n    <tr>\n      <th>7119</th>\n      <td>22019</td>\n      <td>1610612765</td>\n      <td>DET</td>\n      <td>Detroit Pistons</td>\n      <td>21900971</td>\n      <td>2020-03-11</td>\n      <td>DET @ PHI</td>\n      <td>0</td>\n      <td>241</td>\n      <td>106</td>\n      <td>...</td>\n      <td>1.097332</td>\n      <td>1.066915</td>\n      <td>1542.411779</td>\n      <td>2.097837</td>\n      <td>1.782212</td>\n      <td>0.497115</td>\n      <td>3.031971</td>\n      <td>0.019476</td>\n      <td>0.026163</td>\n      <td>194.443829</td>\n    </tr>\n    <tr>\n      <th>7120</th>\n      <td>22019</td>\n      <td>1610612748</td>\n      <td>MIA</td>\n      <td>Miami Heat</td>\n      <td>21900970</td>\n      <td>2020-03-11</td>\n      <td>MIA vs. CHA</td>\n      <td>0</td>\n      <td>239</td>\n      <td>98</td>\n      <td>...</td>\n      <td>1.053053</td>\n      <td>1.177761</td>\n      <td>1398.356724</td>\n      <td>-9.593750</td>\n      <td>-2.000000</td>\n      <td>2.453125</td>\n      <td>-4.453125</td>\n      <td>-0.071084</td>\n      <td>0.040338</td>\n      <td>-155.563638</td>\n    </tr>\n  </tbody>\n</table>\n<p>3373 rows × 111 columns</p>\n</div>"
     },
     "metadata": {},
     "execution_count": 68
    }
   ],
   "source": [
    "second_half = df[(df['GAME_PLAYED_x'] > 41) & (df['GAME_PLAYED_y'] > 41 )]\n",
    "second_half"
   ]
  },
  {
   "source": [
    "Define variables"
   ],
   "cell_type": "markdown",
   "metadata": {}
  },
  {
   "cell_type": "code",
   "execution_count": 69,
   "metadata": {},
   "outputs": [
    {
     "output_type": "execute_result",
     "data": {
      "text/plain": [
       "((3801, 5), (3373, 5), (3801,), (3373,))"
      ]
     },
     "metadata": {},
     "execution_count": 69
    }
   ],
   "source": [
    "# for splitting by halfs\n",
    "X_train = first_half[features_list]\n",
    "X_test = second_half[features_list]\n",
    "y_train = first_half['PLUS_MINUS_x']\n",
    "y_test = second_half['WL_x']\n",
    "\n",
    "X_train.shape, X_test.shape, y_train.shape, y_test.shape"
   ]
  },
  {
   "source": [
    "Modelling"
   ],
   "cell_type": "markdown",
   "metadata": {}
  },
  {
   "cell_type": "code",
   "execution_count": 70,
   "metadata": {},
   "outputs": [
    {
     "output_type": "execute_result",
     "data": {
      "text/plain": [
       "array([ -9.56586429,   1.9059188 ,  -8.74752754, ...,   1.00837714,\n",
       "       -12.37295349,  11.73778424])"
      ]
     },
     "metadata": {},
     "execution_count": 70
    }
   ],
   "source": [
    "m = LinearRegression()\n",
    "m.fit(X_train, y_train)\n",
    "predictions = m.predict(X_test)\n",
    "\n",
    "predictions"
   ]
  },
  {
   "source": [
    "Converting estimated point difference to binary outcome:\n",
    "\n",
    "if y > 0 --> W --> 1\n",
    "\n",
    "else --> L --> 0"
   ],
   "cell_type": "markdown",
   "metadata": {}
  },
  {
   "cell_type": "code",
   "execution_count": 71,
   "metadata": {},
   "outputs": [
    {
     "output_type": "execute_result",
     "data": {
      "text/plain": [
       "array([0., 1., 0., ..., 1., 0., 1.])"
      ]
     },
     "metadata": {},
     "execution_count": 71
    }
   ],
   "source": [
    "for i, v in enumerate(predictions):\n",
    "    if v > 0:\n",
    "        predictions[i] = 1\n",
    "    else:\n",
    "        predictions[i] = 0\n",
    "\n",
    "predictions"
   ]
  },
  {
   "source": [
    "Check performance of model"
   ],
   "cell_type": "markdown",
   "metadata": {}
  },
  {
   "cell_type": "code",
   "execution_count": 72,
   "metadata": {},
   "outputs": [
    {
     "output_type": "execute_result",
     "data": {
      "text/plain": [
       "(0.6629113548769642,\n",
       " 0.6619469026548672,\n",
       " 0.6654804270462633,\n",
       " 0.6637089618456078)"
      ]
     },
     "metadata": {},
     "execution_count": 72
    }
   ],
   "source": [
    "acc = accuracy_score(y_test,predictions)\n",
    "precision = precision_score(y_test,predictions) \n",
    "recall = recall_score(y_test,predictions) \n",
    "f1 = f1_score(y_test,predictions)\n",
    "\n",
    "acc, precision, recall, f1"
   ]
  },
  {
   "source": [
    "Part 3: Using regression based on all factors to predict games in the 2nd half of season"
   ],
   "cell_type": "markdown",
   "metadata": {}
  },
  {
   "source": [
    "Redefine model variables"
   ],
   "cell_type": "markdown",
   "metadata": {}
  },
  {
   "cell_type": "code",
   "execution_count": 17,
   "metadata": {},
   "outputs": [],
   "source": [
    "features_list = ['DIS_ELO_x', 'HOME_COURT_x', 'DIS_OFFRATE_x', 'DIS_DEFRATE_x', 'DIS_PTS_x', 'DIS_AST_x', 'DIS_OREB_x', 'DIS_DREB_x']"
   ]
  },
  {
   "cell_type": "code",
   "execution_count": 18,
   "metadata": {},
   "outputs": [
    {
     "output_type": "execute_result",
     "data": {
      "text/plain": [
       "((3801, 8), (3373, 8), (3801,), (3373,))"
      ]
     },
     "metadata": {},
     "execution_count": 18
    }
   ],
   "source": [
    "X_train = first_half[features_list]\n",
    "X_test = second_half[features_list]\n",
    "y_train = first_half['PLUS_MINUS_x']\n",
    "y_test = second_half['WL_x']\n",
    "\n",
    "X_train.shape, X_test.shape, y_train.shape, y_test.shape"
   ]
  },
  {
   "source": [
    "Modelling"
   ],
   "cell_type": "markdown",
   "metadata": {}
  },
  {
   "cell_type": "code",
   "execution_count": 19,
   "metadata": {},
   "outputs": [
    {
     "output_type": "execute_result",
     "data": {
      "text/plain": [
       "array([ -9.19861536,   1.80700534,  -8.45463955, ...,   0.63467252,\n",
       "       -12.37360842,  11.60434196])"
      ]
     },
     "metadata": {},
     "execution_count": 19
    }
   ],
   "source": [
    "m = LinearRegression()\n",
    "m.fit(X_train, y_train)\n",
    "predictions = m.predict(X_test)\n",
    "\n",
    "predictions"
   ]
  },
  {
   "source": [
    "Converting estimated point difference to binary outcome"
   ],
   "cell_type": "markdown",
   "metadata": {}
  },
  {
   "cell_type": "code",
   "execution_count": 20,
   "metadata": {},
   "outputs": [
    {
     "output_type": "execute_result",
     "data": {
      "text/plain": [
       "array([0., 1., 0., ..., 1., 0., 1.])"
      ]
     },
     "metadata": {},
     "execution_count": 20
    }
   ],
   "source": [
    "for i, v in enumerate(predictions):\n",
    "    if v > 0:\n",
    "        predictions[i] = 1\n",
    "    else:\n",
    "        predictions[i] = 0\n",
    "\n",
    "predictions"
   ]
  },
  {
   "source": [
    "Check performance of model"
   ],
   "cell_type": "markdown",
   "metadata": {}
  },
  {
   "cell_type": "code",
   "execution_count": 21,
   "metadata": {},
   "outputs": [
    {
     "output_type": "execute_result",
     "data": {
      "text/plain": [
       "(0.6670619626445301, 0.6668642560758743, 0.6672597864768683, 0.66706196264453)"
      ]
     },
     "metadata": {},
     "execution_count": 21
    }
   ],
   "source": [
    "acc = accuracy_score(y_test,predictions)\n",
    "precision = precision_score(y_test,predictions) \n",
    "recall = recall_score(y_test,predictions) \n",
    "f1 = f1_score(y_test,predictions)\n",
    "\n",
    "acc, precision, recall, f1"
   ]
  },
  {
   "source": [
    "Part 4: Check accuracy of linear regression model for all seasons, features selected ONLY IF it is significant."
   ],
   "cell_type": "markdown",
   "metadata": {}
  },
  {
   "cell_type": "code",
   "execution_count": 73,
   "metadata": {},
   "outputs": [],
   "source": [
    "s2014 = pd.read_csv('annual_data/nba_season_2014_data.csv')\n",
    "s2015 = pd.read_csv('annual_data/nba_season_2015_data.csv')\n",
    "s2016 = pd.read_csv('annual_data/nba_season_2016_data.csv')\n",
    "s2017 = pd.read_csv('annual_data/nba_season_2017_data.csv')\n",
    "s2018 = pd.read_csv('annual_data/nba_season_2018_data.csv')\n",
    "s2019 = pd.read_csv('annual_data/nba_season_2019_data.csv')"
   ]
  },
  {
   "cell_type": "code",
   "execution_count": 75,
   "metadata": {},
   "outputs": [
    {
     "output_type": "stream",
     "name": "stdout",
     "text": [
      "Accuracy Score for Linear Regression is 0.68482 in season 2014\nAccuracy Score for Linear Regression is 0.71287 in season 2015\nAccuracy Score for Linear Regression is 0.62975 in season 2016\nAccuracy Score for Linear Regression is 0.68046 in season 2017\nAccuracy Score for Linear Regression is 0.66667 in season 2018\nAccuracy Score for Linear Regression is 0.64162 in season 2019\n"
     ]
    }
   ],
   "source": [
    "season = 2014\n",
    "for df in (s2014, s2015, s2016, s2017, s2018, s2019):\n",
    "    df.drop(df[(df.GAME_PLAYED_x == 1) | (df.GAME_PLAYED_y == 1)].index, inplace = True)\n",
    "\n",
    "    first_half = df[(df['GAME_PLAYED_x'] <= 41) | (df['GAME_PLAYED_y'] <= 41 )]\n",
    "\n",
    "    y = df['PLUS_MINUS_x']\n",
    "    x = df[['DIS_ELO_x','HOME_COURT_x','DIS_OFFRATE_x','DIS_DEFRATE_x','DIS_PTS_x','DIS_AST_x','DIS_OREB_x','DIS_DREB_x']]\n",
    "\n",
    "    model = sm.OLS(y,x)\n",
    "    results = model.fit()\n",
    "\n",
    "    features_list = []\n",
    "    for i in range(len(x.keys())):\n",
    "        if results.pvalues[i] <= 0.05:\n",
    "            features_list.append(model.exog_names[i])\n",
    "\n",
    "    second_half = df[(df['GAME_PLAYED_x'] > 41) & (df['GAME_PLAYED_y'] > 41 )]\n",
    "\n",
    "    X_train = first_half[features_list]\n",
    "    X_test = second_half[features_list]\n",
    "    y_train = first_half['PLUS_MINUS_x']\n",
    "    y_test = second_half['WL_x']\n",
    "\n",
    "    m = LinearRegression()\n",
    "    m.fit(X_train, y_train)\n",
    "    predictions = m.predict(X_test)\n",
    "\n",
    "    for i, v in enumerate(predictions):\n",
    "        if v > 0:\n",
    "            predictions[i] = 1\n",
    "        else:\n",
    "            predictions[i] = 0\n",
    "\n",
    "    acc = accuracy_score(y_test,predictions)\n",
    "\n",
    "    print('Accuracy Score for Linear Regression is {:.5f} in season {}'.format(acc,season))\n",
    "\n",
    "    season += 1"
   ]
  },
  {
   "source": [
    "Part 5: Check accuracy of linear regression model for all seasons, using all features."
   ],
   "cell_type": "markdown",
   "metadata": {}
  },
  {
   "cell_type": "code",
   "execution_count": 76,
   "metadata": {},
   "outputs": [
    {
     "output_type": "stream",
     "name": "stdout",
     "text": [
      "Accuracy Score for Linear Regression is 0.67657 in season 2014\nAccuracy Score for Linear Regression is 0.70132 in season 2015\nAccuracy Score for Linear Regression is 0.61983 in season 2016\nAccuracy Score for Linear Regression is 0.66391 in season 2017\nAccuracy Score for Linear Regression is 0.66172 in season 2018\nAccuracy Score for Linear Regression is 0.64740 in season 2019\n"
     ]
    }
   ],
   "source": [
    "season = 2014\n",
    "for df in (s2014, s2015, s2016, s2017, s2018, s2019):\n",
    "    df.drop(df[(df.GAME_PLAYED_x == 1) | (df.GAME_PLAYED_y == 1)].index, inplace = True)\n",
    "\n",
    "    first_half = df[(df['GAME_PLAYED_x'] <= 41) | (df['GAME_PLAYED_y'] <= 41 )]\n",
    "\n",
    "    y = df['PLUS_MINUS_x']\n",
    "    x = df[['DIS_ELO_x','HOME_COURT_x','DIS_OFFRATE_x','DIS_DEFRATE_x','DIS_PTS_x','DIS_AST_x','DIS_OREB_x','DIS_DREB_x']]\n",
    "\n",
    "    model = sm.OLS(y,x)\n",
    "    results = model.fit()\n",
    "\n",
    "    features_list = []\n",
    "    for i in range(len(x.keys())):\n",
    "        features_list.append(model.exog_names[i])\n",
    "\n",
    "    second_half = df[(df['GAME_PLAYED_x'] > 41) & (df['GAME_PLAYED_y'] > 41 )]\n",
    "\n",
    "    X_train = first_half[features_list]\n",
    "    X_test = second_half[features_list]\n",
    "    y_train = first_half['PLUS_MINUS_x']\n",
    "    y_test = second_half['WL_x']\n",
    "\n",
    "    m = LinearRegression()\n",
    "    m.fit(X_train, y_train)\n",
    "    predictions = m.predict(X_test)\n",
    "\n",
    "    for i, v in enumerate(predictions):\n",
    "        if v > 0:\n",
    "            predictions[i] = 1\n",
    "        else:\n",
    "            predictions[i] = 0\n",
    "\n",
    "    acc = accuracy_score(y_test,predictions)\n",
    "\n",
    "    print('Accuracy Score for Linear Regression is {:.5f} in season {}'.format(acc,season))\n",
    "\n",
    "    season += 1"
   ]
  },
  {
   "cell_type": "code",
   "execution_count": null,
   "metadata": {},
   "outputs": [],
   "source": []
  },
  {
   "source": [
    "# Interaction Terms"
   ],
   "cell_type": "markdown",
   "metadata": {}
  },
  {
   "cell_type": "code",
   "execution_count": 26,
   "metadata": {},
   "outputs": [],
   "source": [
    "import pandas as pd\n",
    "import statsmodels.api as sm\n",
    "import numpy as np\n",
    "\n",
    "### Graphic libraries\n",
    "import matplotlib.pyplot as plt\n",
    "import seaborn as sns \n",
    "\n",
    "### Importing the relevant ML libraries \n",
    "from sklearn.model_selection import train_test_split\n",
    "from sklearn.linear_model import LinearRegression\n",
    "from sklearn.preprocessing import PolynomialFeatures\n",
    "from statsmodels.regression import linear_model\n",
    "\n",
    "from sklearn.metrics import accuracy_score,roc_curve,auc,recall_score,f1_score,precision_score,classification_report,confusion_matrix,auc\n",
    "\n",
    "### Some cosmetics add-ons\n",
    "plt.style.use('fivethirtyeight')\n",
    "%matplotlib inline"
   ]
  },
  {
   "cell_type": "code",
   "execution_count": 109,
   "metadata": {},
   "outputs": [],
   "source": [
    "s2014 = pd.read_csv('annual_data/nba_season_2014_data.csv')"
   ]
  },
  {
   "cell_type": "code",
   "execution_count": 110,
   "metadata": {},
   "outputs": [],
   "source": [
    "df.drop(df[(df.GAME_PLAYED_x == 1) | (df.GAME_PLAYED_y == 1)].index, inplace = True)"
   ]
  },
  {
   "cell_type": "code",
   "execution_count": 111,
   "metadata": {},
   "outputs": [],
   "source": [
    "first_half = df[(df['GAME_PLAYED_x'] <= 41) | (df['GAME_PLAYED_y'] <= 41 )]\n",
    "second_half = df[(df['GAME_PLAYED_x'] > 41) & (df['GAME_PLAYED_y'] > 41 )]"
   ]
  },
  {
   "cell_type": "code",
   "execution_count": 112,
   "metadata": {},
   "outputs": [],
   "source": [
    "y = first_half['PLUS_MINUS_x']\n",
    "X = first_half[['DIS_ELO_x','HOME_COURT_x','DIS_OFFRATE_x','DIS_DEFRATE_x','DIS_PTS_x','DIS_AST_x','DIS_OREB_x','DIS_DREB_x']]"
   ]
  },
  {
   "cell_type": "code",
   "execution_count": 113,
   "metadata": {},
   "outputs": [],
   "source": [
    "X_interaction = PolynomialFeatures(2, interaction_only=True, include_bias=False).fit_transform(X)\n",
    "test = PolynomialFeatures(2, interaction_only=True, include_bias=False).fit(X)\n",
    "column_names = test.get_feature_names()"
   ]
  },
  {
   "cell_type": "code",
   "execution_count": 114,
   "metadata": {},
   "outputs": [],
   "source": [
    "interaction_df = pd.DataFrame(X_interaction, columns = column_names)"
   ]
  },
  {
   "cell_type": "code",
   "execution_count": 116,
   "metadata": {},
   "outputs": [],
   "source": [
    "y = y.reset_index()\n",
    "y = y['PLUS_MINUS_x']"
   ]
  },
  {
   "cell_type": "code",
   "execution_count": 118,
   "metadata": {},
   "outputs": [
    {
     "output_type": "execute_result",
     "data": {
      "text/plain": [
       "<class 'statsmodels.iolib.summary.Summary'>\n",
       "\"\"\"\n",
       "                                 OLS Regression Results                                \n",
       "=======================================================================================\n",
       "Dep. Variable:           PLUS_MINUS_x   R-squared (uncentered):                   0.155\n",
       "Model:                            OLS   Adj. R-squared (uncentered):              0.147\n",
       "Method:                 Least Squares   F-statistic:                              19.16\n",
       "Date:                Sat, 06 Mar 2021   Prob (F-statistic):                   7.46e-111\n",
       "Time:                        21:44:07   Log-Likelihood:                         -15124.\n",
       "No. Observations:                3801   AIC:                                  3.032e+04\n",
       "Df Residuals:                    3765   BIC:                                  3.054e+04\n",
       "Df Model:                          36                                                  \n",
       "Covariance Type:            nonrobust                                                  \n",
       "==============================================================================\n",
       "                 coef    std err          t      P>|t|      [0.025      0.975]\n",
       "------------------------------------------------------------------------------\n",
       "x0             0.0449      0.005      9.091      0.000       0.035       0.055\n",
       "x1             2.8983      0.337      8.606      0.000       2.238       3.559\n",
       "x2            31.7789      8.290      3.833      0.000      15.526      48.032\n",
       "x3             0.6922      1.643      0.421      0.674      -2.529       3.914\n",
       "x4            -0.0514      0.062     -0.832      0.405      -0.172       0.070\n",
       "x5             0.0717      0.102      0.705      0.481      -0.128       0.271\n",
       "x6             0.0178      0.137      0.130      0.896      -0.250       0.286\n",
       "x7             0.1334      0.107      1.243      0.214      -0.077       0.344\n",
       "x0 x1         -0.0065      0.007     -0.941      0.347      -0.020       0.007\n",
       "x0 x2         -0.0979      0.068     -1.438      0.150      -0.231       0.036\n",
       "x0 x3         -0.0173      0.023     -0.738      0.460      -0.063       0.029\n",
       "x0 x4          0.0005      0.001      0.633      0.527      -0.001       0.002\n",
       "x0 x5          0.0011      0.001      0.986      0.324      -0.001       0.003\n",
       "x0 x6         -0.0015      0.002     -0.855      0.392      -0.005       0.002\n",
       "x0 x7         -0.0018      0.001     -1.684      0.092      -0.004       0.000\n",
       "x1 x2          1.9211      9.814      0.196      0.845     -17.321      21.163\n",
       "x1 x3         -0.3040      2.227     -0.136      0.891      -4.671       4.063\n",
       "x1 x4         -0.1350      0.067     -2.025      0.043      -0.266      -0.004\n",
       "x1 x5          0.1835      0.149      1.233      0.218      -0.108       0.475\n",
       "x1 x6          0.0001      0.192      0.001      1.000      -0.377       0.377\n",
       "x1 x7          0.3006      0.147      2.050      0.040       0.013       0.588\n",
       "x2 x3        -26.4673     14.466     -1.830      0.067     -54.830       1.895\n",
       "x2 x4         -0.0640      0.392     -0.163      0.870      -0.832       0.704\n",
       "x2 x5         -1.1726      1.210     -0.969      0.332      -3.545       1.199\n",
       "x2 x6          0.9737      1.440      0.676      0.499      -1.849       3.796\n",
       "x2 x7         -0.0397      0.801     -0.050      0.961      -1.610       1.531\n",
       "x3 x4          0.0470      0.122      0.384      0.701      -0.193       0.287\n",
       "x3 x5         -0.4704      0.319     -1.474      0.141      -1.096       0.155\n",
       "x3 x6         -1.0439      0.355     -2.944      0.003      -1.739      -0.349\n",
       "x3 x7          0.4204      0.246      1.712      0.087      -0.061       0.902\n",
       "x4 x5         -0.0054      0.004     -1.215      0.224      -0.014       0.003\n",
       "x4 x6         -0.0021      0.009     -0.241      0.809      -0.019       0.015\n",
       "x4 x7          0.0041      0.003      1.383      0.167      -0.002       0.010\n",
       "x5 x6          0.0633      0.027      2.308      0.021       0.010       0.117\n",
       "x5 x7         -0.0057      0.015     -0.368      0.713      -0.036       0.025\n",
       "x6 x7         -0.0350      0.022     -1.604      0.109      -0.078       0.008\n",
       "==============================================================================\n",
       "Omnibus:                       11.769   Durbin-Watson:                   1.984\n",
       "Prob(Omnibus):                  0.003   Jarque-Bera (JB):               14.834\n",
       "Skew:                           0.017   Prob(JB):                     0.000601\n",
       "Kurtosis:                       3.304   Cond. No.                     5.71e+04\n",
       "==============================================================================\n",
       "\n",
       "Notes:\n",
       "[1] R² is computed without centering (uncentered) since the model does not contain a constant.\n",
       "[2] Standard Errors assume that the covariance matrix of the errors is correctly specified.\n",
       "[3] The condition number is large, 5.71e+04. This might indicate that there are\n",
       "strong multicollinearity or other numerical problems.\n",
       "\"\"\""
      ],
      "text/html": "<table class=\"simpletable\">\n<caption>OLS Regression Results</caption>\n<tr>\n  <th>Dep. Variable:</th>      <td>PLUS_MINUS_x</td>   <th>  R-squared (uncentered):</th>      <td>   0.155</td> \n</tr>\n<tr>\n  <th>Model:</th>                   <td>OLS</td>       <th>  Adj. R-squared (uncentered):</th> <td>   0.147</td> \n</tr>\n<tr>\n  <th>Method:</th>             <td>Least Squares</td>  <th>  F-statistic:       </th>          <td>   19.16</td> \n</tr>\n<tr>\n  <th>Date:</th>             <td>Sat, 06 Mar 2021</td> <th>  Prob (F-statistic):</th>          <td>7.46e-111</td>\n</tr>\n<tr>\n  <th>Time:</th>                 <td>21:44:07</td>     <th>  Log-Likelihood:    </th>          <td> -15124.</td> \n</tr>\n<tr>\n  <th>No. Observations:</th>      <td>  3801</td>      <th>  AIC:               </th>          <td>3.032e+04</td>\n</tr>\n<tr>\n  <th>Df Residuals:</th>          <td>  3765</td>      <th>  BIC:               </th>          <td>3.054e+04</td>\n</tr>\n<tr>\n  <th>Df Model:</th>              <td>    36</td>      <th>                     </th>              <td> </td>    \n</tr>\n<tr>\n  <th>Covariance Type:</th>      <td>nonrobust</td>    <th>                     </th>              <td> </td>    \n</tr>\n</table>\n<table class=\"simpletable\">\n<tr>\n    <td></td>       <th>coef</th>     <th>std err</th>      <th>t</th>      <th>P>|t|</th>  <th>[0.025</th>    <th>0.975]</th>  \n</tr>\n<tr>\n  <th>x0</th>    <td>    0.0449</td> <td>    0.005</td> <td>    9.091</td> <td> 0.000</td> <td>    0.035</td> <td>    0.055</td>\n</tr>\n<tr>\n  <th>x1</th>    <td>    2.8983</td> <td>    0.337</td> <td>    8.606</td> <td> 0.000</td> <td>    2.238</td> <td>    3.559</td>\n</tr>\n<tr>\n  <th>x2</th>    <td>   31.7789</td> <td>    8.290</td> <td>    3.833</td> <td> 0.000</td> <td>   15.526</td> <td>   48.032</td>\n</tr>\n<tr>\n  <th>x3</th>    <td>    0.6922</td> <td>    1.643</td> <td>    0.421</td> <td> 0.674</td> <td>   -2.529</td> <td>    3.914</td>\n</tr>\n<tr>\n  <th>x4</th>    <td>   -0.0514</td> <td>    0.062</td> <td>   -0.832</td> <td> 0.405</td> <td>   -0.172</td> <td>    0.070</td>\n</tr>\n<tr>\n  <th>x5</th>    <td>    0.0717</td> <td>    0.102</td> <td>    0.705</td> <td> 0.481</td> <td>   -0.128</td> <td>    0.271</td>\n</tr>\n<tr>\n  <th>x6</th>    <td>    0.0178</td> <td>    0.137</td> <td>    0.130</td> <td> 0.896</td> <td>   -0.250</td> <td>    0.286</td>\n</tr>\n<tr>\n  <th>x7</th>    <td>    0.1334</td> <td>    0.107</td> <td>    1.243</td> <td> 0.214</td> <td>   -0.077</td> <td>    0.344</td>\n</tr>\n<tr>\n  <th>x0 x1</th> <td>   -0.0065</td> <td>    0.007</td> <td>   -0.941</td> <td> 0.347</td> <td>   -0.020</td> <td>    0.007</td>\n</tr>\n<tr>\n  <th>x0 x2</th> <td>   -0.0979</td> <td>    0.068</td> <td>   -1.438</td> <td> 0.150</td> <td>   -0.231</td> <td>    0.036</td>\n</tr>\n<tr>\n  <th>x0 x3</th> <td>   -0.0173</td> <td>    0.023</td> <td>   -0.738</td> <td> 0.460</td> <td>   -0.063</td> <td>    0.029</td>\n</tr>\n<tr>\n  <th>x0 x4</th> <td>    0.0005</td> <td>    0.001</td> <td>    0.633</td> <td> 0.527</td> <td>   -0.001</td> <td>    0.002</td>\n</tr>\n<tr>\n  <th>x0 x5</th> <td>    0.0011</td> <td>    0.001</td> <td>    0.986</td> <td> 0.324</td> <td>   -0.001</td> <td>    0.003</td>\n</tr>\n<tr>\n  <th>x0 x6</th> <td>   -0.0015</td> <td>    0.002</td> <td>   -0.855</td> <td> 0.392</td> <td>   -0.005</td> <td>    0.002</td>\n</tr>\n<tr>\n  <th>x0 x7</th> <td>   -0.0018</td> <td>    0.001</td> <td>   -1.684</td> <td> 0.092</td> <td>   -0.004</td> <td>    0.000</td>\n</tr>\n<tr>\n  <th>x1 x2</th> <td>    1.9211</td> <td>    9.814</td> <td>    0.196</td> <td> 0.845</td> <td>  -17.321</td> <td>   21.163</td>\n</tr>\n<tr>\n  <th>x1 x3</th> <td>   -0.3040</td> <td>    2.227</td> <td>   -0.136</td> <td> 0.891</td> <td>   -4.671</td> <td>    4.063</td>\n</tr>\n<tr>\n  <th>x1 x4</th> <td>   -0.1350</td> <td>    0.067</td> <td>   -2.025</td> <td> 0.043</td> <td>   -0.266</td> <td>   -0.004</td>\n</tr>\n<tr>\n  <th>x1 x5</th> <td>    0.1835</td> <td>    0.149</td> <td>    1.233</td> <td> 0.218</td> <td>   -0.108</td> <td>    0.475</td>\n</tr>\n<tr>\n  <th>x1 x6</th> <td>    0.0001</td> <td>    0.192</td> <td>    0.001</td> <td> 1.000</td> <td>   -0.377</td> <td>    0.377</td>\n</tr>\n<tr>\n  <th>x1 x7</th> <td>    0.3006</td> <td>    0.147</td> <td>    2.050</td> <td> 0.040</td> <td>    0.013</td> <td>    0.588</td>\n</tr>\n<tr>\n  <th>x2 x3</th> <td>  -26.4673</td> <td>   14.466</td> <td>   -1.830</td> <td> 0.067</td> <td>  -54.830</td> <td>    1.895</td>\n</tr>\n<tr>\n  <th>x2 x4</th> <td>   -0.0640</td> <td>    0.392</td> <td>   -0.163</td> <td> 0.870</td> <td>   -0.832</td> <td>    0.704</td>\n</tr>\n<tr>\n  <th>x2 x5</th> <td>   -1.1726</td> <td>    1.210</td> <td>   -0.969</td> <td> 0.332</td> <td>   -3.545</td> <td>    1.199</td>\n</tr>\n<tr>\n  <th>x2 x6</th> <td>    0.9737</td> <td>    1.440</td> <td>    0.676</td> <td> 0.499</td> <td>   -1.849</td> <td>    3.796</td>\n</tr>\n<tr>\n  <th>x2 x7</th> <td>   -0.0397</td> <td>    0.801</td> <td>   -0.050</td> <td> 0.961</td> <td>   -1.610</td> <td>    1.531</td>\n</tr>\n<tr>\n  <th>x3 x4</th> <td>    0.0470</td> <td>    0.122</td> <td>    0.384</td> <td> 0.701</td> <td>   -0.193</td> <td>    0.287</td>\n</tr>\n<tr>\n  <th>x3 x5</th> <td>   -0.4704</td> <td>    0.319</td> <td>   -1.474</td> <td> 0.141</td> <td>   -1.096</td> <td>    0.155</td>\n</tr>\n<tr>\n  <th>x3 x6</th> <td>   -1.0439</td> <td>    0.355</td> <td>   -2.944</td> <td> 0.003</td> <td>   -1.739</td> <td>   -0.349</td>\n</tr>\n<tr>\n  <th>x3 x7</th> <td>    0.4204</td> <td>    0.246</td> <td>    1.712</td> <td> 0.087</td> <td>   -0.061</td> <td>    0.902</td>\n</tr>\n<tr>\n  <th>x4 x5</th> <td>   -0.0054</td> <td>    0.004</td> <td>   -1.215</td> <td> 0.224</td> <td>   -0.014</td> <td>    0.003</td>\n</tr>\n<tr>\n  <th>x4 x6</th> <td>   -0.0021</td> <td>    0.009</td> <td>   -0.241</td> <td> 0.809</td> <td>   -0.019</td> <td>    0.015</td>\n</tr>\n<tr>\n  <th>x4 x7</th> <td>    0.0041</td> <td>    0.003</td> <td>    1.383</td> <td> 0.167</td> <td>   -0.002</td> <td>    0.010</td>\n</tr>\n<tr>\n  <th>x5 x6</th> <td>    0.0633</td> <td>    0.027</td> <td>    2.308</td> <td> 0.021</td> <td>    0.010</td> <td>    0.117</td>\n</tr>\n<tr>\n  <th>x5 x7</th> <td>   -0.0057</td> <td>    0.015</td> <td>   -0.368</td> <td> 0.713</td> <td>   -0.036</td> <td>    0.025</td>\n</tr>\n<tr>\n  <th>x6 x7</th> <td>   -0.0350</td> <td>    0.022</td> <td>   -1.604</td> <td> 0.109</td> <td>   -0.078</td> <td>    0.008</td>\n</tr>\n</table>\n<table class=\"simpletable\">\n<tr>\n  <th>Omnibus:</th>       <td>11.769</td> <th>  Durbin-Watson:     </th> <td>   1.984</td>\n</tr>\n<tr>\n  <th>Prob(Omnibus):</th> <td> 0.003</td> <th>  Jarque-Bera (JB):  </th> <td>  14.834</td>\n</tr>\n<tr>\n  <th>Skew:</th>          <td> 0.017</td> <th>  Prob(JB):          </th> <td>0.000601</td>\n</tr>\n<tr>\n  <th>Kurtosis:</th>      <td> 3.304</td> <th>  Cond. No.          </th> <td>5.71e+04</td>\n</tr>\n</table><br/><br/>Notes:<br/>[1] R² is computed without centering (uncentered) since the model does not contain a constant.<br/>[2] Standard Errors assume that the covariance matrix of the errors is correctly specified.<br/>[3] The condition number is large, 5.71e+04. This might indicate that there are<br/>strong multicollinearity or other numerical problems."
     },
     "metadata": {},
     "execution_count": 118
    }
   ],
   "source": [
    "model = sm.OLS(y,interaction_df)\n",
    "result = model.fit()\n",
    "result.summary()"
   ]
  },
  {
   "cell_type": "code",
   "execution_count": 119,
   "metadata": {},
   "outputs": [
    {
     "output_type": "execute_result",
     "data": {
      "text/plain": [
       "['x0', 'x1', 'x2', 'x1 x4', 'x1 x7', 'x3 x6', 'x5 x6']"
      ]
     },
     "metadata": {},
     "execution_count": 119
    }
   ],
   "source": [
    "features_list = []\n",
    "for i in range(len(interaction_df.keys())):\n",
    "    if result.pvalues[i] <= 0.05:\n",
    "        features_list.append(model.exog_names[i])\n",
    "\n",
    "features_list"
   ]
  },
  {
   "cell_type": "code",
   "execution_count": 120,
   "metadata": {},
   "outputs": [],
   "source": [
    "final_interaction_features = ['x0', 'x1', 'x2', 'x3', 'x4', 'x5', 'x6', 'x7', 'x1 x4', 'x1 x7', 'x3 x6', 'x5 x6']"
   ]
  },
  {
   "cell_type": "code",
   "execution_count": 121,
   "metadata": {},
   "outputs": [],
   "source": [
    "interaction_second_half = second_half[['DIS_ELO_x','HOME_COURT_x','DIS_OFFRATE_x','DIS_DEFRATE_x','DIS_PTS_x','DIS_AST_x','DIS_OREB_x','DIS_DREB_x']]\n",
    "interaction_second_half = PolynomialFeatures(2, interaction_only=True, include_bias=False).fit_transform(interaction_second_half)\n",
    "second_half_fit = PolynomialFeatures(2, interaction_only=True, include_bias=False).fit(X)\n",
    "column_names = second_half_fit.get_feature_names()\n",
    "interaction_second_half_df = pd.DataFrame(interaction_second_half, columns = column_names)"
   ]
  },
  {
   "cell_type": "code",
   "execution_count": 122,
   "metadata": {},
   "outputs": [
    {
     "output_type": "execute_result",
     "data": {
      "text/plain": [
       "((3801, 12), (3373, 12), (3801,), (3373,))"
      ]
     },
     "metadata": {},
     "execution_count": 122
    }
   ],
   "source": [
    "X_train = interaction_df[final_interaction_features]\n",
    "X_test = interaction_second_half_df[final_interaction_features]\n",
    "y_train = first_half['PLUS_MINUS_x']\n",
    "y_test = second_half['WL_x']\n",
    "\n",
    "X_train.shape, X_test.shape, y_train.shape, y_test.shape"
   ]
  },
  {
   "cell_type": "code",
   "execution_count": 127,
   "metadata": {},
   "outputs": [],
   "source": [
    "m = LinearRegression()\n",
    "m.fit(X_train, y_train)\n",
    "predictions = m.predict(X_test)"
   ]
  },
  {
   "cell_type": "code",
   "execution_count": 124,
   "metadata": {},
   "outputs": [],
   "source": [
    "for i, v in enumerate(predictions):\n",
    "    if v > 0:\n",
    "        predictions[i] = 1\n",
    "    else:\n",
    "        predictions[i] = 0"
   ]
  },
  {
   "cell_type": "code",
   "execution_count": 125,
   "metadata": {},
   "outputs": [
    {
     "output_type": "execute_result",
     "data": {
      "text/plain": [
       "(0.6658760747109398, 0.6650915534554046, 0.66785290628707, 0.6664693696359869)"
      ]
     },
     "metadata": {},
     "execution_count": 125
    }
   ],
   "source": [
    "acc = accuracy_score(y_test,predictions)\n",
    "precision = precision_score(y_test,predictions) \n",
    "recall = recall_score(y_test,predictions) \n",
    "f1 = f1_score(y_test,predictions)\n",
    "\n",
    "acc, precision, recall, f1"
   ]
  },
  {
   "source": [
    "This is the respective acc, prec, rec, f1 score without interaction terms\n",
    "(0.6629113548769642,\n",
    " 0.6619469026548672,\n",
    " 0.6654804270462633,\n",
    " 0.6637089618456078)"
   ],
   "cell_type": "markdown",
   "metadata": {}
  }
 ]
}