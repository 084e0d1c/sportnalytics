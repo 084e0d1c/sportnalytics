{
 "metadata": {
  "language_info": {
   "codemirror_mode": {
    "name": "ipython",
    "version": 3
   },
   "file_extension": ".py",
   "mimetype": "text/x-python",
   "name": "python",
   "nbconvert_exporter": "python",
   "pygments_lexer": "ipython3",
   "version": "3.7.4-final"
  },
  "orig_nbformat": 2,
  "kernelspec": {
   "name": "python3",
   "display_name": "Python 3",
   "language": "python"
  }
 },
 "nbformat": 4,
 "nbformat_minor": 2,
 "cells": [
  {
   "cell_type": "code",
   "execution_count": 1,
   "metadata": {},
   "outputs": [],
   "source": [
    "import pandas as pd\n",
    "import statsmodels.api as sm\n",
    "import numpy as np"
   ]
  },
  {
   "source": [
    "Read csv file"
   ],
   "cell_type": "markdown",
   "metadata": {}
  },
  {
   "cell_type": "code",
   "execution_count": 2,
   "metadata": {},
   "outputs": [
    {
     "output_type": "execute_result",
     "data": {
      "text/plain": [
       "   SEASON_ID_x   TEAM_ID_x TEAM_ABBREVIATION_x            TEAM_NAME_x  \\\n",
       "0        22014  1610612747                 LAL     Los Angeles Lakers   \n",
       "1        22014  1610612740                 NOP   New Orleans Pelicans   \n",
       "2        22014  1610612742                 DAL       Dallas Mavericks   \n",
       "3        22014  1610612749                 MIL        Milwaukee Bucks   \n",
       "4        22014  1610612744                 GSW  Golden State Warriors   \n",
       "\n",
       "    GAME_ID GAME_DATE_x    MATCHUP_x  WL_x  MIN_x  PTS_x  ...  OFFRATE_y  \\\n",
       "0  21400003  2014-10-28  LAL vs. HOU     0    240     90  ...        0.0   \n",
       "1  21400001  2014-10-28  NOP vs. ORL     1    240    101  ...        0.0   \n",
       "2  21400002  2014-10-28    DAL @ SAS     0    239    100  ...        0.0   \n",
       "3  21400004  2014-10-29    MIL @ CHA     0    264    106  ...        0.0   \n",
       "4  21400014  2014-10-29    GSW @ SAC     1    239     95  ...        0.0   \n",
       "\n",
       "   DEFRATE_y   ELO_y  DIS_PTS_y  DIS_AST_y  DIS_OREB_y  DIS_DREB_y  \\\n",
       "0        0.0  1500.0        0.0        0.0         0.0         0.0   \n",
       "1        0.0  1500.0        0.0        0.0         0.0         0.0   \n",
       "2        0.0  1500.0        0.0        0.0         0.0         0.0   \n",
       "3        0.0  1500.0        0.0        0.0         0.0         0.0   \n",
       "4        0.0  1500.0        0.0        0.0         0.0         0.0   \n",
       "\n",
       "   DIS_OFFRATE_y  DIS_DEFRATE_y  DIS_ELO_y  \n",
       "0            0.0            0.0        0.0  \n",
       "1            0.0            0.0        0.0  \n",
       "2            0.0            0.0        0.0  \n",
       "3            0.0            0.0        0.0  \n",
       "4            0.0            0.0        0.0  \n",
       "\n",
       "[5 rows x 111 columns]"
      ],
      "text/html": "<div>\n<style scoped>\n    .dataframe tbody tr th:only-of-type {\n        vertical-align: middle;\n    }\n\n    .dataframe tbody tr th {\n        vertical-align: top;\n    }\n\n    .dataframe thead th {\n        text-align: right;\n    }\n</style>\n<table border=\"1\" class=\"dataframe\">\n  <thead>\n    <tr style=\"text-align: right;\">\n      <th></th>\n      <th>SEASON_ID_x</th>\n      <th>TEAM_ID_x</th>\n      <th>TEAM_ABBREVIATION_x</th>\n      <th>TEAM_NAME_x</th>\n      <th>GAME_ID</th>\n      <th>GAME_DATE_x</th>\n      <th>MATCHUP_x</th>\n      <th>WL_x</th>\n      <th>MIN_x</th>\n      <th>PTS_x</th>\n      <th>...</th>\n      <th>OFFRATE_y</th>\n      <th>DEFRATE_y</th>\n      <th>ELO_y</th>\n      <th>DIS_PTS_y</th>\n      <th>DIS_AST_y</th>\n      <th>DIS_OREB_y</th>\n      <th>DIS_DREB_y</th>\n      <th>DIS_OFFRATE_y</th>\n      <th>DIS_DEFRATE_y</th>\n      <th>DIS_ELO_y</th>\n    </tr>\n  </thead>\n  <tbody>\n    <tr>\n      <td>0</td>\n      <td>22014</td>\n      <td>1610612747</td>\n      <td>LAL</td>\n      <td>Los Angeles Lakers</td>\n      <td>21400003</td>\n      <td>2014-10-28</td>\n      <td>LAL vs. HOU</td>\n      <td>0</td>\n      <td>240</td>\n      <td>90</td>\n      <td>...</td>\n      <td>0.0</td>\n      <td>0.0</td>\n      <td>1500.0</td>\n      <td>0.0</td>\n      <td>0.0</td>\n      <td>0.0</td>\n      <td>0.0</td>\n      <td>0.0</td>\n      <td>0.0</td>\n      <td>0.0</td>\n    </tr>\n    <tr>\n      <td>1</td>\n      <td>22014</td>\n      <td>1610612740</td>\n      <td>NOP</td>\n      <td>New Orleans Pelicans</td>\n      <td>21400001</td>\n      <td>2014-10-28</td>\n      <td>NOP vs. ORL</td>\n      <td>1</td>\n      <td>240</td>\n      <td>101</td>\n      <td>...</td>\n      <td>0.0</td>\n      <td>0.0</td>\n      <td>1500.0</td>\n      <td>0.0</td>\n      <td>0.0</td>\n      <td>0.0</td>\n      <td>0.0</td>\n      <td>0.0</td>\n      <td>0.0</td>\n      <td>0.0</td>\n    </tr>\n    <tr>\n      <td>2</td>\n      <td>22014</td>\n      <td>1610612742</td>\n      <td>DAL</td>\n      <td>Dallas Mavericks</td>\n      <td>21400002</td>\n      <td>2014-10-28</td>\n      <td>DAL @ SAS</td>\n      <td>0</td>\n      <td>239</td>\n      <td>100</td>\n      <td>...</td>\n      <td>0.0</td>\n      <td>0.0</td>\n      <td>1500.0</td>\n      <td>0.0</td>\n      <td>0.0</td>\n      <td>0.0</td>\n      <td>0.0</td>\n      <td>0.0</td>\n      <td>0.0</td>\n      <td>0.0</td>\n    </tr>\n    <tr>\n      <td>3</td>\n      <td>22014</td>\n      <td>1610612749</td>\n      <td>MIL</td>\n      <td>Milwaukee Bucks</td>\n      <td>21400004</td>\n      <td>2014-10-29</td>\n      <td>MIL @ CHA</td>\n      <td>0</td>\n      <td>264</td>\n      <td>106</td>\n      <td>...</td>\n      <td>0.0</td>\n      <td>0.0</td>\n      <td>1500.0</td>\n      <td>0.0</td>\n      <td>0.0</td>\n      <td>0.0</td>\n      <td>0.0</td>\n      <td>0.0</td>\n      <td>0.0</td>\n      <td>0.0</td>\n    </tr>\n    <tr>\n      <td>4</td>\n      <td>22014</td>\n      <td>1610612744</td>\n      <td>GSW</td>\n      <td>Golden State Warriors</td>\n      <td>21400014</td>\n      <td>2014-10-29</td>\n      <td>GSW @ SAC</td>\n      <td>1</td>\n      <td>239</td>\n      <td>95</td>\n      <td>...</td>\n      <td>0.0</td>\n      <td>0.0</td>\n      <td>1500.0</td>\n      <td>0.0</td>\n      <td>0.0</td>\n      <td>0.0</td>\n      <td>0.0</td>\n      <td>0.0</td>\n      <td>0.0</td>\n      <td>0.0</td>\n    </tr>\n  </tbody>\n</table>\n<p>5 rows × 111 columns</p>\n</div>"
     },
     "metadata": {},
     "execution_count": 2
    }
   ],
   "source": [
    "df = pd.read_csv(\"annual_data/nba_season_2014_data.csv\")\n",
    "df.head()\n"
   ]
  },
  {
   "source": [
    "Drop rows of all the first games of every team"
   ],
   "cell_type": "markdown",
   "metadata": {}
  },
  {
   "cell_type": "code",
   "execution_count": 3,
   "metadata": {},
   "outputs": [
    {
     "output_type": "execute_result",
     "data": {
      "text/plain": [
       "    SEASON_ID_x   TEAM_ID_x TEAM_ABBREVIATION_x         TEAM_NAME_x   GAME_ID  \\\n",
       "16        22014  1610612765                 DET     Detroit Pistons  21400017   \n",
       "17        22014  1610612762                 UTA           Utah Jazz  21400019   \n",
       "18        22014  1610612764                 WAS  Washington Wizards  21400016   \n",
       "20        22014  1610612758                 SAC    Sacramento Kings  21400025   \n",
       "21        22014  1610612759                 SAS   San Antonio Spurs  21400024   \n",
       "\n",
       "   GAME_DATE_x    MATCHUP_x  WL_x  MIN_x  PTS_x  ...  OFFRATE_y  DEFRATE_y  \\\n",
       "16  2014-10-30    DET @ MIN     0    241     91  ...   1.018145   1.058468   \n",
       "17  2014-10-30    UTA @ DAL     0    241    102  ...   1.154734   1.166282   \n",
       "18  2014-10-30    WAS @ ORL     1    240    105  ...   0.889831   1.069915   \n",
       "20  2014-10-31  SAC vs. POR     1    240    103  ...   1.142241   0.959052   \n",
       "21  2014-10-31    SAS @ PHX     0    239     89  ...   1.263270   2.006369   \n",
       "\n",
       "          ELO_y  DIS_PTS_y  DIS_AST_y  DIS_OREB_y  DIS_DREB_y  DIS_OFFRATE_y  \\\n",
       "16  1490.000000       22.0        5.0        11.0        -9.0       0.216928   \n",
       "17  1490.000000        7.0        1.0        -4.0         3.0       0.095509   \n",
       "18  1490.000000      -11.0       -3.0         9.0        11.0      -0.147287   \n",
       "20  1510.000000       29.0       10.0        -2.0        -6.0       0.394669   \n",
       "21  1509.712256       18.0        0.0         0.0         2.0       0.107663   \n",
       "\n",
       "    DIS_DEFRATE_y  DIS_ELO_y  \n",
       "16       0.155831   0.000000  \n",
       "17      -1.248297  -0.287744  \n",
       "18      -0.098207   0.000000  \n",
       "20       0.036722  20.000000  \n",
       "21       0.862205  -0.287744  \n",
       "\n",
       "[5 rows x 111 columns]"
      ],
      "text/html": "<div>\n<style scoped>\n    .dataframe tbody tr th:only-of-type {\n        vertical-align: middle;\n    }\n\n    .dataframe tbody tr th {\n        vertical-align: top;\n    }\n\n    .dataframe thead th {\n        text-align: right;\n    }\n</style>\n<table border=\"1\" class=\"dataframe\">\n  <thead>\n    <tr style=\"text-align: right;\">\n      <th></th>\n      <th>SEASON_ID_x</th>\n      <th>TEAM_ID_x</th>\n      <th>TEAM_ABBREVIATION_x</th>\n      <th>TEAM_NAME_x</th>\n      <th>GAME_ID</th>\n      <th>GAME_DATE_x</th>\n      <th>MATCHUP_x</th>\n      <th>WL_x</th>\n      <th>MIN_x</th>\n      <th>PTS_x</th>\n      <th>...</th>\n      <th>OFFRATE_y</th>\n      <th>DEFRATE_y</th>\n      <th>ELO_y</th>\n      <th>DIS_PTS_y</th>\n      <th>DIS_AST_y</th>\n      <th>DIS_OREB_y</th>\n      <th>DIS_DREB_y</th>\n      <th>DIS_OFFRATE_y</th>\n      <th>DIS_DEFRATE_y</th>\n      <th>DIS_ELO_y</th>\n    </tr>\n  </thead>\n  <tbody>\n    <tr>\n      <td>16</td>\n      <td>22014</td>\n      <td>1610612765</td>\n      <td>DET</td>\n      <td>Detroit Pistons</td>\n      <td>21400017</td>\n      <td>2014-10-30</td>\n      <td>DET @ MIN</td>\n      <td>0</td>\n      <td>241</td>\n      <td>91</td>\n      <td>...</td>\n      <td>1.018145</td>\n      <td>1.058468</td>\n      <td>1490.000000</td>\n      <td>22.0</td>\n      <td>5.0</td>\n      <td>11.0</td>\n      <td>-9.0</td>\n      <td>0.216928</td>\n      <td>0.155831</td>\n      <td>0.000000</td>\n    </tr>\n    <tr>\n      <td>17</td>\n      <td>22014</td>\n      <td>1610612762</td>\n      <td>UTA</td>\n      <td>Utah Jazz</td>\n      <td>21400019</td>\n      <td>2014-10-30</td>\n      <td>UTA @ DAL</td>\n      <td>0</td>\n      <td>241</td>\n      <td>102</td>\n      <td>...</td>\n      <td>1.154734</td>\n      <td>1.166282</td>\n      <td>1490.000000</td>\n      <td>7.0</td>\n      <td>1.0</td>\n      <td>-4.0</td>\n      <td>3.0</td>\n      <td>0.095509</td>\n      <td>-1.248297</td>\n      <td>-0.287744</td>\n    </tr>\n    <tr>\n      <td>18</td>\n      <td>22014</td>\n      <td>1610612764</td>\n      <td>WAS</td>\n      <td>Washington Wizards</td>\n      <td>21400016</td>\n      <td>2014-10-30</td>\n      <td>WAS @ ORL</td>\n      <td>1</td>\n      <td>240</td>\n      <td>105</td>\n      <td>...</td>\n      <td>0.889831</td>\n      <td>1.069915</td>\n      <td>1490.000000</td>\n      <td>-11.0</td>\n      <td>-3.0</td>\n      <td>9.0</td>\n      <td>11.0</td>\n      <td>-0.147287</td>\n      <td>-0.098207</td>\n      <td>0.000000</td>\n    </tr>\n    <tr>\n      <td>20</td>\n      <td>22014</td>\n      <td>1610612758</td>\n      <td>SAC</td>\n      <td>Sacramento Kings</td>\n      <td>21400025</td>\n      <td>2014-10-31</td>\n      <td>SAC vs. POR</td>\n      <td>1</td>\n      <td>240</td>\n      <td>103</td>\n      <td>...</td>\n      <td>1.142241</td>\n      <td>0.959052</td>\n      <td>1510.000000</td>\n      <td>29.0</td>\n      <td>10.0</td>\n      <td>-2.0</td>\n      <td>-6.0</td>\n      <td>0.394669</td>\n      <td>0.036722</td>\n      <td>20.000000</td>\n    </tr>\n    <tr>\n      <td>21</td>\n      <td>22014</td>\n      <td>1610612759</td>\n      <td>SAS</td>\n      <td>San Antonio Spurs</td>\n      <td>21400024</td>\n      <td>2014-10-31</td>\n      <td>SAS @ PHX</td>\n      <td>0</td>\n      <td>239</td>\n      <td>89</td>\n      <td>...</td>\n      <td>1.263270</td>\n      <td>2.006369</td>\n      <td>1509.712256</td>\n      <td>18.0</td>\n      <td>0.0</td>\n      <td>0.0</td>\n      <td>2.0</td>\n      <td>0.107663</td>\n      <td>0.862205</td>\n      <td>-0.287744</td>\n    </tr>\n  </tbody>\n</table>\n<p>5 rows × 111 columns</p>\n</div>"
     },
     "metadata": {},
     "execution_count": 3
    }
   ],
   "source": [
    "df.drop(df[(df['GAME_PLAYED_x'] == 1) | (df['GAME_PLAYED_y'] == 1 )].index, inplace=True)\n",
    "df.head()"
   ]
  },
  {
   "source": [
    "Extract first 41 games (mid season) of every team"
   ],
   "cell_type": "markdown",
   "metadata": {}
  },
  {
   "cell_type": "code",
   "execution_count": 4,
   "metadata": {},
   "outputs": [
    {
     "output_type": "execute_result",
     "data": {
      "text/plain": [
       "     SEASON_ID_x   TEAM_ID_x TEAM_ABBREVIATION_x             TEAM_NAME_x  \\\n",
       "16         22014  1610612765                 DET         Detroit Pistons   \n",
       "17         22014  1610612762                 UTA               Utah Jazz   \n",
       "18         22014  1610612764                 WAS      Washington Wizards   \n",
       "20         22014  1610612758                 SAC        Sacramento Kings   \n",
       "21         22014  1610612759                 SAS       San Antonio Spurs   \n",
       "..           ...         ...                 ...                     ...   \n",
       "624        22014  1610612742                 DAL        Dallas Mavericks   \n",
       "625        22014  1610612745                 HOU         Houston Rockets   \n",
       "636        22014  1610612757                 POR  Portland Trail Blazers   \n",
       "648        22014  1610612738                 BOS          Boston Celtics   \n",
       "649        22014  1610612758                 SAC        Sacramento Kings   \n",
       "\n",
       "      GAME_ID GAME_DATE_x    MATCHUP_x  WL_x  MIN_x  PTS_x  ...  OFFRATE_y  \\\n",
       "16   21400017  2014-10-30    DET @ MIN     0    241     91  ...   1.018145   \n",
       "17   21400019  2014-10-30    UTA @ DAL     0    241    102  ...   1.154734   \n",
       "18   21400016  2014-10-30    WAS @ ORL     1    240    105  ...   0.889831   \n",
       "20   21400025  2014-10-31  SAC vs. POR     1    240    103  ...   1.142241   \n",
       "21   21400024  2014-10-31    SAS @ PHX     0    239     89  ...   1.263270   \n",
       "..        ...         ...          ...   ...    ...    ...  ...        ...   \n",
       "624  21400631  2015-01-21    DAL @ MIN     1    241     98  ...   1.009433   \n",
       "625  21400636  2015-01-21    HOU @ GSW     0    241    113  ...   1.113469   \n",
       "636  21400639  2015-01-22  POR vs. BOS     0    239     89  ...   1.026779   \n",
       "648  21400649  2015-01-23    BOS @ DEN     1    240    100  ...   1.033598   \n",
       "649  21400651  2015-01-23    SAC @ GSW     0    239    101  ...   1.115702   \n",
       "\n",
       "     DEFRATE_y        ELO_y  DIS_PTS_y  DIS_AST_y  DIS_OREB_y  DIS_DREB_y  \\\n",
       "16    1.058468  1490.000000  22.000000   5.000000   11.000000   -9.000000   \n",
       "17    1.166282  1490.000000   7.000000   1.000000   -4.000000    3.000000   \n",
       "18    1.069915  1490.000000 -11.000000  -3.000000    9.000000   11.000000   \n",
       "20    0.959052  1510.000000  29.000000  10.000000   -2.000000   -6.000000   \n",
       "21    2.006369  1509.712256  18.000000   0.000000    0.000000    2.000000   \n",
       "..         ...          ...        ...        ...         ...         ...   \n",
       "624   1.030965  1337.597992  -9.907143  -1.152381    1.391667   -2.947619   \n",
       "625   1.079563  1660.632939   7.688645   6.007326   -2.170330    3.558608   \n",
       "636   1.156545  1413.467893  -1.274299   2.605247   -0.186643   -2.224210   \n",
       "648   1.061435  1468.516690  -0.083333  -3.938095    1.727381    0.561905   \n",
       "649   1.114443  1668.531314   9.009524   7.408333   -1.066667    0.842857   \n",
       "\n",
       "     DIS_OFFRATE_y  DIS_DEFRATE_y   DIS_ELO_y  \n",
       "16        0.216928       0.155831    0.000000  \n",
       "17        0.095509      -1.248297   -0.287744  \n",
       "18       -0.147287      -0.098207    0.000000  \n",
       "20        0.394669       0.036722   20.000000  \n",
       "21        0.107663       0.862205   -0.287744  \n",
       "..             ...            ...         ...  \n",
       "624      -0.111724       0.003176 -258.928642  \n",
       "625       0.061993       0.083223   74.122374  \n",
       "636      -0.038587       0.022841 -180.059427  \n",
       "648       0.008925      -0.079552   40.285294  \n",
       "649       0.063421       0.123756  254.863361  \n",
       "\n",
       "[607 rows x 111 columns]"
      ],
      "text/html": "<div>\n<style scoped>\n    .dataframe tbody tr th:only-of-type {\n        vertical-align: middle;\n    }\n\n    .dataframe tbody tr th {\n        vertical-align: top;\n    }\n\n    .dataframe thead th {\n        text-align: right;\n    }\n</style>\n<table border=\"1\" class=\"dataframe\">\n  <thead>\n    <tr style=\"text-align: right;\">\n      <th></th>\n      <th>SEASON_ID_x</th>\n      <th>TEAM_ID_x</th>\n      <th>TEAM_ABBREVIATION_x</th>\n      <th>TEAM_NAME_x</th>\n      <th>GAME_ID</th>\n      <th>GAME_DATE_x</th>\n      <th>MATCHUP_x</th>\n      <th>WL_x</th>\n      <th>MIN_x</th>\n      <th>PTS_x</th>\n      <th>...</th>\n      <th>OFFRATE_y</th>\n      <th>DEFRATE_y</th>\n      <th>ELO_y</th>\n      <th>DIS_PTS_y</th>\n      <th>DIS_AST_y</th>\n      <th>DIS_OREB_y</th>\n      <th>DIS_DREB_y</th>\n      <th>DIS_OFFRATE_y</th>\n      <th>DIS_DEFRATE_y</th>\n      <th>DIS_ELO_y</th>\n    </tr>\n  </thead>\n  <tbody>\n    <tr>\n      <td>16</td>\n      <td>22014</td>\n      <td>1610612765</td>\n      <td>DET</td>\n      <td>Detroit Pistons</td>\n      <td>21400017</td>\n      <td>2014-10-30</td>\n      <td>DET @ MIN</td>\n      <td>0</td>\n      <td>241</td>\n      <td>91</td>\n      <td>...</td>\n      <td>1.018145</td>\n      <td>1.058468</td>\n      <td>1490.000000</td>\n      <td>22.000000</td>\n      <td>5.000000</td>\n      <td>11.000000</td>\n      <td>-9.000000</td>\n      <td>0.216928</td>\n      <td>0.155831</td>\n      <td>0.000000</td>\n    </tr>\n    <tr>\n      <td>17</td>\n      <td>22014</td>\n      <td>1610612762</td>\n      <td>UTA</td>\n      <td>Utah Jazz</td>\n      <td>21400019</td>\n      <td>2014-10-30</td>\n      <td>UTA @ DAL</td>\n      <td>0</td>\n      <td>241</td>\n      <td>102</td>\n      <td>...</td>\n      <td>1.154734</td>\n      <td>1.166282</td>\n      <td>1490.000000</td>\n      <td>7.000000</td>\n      <td>1.000000</td>\n      <td>-4.000000</td>\n      <td>3.000000</td>\n      <td>0.095509</td>\n      <td>-1.248297</td>\n      <td>-0.287744</td>\n    </tr>\n    <tr>\n      <td>18</td>\n      <td>22014</td>\n      <td>1610612764</td>\n      <td>WAS</td>\n      <td>Washington Wizards</td>\n      <td>21400016</td>\n      <td>2014-10-30</td>\n      <td>WAS @ ORL</td>\n      <td>1</td>\n      <td>240</td>\n      <td>105</td>\n      <td>...</td>\n      <td>0.889831</td>\n      <td>1.069915</td>\n      <td>1490.000000</td>\n      <td>-11.000000</td>\n      <td>-3.000000</td>\n      <td>9.000000</td>\n      <td>11.000000</td>\n      <td>-0.147287</td>\n      <td>-0.098207</td>\n      <td>0.000000</td>\n    </tr>\n    <tr>\n      <td>20</td>\n      <td>22014</td>\n      <td>1610612758</td>\n      <td>SAC</td>\n      <td>Sacramento Kings</td>\n      <td>21400025</td>\n      <td>2014-10-31</td>\n      <td>SAC vs. POR</td>\n      <td>1</td>\n      <td>240</td>\n      <td>103</td>\n      <td>...</td>\n      <td>1.142241</td>\n      <td>0.959052</td>\n      <td>1510.000000</td>\n      <td>29.000000</td>\n      <td>10.000000</td>\n      <td>-2.000000</td>\n      <td>-6.000000</td>\n      <td>0.394669</td>\n      <td>0.036722</td>\n      <td>20.000000</td>\n    </tr>\n    <tr>\n      <td>21</td>\n      <td>22014</td>\n      <td>1610612759</td>\n      <td>SAS</td>\n      <td>San Antonio Spurs</td>\n      <td>21400024</td>\n      <td>2014-10-31</td>\n      <td>SAS @ PHX</td>\n      <td>0</td>\n      <td>239</td>\n      <td>89</td>\n      <td>...</td>\n      <td>1.263270</td>\n      <td>2.006369</td>\n      <td>1509.712256</td>\n      <td>18.000000</td>\n      <td>0.000000</td>\n      <td>0.000000</td>\n      <td>2.000000</td>\n      <td>0.107663</td>\n      <td>0.862205</td>\n      <td>-0.287744</td>\n    </tr>\n    <tr>\n      <td>...</td>\n      <td>...</td>\n      <td>...</td>\n      <td>...</td>\n      <td>...</td>\n      <td>...</td>\n      <td>...</td>\n      <td>...</td>\n      <td>...</td>\n      <td>...</td>\n      <td>...</td>\n      <td>...</td>\n      <td>...</td>\n      <td>...</td>\n      <td>...</td>\n      <td>...</td>\n      <td>...</td>\n      <td>...</td>\n      <td>...</td>\n      <td>...</td>\n      <td>...</td>\n      <td>...</td>\n    </tr>\n    <tr>\n      <td>624</td>\n      <td>22014</td>\n      <td>1610612742</td>\n      <td>DAL</td>\n      <td>Dallas Mavericks</td>\n      <td>21400631</td>\n      <td>2015-01-21</td>\n      <td>DAL @ MIN</td>\n      <td>1</td>\n      <td>241</td>\n      <td>98</td>\n      <td>...</td>\n      <td>1.009433</td>\n      <td>1.030965</td>\n      <td>1337.597992</td>\n      <td>-9.907143</td>\n      <td>-1.152381</td>\n      <td>1.391667</td>\n      <td>-2.947619</td>\n      <td>-0.111724</td>\n      <td>0.003176</td>\n      <td>-258.928642</td>\n    </tr>\n    <tr>\n      <td>625</td>\n      <td>22014</td>\n      <td>1610612745</td>\n      <td>HOU</td>\n      <td>Houston Rockets</td>\n      <td>21400636</td>\n      <td>2015-01-21</td>\n      <td>HOU @ GSW</td>\n      <td>0</td>\n      <td>241</td>\n      <td>113</td>\n      <td>...</td>\n      <td>1.113469</td>\n      <td>1.079563</td>\n      <td>1660.632939</td>\n      <td>7.688645</td>\n      <td>6.007326</td>\n      <td>-2.170330</td>\n      <td>3.558608</td>\n      <td>0.061993</td>\n      <td>0.083223</td>\n      <td>74.122374</td>\n    </tr>\n    <tr>\n      <td>636</td>\n      <td>22014</td>\n      <td>1610612757</td>\n      <td>POR</td>\n      <td>Portland Trail Blazers</td>\n      <td>21400639</td>\n      <td>2015-01-22</td>\n      <td>POR vs. BOS</td>\n      <td>0</td>\n      <td>239</td>\n      <td>89</td>\n      <td>...</td>\n      <td>1.026779</td>\n      <td>1.156545</td>\n      <td>1413.467893</td>\n      <td>-1.274299</td>\n      <td>2.605247</td>\n      <td>-0.186643</td>\n      <td>-2.224210</td>\n      <td>-0.038587</td>\n      <td>0.022841</td>\n      <td>-180.059427</td>\n    </tr>\n    <tr>\n      <td>648</td>\n      <td>22014</td>\n      <td>1610612738</td>\n      <td>BOS</td>\n      <td>Boston Celtics</td>\n      <td>21400649</td>\n      <td>2015-01-23</td>\n      <td>BOS @ DEN</td>\n      <td>1</td>\n      <td>240</td>\n      <td>100</td>\n      <td>...</td>\n      <td>1.033598</td>\n      <td>1.061435</td>\n      <td>1468.516690</td>\n      <td>-0.083333</td>\n      <td>-3.938095</td>\n      <td>1.727381</td>\n      <td>0.561905</td>\n      <td>0.008925</td>\n      <td>-0.079552</td>\n      <td>40.285294</td>\n    </tr>\n    <tr>\n      <td>649</td>\n      <td>22014</td>\n      <td>1610612758</td>\n      <td>SAC</td>\n      <td>Sacramento Kings</td>\n      <td>21400651</td>\n      <td>2015-01-23</td>\n      <td>SAC @ GSW</td>\n      <td>0</td>\n      <td>239</td>\n      <td>101</td>\n      <td>...</td>\n      <td>1.115702</td>\n      <td>1.114443</td>\n      <td>1668.531314</td>\n      <td>9.009524</td>\n      <td>7.408333</td>\n      <td>-1.066667</td>\n      <td>0.842857</td>\n      <td>0.063421</td>\n      <td>0.123756</td>\n      <td>254.863361</td>\n    </tr>\n  </tbody>\n</table>\n<p>607 rows × 111 columns</p>\n</div>"
     },
     "metadata": {},
     "execution_count": 4
    }
   ],
   "source": [
    "first_half = df[(df['GAME_PLAYED_x'] <= 41) | (df['GAME_PLAYED_y'] <= 41 )]\n",
    "first_half"
   ]
  },
  {
   "source": [
    "Define the DataFrame to be processed"
   ],
   "cell_type": "markdown",
   "metadata": {}
  },
  {
   "cell_type": "code",
   "execution_count": 5,
   "metadata": {},
   "outputs": [],
   "source": [
    "clean_df = first_half"
   ]
  },
  {
   "cell_type": "code",
   "execution_count": 6,
   "metadata": {},
   "outputs": [
    {
     "output_type": "execute_result",
     "data": {
      "text/plain": [
       "x1     0.045579\n",
       "x2     2.306057\n",
       "x3    24.317873\n",
       "x4     2.148333\n",
       "x5    -0.072916\n",
       "x6    -0.030697\n",
       "x7    -0.291896\n",
       "x8     0.284938\n",
       "dtype: float64"
      ]
     },
     "metadata": {},
     "execution_count": 6
    }
   ],
   "source": [
    "y = clean_df['PLUS_MINUS_x']\n",
    "x1 = clean_df['DIS_ELO_x']\n",
    "x2 = clean_df['HOME_COURT_x']\n",
    "x3 = clean_df['DIS_OFFRATE_x']\n",
    "x4 = clean_df['DIS_DEFRATE_x']\n",
    "x5 = clean_df['DIS_PTS_x']\n",
    "x6 = clean_df['DIS_AST_x']\n",
    "x7 = clean_df['DIS_OREB_x']\n",
    "x8 = clean_df['DIS_DREB_x']\n",
    "\n",
    "x = np.column_stack((x1, x2, x3, x4, x5, x6, x7, x8))\n",
    "# x = sm.add_constant(x)\n",
    "model = sm.OLS(y,x)\n",
    "results = model.fit()\n",
    "results.params  "
   ]
  },
  {
   "cell_type": "code",
   "execution_count": 7,
   "metadata": {},
   "outputs": [
    {
     "output_type": "execute_result",
     "data": {
      "text/plain": [
       "<class 'statsmodels.iolib.summary.Summary'>\n",
       "\"\"\"\n",
       "                                 OLS Regression Results                                \n",
       "=======================================================================================\n",
       "Dep. Variable:           PLUS_MINUS_x   R-squared (uncentered):                   0.185\n",
       "Model:                            OLS   Adj. R-squared (uncentered):              0.174\n",
       "Method:                 Least Squares   F-statistic:                              16.98\n",
       "Date:                Tue, 02 Feb 2021   Prob (F-statistic):                    7.72e-23\n",
       "Time:                        12:37:24   Log-Likelihood:                         -2386.1\n",
       "No. Observations:                 607   AIC:                                      4788.\n",
       "Df Residuals:                     599   BIC:                                      4824.\n",
       "Df Model:                           8                                                  \n",
       "Covariance Type:            nonrobust                                                  \n",
       "==============================================================================\n",
       "                 coef    std err          t      P>|t|      [0.025      0.975]\n",
       "------------------------------------------------------------------------------\n",
       "x1             0.0456      0.008      6.040      0.000       0.031       0.060\n",
       "x2             2.3061      0.713      3.236      0.001       0.906       3.706\n",
       "x3            24.3179     11.517      2.111      0.035       1.698      46.937\n",
       "x4             2.1483      2.620      0.820      0.413      -2.998       7.295\n",
       "x5            -0.0729      0.081     -0.900      0.368      -0.232       0.086\n",
       "x6            -0.0307      0.218     -0.141      0.888      -0.458       0.397\n",
       "x7            -0.2919      0.257     -1.136      0.256      -0.797       0.213\n",
       "x8             0.2849      0.177      1.614      0.107      -0.062       0.632\n",
       "==============================================================================\n",
       "Omnibus:                        5.925   Durbin-Watson:                   2.022\n",
       "Prob(Omnibus):                  0.052   Jarque-Bera (JB):                7.033\n",
       "Skew:                          -0.117   Prob(JB):                       0.0297\n",
       "Kurtosis:                       3.473   Cond. No.                     2.17e+03\n",
       "==============================================================================\n",
       "\n",
       "Warnings:\n",
       "[1] Standard Errors assume that the covariance matrix of the errors is correctly specified.\n",
       "[2] The condition number is large, 2.17e+03. This might indicate that there are\n",
       "strong multicollinearity or other numerical problems.\n",
       "\"\"\""
      ],
      "text/html": "<table class=\"simpletable\">\n<caption>OLS Regression Results</caption>\n<tr>\n  <th>Dep. Variable:</th>      <td>PLUS_MINUS_x</td>   <th>  R-squared (uncentered):</th>      <td>   0.185</td>\n</tr>\n<tr>\n  <th>Model:</th>                   <td>OLS</td>       <th>  Adj. R-squared (uncentered):</th> <td>   0.174</td>\n</tr>\n<tr>\n  <th>Method:</th>             <td>Least Squares</td>  <th>  F-statistic:       </th>          <td>   16.98</td>\n</tr>\n<tr>\n  <th>Date:</th>             <td>Tue, 02 Feb 2021</td> <th>  Prob (F-statistic):</th>          <td>7.72e-23</td>\n</tr>\n<tr>\n  <th>Time:</th>                 <td>12:37:24</td>     <th>  Log-Likelihood:    </th>          <td> -2386.1</td>\n</tr>\n<tr>\n  <th>No. Observations:</th>      <td>   607</td>      <th>  AIC:               </th>          <td>   4788.</td>\n</tr>\n<tr>\n  <th>Df Residuals:</th>          <td>   599</td>      <th>  BIC:               </th>          <td>   4824.</td>\n</tr>\n<tr>\n  <th>Df Model:</th>              <td>     8</td>      <th>                     </th>              <td> </td>   \n</tr>\n<tr>\n  <th>Covariance Type:</th>      <td>nonrobust</td>    <th>                     </th>              <td> </td>   \n</tr>\n</table>\n<table class=\"simpletable\">\n<tr>\n   <td></td>     <th>coef</th>     <th>std err</th>      <th>t</th>      <th>P>|t|</th>  <th>[0.025</th>    <th>0.975]</th>  \n</tr>\n<tr>\n  <th>x1</th> <td>    0.0456</td> <td>    0.008</td> <td>    6.040</td> <td> 0.000</td> <td>    0.031</td> <td>    0.060</td>\n</tr>\n<tr>\n  <th>x2</th> <td>    2.3061</td> <td>    0.713</td> <td>    3.236</td> <td> 0.001</td> <td>    0.906</td> <td>    3.706</td>\n</tr>\n<tr>\n  <th>x3</th> <td>   24.3179</td> <td>   11.517</td> <td>    2.111</td> <td> 0.035</td> <td>    1.698</td> <td>   46.937</td>\n</tr>\n<tr>\n  <th>x4</th> <td>    2.1483</td> <td>    2.620</td> <td>    0.820</td> <td> 0.413</td> <td>   -2.998</td> <td>    7.295</td>\n</tr>\n<tr>\n  <th>x5</th> <td>   -0.0729</td> <td>    0.081</td> <td>   -0.900</td> <td> 0.368</td> <td>   -0.232</td> <td>    0.086</td>\n</tr>\n<tr>\n  <th>x6</th> <td>   -0.0307</td> <td>    0.218</td> <td>   -0.141</td> <td> 0.888</td> <td>   -0.458</td> <td>    0.397</td>\n</tr>\n<tr>\n  <th>x7</th> <td>   -0.2919</td> <td>    0.257</td> <td>   -1.136</td> <td> 0.256</td> <td>   -0.797</td> <td>    0.213</td>\n</tr>\n<tr>\n  <th>x8</th> <td>    0.2849</td> <td>    0.177</td> <td>    1.614</td> <td> 0.107</td> <td>   -0.062</td> <td>    0.632</td>\n</tr>\n</table>\n<table class=\"simpletable\">\n<tr>\n  <th>Omnibus:</th>       <td> 5.925</td> <th>  Durbin-Watson:     </th> <td>   2.022</td>\n</tr>\n<tr>\n  <th>Prob(Omnibus):</th> <td> 0.052</td> <th>  Jarque-Bera (JB):  </th> <td>   7.033</td>\n</tr>\n<tr>\n  <th>Skew:</th>          <td>-0.117</td> <th>  Prob(JB):          </th> <td>  0.0297</td>\n</tr>\n<tr>\n  <th>Kurtosis:</th>      <td> 3.473</td> <th>  Cond. No.          </th> <td>2.17e+03</td>\n</tr>\n</table><br/><br/>Warnings:<br/>[1] Standard Errors assume that the covariance matrix of the errors is correctly specified.<br/>[2] The condition number is large, 2.17e+03. This might indicate that there are<br/>strong multicollinearity or other numerical problems."
     },
     "metadata": {},
     "execution_count": 7
    }
   ],
   "source": [
    "results.summary()"
   ]
  },
  {
   "source": [
    "Results: x1(DIS_ELO), x2(HOME_COURT) and x3(DIS_OFFRATE) are significant variables\n",
    "Chosen model is to be fitted the 3 significant x variables\n",
    "Resulting equation would be used to predict outcome of a game:\n",
    "    - postiive --> team 1 wins\n",
    "    - negative --> team 2 wins"
   ],
   "cell_type": "markdown",
   "metadata": {}
  },
  {
   "source": [
    "Part 2: Using regression based on the 3 significant factors to predict games in the 2nd half of season"
   ],
   "cell_type": "markdown",
   "metadata": {}
  },
  {
   "cell_type": "code",
   "execution_count": 8,
   "metadata": {},
   "outputs": [],
   "source": [
    "### Graphic libraries\n",
    "import matplotlib.pyplot as plt\n",
    "import seaborn as sns \n",
    "\n",
    "\n",
    "### Importing the relevant ML libraries \n",
    "from sklearn.model_selection import train_test_split\n",
    "from sklearn.linear_model import LinearRegression\n",
    "\n",
    "\n",
    "from sklearn.metrics import accuracy_score,roc_curve,auc,recall_score,f1_score,precision_score,classification_report,confusion_matrix,auc\n",
    "\n",
    "### Some cosmetics add-ons\n",
    "plt.style.use('fivethirtyeight')\n",
    "%matplotlib inline"
   ]
  },
  {
   "cell_type": "code",
   "execution_count": 10,
   "metadata": {},
   "outputs": [],
   "source": [
    "# significant_x = np.column_stack((x1, x2, x3))\n",
    "# chosen_model = sm.OLS(y, significant_x)\n",
    "# results = chosen_model.fit()\n",
    "# results.summary()"
   ]
  },
  {
   "source": [
    "Extract 2nd half of season from DataFrame to predict outcomes of all games"
   ],
   "cell_type": "markdown",
   "metadata": {}
  },
  {
   "cell_type": "code",
   "execution_count": 9,
   "metadata": {},
   "outputs": [
    {
     "output_type": "execute_result",
     "data": {
      "text/plain": [
       "      SEASON_ID_x   TEAM_ID_x TEAM_ABBREVIATION_x            TEAM_NAME_x  \\\n",
       "610         22014  1610612754                 IND         Indiana Pacers   \n",
       "611         22014  1610612741                 CHI          Chicago Bulls   \n",
       "613         22014  1610612747                 LAL     Los Angeles Lakers   \n",
       "618         22014  1610612737                 ATL          Atlanta Hawks   \n",
       "622         22014  1610612759                 SAS      San Antonio Spurs   \n",
       "...           ...         ...                 ...                    ...   \n",
       "1225        22014  1610612755                 PHI     Philadelphia 76ers   \n",
       "1226        22014  1610612740                 NOP   New Orleans Pelicans   \n",
       "1227        22014  1610612749                 MIL        Milwaukee Bucks   \n",
       "1228        22014  1610612753                 ORL          Orlando Magic   \n",
       "1229        22014  1610612744                 GSW  Golden State Warriors   \n",
       "\n",
       "       GAME_ID GAME_DATE_x    MATCHUP_x  WL_x  MIN_x  PTS_x  ...  OFFRATE_y  \\\n",
       "610   21400617  2015-01-19    IND @ HOU     0    240     98  ...   1.049528   \n",
       "611   21400620  2015-01-19    CHI @ CLE     0    242     94  ...   1.074796   \n",
       "613   21400622  2015-01-19    LAL @ PHX     0    240    100  ...   1.084334   \n",
       "618   21400613  2015-01-19  ATL vs. DET     1    240     93  ...   1.029925   \n",
       "622   21400624  2015-01-20    SAS @ DEN     1    241    109  ...   1.033295   \n",
       "...        ...         ...          ...   ...    ...    ...  ...        ...   \n",
       "1225  21401227  2015-04-15  PHI vs. MIA     0    238    101  ...   1.035420   \n",
       "1226  21401223  2015-04-15  NOP vs. SAS     1    240    108  ...   1.077284   \n",
       "1227  21401221  2015-04-15  MIL vs. BOS     0    240    100  ...   1.030823   \n",
       "1228  21401224  2015-04-15    ORL @ BKN     0    241     88  ...   1.032308   \n",
       "1229  21401229  2015-04-15  GSW vs. DEN     1    239    133  ...   1.028622   \n",
       "\n",
       "      DEFRATE_y        ELO_y  DIS_PTS_y  DIS_AST_y  DIS_OREB_y  DIS_DREB_y  \\\n",
       "610    1.044530  1580.810254   7.534262   0.261324    1.172474   -3.160859   \n",
       "611    1.110475  1491.954552  -1.650987  -0.221835   -0.904762   -3.305459   \n",
       "613    0.903411  1533.204714   6.633566   0.128920   -0.772938    0.178862   \n",
       "618    0.928036  1483.404867  -5.439024  -4.707317    4.195122    0.268293   \n",
       "622    1.065748  1476.098464  -0.077816  -3.425087    2.653891   -0.610918   \n",
       "...         ...          ...        ...        ...         ...         ...   \n",
       "1225   1.048939  1452.968706   2.691358  -0.654321   -2.839506   -0.901235   \n",
       "1226   1.069293  1671.322063   3.938272   2.271605   -1.641975    1.814815   \n",
       "1227   1.059460  1539.492386   3.506173   0.925926    0.518519    1.395062   \n",
       "1228   1.063132  1497.129613   2.197531   0.209877    0.333333    0.234568   \n",
       "1229   1.084484  1412.036128  -8.506173  -5.654321    2.024691   -2.037037   \n",
       "\n",
       "      DIS_OFFRATE_y  DIS_DEFRATE_y   DIS_ELO_y  \n",
       "610        0.054917       0.067137  159.771236  \n",
       "611       -0.003931       0.047061  -75.604759  \n",
       "613        0.043416      -0.069226  126.475792  \n",
       "618       -0.061377      -0.178982 -199.041129  \n",
       "622       -0.028010       0.094043  -85.715502  \n",
       "...             ...            ...         ...  \n",
       "1225       0.089955       0.042230  148.113346  \n",
       "1226       0.006417       0.016542  133.168914  \n",
       "1227       0.008790       0.099604   48.089674  \n",
       "1228       0.021995       0.065841  137.786544  \n",
       "1229      -0.078846       0.091216 -305.509038  \n",
       "\n",
       "[606 rows x 111 columns]"
      ],
      "text/html": "<div>\n<style scoped>\n    .dataframe tbody tr th:only-of-type {\n        vertical-align: middle;\n    }\n\n    .dataframe tbody tr th {\n        vertical-align: top;\n    }\n\n    .dataframe thead th {\n        text-align: right;\n    }\n</style>\n<table border=\"1\" class=\"dataframe\">\n  <thead>\n    <tr style=\"text-align: right;\">\n      <th></th>\n      <th>SEASON_ID_x</th>\n      <th>TEAM_ID_x</th>\n      <th>TEAM_ABBREVIATION_x</th>\n      <th>TEAM_NAME_x</th>\n      <th>GAME_ID</th>\n      <th>GAME_DATE_x</th>\n      <th>MATCHUP_x</th>\n      <th>WL_x</th>\n      <th>MIN_x</th>\n      <th>PTS_x</th>\n      <th>...</th>\n      <th>OFFRATE_y</th>\n      <th>DEFRATE_y</th>\n      <th>ELO_y</th>\n      <th>DIS_PTS_y</th>\n      <th>DIS_AST_y</th>\n      <th>DIS_OREB_y</th>\n      <th>DIS_DREB_y</th>\n      <th>DIS_OFFRATE_y</th>\n      <th>DIS_DEFRATE_y</th>\n      <th>DIS_ELO_y</th>\n    </tr>\n  </thead>\n  <tbody>\n    <tr>\n      <td>610</td>\n      <td>22014</td>\n      <td>1610612754</td>\n      <td>IND</td>\n      <td>Indiana Pacers</td>\n      <td>21400617</td>\n      <td>2015-01-19</td>\n      <td>IND @ HOU</td>\n      <td>0</td>\n      <td>240</td>\n      <td>98</td>\n      <td>...</td>\n      <td>1.049528</td>\n      <td>1.044530</td>\n      <td>1580.810254</td>\n      <td>7.534262</td>\n      <td>0.261324</td>\n      <td>1.172474</td>\n      <td>-3.160859</td>\n      <td>0.054917</td>\n      <td>0.067137</td>\n      <td>159.771236</td>\n    </tr>\n    <tr>\n      <td>611</td>\n      <td>22014</td>\n      <td>1610612741</td>\n      <td>CHI</td>\n      <td>Chicago Bulls</td>\n      <td>21400620</td>\n      <td>2015-01-19</td>\n      <td>CHI @ CLE</td>\n      <td>0</td>\n      <td>242</td>\n      <td>94</td>\n      <td>...</td>\n      <td>1.074796</td>\n      <td>1.110475</td>\n      <td>1491.954552</td>\n      <td>-1.650987</td>\n      <td>-0.221835</td>\n      <td>-0.904762</td>\n      <td>-3.305459</td>\n      <td>-0.003931</td>\n      <td>0.047061</td>\n      <td>-75.604759</td>\n    </tr>\n    <tr>\n      <td>613</td>\n      <td>22014</td>\n      <td>1610612747</td>\n      <td>LAL</td>\n      <td>Los Angeles Lakers</td>\n      <td>21400622</td>\n      <td>2015-01-19</td>\n      <td>LAL @ PHX</td>\n      <td>0</td>\n      <td>240</td>\n      <td>100</td>\n      <td>...</td>\n      <td>1.084334</td>\n      <td>0.903411</td>\n      <td>1533.204714</td>\n      <td>6.633566</td>\n      <td>0.128920</td>\n      <td>-0.772938</td>\n      <td>0.178862</td>\n      <td>0.043416</td>\n      <td>-0.069226</td>\n      <td>126.475792</td>\n    </tr>\n    <tr>\n      <td>618</td>\n      <td>22014</td>\n      <td>1610612737</td>\n      <td>ATL</td>\n      <td>Atlanta Hawks</td>\n      <td>21400613</td>\n      <td>2015-01-19</td>\n      <td>ATL vs. DET</td>\n      <td>1</td>\n      <td>240</td>\n      <td>93</td>\n      <td>...</td>\n      <td>1.029925</td>\n      <td>0.928036</td>\n      <td>1483.404867</td>\n      <td>-5.439024</td>\n      <td>-4.707317</td>\n      <td>4.195122</td>\n      <td>0.268293</td>\n      <td>-0.061377</td>\n      <td>-0.178982</td>\n      <td>-199.041129</td>\n    </tr>\n    <tr>\n      <td>622</td>\n      <td>22014</td>\n      <td>1610612759</td>\n      <td>SAS</td>\n      <td>San Antonio Spurs</td>\n      <td>21400624</td>\n      <td>2015-01-20</td>\n      <td>SAS @ DEN</td>\n      <td>1</td>\n      <td>241</td>\n      <td>109</td>\n      <td>...</td>\n      <td>1.033295</td>\n      <td>1.065748</td>\n      <td>1476.098464</td>\n      <td>-0.077816</td>\n      <td>-3.425087</td>\n      <td>2.653891</td>\n      <td>-0.610918</td>\n      <td>-0.028010</td>\n      <td>0.094043</td>\n      <td>-85.715502</td>\n    </tr>\n    <tr>\n      <td>...</td>\n      <td>...</td>\n      <td>...</td>\n      <td>...</td>\n      <td>...</td>\n      <td>...</td>\n      <td>...</td>\n      <td>...</td>\n      <td>...</td>\n      <td>...</td>\n      <td>...</td>\n      <td>...</td>\n      <td>...</td>\n      <td>...</td>\n      <td>...</td>\n      <td>...</td>\n      <td>...</td>\n      <td>...</td>\n      <td>...</td>\n      <td>...</td>\n      <td>...</td>\n      <td>...</td>\n    </tr>\n    <tr>\n      <td>1225</td>\n      <td>22014</td>\n      <td>1610612755</td>\n      <td>PHI</td>\n      <td>Philadelphia 76ers</td>\n      <td>21401227</td>\n      <td>2015-04-15</td>\n      <td>PHI vs. MIA</td>\n      <td>0</td>\n      <td>238</td>\n      <td>101</td>\n      <td>...</td>\n      <td>1.035420</td>\n      <td>1.048939</td>\n      <td>1452.968706</td>\n      <td>2.691358</td>\n      <td>-0.654321</td>\n      <td>-2.839506</td>\n      <td>-0.901235</td>\n      <td>0.089955</td>\n      <td>0.042230</td>\n      <td>148.113346</td>\n    </tr>\n    <tr>\n      <td>1226</td>\n      <td>22014</td>\n      <td>1610612740</td>\n      <td>NOP</td>\n      <td>New Orleans Pelicans</td>\n      <td>21401223</td>\n      <td>2015-04-15</td>\n      <td>NOP vs. SAS</td>\n      <td>1</td>\n      <td>240</td>\n      <td>108</td>\n      <td>...</td>\n      <td>1.077284</td>\n      <td>1.069293</td>\n      <td>1671.322063</td>\n      <td>3.938272</td>\n      <td>2.271605</td>\n      <td>-1.641975</td>\n      <td>1.814815</td>\n      <td>0.006417</td>\n      <td>0.016542</td>\n      <td>133.168914</td>\n    </tr>\n    <tr>\n      <td>1227</td>\n      <td>22014</td>\n      <td>1610612749</td>\n      <td>MIL</td>\n      <td>Milwaukee Bucks</td>\n      <td>21401221</td>\n      <td>2015-04-15</td>\n      <td>MIL vs. BOS</td>\n      <td>0</td>\n      <td>240</td>\n      <td>100</td>\n      <td>...</td>\n      <td>1.030823</td>\n      <td>1.059460</td>\n      <td>1539.492386</td>\n      <td>3.506173</td>\n      <td>0.925926</td>\n      <td>0.518519</td>\n      <td>1.395062</td>\n      <td>0.008790</td>\n      <td>0.099604</td>\n      <td>48.089674</td>\n    </tr>\n    <tr>\n      <td>1228</td>\n      <td>22014</td>\n      <td>1610612753</td>\n      <td>ORL</td>\n      <td>Orlando Magic</td>\n      <td>21401224</td>\n      <td>2015-04-15</td>\n      <td>ORL @ BKN</td>\n      <td>0</td>\n      <td>241</td>\n      <td>88</td>\n      <td>...</td>\n      <td>1.032308</td>\n      <td>1.063132</td>\n      <td>1497.129613</td>\n      <td>2.197531</td>\n      <td>0.209877</td>\n      <td>0.333333</td>\n      <td>0.234568</td>\n      <td>0.021995</td>\n      <td>0.065841</td>\n      <td>137.786544</td>\n    </tr>\n    <tr>\n      <td>1229</td>\n      <td>22014</td>\n      <td>1610612744</td>\n      <td>GSW</td>\n      <td>Golden State Warriors</td>\n      <td>21401229</td>\n      <td>2015-04-15</td>\n      <td>GSW vs. DEN</td>\n      <td>1</td>\n      <td>239</td>\n      <td>133</td>\n      <td>...</td>\n      <td>1.028622</td>\n      <td>1.084484</td>\n      <td>1412.036128</td>\n      <td>-8.506173</td>\n      <td>-5.654321</td>\n      <td>2.024691</td>\n      <td>-2.037037</td>\n      <td>-0.078846</td>\n      <td>0.091216</td>\n      <td>-305.509038</td>\n    </tr>\n  </tbody>\n</table>\n<p>606 rows × 111 columns</p>\n</div>"
     },
     "metadata": {},
     "execution_count": 9
    }
   ],
   "source": [
    "second_half = df[(df['GAME_PLAYED_x'] > 41) & (df['GAME_PLAYED_y'] > 41 )]\n",
    "second_half"
   ]
  },
  {
   "source": [
    "Define variables"
   ],
   "cell_type": "markdown",
   "metadata": {}
  },
  {
   "cell_type": "code",
   "execution_count": 10,
   "metadata": {},
   "outputs": [],
   "source": [
    "features_list = ['DIS_ELO_x', 'HOME_COURT_x', 'DIS_OFFRATE_x']"
   ]
  },
  {
   "cell_type": "code",
   "execution_count": 11,
   "metadata": {},
   "outputs": [
    {
     "output_type": "execute_result",
     "data": {
      "text/plain": [
       "((607, 3), (606, 3), (607,), (606,))"
      ]
     },
     "metadata": {},
     "execution_count": 11
    }
   ],
   "source": [
    "X_train = first_half[features_list]\n",
    "X_test = second_half[features_list]\n",
    "y_train = first_half['PLUS_MINUS_x']\n",
    "y_test = second_half['WL_x']\n",
    "\n",
    "X_train.shape, X_test.shape, y_train.shape, y_test.shape"
   ]
  },
  {
   "source": [
    "Modelling"
   ],
   "cell_type": "markdown",
   "metadata": {}
  },
  {
   "cell_type": "code",
   "execution_count": 12,
   "metadata": {},
   "outputs": [
    {
     "output_type": "execute_result",
     "data": {
      "text/plain": [
       "array([-10.49889602,   2.26917866,  -8.64259701,  13.18033381,\n",
       "         3.15798483,   7.30452924,  -5.06303835,   1.71234739,\n",
       "        -0.76277416,  -3.25990456, -16.76572326,  -2.92054858,\n",
       "        -4.64712647,  -0.97452287,  -5.73016123,  -1.13251972,\n",
       "        10.10310293,   5.74471154,  -1.80460653,  -0.77635191,\n",
       "        -7.12743903,  10.21677058,  -4.48125901, -10.31145901,\n",
       "         4.59503144,  10.26727319,   5.30396206,  16.53114317,\n",
       "         2.13072601,   8.51918106,   2.31525818,  -1.57663272,\n",
       "        -0.52485745,  -7.7579318 ,  -1.52639112,  -8.21331633,\n",
       "        22.11302803,   3.47589828,   4.32213536,  -1.37297866,\n",
       "         6.05610756,  -6.37596146,  15.35039699,  14.03584821,\n",
       "       -12.07701743,  10.85922894,  12.90158756,  -2.49706464,\n",
       "        -7.89481729,   1.90901835,   2.45893782,  -6.76643951,\n",
       "         1.49539801,   8.49437406,   0.34420871,  10.75236234,\n",
       "         8.89678618,   6.73724926,  -7.30804793,   5.01421513,\n",
       "         8.02121001,  16.709547  ,  -5.07032991,   2.40724762,\n",
       "         0.49192359,   9.16834106, -10.20966387,   4.66072416,\n",
       "        -4.24057724,   1.52786594,  -3.42681087,   7.35259089,\n",
       "         9.02466077,  10.17986776,   4.00340183, -10.54892267,\n",
       "        -6.13076539,   2.27781529, -21.21033756,   7.99367072,\n",
       "         2.10296817,  -9.06931524,  -1.21576603,   0.11663633,\n",
       "         1.01835462,  -6.62769306,   2.25247542,   6.86219172,\n",
       "       -10.69383151,   1.39625507,   0.41364352, -15.86796886,\n",
       "        -7.58881035, -13.77300798,   8.95381095,  -1.72558103,\n",
       "         9.65205568,  -6.18513813,  -6.59385403,   1.61163934,\n",
       "         1.87668549,  11.76917521,   3.81489867,  -7.41188427,\n",
       "         2.02118301,  -9.09305942,   6.07241804,  -8.05163701,\n",
       "        -1.7526184 ,   3.94544121,  -9.611332  ,   6.37627255,\n",
       "        13.28052849,  -9.76500946,   3.95346549,  -7.06692679,\n",
       "         0.05228397,  -2.55751749,  -1.21750738,   5.8010599 ,\n",
       "         1.56657331,   4.43399586,   1.10070646, -14.39362306,\n",
       "        -6.05198983,  -0.47044171,   3.68343706,  -7.35185177,\n",
       "        -6.85130872,   7.8203072 ,  -8.32127829,   6.18614882,\n",
       "         2.06818612,  -2.31541162,   6.53459249,   3.74796177,\n",
       "        -5.44684907, -15.57939369,  -5.85452535,  -3.78639283,\n",
       "        -8.06018739,   8.55895863,   3.21758421,   2.18048101,\n",
       "        13.08624339,  -1.85012528,  -4.31798225,   3.45308404,\n",
       "        -5.01709941,   6.56076055,   4.71094729, -14.71516321,\n",
       "         7.15628523, -10.95105809,   7.94679408,  16.66198767,\n",
       "        12.56964668,  -2.02586466,   1.85953658,  -9.90305812,\n",
       "         0.54293805, -13.40325504,  12.87328728,   4.92511679,\n",
       "        -6.65690162, -14.643881  ,  -3.62860822,  -0.57351762,\n",
       "         3.79618287,   9.31414105,  -3.45636177,  -8.90247427,\n",
       "         9.02809503,  -0.77075912,  -0.23610114,   2.88257279,\n",
       "        -8.64047295,  -2.56451126,  -0.67073268,   7.42547439,\n",
       "        -2.38458421,  -4.44082002,   5.5544542 ,   0.5084909 ,\n",
       "         4.77331891,   6.17920618,   7.67501091,  -0.96996096,\n",
       "         6.83880517, -12.18778847,   3.96086851,  -4.52840564,\n",
       "        -0.42293654,   0.08910195,  -4.50465744,   3.4228977 ,\n",
       "         9.92911718, -10.07030671,  10.90999081,  12.94441996,\n",
       "        -0.62885907,   1.64370682,   4.04430779,  -7.1767387 ,\n",
       "         3.50084877,  14.05853029,  -0.28493835,  -0.17601409,\n",
       "        -3.2698907 ,   6.33237925,  -3.46098834,   7.89682032,\n",
       "         6.64106254,  -1.96808203,   3.92528818,   6.04306337,\n",
       "        -7.76106654,   1.63083455,  -1.289247  ,   2.51497958,\n",
       "         3.79642937,  13.0486216 ,   9.16587831,  -9.22989054,\n",
       "         5.69126811,   6.21768858, -10.69464427,  -2.08813113,\n",
       "        -1.97171844,  -2.16337662,  10.77120668, -10.95674071,\n",
       "        12.42410754, -18.06861519,   1.75014116,   2.45385424,\n",
       "         6.33086358,  -5.36622328,   2.37933577,  -4.55709435,\n",
       "        -6.77964571,  -6.83119713,  -3.45758133,   0.46707031,\n",
       "        10.67661011,  -0.76723851,  -2.4938291 ,  12.10894491,\n",
       "       -10.72380721, -10.73381577,   0.666846  ,   3.24367424,\n",
       "         6.91185077,  -6.78922407,   7.6405538 ,  -8.65193321,\n",
       "         1.92819633,   9.85392718,   4.56703003,  10.16490936,\n",
       "        -9.87249535,  11.34338922,  -0.8258284 ,   6.26454838,\n",
       "         6.18756509,  -9.11288877,   5.94537867,   9.27078701,\n",
       "        -5.45294872,   2.37096764,  -9.28609751,   6.72528758,\n",
       "         3.86482241,  -4.26335361,   6.42456429,  -0.38819144,\n",
       "        10.84518077,  -2.14215149,  -0.14626964, -14.1433922 ,\n",
       "        10.38949874,   1.25142335,   2.5550545 ,   2.20007128,\n",
       "        -1.90866657,   0.43009813,  -3.12474527,   2.97413793,\n",
       "        -2.5334443 ,  11.33777048,  -6.21270754, -10.01440263,\n",
       "        15.60906347,  -6.17704986,   6.57780468,   7.68495753,\n",
       "         0.78865939,   6.86430349,   7.87795409,  -2.65941086,\n",
       "        -4.64273632, -18.71937557,   2.29319668,  10.12933616,\n",
       "       -10.93580843,  -5.17817289,  -9.24352809,   0.60934876,\n",
       "        -1.61388946,   0.36306276,  -2.34494909,  -2.66031036,\n",
       "         6.02885574,  18.27356869,   0.85965511,  -2.08232671,\n",
       "         2.67727167,  14.15796393,   0.4596415 ,  -7.51958499,\n",
       "        -4.02427816,  -3.57267497,  -0.51415496, -11.82211953,\n",
       "        -1.81668665,   8.21354837,   0.34282039,   7.02930458,\n",
       "         3.22763919,   8.80965497,  -7.62125148,   0.93235981,\n",
       "        14.6000836 ,  10.06276198, -15.72394335,   6.43536871,\n",
       "        -0.47376957,   4.30191598,   3.82384971,   2.60607323,\n",
       "        -5.28764988,  -2.62799255,  -7.44001928, -12.04155254,\n",
       "       -11.33006848,   5.62556664,  13.30332823,  -7.13167449,\n",
       "         0.04673602,  -1.619413  ,   7.42221392,  -7.65058743,\n",
       "       -20.88523702,   3.94735858,  -7.02620961,  -2.33126269,\n",
       "         2.12367649, -11.31428962,  -8.63806451, -15.25744847,\n",
       "        14.11041517,   3.14320303,   2.78394341, -11.46796979,\n",
       "        -0.43678748,  -3.22740302, -13.93269964,  -6.87738904,\n",
       "        -9.97887401,   4.44647141, -18.73528   ,   2.76238588,\n",
       "       -10.23186276,  -2.02786326, -12.88028035,  -4.8560623 ,\n",
       "        14.74799432,   8.84458805,  -8.10757386,   9.94718059,\n",
       "         3.49781223,   5.51831236,   1.59158681, -11.78494949,\n",
       "        11.23709772,  -4.84404242, -13.99451417,  -3.72427516,\n",
       "         3.37234444,   2.51551637,  -0.61542303,  -0.40676235,\n",
       "       -10.7224674 ,  -6.75849997,   2.3271425 , -10.19295156,\n",
       "         9.10181734,  -6.10350395,  -3.10399032,  -2.30972401,\n",
       "        -4.53393658,   0.47921942,   4.14670479,   2.7304436 ,\n",
       "         5.9081784 ,  10.11257306,   6.26106112,   3.40005781,\n",
       "         4.05455138,  -6.92531639,  11.2650225 ,  -4.99837599,\n",
       "        -6.63071536,   1.87801431,   6.58917577,  -3.06784292,\n",
       "        -0.32511146,  14.59611391,   2.13449665,   5.63206698,\n",
       "        -5.69376988,   7.21346008,  -4.45695738, -14.19519007,\n",
       "         6.74644022, -11.64891409,  -0.77574175,  11.51850333,\n",
       "         0.56985173,  -5.29431801,  -3.42409973,   1.005277  ,\n",
       "         5.71793428,  14.73214573, -13.37905415,  -2.17091771,\n",
       "         2.48076199,  -1.86639588,   2.19632543,  -0.3911322 ,\n",
       "         7.47815963,  15.70331157,  -1.08218604,   4.34372536,\n",
       "         1.24762636,  -0.45660134,  -8.06420353,  -0.86528676,\n",
       "        11.60204676,  -3.83580556,  -7.5306589 ,   2.96572537,\n",
       "         2.74996512, -15.53114102, -12.77234448,  -4.59902279,\n",
       "         0.90443882,   8.03678574,   7.28107488,   2.87450604,\n",
       "        10.50686101, -16.18379543,  -9.40122593, -10.2332918 ,\n",
       "        -3.16580809, -10.91586267,  11.83746356,  -5.67629699,\n",
       "         4.36331188,   3.42707355,  -7.74766574,   4.20373216,\n",
       "        -2.41287542,  17.53080138,   1.74002303, -10.37215692,\n",
       "        -5.74352038,  -0.21780643,  -0.70161638,   6.76956594,\n",
       "         3.53716962, -11.20392683,  -4.74426897,  -8.94199064,\n",
       "         2.20518515,   3.20804783,   3.71378786,   0.37759167,\n",
       "         2.84880937,  12.75633176, -12.07568383,  -2.57313157,\n",
       "        -5.91767875,   9.44819076,  11.33561254,  -0.40933641,\n",
       "        -6.95279626,   9.1764717 ,  10.12592303, -14.08803985,\n",
       "         0.47767188,  14.14853862,  -2.42912907,   5.4042946 ,\n",
       "        -0.39916084,  -6.9978482 ,  10.38204105,   2.85797279,\n",
       "        13.44450139,   1.19135164,   2.99647662,   8.98073424,\n",
       "        -7.91055163,   6.98800007,  -4.34676029,   1.11844581,\n",
       "         0.0501481 ,  -6.72415519,  -3.72860734,  -9.78958719,\n",
       "        -8.76102474,   0.1114476 ,   6.28824575,   4.15022138,\n",
       "        -0.93135752,   3.71337428,  13.78089173,   2.52869651,\n",
       "         3.44245363,  -5.4889896 ,  -9.37699653,  -2.49902903,\n",
       "        -7.91300448,   2.69533365,  17.96251288,   7.42963824,\n",
       "        -5.32352661, -15.85598351,  -8.14255744,   9.91819651,\n",
       "         7.92703675,  -4.85723218,  -2.71672349,   0.46794379,\n",
       "        -5.14870735,   3.0648112 ,  -3.36191207,   7.79437459,\n",
       "         2.29912962,  -8.32093165,   0.1058412 ,   5.13826652,\n",
       "         6.64389936,  -0.64051126,   0.50608086,   2.55360698,\n",
       "         6.1171265 ,  -9.42988398, -13.94931772,  -9.66524803,\n",
       "        -7.7669079 ,  -3.00449898,  24.38758249,   4.68016575,\n",
       "         6.02486803,  -7.16238703,   2.73074646, -14.7054701 ,\n",
       "       -11.77864329,  -0.17753621,  10.58652686,  -1.02861158,\n",
       "        -4.2270925 ,  -2.5646616 ,   6.38607687,  -2.37372929,\n",
       "         5.55108024,   0.70313541, -10.68568321,  -7.83552435,\n",
       "       -14.16925971,  -0.24795407, -10.84719351,  21.52665966,\n",
       "        -8.48531554,  -1.00831831,  -5.90974301,  -3.71906267,\n",
       "         9.50786468,   8.30882397,   1.25504227,  -0.4254386 ,\n",
       "         2.45722532,  -2.16413997,  -0.84656208,  -6.64303397,\n",
       "         5.9363581 ,  -5.13236585,  -7.48752417,  12.05929464,\n",
       "        -8.35378669,  -6.67040264,  -4.59947925,  -0.3577328 ,\n",
       "        -8.87320321,  18.81122708])"
      ]
     },
     "metadata": {},
     "execution_count": 12
    }
   ],
   "source": [
    "m = LinearRegression()\n",
    "m.fit(X_train, y_train)\n",
    "predictions = m.predict(X_test)\n",
    "\n",
    "predictions"
   ]
  },
  {
   "source": [
    "Converting estimated point difference to binary outcome:\n",
    "\n",
    "if y > 0 --> W --> 1\n",
    "\n",
    "else --> L --> 0"
   ],
   "cell_type": "markdown",
   "metadata": {}
  },
  {
   "cell_type": "code",
   "execution_count": 13,
   "metadata": {},
   "outputs": [
    {
     "output_type": "execute_result",
     "data": {
      "text/plain": [
       "array([0., 1., 0., 1., 1., 1., 0., 1., 0., 0., 0., 0., 0., 0., 0., 0., 1.,\n",
       "       1., 0., 0., 0., 1., 0., 0., 1., 1., 1., 1., 1., 1., 1., 0., 0., 0.,\n",
       "       0., 0., 1., 1., 1., 0., 1., 0., 1., 1., 0., 1., 1., 0., 0., 1., 1.,\n",
       "       0., 1., 1., 1., 1., 1., 1., 0., 1., 1., 1., 0., 1., 1., 1., 0., 1.,\n",
       "       0., 1., 0., 1., 1., 1., 1., 0., 0., 1., 0., 1., 1., 0., 0., 1., 1.,\n",
       "       0., 1., 1., 0., 1., 1., 0., 0., 0., 1., 0., 1., 0., 0., 1., 1., 1.,\n",
       "       1., 0., 1., 0., 1., 0., 0., 1., 0., 1., 1., 0., 1., 0., 1., 0., 0.,\n",
       "       1., 1., 1., 1., 0., 0., 0., 1., 0., 0., 1., 0., 1., 1., 0., 1., 1.,\n",
       "       0., 0., 0., 0., 0., 1., 1., 1., 1., 0., 0., 1., 0., 1., 1., 0., 1.,\n",
       "       0., 1., 1., 1., 0., 1., 0., 1., 0., 1., 1., 0., 0., 0., 0., 1., 1.,\n",
       "       0., 0., 1., 0., 0., 1., 0., 0., 0., 1., 0., 0., 1., 1., 1., 1., 1.,\n",
       "       0., 1., 0., 1., 0., 0., 1., 0., 1., 1., 0., 1., 1., 0., 1., 1., 0.,\n",
       "       1., 1., 0., 0., 0., 1., 0., 1., 1., 0., 1., 1., 0., 1., 0., 1., 1.,\n",
       "       1., 1., 0., 1., 1., 0., 0., 0., 0., 1., 0., 1., 0., 1., 1., 1., 0.,\n",
       "       1., 0., 0., 0., 0., 1., 1., 0., 0., 1., 0., 0., 1., 1., 1., 0., 1.,\n",
       "       0., 1., 1., 1., 1., 0., 1., 0., 1., 1., 0., 1., 1., 0., 1., 0., 1.,\n",
       "       1., 0., 1., 0., 1., 0., 0., 0., 1., 1., 1., 1., 0., 1., 0., 1., 0.,\n",
       "       1., 0., 0., 1., 0., 1., 1., 1., 1., 1., 0., 0., 0., 1., 1., 0., 0.,\n",
       "       0., 1., 0., 1., 0., 0., 1., 1., 1., 0., 1., 1., 1., 0., 0., 0., 0.,\n",
       "       0., 0., 1., 1., 1., 1., 1., 0., 1., 1., 1., 0., 1., 0., 1., 1., 1.,\n",
       "       0., 0., 0., 0., 0., 1., 1., 0., 1., 0., 1., 0., 0., 1., 0., 0., 1.,\n",
       "       0., 0., 0., 1., 1., 1., 0., 0., 0., 0., 0., 0., 1., 0., 1., 0., 0.,\n",
       "       0., 0., 1., 1., 0., 1., 1., 1., 1., 0., 1., 0., 0., 0., 1., 1., 0.,\n",
       "       0., 0., 0., 1., 0., 1., 0., 0., 0., 0., 1., 1., 1., 1., 1., 1., 1.,\n",
       "       1., 0., 1., 0., 0., 1., 1., 0., 0., 1., 1., 1., 0., 1., 0., 0., 1.,\n",
       "       0., 0., 1., 1., 0., 0., 1., 1., 1., 0., 0., 1., 0., 1., 0., 1., 1.,\n",
       "       0., 1., 1., 0., 0., 0., 1., 0., 0., 1., 1., 0., 0., 0., 1., 1., 1.,\n",
       "       1., 1., 0., 0., 0., 0., 0., 1., 0., 1., 1., 0., 1., 0., 1., 1., 0.,\n",
       "       0., 0., 0., 1., 1., 0., 0., 0., 1., 1., 1., 1., 1., 1., 0., 0., 0.,\n",
       "       1., 1., 0., 0., 1., 1., 0., 1., 1., 0., 1., 0., 0., 1., 1., 1., 1.,\n",
       "       1., 1., 0., 1., 0., 1., 1., 0., 0., 0., 0., 1., 1., 1., 0., 1., 1.,\n",
       "       1., 1., 0., 0., 0., 0., 1., 1., 1., 0., 0., 0., 1., 1., 0., 0., 1.,\n",
       "       0., 1., 0., 1., 1., 0., 1., 1., 1., 0., 1., 1., 1., 0., 0., 0., 0.,\n",
       "       0., 1., 1., 1., 0., 1., 0., 0., 0., 1., 0., 0., 0., 1., 0., 1., 1.,\n",
       "       0., 0., 0., 0., 0., 1., 0., 0., 0., 0., 1., 1., 1., 0., 1., 0., 0.,\n",
       "       0., 1., 0., 0., 1., 0., 0., 0., 0., 0., 1.])"
      ]
     },
     "metadata": {},
     "execution_count": 13
    }
   ],
   "source": [
    "for i, v in enumerate(predictions):\n",
    "    if v > 0:\n",
    "        predictions[i] = 1\n",
    "    else:\n",
    "        predictions[i] = 0\n",
    "\n",
    "predictions"
   ]
  },
  {
   "source": [
    "Check performance of model"
   ],
   "cell_type": "markdown",
   "metadata": {}
  },
  {
   "cell_type": "code",
   "execution_count": 14,
   "metadata": {},
   "outputs": [
    {
     "output_type": "execute_result",
     "data": {
      "text/plain": [
       "(0.6864686468646864,\n",
       " 0.6935483870967742,\n",
       " 0.6935483870967742,\n",
       " 0.6935483870967742)"
      ]
     },
     "metadata": {},
     "execution_count": 14
    }
   ],
   "source": [
    "acc = accuracy_score(y_test,predictions)\n",
    "precision = precision_score(y_test,predictions) \n",
    "recall = recall_score(y_test,predictions) \n",
    "f1 = f1_score(y_test,predictions)\n",
    "\n",
    "acc, precision, recall, f1"
   ]
  },
  {
   "source": [
    "Part 3: Using regression based on all factors to predict games in the 2nd half of season"
   ],
   "cell_type": "markdown",
   "metadata": {}
  },
  {
   "source": [
    "Redefine model variables"
   ],
   "cell_type": "markdown",
   "metadata": {}
  },
  {
   "cell_type": "code",
   "execution_count": 15,
   "metadata": {},
   "outputs": [],
   "source": [
    "features_list = ['DIS_ELO_x', 'HOME_COURT_x', 'DIS_OFFRATE_x', 'DIS_DEFRATE_x', 'DIS_PTS_x', 'DIS_AST_x', 'DIS_OREB_x', 'DIS_DREB_x']"
   ]
  },
  {
   "cell_type": "code",
   "execution_count": 16,
   "metadata": {},
   "outputs": [
    {
     "output_type": "execute_result",
     "data": {
      "text/plain": [
       "((607, 8), (606, 8), (607,), (606,))"
      ]
     },
     "metadata": {},
     "execution_count": 16
    }
   ],
   "source": [
    "X_train = first_half[features_list]\n",
    "X_test = second_half[features_list]\n",
    "y_train = first_half['PLUS_MINUS_x']\n",
    "y_test = second_half['WL_x']\n",
    "\n",
    "X_train.shape, X_test.shape, y_train.shape, y_test.shape"
   ]
  },
  {
   "source": [
    "Modelling"
   ],
   "cell_type": "markdown",
   "metadata": {}
  },
  {
   "cell_type": "code",
   "execution_count": 17,
   "metadata": {},
   "outputs": [
    {
     "output_type": "execute_result",
     "data": {
      "text/plain": [
       "array([-8.43119456e+00,  2.21357327e+00, -8.02864179e+00,  1.37527479e+01,\n",
       "        3.51700012e+00,  6.77980547e+00, -4.24410053e+00,  1.91988735e+00,\n",
       "       -1.40292212e+00, -2.61685673e+00, -1.55337402e+01, -3.88126418e+00,\n",
       "       -4.45707846e+00, -1.08105343e+00, -5.08214108e+00, -7.67764482e-01,\n",
       "        9.40022927e+00,  5.22342734e+00, -2.65773784e+00, -1.56300814e+00,\n",
       "       -7.42334115e+00,  9.79457897e+00, -3.50639035e+00, -1.07550984e+01,\n",
       "        3.91492245e+00,  1.01354853e+01,  4.88037219e+00,  1.66665398e+01,\n",
       "        1.29497243e+00,  9.04138730e+00,  2.48264034e+00, -1.64540253e+00,\n",
       "       -1.11448537e+00, -7.27764715e+00, -1.67848406e+00, -6.62107758e+00,\n",
       "        2.27291470e+01,  3.10641323e+00,  4.81204778e+00, -6.36340464e-01,\n",
       "        6.83404243e+00, -5.62497117e+00,  1.49420388e+01,  1.26100654e+01,\n",
       "       -1.27482784e+01,  1.16300642e+01,  1.36613447e+01, -2.19662555e+00,\n",
       "       -7.52497700e+00,  2.89207722e+00,  1.88846487e+00, -4.73435044e+00,\n",
       "        1.12683645e+00,  8.70742453e+00, -1.13086298e-01,  8.86764991e+00,\n",
       "        8.52854883e+00,  6.29738198e+00, -7.19187838e+00,  5.72641390e+00,\n",
       "        7.81463945e+00,  1.56884043e+01, -5.18695759e+00,  1.70522979e+00,\n",
       "        1.03684902e+00,  8.54433316e+00, -1.04486505e+01,  3.04830103e+00,\n",
       "       -5.11272407e+00,  1.28675777e+00, -3.44117268e+00,  5.84526502e+00,\n",
       "        8.29858116e+00,  8.48153683e+00,  2.79083363e+00, -9.85227325e+00,\n",
       "       -4.12261099e+00,  2.71663476e+00, -2.16316808e+01,  7.91411012e+00,\n",
       "        2.62095499e+00, -7.11507639e+00, -2.61315188e-01,  1.89463083e-01,\n",
       "        2.71097606e+00, -6.93758043e+00,  2.05247499e+00,  5.73106232e+00,\n",
       "       -1.06493624e+01,  1.30502005e+00,  9.18130566e-01, -1.57865986e+01,\n",
       "       -6.84252901e+00, -1.33728210e+01,  7.92362529e+00, -1.70473477e+00,\n",
       "        8.63302005e+00, -5.48084060e+00, -6.39020579e+00,  9.80147099e-01,\n",
       "        1.56042602e+00,  1.08418830e+01,  3.66631909e+00, -7.34769403e+00,\n",
       "        2.50936577e+00, -8.90669759e+00,  6.91545482e+00, -7.41484894e+00,\n",
       "       -8.49606176e-02,  2.64568207e+00, -7.58938012e+00,  6.84051321e+00,\n",
       "        1.28629568e+01, -9.54779288e+00,  3.67930962e+00, -5.43201540e+00,\n",
       "        9.16050126e-01, -3.38099915e+00, -7.95273955e-01,  4.98462922e+00,\n",
       "        2.08579108e+00,  4.13705392e+00,  2.00027693e+00, -1.44293096e+01,\n",
       "       -6.85094883e+00,  8.18073008e-01,  3.50735224e+00, -8.12717536e+00,\n",
       "       -6.10646807e+00,  6.08282820e+00, -8.12499299e+00,  7.19490274e+00,\n",
       "        1.92236615e+00, -1.15782297e+00,  6.46763433e+00,  3.23261672e+00,\n",
       "       -5.25599170e+00, -1.51300551e+01, -4.01394237e+00, -1.84211326e+00,\n",
       "       -8.47784673e+00,  7.33499093e+00,  3.54876143e+00,  2.24463522e+00,\n",
       "        1.19472873e+01, -1.25427743e+00, -3.79944374e+00,  2.63999245e+00,\n",
       "       -4.70280811e+00,  5.54806513e+00,  4.93025286e+00, -1.45247770e+01,\n",
       "        6.73619343e+00, -1.00280643e+01,  8.21075009e+00,  1.70519376e+01,\n",
       "        1.15921115e+01, -3.29487920e+00,  1.09491264e+00, -8.55425336e+00,\n",
       "        2.60673543e-02, -1.33655643e+01,  1.21941885e+01,  3.86229563e+00,\n",
       "       -5.42902214e+00, -1.44599885e+01, -4.13148072e+00, -2.30996600e+00,\n",
       "        4.85614029e+00,  8.71378223e+00, -2.55390901e+00, -7.29269685e+00,\n",
       "        7.83139808e+00, -1.52376186e+00,  7.61519365e-01,  2.87792788e+00,\n",
       "       -8.23333317e+00, -3.41973199e+00,  9.83208879e-02,  7.44040781e+00,\n",
       "       -2.55768621e+00, -4.78976197e+00,  5.15833991e+00, -6.08090451e-01,\n",
       "        4.81543956e+00,  4.95686569e+00,  6.82262105e+00, -1.64448482e+00,\n",
       "        7.54215210e+00, -1.14051760e+01,  3.15335385e+00, -4.93796019e+00,\n",
       "        2.87036177e-01,  2.48546400e-01, -4.82847042e+00,  3.19808946e+00,\n",
       "        8.21158639e+00, -9.71659351e+00,  9.88874550e+00,  1.19657131e+01,\n",
       "       -1.31464585e+00,  8.70987072e-01,  5.31550076e+00, -8.09061187e+00,\n",
       "        2.98847038e+00,  1.33817515e+01, -6.95248421e-01, -5.70216334e-01,\n",
       "       -3.56101001e+00,  5.93246154e+00, -3.53379436e+00,  6.85724856e+00,\n",
       "        5.71804255e+00, -1.88411802e+00,  3.33389552e+00,  7.19284927e+00,\n",
       "       -7.73393116e+00,  1.25931830e+00,  1.79355418e-01,  2.87540178e+00,\n",
       "        3.37029021e+00,  1.31562770e+01,  8.94934013e+00, -7.59715638e+00,\n",
       "        5.06525906e+00,  6.66125437e+00, -9.05010264e+00, -2.26907681e+00,\n",
       "       -2.00165665e+00, -2.42350040e+00,  8.84330170e+00, -1.03411447e+01,\n",
       "        1.28329420e+01, -1.74567146e+01,  6.42042343e-01,  2.18465598e+00,\n",
       "        4.83676725e+00, -4.34799357e+00,  2.75750506e+00, -3.96210937e+00,\n",
       "       -5.92558327e+00, -7.20474028e+00, -2.82918560e+00,  1.00073592e+00,\n",
       "        9.24059699e+00, -6.79707729e-02, -3.37922145e+00,  1.10106002e+01,\n",
       "       -1.09582049e+01, -9.59842358e+00,  3.83070613e-01,  2.27177852e+00,\n",
       "        6.35696287e+00, -6.13676298e+00,  7.29202778e+00, -9.86385047e+00,\n",
       "        1.69941190e+00,  9.63515483e+00,  4.11898043e+00,  8.63070450e+00,\n",
       "       -8.99948418e+00,  1.20333408e+01,  4.92452687e-01,  5.84087377e+00,\n",
       "        7.13842578e+00, -8.51779184e+00,  5.34090740e+00,  8.60604101e+00,\n",
       "       -6.06565651e+00,  2.79217361e+00, -9.10769789e+00,  7.54359840e+00,\n",
       "        3.65414527e+00, -2.80636024e+00,  6.79202406e+00, -4.25656523e-02,\n",
       "        1.05286774e+01, -2.05448252e+00,  3.76015240e-02, -1.39248390e+01,\n",
       "        1.07134574e+01,  1.05841267e+00,  1.73007504e+00,  3.54862748e+00,\n",
       "       -2.04176115e+00, -5.14170436e-01, -2.17670061e+00,  1.63482365e+00,\n",
       "       -2.72581423e+00,  1.18027793e+01, -6.12378500e+00, -8.71300699e+00,\n",
       "        1.51221404e+01, -6.10681614e+00,  6.84636746e+00,  7.96026960e+00,\n",
       "        2.71429972e-01,  7.04860423e+00,  8.36573702e+00, -2.28078780e+00,\n",
       "       -4.48930323e+00, -1.85587955e+01,  2.13097372e+00,  8.42068856e+00,\n",
       "       -1.18336661e+01, -4.97870096e+00, -8.21211207e+00,  1.60657553e+00,\n",
       "       -2.46731897e+00, -6.16972869e-01, -3.24947693e+00, -1.48045791e+00,\n",
       "        5.84603362e+00,  1.70051788e+01,  6.36991707e-01, -2.82234704e+00,\n",
       "        3.16283249e+00,  1.51744420e+01,  2.49464343e-01, -7.40847943e+00,\n",
       "       -4.95904255e+00, -2.70978480e+00, -4.51562089e-01, -1.12475680e+01,\n",
       "       -5.72315269e-01,  7.80580544e+00,  5.28105747e-01,  6.99381337e+00,\n",
       "        3.26144056e+00,  9.05485601e+00, -6.84406794e+00,  2.82239170e+00,\n",
       "        1.43798278e+01,  9.79948818e+00, -1.56100821e+01,  6.29534928e+00,\n",
       "       -1.37278135e+00,  3.55291889e+00,  2.38161321e+00,  3.60970060e+00,\n",
       "       -5.38321127e+00, -1.07083502e+00, -7.69073504e+00, -1.26258964e+01,\n",
       "       -1.17430947e+01,  4.75432794e+00,  1.26280189e+01, -6.10549129e+00,\n",
       "       -3.53083505e-01, -2.08069691e+00,  7.41873709e+00, -7.60521372e+00,\n",
       "       -2.00478162e+01,  5.09144647e+00, -7.46090490e+00, -2.82703117e+00,\n",
       "        3.08628399e+00, -9.53681983e+00, -8.13866009e+00, -1.46449282e+01,\n",
       "        1.49977994e+01,  3.22510025e+00,  4.69824460e+00, -1.03492854e+01,\n",
       "       -1.82007839e+00, -3.15545074e+00, -1.25234905e+01, -5.21471222e+00,\n",
       "       -9.91216580e+00,  3.49586899e+00, -1.73908523e+01,  2.55937327e+00,\n",
       "       -1.00699012e+01, -2.66354788e+00, -1.20607687e+01, -4.85866707e+00,\n",
       "        1.23907510e+01,  8.61093616e+00, -7.52842506e+00,  8.76993799e+00,\n",
       "        3.48533830e+00,  6.25181064e+00,  1.52390843e+00, -1.18175501e+01,\n",
       "        9.95240084e+00, -4.25774335e+00, -1.25062459e+01, -2.93893256e+00,\n",
       "        3.16957317e+00,  2.06162442e+00, -7.82074780e-01, -1.29260418e+00,\n",
       "       -9.61749153e+00, -5.86052448e+00,  2.94484573e+00, -9.20481521e+00,\n",
       "        7.31893616e+00, -6.59252227e+00, -2.59281276e+00, -2.25949169e+00,\n",
       "       -5.29092996e+00,  1.21998163e+00,  4.07431108e+00,  2.54990449e+00,\n",
       "        5.88496977e+00,  9.74315015e+00,  6.64480007e+00,  2.80373020e+00,\n",
       "        4.90343188e+00, -6.07653975e+00,  1.07817031e+01, -4.88099566e+00,\n",
       "       -5.75912054e+00,  1.54987269e+00,  6.25003146e+00, -4.79394041e+00,\n",
       "        9.26443050e-01,  1.39741648e+01,  3.14256812e+00,  5.52430516e+00,\n",
       "       -5.64723557e+00,  6.48835763e+00, -2.29813911e+00, -1.29027335e+01,\n",
       "        5.86279781e+00, -1.04498814e+01, -1.41823536e+00,  1.26454435e+01,\n",
       "        3.43553118e-01, -3.85781478e+00, -2.77731486e+00,  4.22801605e-01,\n",
       "        6.78546010e+00,  1.37512382e+01, -1.20908033e+01, -1.39381859e+00,\n",
       "        7.73804391e-01, -5.15732922e-01,  3.02551364e+00, -1.90783052e-01,\n",
       "        7.34496606e+00,  1.49053850e+01, -2.14130936e+00,  4.06139720e+00,\n",
       "        1.90516091e+00, -7.55267784e-01, -7.30026583e+00,  5.63904357e-02,\n",
       "        1.08553670e+01, -3.24493411e+00, -6.25313255e+00,  1.73329307e+00,\n",
       "        3.22655255e+00, -1.47284823e+01, -1.24496910e+01, -4.10263450e+00,\n",
       "        1.57095184e+00,  6.98654425e+00,  6.67929321e+00,  3.88407557e+00,\n",
       "        9.79871378e+00, -1.58712111e+01, -1.04376241e+01, -8.36453055e+00,\n",
       "       -2.43552953e+00, -1.02294491e+01,  1.21879023e+01, -5.65880856e+00,\n",
       "        2.48519939e+00,  4.41110592e+00, -7.58504027e+00,  2.70180044e+00,\n",
       "       -2.87465253e+00,  1.66385966e+01,  1.57473377e+00, -9.59065505e+00,\n",
       "       -6.54629200e+00, -1.50702457e+00, -3.98798645e-01,  7.23969253e+00,\n",
       "        2.44878502e+00, -1.06747499e+01, -4.34888951e+00, -8.96063657e+00,\n",
       "        1.53705637e+00,  2.27587987e+00,  3.48500772e+00, -4.82469546e-03,\n",
       "        1.70512631e+00,  1.16029446e+01, -1.02284711e+01, -3.01400551e+00,\n",
       "       -6.16835931e+00,  8.84006607e+00,  1.21108475e+01, -2.08566832e+00,\n",
       "       -6.32442217e+00,  9.26674335e+00,  8.76310594e+00, -1.38375243e+01,\n",
       "       -6.78809598e-01,  1.40282505e+01, -2.34888734e+00,  4.33268953e+00,\n",
       "        2.01700804e-01, -7.73510095e+00,  1.03566243e+01,  2.85847830e+00,\n",
       "        1.36780583e+01, -2.42087659e-02,  2.85297747e+00,  7.92704813e+00,\n",
       "       -9.17918249e+00,  6.49666522e+00, -4.24158781e+00,  1.21066006e+00,\n",
       "        7.75415135e-01, -6.25696580e+00, -4.29313741e+00, -9.71331855e+00,\n",
       "       -8.26477561e+00,  1.00739035e+00,  5.40252667e+00,  3.25281546e+00,\n",
       "        2.13758547e-01,  3.17200543e+00,  1.29555585e+01,  2.90543535e+00,\n",
       "        3.44096461e+00, -6.57925367e+00, -9.64090519e+00, -2.70948298e+00,\n",
       "       -7.04414405e+00,  2.29028341e+00,  1.69485424e+01,  6.88753854e+00,\n",
       "       -4.87996882e+00, -1.65010758e+01, -8.30900657e+00,  1.03917384e+01,\n",
       "        7.25924619e+00, -4.11222690e+00, -4.24861058e+00,  7.52739869e-01,\n",
       "       -5.26629921e+00,  1.63108106e+00, -2.97029209e+00,  7.25973712e+00,\n",
       "        2.01729887e+00, -7.17969460e+00, -6.45968180e-01,  5.13789177e+00,\n",
       "        6.33889551e+00, -6.18081592e-01,  1.62778859e+00,  2.06340875e+00,\n",
       "        4.73537181e+00, -9.06552482e+00, -1.24096931e+01, -9.04471141e+00,\n",
       "       -7.00688724e+00, -3.94375621e+00,  2.39124754e+01,  5.12436501e+00,\n",
       "        6.85886104e+00, -7.50703910e+00,  1.61237138e+00, -1.48370459e+01,\n",
       "       -1.18952920e+01, -5.18271222e-01,  9.32647054e+00,  4.45586084e-02,\n",
       "       -3.76943915e+00, -1.83465137e+00,  5.24184774e+00, -8.91779268e-01,\n",
       "        4.44591428e+00,  4.83152623e-01, -1.03792853e+01, -7.33789039e+00,\n",
       "       -1.43218859e+01,  3.11924852e-01, -1.07448841e+01,  2.07614291e+01,\n",
       "       -7.80760086e+00, -2.24976391e-01, -6.07130080e+00, -3.83606776e+00,\n",
       "        6.74818407e+00,  8.08973171e+00,  1.54763571e+00, -8.42934506e-01,\n",
       "        1.89922895e+00, -9.26115307e-01, -7.10460151e-01, -5.02861205e+00,\n",
       "        5.33251144e+00, -4.21087356e+00, -6.39499222e+00,  1.17880976e+01,\n",
       "       -6.72140947e+00, -6.97270510e+00, -4.52721296e+00, -3.62833301e-01,\n",
       "       -8.34244648e+00,  1.80203039e+01])"
      ]
     },
     "metadata": {},
     "execution_count": 17
    }
   ],
   "source": [
    "m = LinearRegression()\n",
    "m.fit(X_train, y_train)\n",
    "predictions = m.predict(X_test)\n",
    "\n",
    "predictions"
   ]
  },
  {
   "source": [
    "Converting estimated point difference to binary outcome"
   ],
   "cell_type": "markdown",
   "metadata": {}
  },
  {
   "cell_type": "code",
   "execution_count": 18,
   "metadata": {},
   "outputs": [
    {
     "output_type": "execute_result",
     "data": {
      "text/plain": [
       "array([0., 1., 0., 1., 1., 1., 0., 1., 0., 0., 0., 0., 0., 0., 0., 0., 1.,\n",
       "       1., 0., 0., 0., 1., 0., 0., 1., 1., 1., 1., 1., 1., 1., 0., 0., 0.,\n",
       "       0., 0., 1., 1., 1., 0., 1., 0., 1., 1., 0., 1., 1., 0., 0., 1., 1.,\n",
       "       0., 1., 1., 0., 1., 1., 1., 0., 1., 1., 1., 0., 1., 1., 1., 0., 1.,\n",
       "       0., 1., 0., 1., 1., 1., 1., 0., 0., 1., 0., 1., 1., 0., 0., 1., 1.,\n",
       "       0., 1., 1., 0., 1., 1., 0., 0., 0., 1., 0., 1., 0., 0., 1., 1., 1.,\n",
       "       1., 0., 1., 0., 1., 0., 0., 1., 0., 1., 1., 0., 1., 0., 1., 0., 0.,\n",
       "       1., 1., 1., 1., 0., 0., 1., 1., 0., 0., 1., 0., 1., 1., 0., 1., 1.,\n",
       "       0., 0., 0., 0., 0., 1., 1., 1., 1., 0., 0., 1., 0., 1., 1., 0., 1.,\n",
       "       0., 1., 1., 1., 0., 1., 0., 1., 0., 1., 1., 0., 0., 0., 0., 1., 1.,\n",
       "       0., 0., 1., 0., 1., 1., 0., 0., 1., 1., 0., 0., 1., 0., 1., 1., 1.,\n",
       "       0., 1., 0., 1., 0., 1., 1., 0., 1., 1., 0., 1., 1., 0., 1., 1., 0.,\n",
       "       1., 1., 0., 0., 0., 1., 0., 1., 1., 0., 1., 1., 0., 1., 1., 1., 1.,\n",
       "       1., 1., 0., 1., 1., 0., 0., 0., 0., 1., 0., 1., 0., 1., 1., 1., 0.,\n",
       "       1., 0., 0., 0., 0., 1., 1., 0., 0., 1., 0., 0., 1., 1., 1., 0., 1.,\n",
       "       0., 1., 1., 1., 1., 0., 1., 1., 1., 1., 0., 1., 1., 0., 1., 0., 1.,\n",
       "       1., 0., 1., 0., 1., 0., 1., 0., 1., 1., 1., 1., 0., 0., 0., 1., 0.,\n",
       "       1., 0., 0., 1., 0., 1., 1., 1., 1., 1., 0., 0., 0., 1., 1., 0., 0.,\n",
       "       0., 1., 0., 0., 0., 0., 1., 1., 1., 0., 1., 1., 1., 0., 0., 0., 0.,\n",
       "       0., 0., 1., 1., 1., 1., 1., 0., 1., 1., 1., 0., 1., 0., 1., 1., 1.,\n",
       "       0., 0., 0., 0., 0., 1., 1., 0., 0., 0., 1., 0., 0., 1., 0., 0., 1.,\n",
       "       0., 0., 0., 1., 1., 1., 0., 0., 0., 0., 0., 0., 1., 0., 1., 0., 0.,\n",
       "       0., 0., 1., 1., 0., 1., 1., 1., 1., 0., 1., 0., 0., 0., 1., 1., 0.,\n",
       "       0., 0., 0., 1., 0., 1., 0., 0., 0., 0., 1., 1., 1., 1., 1., 1., 1.,\n",
       "       1., 0., 1., 0., 0., 1., 1., 0., 1., 1., 1., 1., 0., 1., 0., 0., 1.,\n",
       "       0., 0., 1., 1., 0., 0., 1., 1., 1., 0., 0., 1., 0., 1., 0., 1., 1.,\n",
       "       0., 1., 1., 0., 0., 1., 1., 0., 0., 1., 1., 0., 0., 0., 1., 1., 1.,\n",
       "       1., 1., 0., 0., 0., 0., 0., 1., 0., 1., 1., 0., 1., 0., 1., 1., 0.,\n",
       "       0., 0., 0., 1., 1., 0., 0., 0., 1., 1., 1., 0., 1., 1., 0., 0., 0.,\n",
       "       1., 1., 0., 0., 1., 1., 0., 0., 1., 0., 1., 1., 0., 1., 1., 1., 0.,\n",
       "       1., 1., 0., 1., 0., 1., 1., 0., 0., 0., 0., 1., 1., 1., 1., 1., 1.,\n",
       "       1., 1., 0., 0., 0., 0., 1., 1., 1., 0., 0., 0., 1., 1., 0., 0., 1.,\n",
       "       0., 1., 0., 1., 1., 0., 0., 1., 1., 0., 1., 1., 1., 0., 0., 0., 0.,\n",
       "       0., 1., 1., 1., 0., 1., 0., 0., 0., 1., 1., 0., 0., 1., 0., 1., 1.,\n",
       "       0., 0., 0., 1., 0., 1., 0., 0., 0., 0., 1., 1., 1., 0., 1., 0., 0.,\n",
       "       0., 1., 0., 0., 1., 0., 0., 0., 0., 0., 1.])"
      ]
     },
     "metadata": {},
     "execution_count": 18
    }
   ],
   "source": [
    "for i, v in enumerate(predictions):\n",
    "    if v > 0:\n",
    "        predictions[i] = 1\n",
    "    else:\n",
    "        predictions[i] = 0\n",
    "\n",
    "predictions"
   ]
  },
  {
   "cell_type": "code",
   "execution_count": null,
   "metadata": {},
   "outputs": [],
   "source": [
    "Check performance of model"
   ]
  },
  {
   "cell_type": "code",
   "execution_count": 19,
   "metadata": {},
   "outputs": [
    {
     "output_type": "execute_result",
     "data": {
      "text/plain": [
       "(0.6765676567656765,\n",
       " 0.6815286624203821,\n",
       " 0.6903225806451613,\n",
       " 0.6858974358974359)"
      ]
     },
     "metadata": {},
     "execution_count": 19
    }
   ],
   "source": [
    "acc = accuracy_score(y_test,predictions)\n",
    "precision = precision_score(y_test,predictions) \n",
    "recall = recall_score(y_test,predictions) \n",
    "f1 = f1_score(y_test,predictions)\n",
    "\n",
    "acc, precision, recall, f1"
   ]
  },
  {
   "cell_type": "code",
   "execution_count": null,
   "metadata": {},
   "outputs": [],
   "source": []
  }
 ]
}